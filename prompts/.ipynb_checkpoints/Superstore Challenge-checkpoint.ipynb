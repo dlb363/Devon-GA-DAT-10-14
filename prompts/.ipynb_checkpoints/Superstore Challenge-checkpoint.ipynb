{
 "cells": [
  {
   "cell_type": "markdown",
   "metadata": {},
   "source": [
    "## Superstore Challenge\n",
    "\n",
    "The superstore dataset is a collection of ~10,000 anonymized transactions from an e-commerce store that occurred between the years 2014 and 2017.  \n",
    "\n",
    "Your task here is to make a 'meta' dataset that aggregates information about what individual customers have done over their lifetime of interactions with the store.  \n",
    "\n",
    "When you're done you'll have a list of each unique customer in the store (going by their name), with information like their lifetime customer value, number of orders, and their ordering behavior measured over different lags of time.  \n",
    "\n",
    "This will be a helpful exercise to re-inforce some of the concepts discussed from class 6, like grouping and date offsets."
   ]
  },
  {
   "cell_type": "markdown",
   "metadata": {},
   "source": [
    "**Column 1:** Create a column that lists every customers lifetime customer value."
   ]
  },
  {
   "cell_type": "markdown",
   "metadata": {},
   "source": [
    "**Column 2:** Create a column that lists the length of time each customer has been with the store.  This is defined as the number of days between when they made their first purchase and today."
   ]
  },
  {
   "cell_type": "markdown",
   "metadata": {},
   "source": [
    "**Column 3:** Create a column that lists the total number of purchases for each customer."
   ]
  },
  {
   "cell_type": "markdown",
   "metadata": {},
   "source": [
    "**Column 4:** Create a column that assigns customers to a cohort.  \n",
    "\n",
    "A customers cohort is determined by when they made their first purchase, and every year in your dataset has two cohorts:  the first half of the year and the second half.  \n",
    "\n",
    "For example, if someone made their first purchase in March of 2017, their cohort would be 2017-1, or something similar.  Someone who purchased in September of 2017 would be 2017-2, and so on."
   ]
  },
  {
   "cell_type": "markdown",
   "metadata": {},
   "source": [
    "**Column 5:** Create a column that lists whether or not they're a repeat customer.  This means they've made more than one order."
   ]
  },
  {
   "cell_type": "markdown",
   "metadata": {},
   "source": [
    "**Column 6:** We want to find out what type of customer each person is.  To do this, we want to find which value of 'Segment' occurred most frequently for every single customer.  Ie, the modal value of the 'Segment' column for each customer."
   ]
  },
  {
   "cell_type": "markdown",
   "metadata": {},
   "source": [
    "**Column 7:** Create a column that is the date *3 months after they made their first purchase*."
   ]
  },
  {
   "cell_type": "markdown",
   "metadata": {},
   "source": [
    "**Column 8:** Make a column that represents one year after they made their first purchase.  Add this to your initial dataframe as well."
   ]
  },
  {
   "cell_type": "markdown",
   "metadata": {},
   "source": [
    "**Column 9:** Make a column that determines whether or not a customer made a second purchase within 90 days of their first purchase."
   ]
  },
  {
   "cell_type": "markdown",
   "metadata": {},
   "source": [
    "**Column 10:** Make a column that counts how many items each customer made with in their first year of purchase."
   ]
  },
  {
   "cell_type": "markdown",
   "metadata": {},
   "source": [
    "**Column 11:** Make a column that sums up the total value of sales for each customer one year after they made their purchase."
   ]
  },
  {
   "cell_type": "markdown",
   "metadata": {},
   "source": [
    "**Hint:** For some of these columns, you'll need to break them down into a few steps.  It's okay to make  helper columns on your original dataset that make it easier for you to calculate the final result."
   ]
  },
  {
   "cell_type": "markdown",
   "metadata": {},
   "source": [
    "### Questions:\n",
    "\n",
    "Now that you've made these columns, try and answer the following questions."
   ]
  },
  {
   "cell_type": "markdown",
   "metadata": {},
   "source": [
    "**What percentage of customers make a second purchase within 3 months after their first one?  How does this differ by customer segment?**"
   ]
  },
  {
   "cell_type": "markdown",
   "metadata": {},
   "source": [
    "**How Has the 3-Month Repurchasing Rate Been Changing Across Cohorts?**"
   ]
  },
  {
   "cell_type": "markdown",
   "metadata": {},
   "source": [
    "**What impact does a second order within 3 months of 1st purchase have on lifetime customer value?  Does this effect hold true for each customer segment?**"
   ]
  },
  {
   "cell_type": "markdown",
   "metadata": {},
   "source": [
    "**What's the average expected sales value for a customer one year after their first purchase? How has this changed across cohorts?**"
   ]
  },
  {
   "cell_type": "markdown",
   "metadata": {},
   "source": [
    "**How much does lifetime customer value differ across the different customer segments?**"
   ]
  }
 ],
 "metadata": {
  "kernelspec": {
   "display_name": "Python 3",
   "language": "python",
   "name": "python3"
  },
  "language_info": {
   "codemirror_mode": {
    "name": "ipython",
    "version": 3
   },
   "file_extension": ".py",
   "mimetype": "text/x-python",
   "name": "python",
   "nbconvert_exporter": "python",
   "pygments_lexer": "ipython3",
   "version": "3.7.3"
  }
 },
 "nbformat": 4,
 "nbformat_minor": 2
}
