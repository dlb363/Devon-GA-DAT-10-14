{
 "cells": [
  {
   "cell_type": "markdown",
   "metadata": {},
   "source": [
    "### Scenario 1:  Can you find all the csv files in your Downloads folder? \n",
    "\n",
    "use the `os` module to find a way to access the contents of a directory on your file system, and use a loop that returns a list of every csv file within a given directory.\n",
    "\n",
    "**Bonus:**  What if you had folders that were also named with a `.csv` notation?  (Not common, but it happens).  How could you check to see if the item in the directory is an actual file or not?\n",
    "\n",
    "**Extra Bonus:**  What if you only wanted to do this with files that were a certain size?\n",
    "\n",
    "If you get stuck on what `os` commands to use, reach out to me and let me know."
   ]
  },
  {
   "cell_type": "code",
   "execution_count": 14,
   "metadata": {},
   "outputs": [
    {
     "data": {
      "text/plain": [
       "['4ebaec6ca4a9cb7243b78be5d1a96547.csv',\n",
       " '2b747747663aa310c70414a6803e5e50.csv',\n",
       " 'Breaking Push (Chronological) -- per 28DAU_2019-10-04-001445.csv',\n",
       " 'Breaking Push (Chronological) -- per 28DAU_2019-10-05-040925.csv',\n",
       " '054179fb2bab9cf1f2b5f4ce4625985c.csv',\n",
       " 'Open Rates by type_2019-09-04-084425.csv',\n",
       " 'ef4e3a3512cf432400f3ab6874a83d48.csv',\n",
       " '3c38fecf074b1724006e7e0903e5d910.csv',\n",
       " 'bffe64884a8c7f18b75d2d443dcd6cc0.csv',\n",
       " 'PB Event Worthy List - Sheet3.csv',\n",
       " '8319da0924b82cddf4df0426412b860d.csv',\n",
       " '670e34a15478e4b278c96f933a5b3a5e.csv',\n",
       " '890c3903b1659d073f1d0d1398781c64.csv',\n",
       " '1e530dbfe4860e984044463d08d9c9b2.csv',\n",
       " '5ef03a72545c589b2e106a0a5176aa30 (1).csv',\n",
       " 'e2720831f6a32d29972e603e2e2346df.csv',\n",
       " 'Breaking Push (Chronological) -- per 28DAU_2019-08-27-015717.csv',\n",
       " 'a1097740e3f74c7c57b992b807849437.csv',\n",
       " 'clicked_existing.csv',\n",
       " '11e85740c6ad30a3602752ab7153d1ca.csv',\n",
       " 'ac47c2ade262a340c980e5b8bded0621.csv',\n",
       " '0b8d32009a98fde82ff7e106670e0695.csv',\n",
       " 'a0545352b09be0615c91f4cd5fda0adf.csv',\n",
       " 'eeff001dfbad4235443388ed4d864c5c.csv',\n",
       " '0888ceac2a693a569c3c7e294246105c.csv',\n",
       " '361efc080addc66d5c40e61909fc125e.csv',\n",
       " 'a4c81165c1454cd518db7ca1e71b9b8d.csv',\n",
       " '49af820b7e180e4729680ecb5ee0e31c (1).csv',\n",
       " '772edadfbf43eacf5339d599350b9550.csv',\n",
       " 'e9e67cd3a4a6bc760f67abfd876395f6 (1).csv',\n",
       " 'PB Event Worthy List - Sheet3 (1).csv',\n",
       " 'unsaved-chart_2019-09-04-073550.csv',\n",
       " '71d3de1688116a53e47ad3f5d4636fa5.csv',\n",
       " 'e9e67cd3a4a6bc760f67abfd876395f6.csv',\n",
       " '04cdf91688557894933dc1ec3e4d0cb3.csv',\n",
       " 'Breaking Push (Chronological) -- per 28DAU_2019-10-04-001454.csv',\n",
       " '5850e6a17ec8040d27fe1d14f4c4f8b5.csv',\n",
       " '9b9c75668c699cf17a6ab450b2a8ae3e.csv',\n",
       " 'try_2 (2).csv',\n",
       " 'price_data.csv',\n",
       " '400e11cb574ca52c3eb71569dd4e685d.csv',\n",
       " '6951d349418d4dad07364dda24493fe0.csv',\n",
       " '50e74f203dbd2e012cb89456d01e2d74.csv',\n",
       " 'did_not_open.csv',\n",
       " '77ed7818ce96271b0c25eb9abdae0142.csv',\n",
       " '5ef03a72545c589b2e106a0a5176aa30.csv',\n",
       " '4a3a5027e361d52fb89d33767a3cf200.csv',\n",
       " 'try_2.csv',\n",
       " 'f5527768841e250fa3d4096e78b8889b.csv',\n",
       " '2a8155211ecae258b2f0e7ff263a6167.csv',\n",
       " 'adb41fb26da94dbad877338eb660d4ce (1).csv',\n",
       " '5994065c31a6fdf3c544415a03ea9943.csv',\n",
       " '65f5135cfcf610fba460d496d6284c40.csv',\n",
       " 'test.csv',\n",
       " '74a380ac6f9a75f09b8f1976da6d2775.csv',\n",
       " 'c631fb420951e2af7fec140bfb6c2711 (1).csv',\n",
       " 'b0da7faba0bc066cd59c3d7c15747d71.csv',\n",
       " '63001eda4632480afd6019ea290e03a9.csv',\n",
       " '3790087c612a5b0e08a3ad1975bb4728.csv',\n",
       " '0dd734887cb840dc381271ea5d5382db.csv',\n",
       " 'e9147bda2e2c5c7972845fb3f33d4430.csv',\n",
       " '63ab411d4a4ef9ff1a355d9d0e70705a.csv',\n",
       " '6cade001a0ecb43f61d5e964d6a06f36.csv',\n",
       " '883d566d78e47928bb82ebf1c248365d.csv',\n",
       " 'a44554f49d95d59bb56f5dc8e98746d3 (1).csv',\n",
       " '9fe233e30023eb2b9110d854ab7071ad.csv',\n",
       " 'af7201b508d8387c2e182262ba4a94c0.csv',\n",
       " 'bdf2982937760efd6f1d1e663e4a4fe3.csv',\n",
       " '5cb2f7c3e0bf79f8d8f190d06d92ad57.csv',\n",
       " 'c631fb420951e2af7fec140bfb6c2711.csv',\n",
       " 'try_2 (3).csv',\n",
       " 'Breaking Push (Chronological) -- per 28DAU_2019-08-28-002131.csv',\n",
       " 'f33f175e1752dcd3bea7c673b58cbc93 (2).csv',\n",
       " '6aff5532ccc9b2a022e6799854db053a.csv',\n",
       " 'event_worthy_analysis.csv',\n",
       " 'd24319c20412f7e7df8201b6d9afccc1.csv',\n",
       " 'did_not_click_existing.csv',\n",
       " '81a161667e61c8836efca9ae87b30fa9.csv',\n",
       " 'be56d5b96fb65885480cbd67cec24c4a.csv',\n",
       " 'a44554f49d95d59bb56f5dc8e98746d3.csv',\n",
       " 'K_data.csv',\n",
       " 'f242a6dcf004d00d291219d9fc1000ef.csv',\n",
       " 'aa00fa89e1a508433760c7e171755709.csv',\n",
       " '0ef0b1bbcd7b1ffd6903444b961c1685.csv',\n",
       " 'a54f7c4a9d1a1603ade87d716723c706.csv',\n",
       " 'f33f175e1752dcd3bea7c673b58cbc93 (1).csv',\n",
       " '8de15ca4610f61781d5cdc9e8fef6814.csv',\n",
       " 'control.csv',\n",
       " '57cf7ee507c33413eda424e52035eeda (1).csv',\n",
       " 'e30c3086a7faa2b20117766eb3842a44.csv',\n",
       " '87c7b007df8b7faa8a489647bc3bd238.csv',\n",
       " 'local open rate by type.csv',\n",
       " '5afa640dae0d04568d186986d63eea20.csv',\n",
       " 'b1ba8d802d1b5060a91e24900bc24c14.csv',\n",
       " 'unsaved-chart_2019-10-17-035221.csv',\n",
       " '10820906332a05c476355fb0086cc070.csv',\n",
       " 'f3b3d6b4373a88244797236fa921aa2e.csv',\n",
       " '121c523ed91a4d7fd7c7abdbf92de66a.csv',\n",
       " 'did_click.csv',\n",
       " 'did_not_click_new.csv',\n",
       " '17458255df78ea4aab03fa8c3dbf639e.csv',\n",
       " 'sports.csv',\n",
       " 'a0545352b09be0615c91f4cd5fda0adf (1).csv',\n",
       " 'unsaved-chart_2019-08-23-041845.csv',\n",
       " '2dd11b087f70b254ba6f5c05b7dfbaa3.csv',\n",
       " 'e30c3086a7faa2b20117766eb3842a44 (1).csv',\n",
       " '461118f9cf9f1fd26fd4b5ad311d575b.csv',\n",
       " 'ef4e3a3512cf432400f3ab6874a83d48 (1).csv',\n",
       " '25f67b0f78b0eebf50dddc70bb13d958.csv',\n",
       " 'unsaved-chart_2019-09-04-072154.csv',\n",
       " '57cf7ee507c33413eda424e52035eeda.csv',\n",
       " 'e8d43553593e2f00ce1558893e0659f3.csv',\n",
       " 'try_2 (1).csv',\n",
       " 'db43e16b92a4daf1cbb14af5e66d3523.csv',\n",
       " 'Scheduled manual performance_2019-09-17-041900.csv',\n",
       " '49af820b7e180e4729680ecb5ee0e31c.csv',\n",
       " '6df0437785719feb59fe93f4a6d4b914.csv',\n",
       " 'NB_LOCAL_8-7-2019.csv',\n",
       " '11e85740c6ad30a3602752ab7153d1ca (1).csv',\n",
       " 'clicked_new.csv',\n",
       " '0eaf8f19cd13dd791ceb9358b7de60fa.csv',\n",
       " '7c0c5e27d68b0d393873a351268ed42d.csv',\n",
       " 'f158a0af7f48c527771cc915b1ed671d.csv',\n",
       " '926d1a818d0c0a8eeb9324f020b0b469.csv',\n",
       " '4f6a7b759c181ad8b3fcc58c34add307.csv',\n",
       " 'adb41fb26da94dbad877338eb660d4ce (2).csv',\n",
       " '13f7003a0e68dfd07c5e618a1c548d0e.csv',\n",
       " '729aff23fa61ca259b35ee2e5485b779.csv',\n",
       " '1f47a2aa2efaa0aa8da92e2513b31774.csv',\n",
       " 'a7ec4fff1e0f6e0b9bb0c619fd2b143a.csv',\n",
       " '164a2635cf9d5671f705a70a8c7033c8.csv',\n",
       " 'a6afa625f07a9877eb393f7a8c447946.csv',\n",
       " 'd9b999823eac90a134e15efbc0465960.csv',\n",
       " 'a8781ce30e7d504c6e3707ac103fae7f.csv',\n",
       " 'URLs ingested but not served to users (in article_2019-10-15-232113.csv',\n",
       " '9ba11bf274d2f933f715165452e51167.csv',\n",
       " 'event_urls.csv',\n",
       " '4367efc668ac93d02378e8621d509053.csv',\n",
       " '1fb953f898d7bb0d7ab41095216d496c.csv',\n",
       " '6227a1e17b93e0bb7dc4b215d2126b06.csv',\n",
       " '3e3d5cf8d8f2eb5a5b6aae9f6ed154f0.csv',\n",
       " 'eb31d4584133a854b0ef2ceb000a363d.csv',\n",
       " '2724d15488280764288c5a46e064d0c2.csv',\n",
       " '9b3080ba7846a7e718ec9032230d2a0e.csv',\n",
       " '6ad7ec3f4b4d5445eb340a8b8ad98f60.csv',\n",
       " 'SV1 PVs and URLs_2019-09-04-114642.csv',\n",
       " 'b91b6f7299cb3e0f89e56ee041eb1563.csv',\n",
       " '94cba98542719b1a4d3a4bfd4768bcf3.csv',\n",
       " 'Breaking Push (Chronological) -- per 28DAU_2019-10-08-024713.csv',\n",
       " 'eeff001dfbad4235443388ed4d864c5c (1).csv',\n",
       " '536df3cb535805ba690b6ae2a4b99531.csv',\n",
       " 'adb41fb26da94dbad877338eb660d4ce.csv',\n",
       " 'unsaved-chart_2019-08-23-042109.csv',\n",
       " 'f33f175e1752dcd3bea7c673b58cbc93.csv',\n",
       " '2ce249b6bd87225ed4edf28732227a6a.csv',\n",
       " 'db80555ab71ae77be9946993400762c5.csv',\n",
       " '2320abec99d53c111af7233539a9de35.csv',\n",
       " '520436bea69f07651869d8a1e4daba42.csv',\n",
       " 'Article count by politician_2019-10-10-005622.csv',\n",
       " '83805a3046448bde181445359e94c307.csv',\n",
       " '544896d1e6bdf91993ac1e1c2a8b3100.csv',\n",
       " 'a88bce802bc1daa3c9746954be02c843.csv',\n",
       " '9c076fa0992fa75f30da2216bebf6872.csv',\n",
       " '0e136bc71e705104c9436ded2c065268.csv',\n",
       " 'b8791b7f2d4e95acc2e69c1e4341b931.csv']"
      ]
     },
     "execution_count": 14,
     "metadata": {},
     "output_type": "execute_result"
    }
   ],
   "source": [
    "import os\n",
    "downloads = os.listdir(\"/Users/devonbancroft/Downloads\")\n",
    "csv = []\n",
    "for file in downloads:\n",
    "    if \".csv\" in file:\n",
    "        csv.append(file)\n",
    "csv"
   ]
  },
  {
   "cell_type": "code",
   "execution_count": 52,
   "metadata": {},
   "outputs": [
    {
     "data": {
      "text/plain": [
       "['4ebaec6ca4a9cb7243b78be5d1a96547.csv',\n",
       " '2b747747663aa310c70414a6803e5e50.csv',\n",
       " 'Breaking Push (Chronological) -- per 28DAU_2019-10-04-001445.csv',\n",
       " 'Breaking Push (Chronological) -- per 28DAU_2019-10-05-040925.csv',\n",
       " '054179fb2bab9cf1f2b5f4ce4625985c.csv',\n",
       " 'Open Rates by type_2019-09-04-084425.csv',\n",
       " 'ef4e3a3512cf432400f3ab6874a83d48.csv',\n",
       " '3c38fecf074b1724006e7e0903e5d910.csv',\n",
       " 'bffe64884a8c7f18b75d2d443dcd6cc0.csv',\n",
       " 'PB Event Worthy List - Sheet3.csv',\n",
       " '8319da0924b82cddf4df0426412b860d.csv',\n",
       " '670e34a15478e4b278c96f933a5b3a5e.csv',\n",
       " '890c3903b1659d073f1d0d1398781c64.csv',\n",
       " '1e530dbfe4860e984044463d08d9c9b2.csv',\n",
       " '5ef03a72545c589b2e106a0a5176aa30 (1).csv',\n",
       " 'e2720831f6a32d29972e603e2e2346df.csv',\n",
       " 'Breaking Push (Chronological) -- per 28DAU_2019-08-27-015717.csv',\n",
       " 'a1097740e3f74c7c57b992b807849437.csv',\n",
       " 'clicked_existing.csv',\n",
       " '11e85740c6ad30a3602752ab7153d1ca.csv',\n",
       " 'ac47c2ade262a340c980e5b8bded0621.csv',\n",
       " '0b8d32009a98fde82ff7e106670e0695.csv',\n",
       " 'a0545352b09be0615c91f4cd5fda0adf.csv',\n",
       " 'eeff001dfbad4235443388ed4d864c5c.csv',\n",
       " '0888ceac2a693a569c3c7e294246105c.csv',\n",
       " '361efc080addc66d5c40e61909fc125e.csv',\n",
       " 'a4c81165c1454cd518db7ca1e71b9b8d.csv',\n",
       " '49af820b7e180e4729680ecb5ee0e31c (1).csv',\n",
       " '772edadfbf43eacf5339d599350b9550.csv',\n",
       " 'e9e67cd3a4a6bc760f67abfd876395f6 (1).csv',\n",
       " 'PB Event Worthy List - Sheet3 (1).csv',\n",
       " 'unsaved-chart_2019-09-04-073550.csv',\n",
       " '71d3de1688116a53e47ad3f5d4636fa5.csv',\n",
       " 'e9e67cd3a4a6bc760f67abfd876395f6.csv',\n",
       " '04cdf91688557894933dc1ec3e4d0cb3.csv',\n",
       " 'Breaking Push (Chronological) -- per 28DAU_2019-10-04-001454.csv',\n",
       " '5850e6a17ec8040d27fe1d14f4c4f8b5.csv',\n",
       " '9b9c75668c699cf17a6ab450b2a8ae3e.csv',\n",
       " 'try_2 (2).csv',\n",
       " 'price_data.csv',\n",
       " '400e11cb574ca52c3eb71569dd4e685d.csv',\n",
       " '6951d349418d4dad07364dda24493fe0.csv',\n",
       " '50e74f203dbd2e012cb89456d01e2d74.csv',\n",
       " 'did_not_open.csv',\n",
       " '77ed7818ce96271b0c25eb9abdae0142.csv',\n",
       " '5ef03a72545c589b2e106a0a5176aa30.csv',\n",
       " '4a3a5027e361d52fb89d33767a3cf200.csv',\n",
       " 'try_2.csv',\n",
       " 'f5527768841e250fa3d4096e78b8889b.csv',\n",
       " '2a8155211ecae258b2f0e7ff263a6167.csv',\n",
       " 'adb41fb26da94dbad877338eb660d4ce (1).csv',\n",
       " '5994065c31a6fdf3c544415a03ea9943.csv',\n",
       " '65f5135cfcf610fba460d496d6284c40.csv',\n",
       " 'test.csv',\n",
       " '74a380ac6f9a75f09b8f1976da6d2775.csv',\n",
       " 'c631fb420951e2af7fec140bfb6c2711 (1).csv',\n",
       " 'b0da7faba0bc066cd59c3d7c15747d71.csv',\n",
       " '63001eda4632480afd6019ea290e03a9.csv',\n",
       " '3790087c612a5b0e08a3ad1975bb4728.csv',\n",
       " '0dd734887cb840dc381271ea5d5382db.csv',\n",
       " 'e9147bda2e2c5c7972845fb3f33d4430.csv',\n",
       " '63ab411d4a4ef9ff1a355d9d0e70705a.csv',\n",
       " '6cade001a0ecb43f61d5e964d6a06f36.csv',\n",
       " '883d566d78e47928bb82ebf1c248365d.csv',\n",
       " 'a44554f49d95d59bb56f5dc8e98746d3 (1).csv',\n",
       " '9fe233e30023eb2b9110d854ab7071ad.csv',\n",
       " 'af7201b508d8387c2e182262ba4a94c0.csv',\n",
       " 'bdf2982937760efd6f1d1e663e4a4fe3.csv',\n",
       " '5cb2f7c3e0bf79f8d8f190d06d92ad57.csv',\n",
       " 'c631fb420951e2af7fec140bfb6c2711.csv',\n",
       " 'try_2 (3).csv',\n",
       " 'Breaking Push (Chronological) -- per 28DAU_2019-08-28-002131.csv',\n",
       " 'f33f175e1752dcd3bea7c673b58cbc93 (2).csv',\n",
       " '6aff5532ccc9b2a022e6799854db053a.csv',\n",
       " 'event_worthy_analysis.csv',\n",
       " 'd24319c20412f7e7df8201b6d9afccc1.csv',\n",
       " 'did_not_click_existing.csv',\n",
       " '81a161667e61c8836efca9ae87b30fa9.csv',\n",
       " 'be56d5b96fb65885480cbd67cec24c4a.csv',\n",
       " 'a44554f49d95d59bb56f5dc8e98746d3.csv',\n",
       " 'K_data.csv',\n",
       " 'f242a6dcf004d00d291219d9fc1000ef.csv',\n",
       " 'aa00fa89e1a508433760c7e171755709.csv',\n",
       " '0ef0b1bbcd7b1ffd6903444b961c1685.csv',\n",
       " 'a54f7c4a9d1a1603ade87d716723c706.csv',\n",
       " 'f33f175e1752dcd3bea7c673b58cbc93 (1).csv',\n",
       " '8de15ca4610f61781d5cdc9e8fef6814.csv',\n",
       " 'control.csv',\n",
       " '57cf7ee507c33413eda424e52035eeda (1).csv',\n",
       " 'e30c3086a7faa2b20117766eb3842a44.csv',\n",
       " '87c7b007df8b7faa8a489647bc3bd238.csv',\n",
       " 'local open rate by type.csv',\n",
       " '5afa640dae0d04568d186986d63eea20.csv',\n",
       " 'b1ba8d802d1b5060a91e24900bc24c14.csv',\n",
       " 'unsaved-chart_2019-10-17-035221.csv',\n",
       " '10820906332a05c476355fb0086cc070.csv',\n",
       " 'f3b3d6b4373a88244797236fa921aa2e.csv',\n",
       " '121c523ed91a4d7fd7c7abdbf92de66a.csv',\n",
       " 'did_click.csv',\n",
       " 'did_not_click_new.csv',\n",
       " '17458255df78ea4aab03fa8c3dbf639e.csv',\n",
       " 'sports.csv',\n",
       " 'a0545352b09be0615c91f4cd5fda0adf (1).csv',\n",
       " 'unsaved-chart_2019-08-23-041845.csv',\n",
       " '2dd11b087f70b254ba6f5c05b7dfbaa3.csv',\n",
       " 'e30c3086a7faa2b20117766eb3842a44 (1).csv',\n",
       " '461118f9cf9f1fd26fd4b5ad311d575b.csv',\n",
       " 'ef4e3a3512cf432400f3ab6874a83d48 (1).csv',\n",
       " '25f67b0f78b0eebf50dddc70bb13d958.csv',\n",
       " 'unsaved-chart_2019-09-04-072154.csv',\n",
       " '57cf7ee507c33413eda424e52035eeda.csv',\n",
       " 'e8d43553593e2f00ce1558893e0659f3.csv',\n",
       " 'try_2 (1).csv',\n",
       " 'db43e16b92a4daf1cbb14af5e66d3523.csv',\n",
       " 'Scheduled manual performance_2019-09-17-041900.csv',\n",
       " '49af820b7e180e4729680ecb5ee0e31c.csv',\n",
       " '6df0437785719feb59fe93f4a6d4b914.csv',\n",
       " 'NB_LOCAL_8-7-2019.csv',\n",
       " '11e85740c6ad30a3602752ab7153d1ca (1).csv',\n",
       " 'clicked_new.csv',\n",
       " '0eaf8f19cd13dd791ceb9358b7de60fa.csv',\n",
       " '7c0c5e27d68b0d393873a351268ed42d.csv',\n",
       " 'f158a0af7f48c527771cc915b1ed671d.csv',\n",
       " '926d1a818d0c0a8eeb9324f020b0b469.csv',\n",
       " '4f6a7b759c181ad8b3fcc58c34add307.csv',\n",
       " 'adb41fb26da94dbad877338eb660d4ce (2).csv',\n",
       " '13f7003a0e68dfd07c5e618a1c548d0e.csv',\n",
       " '729aff23fa61ca259b35ee2e5485b779.csv',\n",
       " '1f47a2aa2efaa0aa8da92e2513b31774.csv',\n",
       " 'a7ec4fff1e0f6e0b9bb0c619fd2b143a.csv',\n",
       " '164a2635cf9d5671f705a70a8c7033c8.csv',\n",
       " 'a6afa625f07a9877eb393f7a8c447946.csv',\n",
       " 'd9b999823eac90a134e15efbc0465960.csv',\n",
       " 'a8781ce30e7d504c6e3707ac103fae7f.csv',\n",
       " 'URLs ingested but not served to users (in article_2019-10-15-232113.csv',\n",
       " '9ba11bf274d2f933f715165452e51167.csv',\n",
       " 'event_urls.csv',\n",
       " '4367efc668ac93d02378e8621d509053.csv',\n",
       " '1fb953f898d7bb0d7ab41095216d496c.csv',\n",
       " '6227a1e17b93e0bb7dc4b215d2126b06.csv',\n",
       " '3e3d5cf8d8f2eb5a5b6aae9f6ed154f0.csv',\n",
       " 'eb31d4584133a854b0ef2ceb000a363d.csv',\n",
       " '2724d15488280764288c5a46e064d0c2.csv',\n",
       " '9b3080ba7846a7e718ec9032230d2a0e.csv',\n",
       " '6ad7ec3f4b4d5445eb340a8b8ad98f60.csv',\n",
       " 'SV1 PVs and URLs_2019-09-04-114642.csv',\n",
       " 'b91b6f7299cb3e0f89e56ee041eb1563.csv',\n",
       " '94cba98542719b1a4d3a4bfd4768bcf3.csv',\n",
       " 'Breaking Push (Chronological) -- per 28DAU_2019-10-08-024713.csv',\n",
       " 'eeff001dfbad4235443388ed4d864c5c (1).csv',\n",
       " '536df3cb535805ba690b6ae2a4b99531.csv',\n",
       " 'adb41fb26da94dbad877338eb660d4ce.csv',\n",
       " 'unsaved-chart_2019-08-23-042109.csv',\n",
       " 'f33f175e1752dcd3bea7c673b58cbc93.csv',\n",
       " '2ce249b6bd87225ed4edf28732227a6a.csv',\n",
       " 'db80555ab71ae77be9946993400762c5.csv',\n",
       " '2320abec99d53c111af7233539a9de35.csv',\n",
       " '520436bea69f07651869d8a1e4daba42.csv',\n",
       " 'Article count by politician_2019-10-10-005622.csv',\n",
       " '83805a3046448bde181445359e94c307.csv',\n",
       " '544896d1e6bdf91993ac1e1c2a8b3100.csv',\n",
       " 'a88bce802bc1daa3c9746954be02c843.csv',\n",
       " '9c076fa0992fa75f30da2216bebf6872.csv',\n",
       " '0e136bc71e705104c9436ded2c065268.csv',\n",
       " 'b8791b7f2d4e95acc2e69c1e4341b931.csv']"
      ]
     },
     "execution_count": 52,
     "metadata": {},
     "output_type": "execute_result"
    }
   ],
   "source": [
    "import os\n",
    "downloads = os.listdir(\"/Users/devonbancroft/Downloads\")\n",
    "csv2 = []\n",
    "for file in downloads:\n",
    "    if file[-4:] == '.csv':\n",
    "        csv2.append(file)\n",
    "csv2"
   ]
  },
  {
   "cell_type": "code",
   "execution_count": 50,
   "metadata": {},
   "outputs": [
    {
     "data": {
      "text/plain": [
       "'.'"
      ]
     },
     "execution_count": 50,
     "metadata": {},
     "output_type": "execute_result"
    }
   ],
   "source": [
    "test = 'ef4e3a3512cf432400f3ab6874a83d48.csv'\n",
    "test[-4]"
   ]
  },
  {
   "cell_type": "code",
   "execution_count": 42,
   "metadata": {},
   "outputs": [
    {
     "data": {
      "text/plain": [
       "'/Users/devonbancroft/Downloads'"
      ]
     },
     "execution_count": 42,
     "metadata": {},
     "output_type": "execute_result"
    }
   ],
   "source": [
    "pwd"
   ]
  },
  {
   "cell_type": "code",
   "execution_count": null,
   "metadata": {},
   "outputs": [],
   "source": [
    "path = '../../../'"
   ]
  },
  {
   "cell_type": "markdown",
   "metadata": {},
   "source": [
    "### Scenario 2:  Can you do a nested for-loop?\n",
    "\n",
    "You've been given a dataset that contains a list of information about different users, but there are some tainted values that have been removed.  \n",
    "\n",
    "What you need to do is create a separate list that contains only the entries that have 'dirty' entries with `None` values inside them.\n",
    "\n",
    "**Hint 1:**  A useful tool when looping is `continue`, which basically means.....just skip to the next item in the loop.  Useful when you come across a specific item that signals you want to go onto the next one.\n",
    "\n",
    "**Hint 2:**  You don't *actually* need to do an inner-loop to do this.  Two useful python functions are `any()` and `all()`.  Using one of these can shorten your code a little bit."
   ]
  },
  {
   "cell_type": "code",
   "execution_count": 11,
   "metadata": {},
   "outputs": [],
   "source": [
    "# sample data\n",
    "users = [\n",
    "    ('John', 34, None), ('Abby', 21, 'NY'), ('Jill', 41, 'OH'), ('Jason', 59, 'AL'), ('William', 35, None),\n",
    "    ('Wynona', 62, 'WY'), ('Barbara', 42, None), ('Harold', 52, None), ('Jose', 41, 'NH'), ('Ariel', 48, 'OR')\n",
    "]"
   ]
  },
  {
   "cell_type": "code",
   "execution_count": 13,
   "metadata": {},
   "outputs": [
    {
     "data": {
      "text/plain": [
       "[('John', 34, None),\n",
       " ('William', 35, None),\n",
       " ('Barbara', 42, None),\n",
       " ('Harold', 52, None)]"
      ]
     },
     "execution_count": 13,
     "metadata": {},
     "output_type": "execute_result"
    }
   ],
   "source": [
    "bad_users=[]\n",
    "for i in users:\n",
    "    for j in i:\n",
    "        if j == None:\n",
    "            bad_users.append(i)\n",
    "bad_users            "
   ]
  },
  {
   "cell_type": "markdown",
   "metadata": {},
   "source": [
    "### Scenario 3:  List Comprehensions\n",
    "\n",
    "List comprehensions are compact ways to write for-loops.  They're also considered very pythonic, and Python was built for them from the ground up, so it's a good idea to start using them.  \n",
    "\n",
    "Here's a simple example.\n",
    "\n",
    "A normal for-loop would look like this:"
   ]
  },
  {
   "cell_type": "code",
   "execution_count": 2,
   "metadata": {},
   "outputs": [],
   "source": [
    "items = ['cat', 'dog', 'hat', 'shirt', 'towel', 'detergent', 'water']\n",
    "longer_than_four = []\n",
    "\n",
    "for item in items:\n",
    "    if len(item) > 4:\n",
    "        longer_than_four.append(item)"
   ]
  },
  {
   "cell_type": "markdown",
   "metadata": {},
   "source": [
    "A list-comprehension would instead do the same task, but in a much shorter way:"
   ]
  },
  {
   "cell_type": "code",
   "execution_count": 3,
   "metadata": {},
   "outputs": [],
   "source": [
    "longer_than_four = [item for item in items if len(item) > 4]"
   ]
  },
  {
   "cell_type": "code",
   "execution_count": 5,
   "metadata": {},
   "outputs": [
    {
     "data": {
      "text/plain": [
       "['shirt', 'towel', 'detergent', 'water']"
      ]
     },
     "execution_count": 5,
     "metadata": {},
     "output_type": "execute_result"
    }
   ],
   "source": [
    "longer_than_four"
   ]
  },
  {
   "cell_type": "markdown",
   "metadata": {},
   "source": [
    "### Generator statement "
   ]
  },
  {
   "cell_type": "code",
   "execution_count": 7,
   "metadata": {},
   "outputs": [
    {
     "data": {
      "text/plain": [
       "4"
      ]
     },
     "execution_count": 7,
     "metadata": {},
     "output_type": "execute_result"
    }
   ],
   "source": [
    "longer_than_four_gen = sum(1 for item in items if len(item) > 4)\n",
    "longer_than_four_gen"
   ]
  },
  {
   "cell_type": "markdown",
   "metadata": {},
   "source": [
    "Look at the syntax, and make sure you can see what it does.  Play around with it a little bit to make sure you understand its ins and outs.\n",
    "\n",
    "Ask me if you have any questions about it.  "
   ]
  },
  {
   "cell_type": "markdown",
   "metadata": {},
   "source": [
    "**Step 1:**  Write a simple list comprehension from your own mind, just to make sure you understand how it works.  Test a few scenarios to make sure you understand what each portion of the statement means."
   ]
  },
  {
   "cell_type": "code",
   "execution_count": 20,
   "metadata": {},
   "outputs": [
    {
     "data": {
      "text/plain": [
       "['cat', 'dog', 'hat']"
      ]
     },
     "execution_count": 20,
     "metadata": {},
     "output_type": "execute_result"
    }
   ],
   "source": [
    "has_d_in_it = [item for item in items if \"d\" in item]\n",
    "has_d_in_it\n",
    "\n",
    "shorter_than_five_letters = [item for item in items if len(item) < 5]\n",
    "shorter_than_five_letters"
   ]
  },
  {
   "cell_type": "markdown",
   "metadata": {},
   "source": [
    "**Step 2:** Try and re-write the first prompt, but this time using a list comprehension.  Just check for .csv files, don't worry about the other two criteria."
   ]
  },
  {
   "cell_type": "code",
   "execution_count": 23,
   "metadata": {},
   "outputs": [
    {
     "data": {
      "text/plain": [
       "['4ebaec6ca4a9cb7243b78be5d1a96547.csv',\n",
       " '2b747747663aa310c70414a6803e5e50.csv',\n",
       " 'Breaking Push (Chronological) -- per 28DAU_2019-10-04-001445.csv',\n",
       " 'Breaking Push (Chronological) -- per 28DAU_2019-10-05-040925.csv',\n",
       " '054179fb2bab9cf1f2b5f4ce4625985c.csv',\n",
       " 'Open Rates by type_2019-09-04-084425.csv',\n",
       " 'ef4e3a3512cf432400f3ab6874a83d48.csv',\n",
       " '3c38fecf074b1724006e7e0903e5d910.csv',\n",
       " 'bffe64884a8c7f18b75d2d443dcd6cc0.csv',\n",
       " 'PB Event Worthy List - Sheet3.csv',\n",
       " '8319da0924b82cddf4df0426412b860d.csv',\n",
       " '670e34a15478e4b278c96f933a5b3a5e.csv',\n",
       " '890c3903b1659d073f1d0d1398781c64.csv',\n",
       " '1e530dbfe4860e984044463d08d9c9b2.csv',\n",
       " '5ef03a72545c589b2e106a0a5176aa30 (1).csv',\n",
       " 'e2720831f6a32d29972e603e2e2346df.csv',\n",
       " 'Breaking Push (Chronological) -- per 28DAU_2019-08-27-015717.csv',\n",
       " 'a1097740e3f74c7c57b992b807849437.csv',\n",
       " 'clicked_existing.csv',\n",
       " '11e85740c6ad30a3602752ab7153d1ca.csv',\n",
       " 'ac47c2ade262a340c980e5b8bded0621.csv',\n",
       " '0b8d32009a98fde82ff7e106670e0695.csv',\n",
       " 'a0545352b09be0615c91f4cd5fda0adf.csv',\n",
       " 'eeff001dfbad4235443388ed4d864c5c.csv',\n",
       " '0888ceac2a693a569c3c7e294246105c.csv',\n",
       " '361efc080addc66d5c40e61909fc125e.csv',\n",
       " 'a4c81165c1454cd518db7ca1e71b9b8d.csv',\n",
       " '49af820b7e180e4729680ecb5ee0e31c (1).csv',\n",
       " '772edadfbf43eacf5339d599350b9550.csv',\n",
       " 'e9e67cd3a4a6bc760f67abfd876395f6 (1).csv',\n",
       " 'PB Event Worthy List - Sheet3 (1).csv',\n",
       " 'unsaved-chart_2019-09-04-073550.csv',\n",
       " '71d3de1688116a53e47ad3f5d4636fa5.csv',\n",
       " 'e9e67cd3a4a6bc760f67abfd876395f6.csv',\n",
       " '04cdf91688557894933dc1ec3e4d0cb3.csv',\n",
       " 'Breaking Push (Chronological) -- per 28DAU_2019-10-04-001454.csv',\n",
       " '5850e6a17ec8040d27fe1d14f4c4f8b5.csv',\n",
       " '9b9c75668c699cf17a6ab450b2a8ae3e.csv',\n",
       " 'try_2 (2).csv',\n",
       " 'price_data.csv',\n",
       " '400e11cb574ca52c3eb71569dd4e685d.csv',\n",
       " '6951d349418d4dad07364dda24493fe0.csv',\n",
       " '50e74f203dbd2e012cb89456d01e2d74.csv',\n",
       " 'did_not_open.csv',\n",
       " '77ed7818ce96271b0c25eb9abdae0142.csv',\n",
       " '5ef03a72545c589b2e106a0a5176aa30.csv',\n",
       " '4a3a5027e361d52fb89d33767a3cf200.csv',\n",
       " 'try_2.csv',\n",
       " 'f5527768841e250fa3d4096e78b8889b.csv',\n",
       " '2a8155211ecae258b2f0e7ff263a6167.csv',\n",
       " 'adb41fb26da94dbad877338eb660d4ce (1).csv',\n",
       " '5994065c31a6fdf3c544415a03ea9943.csv',\n",
       " '65f5135cfcf610fba460d496d6284c40.csv',\n",
       " 'test.csv',\n",
       " '74a380ac6f9a75f09b8f1976da6d2775.csv',\n",
       " 'c631fb420951e2af7fec140bfb6c2711 (1).csv',\n",
       " 'b0da7faba0bc066cd59c3d7c15747d71.csv',\n",
       " '63001eda4632480afd6019ea290e03a9.csv',\n",
       " '3790087c612a5b0e08a3ad1975bb4728.csv',\n",
       " '0dd734887cb840dc381271ea5d5382db.csv',\n",
       " 'e9147bda2e2c5c7972845fb3f33d4430.csv',\n",
       " '63ab411d4a4ef9ff1a355d9d0e70705a.csv',\n",
       " '6cade001a0ecb43f61d5e964d6a06f36.csv',\n",
       " '883d566d78e47928bb82ebf1c248365d.csv',\n",
       " 'a44554f49d95d59bb56f5dc8e98746d3 (1).csv',\n",
       " '9fe233e30023eb2b9110d854ab7071ad.csv',\n",
       " 'af7201b508d8387c2e182262ba4a94c0.csv',\n",
       " 'bdf2982937760efd6f1d1e663e4a4fe3.csv',\n",
       " '5cb2f7c3e0bf79f8d8f190d06d92ad57.csv',\n",
       " 'c631fb420951e2af7fec140bfb6c2711.csv',\n",
       " 'try_2 (3).csv',\n",
       " 'Breaking Push (Chronological) -- per 28DAU_2019-08-28-002131.csv',\n",
       " 'f33f175e1752dcd3bea7c673b58cbc93 (2).csv',\n",
       " '6aff5532ccc9b2a022e6799854db053a.csv',\n",
       " 'event_worthy_analysis.csv',\n",
       " 'd24319c20412f7e7df8201b6d9afccc1.csv',\n",
       " 'did_not_click_existing.csv',\n",
       " '81a161667e61c8836efca9ae87b30fa9.csv',\n",
       " 'be56d5b96fb65885480cbd67cec24c4a.csv',\n",
       " 'a44554f49d95d59bb56f5dc8e98746d3.csv',\n",
       " 'K_data.csv',\n",
       " 'f242a6dcf004d00d291219d9fc1000ef.csv',\n",
       " 'aa00fa89e1a508433760c7e171755709.csv',\n",
       " '0ef0b1bbcd7b1ffd6903444b961c1685.csv',\n",
       " 'a54f7c4a9d1a1603ade87d716723c706.csv',\n",
       " 'f33f175e1752dcd3bea7c673b58cbc93 (1).csv',\n",
       " '8de15ca4610f61781d5cdc9e8fef6814.csv',\n",
       " 'control.csv',\n",
       " '57cf7ee507c33413eda424e52035eeda (1).csv',\n",
       " 'e30c3086a7faa2b20117766eb3842a44.csv',\n",
       " '87c7b007df8b7faa8a489647bc3bd238.csv',\n",
       " 'local open rate by type.csv',\n",
       " '5afa640dae0d04568d186986d63eea20.csv',\n",
       " 'b1ba8d802d1b5060a91e24900bc24c14.csv',\n",
       " 'unsaved-chart_2019-10-17-035221.csv',\n",
       " '10820906332a05c476355fb0086cc070.csv',\n",
       " 'f3b3d6b4373a88244797236fa921aa2e.csv',\n",
       " '121c523ed91a4d7fd7c7abdbf92de66a.csv',\n",
       " 'did_click.csv',\n",
       " 'did_not_click_new.csv',\n",
       " '17458255df78ea4aab03fa8c3dbf639e.csv',\n",
       " 'sports.csv',\n",
       " 'a0545352b09be0615c91f4cd5fda0adf (1).csv',\n",
       " 'unsaved-chart_2019-08-23-041845.csv',\n",
       " '2dd11b087f70b254ba6f5c05b7dfbaa3.csv',\n",
       " 'e30c3086a7faa2b20117766eb3842a44 (1).csv',\n",
       " '461118f9cf9f1fd26fd4b5ad311d575b.csv',\n",
       " 'ef4e3a3512cf432400f3ab6874a83d48 (1).csv',\n",
       " '25f67b0f78b0eebf50dddc70bb13d958.csv',\n",
       " 'unsaved-chart_2019-09-04-072154.csv',\n",
       " '57cf7ee507c33413eda424e52035eeda.csv',\n",
       " 'e8d43553593e2f00ce1558893e0659f3.csv',\n",
       " 'try_2 (1).csv',\n",
       " 'db43e16b92a4daf1cbb14af5e66d3523.csv',\n",
       " 'Scheduled manual performance_2019-09-17-041900.csv',\n",
       " '49af820b7e180e4729680ecb5ee0e31c.csv',\n",
       " '6df0437785719feb59fe93f4a6d4b914.csv',\n",
       " 'NB_LOCAL_8-7-2019.csv',\n",
       " '11e85740c6ad30a3602752ab7153d1ca (1).csv',\n",
       " 'clicked_new.csv',\n",
       " '0eaf8f19cd13dd791ceb9358b7de60fa.csv',\n",
       " '7c0c5e27d68b0d393873a351268ed42d.csv',\n",
       " 'f158a0af7f48c527771cc915b1ed671d.csv',\n",
       " '926d1a818d0c0a8eeb9324f020b0b469.csv',\n",
       " '4f6a7b759c181ad8b3fcc58c34add307.csv',\n",
       " 'adb41fb26da94dbad877338eb660d4ce (2).csv',\n",
       " '13f7003a0e68dfd07c5e618a1c548d0e.csv',\n",
       " '729aff23fa61ca259b35ee2e5485b779.csv',\n",
       " '1f47a2aa2efaa0aa8da92e2513b31774.csv',\n",
       " 'a7ec4fff1e0f6e0b9bb0c619fd2b143a.csv',\n",
       " '164a2635cf9d5671f705a70a8c7033c8.csv',\n",
       " 'a6afa625f07a9877eb393f7a8c447946.csv',\n",
       " 'd9b999823eac90a134e15efbc0465960.csv',\n",
       " 'a8781ce30e7d504c6e3707ac103fae7f.csv',\n",
       " 'URLs ingested but not served to users (in article_2019-10-15-232113.csv',\n",
       " '9ba11bf274d2f933f715165452e51167.csv',\n",
       " 'event_urls.csv',\n",
       " '4367efc668ac93d02378e8621d509053.csv',\n",
       " '1fb953f898d7bb0d7ab41095216d496c.csv',\n",
       " '6227a1e17b93e0bb7dc4b215d2126b06.csv',\n",
       " '3e3d5cf8d8f2eb5a5b6aae9f6ed154f0.csv',\n",
       " 'eb31d4584133a854b0ef2ceb000a363d.csv',\n",
       " '2724d15488280764288c5a46e064d0c2.csv',\n",
       " '9b3080ba7846a7e718ec9032230d2a0e.csv',\n",
       " '6ad7ec3f4b4d5445eb340a8b8ad98f60.csv',\n",
       " 'SV1 PVs and URLs_2019-09-04-114642.csv',\n",
       " 'b91b6f7299cb3e0f89e56ee041eb1563.csv',\n",
       " '94cba98542719b1a4d3a4bfd4768bcf3.csv',\n",
       " 'Breaking Push (Chronological) -- per 28DAU_2019-10-08-024713.csv',\n",
       " 'eeff001dfbad4235443388ed4d864c5c (1).csv',\n",
       " '536df3cb535805ba690b6ae2a4b99531.csv',\n",
       " 'adb41fb26da94dbad877338eb660d4ce.csv',\n",
       " 'unsaved-chart_2019-08-23-042109.csv',\n",
       " 'f33f175e1752dcd3bea7c673b58cbc93.csv',\n",
       " '2ce249b6bd87225ed4edf28732227a6a.csv',\n",
       " 'db80555ab71ae77be9946993400762c5.csv',\n",
       " '2320abec99d53c111af7233539a9de35.csv',\n",
       " '520436bea69f07651869d8a1e4daba42.csv',\n",
       " 'Article count by politician_2019-10-10-005622.csv',\n",
       " '83805a3046448bde181445359e94c307.csv',\n",
       " '544896d1e6bdf91993ac1e1c2a8b3100.csv',\n",
       " 'a88bce802bc1daa3c9746954be02c843.csv',\n",
       " '9c076fa0992fa75f30da2216bebf6872.csv',\n",
       " '0e136bc71e705104c9436ded2c065268.csv',\n",
       " 'b8791b7f2d4e95acc2e69c1e4341b931.csv']"
      ]
     },
     "execution_count": 23,
     "metadata": {},
     "output_type": "execute_result"
    }
   ],
   "source": [
    "import os\n",
    "downloads = os.listdir(\"/Users/devonbancroft/Downloads\")\n",
    "\n",
    "csv_file = [csv for csv in downloads if \".csv\" in csv]\n",
    "csv_file"
   ]
  },
  {
   "cell_type": "markdown",
   "metadata": {},
   "source": [
    "### Scenario 4:  Password Verification - A 2nd Time.\n",
    "\n",
    "Let's try and re-do our password verification challenge, but this time with some more stringent checks, and a demand for more concise code. \n",
    "\n",
    "These are the requirements:\n",
    "\n",
    " - At least 1 special character\n",
    " - At least 1 letter\n",
    " - At least 1 number\n",
    " - At least 10 characters long\n",
    " \n",
    "Also, here's the other catch:  **only 1 if statement.**  We don't want a byzantine of `if-else` checks that will make our head spin when trying to re-read it.\n",
    "\n",
    "This time, use loops and (probably) gracious use of the `any()` function.  Extra kudos if you make copious use of comprehensions to shorten everything up.\n",
    "\n",
    "**Hint:**  Make sure you know how to loop through a string.  Strings and lists have a lot in common.  They are both **iterables**:  https://stackoverflow.com/questions/9884132/what-exactly-are-iterator-iterable-and-iteration\n",
    "\n",
    "**Second Hint:** `True` is equal to 1, and `False` is equal to 0."
   ]
  },
  {
   "cell_type": "code",
   "execution_count": 27,
   "metadata": {},
   "outputs": [
    {
     "data": {
      "text/plain": [
       "True"
      ]
     },
     "execution_count": 27,
     "metadata": {},
     "output_type": "execute_result"
    }
   ],
   "source": [
    "any([0, 1, 0])"
   ]
  },
  {
   "cell_type": "code",
   "execution_count": 14,
   "metadata": {},
   "outputs": [
    {
     "name": "stdout",
     "output_type": "stream",
     "text": [
      "good job\n"
     ]
    }
   ],
   "source": [
    "password = \"password1!\"\n",
    "check=[]\n",
    "check.append(any(not letter.isalnum() for letter in password))\n",
    "check.append(any(letter.isalpha() for letter in password))\n",
    "check.append(any(letter.isdigit() for letter in password))\n",
    "check.append(len(password)>9)\n",
    "\n",
    "if all(check):\n",
    "    print(\"good job\")\n",
    "else:\n",
    "    print(\"try again\")"
   ]
  },
  {
   "cell_type": "code",
   "execution_count": 5,
   "metadata": {},
   "outputs": [
    {
     "name": "stdout",
     "output_type": "stream",
     "text": [
      "passwordsss1!\n",
      "good job\n"
     ]
    }
   ],
   "source": [
    "password = input()\n",
    "special_charater = sum(not letter.isalnum() for letter in password)\n",
    "letter = sum(letter.isalpha() for letter in password)\n",
    "number = sum(letter.isdigit() for letter in password)\n",
    "\n",
    "if len(password) >= 10 and special_charater > 0 and letter > 0 and number > 0:\n",
    "    print(\"good job\")\n",
    "else:\n",
    "    print(\"try again\")"
   ]
  },
  {
   "cell_type": "code",
   "execution_count": 17,
   "metadata": {},
   "outputs": [
    {
     "data": {
      "text/plain": [
       "2"
      ]
     },
     "execution_count": 17,
     "metadata": {},
     "output_type": "execute_result"
    }
   ],
   "source": [
    "sum([any(letter.isalpha() for letter in password),any(letter.isdigit() for letter in password)])"
   ]
  },
  {
   "cell_type": "code",
   "execution_count": 8,
   "metadata": {},
   "outputs": [
    {
     "data": {
      "text/plain": [
       "1"
      ]
     },
     "execution_count": 8,
     "metadata": {},
     "output_type": "execute_result"
    }
   ],
   "source": [
    "int(any(not letter.isalnum() for letter in password))"
   ]
  },
  {
   "cell_type": "markdown",
   "metadata": {},
   "source": [
    "### Looping Through Two Lists At the Same Time\n",
    "\n",
    "As the title suggest, this is often a useful technique to have in your tool belt.  The way python allows you to do this is with the `zip()` function, which, as you may have guessed........allows you to zip up two lists and treat them as one.  \n",
    "\n",
    "I'll first leave you to do a little research to see exactly how the method works.  This page is a good introduction:  https://blog.usejournal.com/zip-in-python-48cb4f70d013"
   ]
  },
  {
   "cell_type": "markdown",
   "metadata": {},
   "source": [
    "**Step 1:** Create two separate lists, zip them, and then loop through them, only printing the item in the zipped data.\n",
    "\n",
    "ie, `for item in zip(list a, list b):\n",
    "          print(item)`"
   ]
  },
  {
   "cell_type": "code",
   "execution_count": 33,
   "metadata": {},
   "outputs": [
    {
     "name": "stdout",
     "output_type": "stream",
     "text": [
      "(2, 'devon')\n",
      "(3, 'hello')\n",
      "(5, 'ok')\n",
      "(6, 'python')\n"
     ]
    }
   ],
   "source": [
    "list_1 = [2, 3, 5, 6, 7]\n",
    "list_2 = [\"devon\", \"hello\", \"ok\", \"python\"]\n",
    "\n",
    "for item in zip(list_1, list_2):\n",
    "    print(item)"
   ]
  },
  {
   "cell_type": "markdown",
   "metadata": {},
   "source": [
    "**Step 2:**  How many values in one list are equal to the other?  \n",
    "\n",
    "We'll keep with a simple example for now.  \n",
    "\n",
    "In the following cell, use the `zip()` function to count up how often an item in one list is equal to an item in the other list *that's in its same position*."
   ]
  },
  {
   "cell_type": "code",
   "execution_count": 11,
   "metadata": {},
   "outputs": [],
   "source": [
    "list1 = [2, 3, 6, 8, 3, 2, 10, 14, 11, 9, 8, 4]\n",
    "list2 = [3, 5, 6, 2, 1, 2, 10, 9, 7, 9, 1, 4]"
   ]
  },
  {
   "cell_type": "code",
   "execution_count": 12,
   "metadata": {},
   "outputs": [
    {
     "name": "stdout",
     "output_type": "stream",
     "text": [
      "5\n"
     ]
    }
   ],
   "source": [
    "counter = 0\n",
    "for item in zip(list1, list2):\n",
    "    if item[0] == item[1]:\n",
    "        counter += 1\n",
    "print(counter)        "
   ]
  },
  {
   "cell_type": "code",
   "execution_count": 16,
   "metadata": {},
   "outputs": [
    {
     "data": {
      "text/plain": [
       "5"
      ]
     },
     "execution_count": 16,
     "metadata": {},
     "output_type": "execute_result"
    }
   ],
   "source": [
    "counter = sum(1 for item1, item2 in zip(list1, list2) if item1 == item2)\n",
    "counter"
   ]
  },
  {
   "cell_type": "markdown",
   "metadata": {},
   "source": [
    "### Scenario 5:  Can You Calculate the Euclidean Distance?\n",
    "\n",
    "Some statistical models make use of a metric known as the *Euclidean Distance* between two points in order to determine their similarity or proximity.  (K-Nearest Neighbors and K-Means clustering being the two primary examples).  \n",
    "\n",
    "This is a useful measure to detect how 'close' one data point is to another in order to figure out the best ways to group them.  \n",
    "The basic notation for Euclidean Distance is this:  \n",
    "\n",
    "$$ distance = \\sqrt{\\sum(a_{1} - b_{1})^2 + (a_{2} - b_{2})^2 + (a_{3} - b_{3})^2 + ..... + (a_{n} - b_{n})^2} $$\n",
    "\n",
    "In plain english, this is what the above term breaks down to:\n",
    "\n",
    " - take two lists\n",
    " - take the difference between the item at one position with the corresponding item in the other\n",
    " - square the value you get from the previous step\n",
    " - sum up the value you get from the previous step for every pair of points in your lists\n",
    " - take the square root of that summed value\n",
    " \n",
    "This sort of calculation is a natural candidate for the `zip()` function, so see if you can do it correctly on the following pairs of points.\n",
    "\n",
    "**Hint:**  If you are really clever you can do this in one line!"
   ]
  },
  {
   "cell_type": "code",
   "execution_count": 9,
   "metadata": {},
   "outputs": [],
   "source": [
    "val1 = [2, 4, 8, 12, 7]\n",
    "val2 = [1, 0, -1, 9, 5]\n",
    "import math"
   ]
  },
  {
   "cell_type": "code",
   "execution_count": 10,
   "metadata": {},
   "outputs": [
    {
     "data": {
      "text/plain": [
       "10.535653752852738"
      ]
     },
     "execution_count": 10,
     "metadata": {},
     "output_type": "execute_result"
    }
   ],
   "source": [
    "def euc_distance(list1, list2):\n",
    "    values = []\n",
    "    total = 0\n",
    "    for i in zip(val1, val2):\n",
    "        values.append((i[0] - i[1])**2)\n",
    "    for i in values:\n",
    "        total += i\n",
    "    final = math.sqrt(total)\n",
    "    return final\n",
    "\n",
    "euc_distance(val1, val2)"
   ]
  },
  {
   "cell_type": "code",
   "execution_count": 11,
   "metadata": {},
   "outputs": [
    {
     "data": {
      "text/plain": [
       "10.535653752852738"
      ]
     },
     "execution_count": 11,
     "metadata": {},
     "output_type": "execute_result"
    }
   ],
   "source": [
    "def euc_distance(list1, list2):\n",
    "    distance = 0\n",
    "    for item1, item2 in zip(val1, val2):\n",
    "        distance += (item1 - item2)**2\n",
    "    distance = math.sqrt(distance)\n",
    "    return distance\n",
    "\n",
    "euc_distance(val1, val2)"
   ]
  },
  {
   "cell_type": "code",
   "execution_count": 12,
   "metadata": {},
   "outputs": [
    {
     "data": {
      "text/plain": [
       "10.535653752852738"
      ]
     },
     "execution_count": 12,
     "metadata": {},
     "output_type": "execute_result"
    }
   ],
   "source": [
    "math.sqrt(sum((i[0] - i[1])**2 for i in zip(val1, val2)))"
   ]
  },
  {
   "cell_type": "code",
   "execution_count": 18,
   "metadata": {},
   "outputs": [
    {
     "data": {
      "text/plain": [
       "10.535653752852738"
      ]
     },
     "execution_count": 18,
     "metadata": {},
     "output_type": "execute_result"
    }
   ],
   "source": [
    "math.sqrt(sum([(item1 - item2)**2 for item1, item2 in zip(val1, val2)]))"
   ]
  },
  {
   "cell_type": "code",
   "execution_count": null,
   "metadata": {},
   "outputs": [],
   "source": []
  }
 ],
 "metadata": {
  "kernelspec": {
   "display_name": "Python 3",
   "language": "python",
   "name": "python3"
  },
  "language_info": {
   "codemirror_mode": {
    "name": "ipython",
    "version": 3
   },
   "file_extension": ".py",
   "mimetype": "text/x-python",
   "name": "python",
   "nbconvert_exporter": "python",
   "pygments_lexer": "ipython3",
   "version": "3.7.3"
  }
 },
 "nbformat": 4,
 "nbformat_minor": 2
}
