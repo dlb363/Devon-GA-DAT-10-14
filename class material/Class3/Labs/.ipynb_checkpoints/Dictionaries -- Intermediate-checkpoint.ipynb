{
 "cells": [
  {
   "cell_type": "markdown",
   "metadata": {},
   "source": [
    "### Dictionaries Lab -- Intermediate ###\n",
    "\n",
    "Lots of info inside software programs is returned to you as a dictionary.  Most information received via API is done this way.    "
   ]
  },
  {
   "cell_type": "markdown",
   "metadata": {},
   "source": [
    "### Getting Data Off the Internet\n",
    "\n",
    "This lab will give us a little bit of practice getting information off the internet and turning it into a dataset.  It'll be a good introduction to the `requests` library and give us our first feel for working with `pandas`."
   ]
  },
  {
   "cell_type": "markdown",
   "metadata": {},
   "source": [
    "**Step 1:  Retrieve the Census API meta-data**\n",
    "\n",
    "Look at the information about census data that's been collected historically here:  https://api.census.gov/data.json"
   ]
  },
  {
   "cell_type": "markdown",
   "metadata": {},
   "source": [
    "Now, take a look at one of the most useful libraries for retrieving information off of the web, the `requests` library.  You can find its homepage here:  https://requests.kennethreitz.org/en/master/\n",
    "\n",
    "Receive the contents of the Census data into your terminal using the `get()` method.  Pass the `json()` method onto it to receive its info as a proper dictionary.\n",
    "\n",
    "**Hint:**  How to use these commands isn't buried in the website given.  Their usage is listed almost as soon as you land on the project's homepage."
   ]
  },
  {
   "cell_type": "code",
   "execution_count": null,
   "metadata": {},
   "outputs": [],
   "source": [
    "# Your Answer Here"
   ]
  },
  {
   "cell_type": "markdown",
   "metadata": {},
   "source": [
    "**Step 2: Locate the actual dataset**\n",
    "\n",
    "Now, this dictionary contains the dataset that lists the meta-data about every single census that's been taken.  However, it's located within the dictionary you just loaded.  \n",
    "\n",
    "See if you can find it.  You should see a list with a bunch of dictionaries, each one representing information about a particular census that was taken."
   ]
  },
  {
   "cell_type": "code",
   "execution_count": null,
   "metadata": {},
   "outputs": [],
   "source": [
    "# Your Answer Here"
   ]
  },
  {
   "cell_type": "markdown",
   "metadata": {},
   "source": [
    "**Step 3:  Load it Into a Pandas Dataframe**\n",
    "\n",
    "We haven't spoken about Pandas yet, but it's the default tool in Python for consuming data.  \n",
    "\n",
    "It uses its `dataframe()` method to take things like dictionaries, lists, excel files, etc and turn them into a friendly format.\n",
    "\n",
    "Do the following:\n",
    " - import the `pandas` library\n",
    " - pass the portion of your dictionary that represents your actual dataset into the `DataFrame()` method and observe your results.\n",
    " - you can use the head() method on your dataframe to check what your results are"
   ]
  },
  {
   "cell_type": "code",
   "execution_count": null,
   "metadata": {},
   "outputs": [],
   "source": [
    "# Your Answer Here"
   ]
  },
  {
   "cell_type": "markdown",
   "metadata": {},
   "source": [
    "**Step 4:  Cleaning It Out**\n",
    "\n",
    "We're making some progress, but you should see a problem:  some of the values for certain columns are still nested even further in things like lists and other dictionaries.  \n",
    "\n",
    "Examples of this would be the `bureauCode` and `c_dataset` columns, which have their values stuffed inside lists.  \n",
    "\n",
    "We won't empty out every single column tonight, but we'll practice on a few of them.\n",
    "\n",
    "Do the following: \n",
    "    - Loop through the values in the `bureauCode` key in your json object and create a list that stores the inner value inside of each list that's associated with it, if it exists.\n",
    "    \n",
    "**Hint:  Some of these values are non-existent, so you have to be a little careful.**"
   ]
  },
  {
   "cell_type": "code",
   "execution_count": null,
   "metadata": {},
   "outputs": [],
   "source": [
    "# Your Answer Here"
   ]
  },
  {
   "cell_type": "markdown",
   "metadata": {},
   "source": [
    "**Step 5:  Use the Cleaned Values to Create a New Column**\n",
    "\n",
    "Treat your dataset as if it were dictionary, and grab the `bureauCode` key and set it equal to the list you just created.\n",
    "    \n",
    "You should now have a re-formatted `bureauCode` column that lists the values as `006:07` instead of `[006:07]`. \n",
    "    \n",
    "If you are not sure what's being asked with this point, please let me know."
   ]
  },
  {
   "cell_type": "code",
   "execution_count": null,
   "metadata": {},
   "outputs": [],
   "source": [
    "# Your Answer Here"
   ]
  },
  {
   "cell_type": "markdown",
   "metadata": {},
   "source": [
    "### Bonus:  How Far Can You Go?\n",
    "\n",
    "We're not going to clean this entire dictionary tonight, but if you have some additional time, see how far you can get with turning this into a 'clean' dataset, instead of the dirty one that we have right now.\n",
    "\n",
    "For example:\n",
    "\n",
    "The `c_datset` column is a bit more complicated.  It's a list that contains multiple values inside it, and we don't know what they will be beforehand.\n",
    "\n",
    "Do the following:\n",
    "\n",
    " - Loop through the original json object and extract out all the unique values inside the list associated with the 'c_dataset' key.  When you are done you should have something that looks like `['nonemp', 'cbp', 'zbp', ....]`, and so on that contains all the unique value inside these lists.\n",
    " \n",
    "Then you could create lists that read `True` or `False` for whether or not each item in the dataset contains that value, and turn that into a new column.  \n",
    "\n",
    "These are the sorts of things you often have to do if you're taking nested or un-structured data from the web and trying to turn it into a usable dataset for further analysis."
   ]
  },
  {
   "cell_type": "code",
   "execution_count": null,
   "metadata": {},
   "outputs": [],
   "source": [
    "# Your Answer Here"
   ]
  }
 ],
 "metadata": {
  "kernelspec": {
   "display_name": "Python 3",
   "language": "python",
   "name": "python3"
  },
  "language_info": {
   "codemirror_mode": {
    "name": "ipython",
    "version": 3
   },
   "file_extension": ".py",
   "mimetype": "text/x-python",
   "name": "python",
   "nbconvert_exporter": "python",
   "pygments_lexer": "ipython3",
   "version": "3.7.3"
  }
 },
 "nbformat": 4,
 "nbformat_minor": 2
}
