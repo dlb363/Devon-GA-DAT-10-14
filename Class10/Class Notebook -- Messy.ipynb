{
 "cells": [
  {
   "cell_type": "code",
   "execution_count": 1,
   "metadata": {},
   "outputs": [],
   "source": [
    "import pandas as pd\n",
    "\n",
    "df = pd.read_csv('../data/housing.csv')"
   ]
  },
  {
   "cell_type": "code",
   "execution_count": 2,
   "metadata": {},
   "outputs": [
    {
     "data": {
      "text/html": [
       "<div>\n",
       "<style scoped>\n",
       "    .dataframe tbody tr th:only-of-type {\n",
       "        vertical-align: middle;\n",
       "    }\n",
       "\n",
       "    .dataframe tbody tr th {\n",
       "        vertical-align: top;\n",
       "    }\n",
       "\n",
       "    .dataframe thead th {\n",
       "        text-align: right;\n",
       "    }\n",
       "</style>\n",
       "<table border=\"1\" class=\"dataframe\">\n",
       "  <thead>\n",
       "    <tr style=\"text-align: right;\">\n",
       "      <th></th>\n",
       "      <th>CRIM</th>\n",
       "      <th>ZN</th>\n",
       "      <th>INDUS</th>\n",
       "      <th>CHAS</th>\n",
       "      <th>NOX</th>\n",
       "      <th>RM</th>\n",
       "      <th>AGE</th>\n",
       "      <th>DIS</th>\n",
       "      <th>RAD</th>\n",
       "      <th>TAX</th>\n",
       "      <th>PTRATIO</th>\n",
       "      <th>B</th>\n",
       "      <th>LSTAT</th>\n",
       "      <th>PRICE</th>\n",
       "    </tr>\n",
       "  </thead>\n",
       "  <tbody>\n",
       "    <tr>\n",
       "      <th>0</th>\n",
       "      <td>0.00632</td>\n",
       "      <td>18.0</td>\n",
       "      <td>2.31</td>\n",
       "      <td>0</td>\n",
       "      <td>0.538</td>\n",
       "      <td>6.575</td>\n",
       "      <td>65.2</td>\n",
       "      <td>4.0900</td>\n",
       "      <td>1</td>\n",
       "      <td>296</td>\n",
       "      <td>15.3</td>\n",
       "      <td>396.90</td>\n",
       "      <td>4.98</td>\n",
       "      <td>24.0</td>\n",
       "    </tr>\n",
       "    <tr>\n",
       "      <th>1</th>\n",
       "      <td>0.02731</td>\n",
       "      <td>0.0</td>\n",
       "      <td>7.07</td>\n",
       "      <td>0</td>\n",
       "      <td>0.469</td>\n",
       "      <td>6.421</td>\n",
       "      <td>78.9</td>\n",
       "      <td>4.9671</td>\n",
       "      <td>2</td>\n",
       "      <td>242</td>\n",
       "      <td>17.8</td>\n",
       "      <td>396.90</td>\n",
       "      <td>9.14</td>\n",
       "      <td>21.6</td>\n",
       "    </tr>\n",
       "    <tr>\n",
       "      <th>2</th>\n",
       "      <td>0.02729</td>\n",
       "      <td>0.0</td>\n",
       "      <td>7.07</td>\n",
       "      <td>0</td>\n",
       "      <td>0.469</td>\n",
       "      <td>7.185</td>\n",
       "      <td>61.1</td>\n",
       "      <td>4.9671</td>\n",
       "      <td>2</td>\n",
       "      <td>242</td>\n",
       "      <td>17.8</td>\n",
       "      <td>392.83</td>\n",
       "      <td>4.03</td>\n",
       "      <td>34.7</td>\n",
       "    </tr>\n",
       "    <tr>\n",
       "      <th>3</th>\n",
       "      <td>0.03237</td>\n",
       "      <td>0.0</td>\n",
       "      <td>2.18</td>\n",
       "      <td>0</td>\n",
       "      <td>0.458</td>\n",
       "      <td>6.998</td>\n",
       "      <td>45.8</td>\n",
       "      <td>6.0622</td>\n",
       "      <td>3</td>\n",
       "      <td>222</td>\n",
       "      <td>18.7</td>\n",
       "      <td>394.63</td>\n",
       "      <td>2.94</td>\n",
       "      <td>33.4</td>\n",
       "    </tr>\n",
       "    <tr>\n",
       "      <th>4</th>\n",
       "      <td>0.06905</td>\n",
       "      <td>0.0</td>\n",
       "      <td>2.18</td>\n",
       "      <td>0</td>\n",
       "      <td>0.458</td>\n",
       "      <td>7.147</td>\n",
       "      <td>54.2</td>\n",
       "      <td>6.0622</td>\n",
       "      <td>3</td>\n",
       "      <td>222</td>\n",
       "      <td>18.7</td>\n",
       "      <td>396.90</td>\n",
       "      <td>5.33</td>\n",
       "      <td>36.2</td>\n",
       "    </tr>\n",
       "  </tbody>\n",
       "</table>\n",
       "</div>"
      ],
      "text/plain": [
       "      CRIM    ZN  INDUS  CHAS    NOX     RM   AGE     DIS  RAD  TAX  PTRATIO  \\\n",
       "0  0.00632  18.0   2.31     0  0.538  6.575  65.2  4.0900    1  296     15.3   \n",
       "1  0.02731   0.0   7.07     0  0.469  6.421  78.9  4.9671    2  242     17.8   \n",
       "2  0.02729   0.0   7.07     0  0.469  7.185  61.1  4.9671    2  242     17.8   \n",
       "3  0.03237   0.0   2.18     0  0.458  6.998  45.8  6.0622    3  222     18.7   \n",
       "4  0.06905   0.0   2.18     0  0.458  7.147  54.2  6.0622    3  222     18.7   \n",
       "\n",
       "        B  LSTAT  PRICE  \n",
       "0  396.90   4.98   24.0  \n",
       "1  396.90   9.14   21.6  \n",
       "2  392.83   4.03   34.7  \n",
       "3  394.63   2.94   33.4  \n",
       "4  396.90   5.33   36.2  "
      ]
     },
     "execution_count": 2,
     "metadata": {},
     "output_type": "execute_result"
    }
   ],
   "source": [
    "df.head()"
   ]
  },
  {
   "cell_type": "code",
   "execution_count": 3,
   "metadata": {},
   "outputs": [],
   "source": [
    "from sklearn.linear_model import LinearRegression"
   ]
  },
  {
   "cell_type": "code",
   "execution_count": 4,
   "metadata": {},
   "outputs": [],
   "source": [
    "lreg = LinearRegression(n_jobs=1)"
   ]
  },
  {
   "cell_type": "code",
   "execution_count": 29,
   "metadata": {},
   "outputs": [],
   "source": [
    "X = df[['LSTAT', 'RM']]\n",
    "y = df['PRICE']"
   ]
  },
  {
   "cell_type": "code",
   "execution_count": 30,
   "metadata": {},
   "outputs": [
    {
     "data": {
      "text/plain": [
       "LinearRegression(copy_X=True, fit_intercept=True, n_jobs=-1, normalize=False)"
      ]
     },
     "execution_count": 30,
     "metadata": {},
     "output_type": "execute_result"
    }
   ],
   "source": [
    "lreg.fit(X, y)"
   ]
  },
  {
   "cell_type": "code",
   "execution_count": 18,
   "metadata": {},
   "outputs": [
    {
     "data": {
      "text/plain": [
       "LinearRegression(copy_X=True, fit_intercept=True, n_jobs=-1, normalize=False)"
      ]
     },
     "execution_count": 18,
     "metadata": {},
     "output_type": "execute_result"
    }
   ],
   "source": [
    "lreg.set_params(n_jobs=-1)"
   ]
  },
  {
   "cell_type": "code",
   "execution_count": 31,
   "metadata": {},
   "outputs": [
    {
     "data": {
      "text/plain": [
       "array([-0.64235833,  5.09478798])"
      ]
     },
     "execution_count": 31,
     "metadata": {},
     "output_type": "execute_result"
    }
   ],
   "source": [
    "lreg.coef_"
   ]
  },
  {
   "cell_type": "code",
   "execution_count": 34,
   "metadata": {},
   "outputs": [
    {
     "data": {
      "text/plain": [
       "-1.3582728118744676"
      ]
     },
     "execution_count": 34,
     "metadata": {},
     "output_type": "execute_result"
    }
   ],
   "source": [
    "lreg.intercept_"
   ]
  },
  {
   "cell_type": "code",
   "execution_count": 35,
   "metadata": {},
   "outputs": [
    {
     "data": {
      "text/plain": [
       "0    28.941014\n",
       "dtype: float64"
      ]
     },
     "execution_count": 35,
     "metadata": {},
     "output_type": "execute_result"
    }
   ],
   "source": [
    "(X[:1]*lreg.coef_).sum(axis=1) + lreg.intercept_"
   ]
  },
  {
   "cell_type": "code",
   "execution_count": 23,
   "metadata": {},
   "outputs": [
    {
     "data": {
      "text/html": [
       "<div>\n",
       "<style scoped>\n",
       "    .dataframe tbody tr th:only-of-type {\n",
       "        vertical-align: middle;\n",
       "    }\n",
       "\n",
       "    .dataframe tbody tr th {\n",
       "        vertical-align: top;\n",
       "    }\n",
       "\n",
       "    .dataframe thead th {\n",
       "        text-align: right;\n",
       "    }\n",
       "</style>\n",
       "<table border=\"1\" class=\"dataframe\">\n",
       "  <thead>\n",
       "    <tr style=\"text-align: right;\">\n",
       "      <th></th>\n",
       "      <th>LSTAT</th>\n",
       "    </tr>\n",
       "  </thead>\n",
       "  <tbody>\n",
       "    <tr>\n",
       "      <th>0</th>\n",
       "      <td>29.822595</td>\n",
       "    </tr>\n",
       "  </tbody>\n",
       "</table>\n",
       "</div>"
      ],
      "text/plain": [
       "       LSTAT\n",
       "0  29.822595"
      ]
     },
     "execution_count": 23,
     "metadata": {},
     "output_type": "execute_result"
    }
   ],
   "source": [
    "X[:1]*lreg.coef_ + lreg.intercept_"
   ]
  },
  {
   "cell_type": "code",
   "execution_count": 25,
   "metadata": {},
   "outputs": [
    {
     "data": {
      "text/plain": [
       "array([29.8225951])"
      ]
     },
     "execution_count": 25,
     "metadata": {},
     "output_type": "execute_result"
    }
   ],
   "source": [
    "lreg.predict(X[:1])"
   ]
  },
  {
   "cell_type": "code",
   "execution_count": 26,
   "metadata": {},
   "outputs": [
    {
     "data": {
      "text/html": [
       "<div>\n",
       "<style scoped>\n",
       "    .dataframe tbody tr th:only-of-type {\n",
       "        vertical-align: middle;\n",
       "    }\n",
       "\n",
       "    .dataframe tbody tr th {\n",
       "        vertical-align: top;\n",
       "    }\n",
       "\n",
       "    .dataframe thead th {\n",
       "        text-align: right;\n",
       "    }\n",
       "</style>\n",
       "<table border=\"1\" class=\"dataframe\">\n",
       "  <thead>\n",
       "    <tr style=\"text-align: right;\">\n",
       "      <th></th>\n",
       "      <th>CRIM</th>\n",
       "      <th>ZN</th>\n",
       "      <th>INDUS</th>\n",
       "      <th>CHAS</th>\n",
       "      <th>NOX</th>\n",
       "      <th>RM</th>\n",
       "      <th>AGE</th>\n",
       "      <th>DIS</th>\n",
       "      <th>RAD</th>\n",
       "      <th>TAX</th>\n",
       "      <th>PTRATIO</th>\n",
       "      <th>B</th>\n",
       "      <th>LSTAT</th>\n",
       "      <th>PRICE</th>\n",
       "    </tr>\n",
       "  </thead>\n",
       "  <tbody>\n",
       "    <tr>\n",
       "      <th>0</th>\n",
       "      <td>0.00632</td>\n",
       "      <td>18.0</td>\n",
       "      <td>2.31</td>\n",
       "      <td>0</td>\n",
       "      <td>0.538</td>\n",
       "      <td>6.575</td>\n",
       "      <td>65.2</td>\n",
       "      <td>4.0900</td>\n",
       "      <td>1</td>\n",
       "      <td>296</td>\n",
       "      <td>15.3</td>\n",
       "      <td>396.90</td>\n",
       "      <td>4.98</td>\n",
       "      <td>24.0</td>\n",
       "    </tr>\n",
       "    <tr>\n",
       "      <th>1</th>\n",
       "      <td>0.02731</td>\n",
       "      <td>0.0</td>\n",
       "      <td>7.07</td>\n",
       "      <td>0</td>\n",
       "      <td>0.469</td>\n",
       "      <td>6.421</td>\n",
       "      <td>78.9</td>\n",
       "      <td>4.9671</td>\n",
       "      <td>2</td>\n",
       "      <td>242</td>\n",
       "      <td>17.8</td>\n",
       "      <td>396.90</td>\n",
       "      <td>9.14</td>\n",
       "      <td>21.6</td>\n",
       "    </tr>\n",
       "    <tr>\n",
       "      <th>2</th>\n",
       "      <td>0.02729</td>\n",
       "      <td>0.0</td>\n",
       "      <td>7.07</td>\n",
       "      <td>0</td>\n",
       "      <td>0.469</td>\n",
       "      <td>7.185</td>\n",
       "      <td>61.1</td>\n",
       "      <td>4.9671</td>\n",
       "      <td>2</td>\n",
       "      <td>242</td>\n",
       "      <td>17.8</td>\n",
       "      <td>392.83</td>\n",
       "      <td>4.03</td>\n",
       "      <td>34.7</td>\n",
       "    </tr>\n",
       "    <tr>\n",
       "      <th>3</th>\n",
       "      <td>0.03237</td>\n",
       "      <td>0.0</td>\n",
       "      <td>2.18</td>\n",
       "      <td>0</td>\n",
       "      <td>0.458</td>\n",
       "      <td>6.998</td>\n",
       "      <td>45.8</td>\n",
       "      <td>6.0622</td>\n",
       "      <td>3</td>\n",
       "      <td>222</td>\n",
       "      <td>18.7</td>\n",
       "      <td>394.63</td>\n",
       "      <td>2.94</td>\n",
       "      <td>33.4</td>\n",
       "    </tr>\n",
       "    <tr>\n",
       "      <th>4</th>\n",
       "      <td>0.06905</td>\n",
       "      <td>0.0</td>\n",
       "      <td>2.18</td>\n",
       "      <td>0</td>\n",
       "      <td>0.458</td>\n",
       "      <td>7.147</td>\n",
       "      <td>54.2</td>\n",
       "      <td>6.0622</td>\n",
       "      <td>3</td>\n",
       "      <td>222</td>\n",
       "      <td>18.7</td>\n",
       "      <td>396.90</td>\n",
       "      <td>5.33</td>\n",
       "      <td>36.2</td>\n",
       "    </tr>\n",
       "  </tbody>\n",
       "</table>\n",
       "</div>"
      ],
      "text/plain": [
       "      CRIM    ZN  INDUS  CHAS    NOX     RM   AGE     DIS  RAD  TAX  PTRATIO  \\\n",
       "0  0.00632  18.0   2.31     0  0.538  6.575  65.2  4.0900    1  296     15.3   \n",
       "1  0.02731   0.0   7.07     0  0.469  6.421  78.9  4.9671    2  242     17.8   \n",
       "2  0.02729   0.0   7.07     0  0.469  7.185  61.1  4.9671    2  242     17.8   \n",
       "3  0.03237   0.0   2.18     0  0.458  6.998  45.8  6.0622    3  222     18.7   \n",
       "4  0.06905   0.0   2.18     0  0.458  7.147  54.2  6.0622    3  222     18.7   \n",
       "\n",
       "        B  LSTAT  PRICE  \n",
       "0  396.90   4.98   24.0  \n",
       "1  396.90   9.14   21.6  \n",
       "2  392.83   4.03   34.7  \n",
       "3  394.63   2.94   33.4  \n",
       "4  396.90   5.33   36.2  "
      ]
     },
     "execution_count": 26,
     "metadata": {},
     "output_type": "execute_result"
    }
   ],
   "source": [
    "df.head()"
   ]
  },
  {
   "cell_type": "code",
   "execution_count": 41,
   "metadata": {},
   "outputs": [
    {
     "data": {
      "text/plain": [
       "0    28.941014\n",
       "dtype: float64"
      ]
     },
     "execution_count": 41,
     "metadata": {},
     "output_type": "execute_result"
    }
   ],
   "source": [
    "(X[:1]*lreg.coef_).sum(axis=1) + lreg.intercept_"
   ]
  },
  {
   "cell_type": "code",
   "execution_count": 37,
   "metadata": {},
   "outputs": [
    {
     "data": {
      "text/plain": [
       "array([-0.64235833,  5.09478798])"
      ]
     },
     "execution_count": 37,
     "metadata": {},
     "output_type": "execute_result"
    }
   ],
   "source": [
    "lreg.coef_"
   ]
  },
  {
   "cell_type": "code",
   "execution_count": 38,
   "metadata": {},
   "outputs": [
    {
     "data": {
      "text/plain": [
       "-1.3582728118744676"
      ]
     },
     "execution_count": 38,
     "metadata": {},
     "output_type": "execute_result"
    }
   ],
   "source": [
    "lreg.intercept_"
   ]
  },
  {
   "cell_type": "code",
   "execution_count": 42,
   "metadata": {},
   "outputs": [
    {
     "data": {
      "text/plain": [
       "array([28.94101368])"
      ]
     },
     "execution_count": 42,
     "metadata": {},
     "output_type": "execute_result"
    }
   ],
   "source": [
    "lreg.predict(X[:1])"
   ]
  },
  {
   "cell_type": "code",
   "execution_count": 43,
   "metadata": {},
   "outputs": [
    {
     "data": {
      "text/plain": [
       "array([28.94101368, 25.48420566, 32.65907477, 32.40652   , 31.63040699,\n",
       "       28.05452701, 21.28707846, 17.78559653,  8.10469338, 18.24650673,\n",
       "       17.99496223, 20.73221309, 18.5534842 , 23.64474107, 23.10895823,\n",
       "       22.9239452 , 24.65257604, 19.73611045, 18.9297215 , 20.57377596,\n",
       "       13.51732408, 20.14832175, 17.90896697, 15.48764606, 18.35281036,\n",
       "       16.56210901, 18.74440281, 18.34995811, 23.51018847, 24.94888935,\n",
       "       13.23095259, 21.20092715, 11.15596625, 15.89983805, 16.63398622,\n",
       "       22.65107562, 21.07107521, 22.81275431, 22.53014238, 29.46686594,\n",
       "       33.15564849, 30.0244275 , 26.33937234, 25.50630935, 23.42747337,\n",
       "       21.03183392, 19.03080004, 17.28696205,  6.35742724, 16.77652446,\n",
       "       20.38222834, 23.73891662, 28.42223975, 23.78518476, 19.13293549,\n",
       "       32.4841017 , 27.4553513 , 30.83048667, 25.54262118, 22.91599173,\n",
       "       19.44389291, 19.76157796, 27.21060683, 26.99027936, 29.66411644,\n",
       "       27.68813019, 21.54751591, 23.38578845, 18.73350058, 22.97822472,\n",
       "       27.01833368, 22.66525802, 25.99579831, 25.61529631, 26.24614271,\n",
       "       24.92488095, 22.94287168, 23.32670532, 22.46574406, 22.72305097,\n",
       "       29.51629037, 27.72630168, 26.43243306, 25.2371736 , 25.01284044,\n",
       "       28.2255716 , 21.02614874, 24.4054201 , 30.80793576, 31.04628882,\n",
       "       25.67580476, 26.00650589, 26.22070738, 26.2964101 , 23.67648254,\n",
       "       28.12301466, 22.75656203, 37.04724285, 36.18974997, 32.44847679,\n",
       "       26.86335045, 28.26259609, 24.44557513, 21.27514504, 22.14100643,\n",
       "       17.87168992, 16.38850335, 20.80666424, 23.74364784, 20.38848945,\n",
       "       21.85328041, 26.32686783, 18.35457994, 18.70127166, 23.79188665,\n",
       "       18.72006301, 22.37314344, 22.7011548 , 18.68527463, 19.0974602 ,\n",
       "       19.31744339, 20.06438082, 17.49427343, 12.15448035, 17.30132623,\n",
       "       19.62580113,  9.72808395, 16.60421542, 21.52041395, 15.58019521,\n",
       "       23.45015298, 22.9960428 , 23.96269155, 18.64893707, 16.85319885,\n",
       "       20.02281172, 18.05910154, 22.15148074, 14.78682073, 18.12183323,\n",
       "       14.57757085,  2.1089178 ,  8.94081614,  9.5289207 ,  4.80679707,\n",
       "       12.01521584, 16.6199277 ,  4.76981119,  6.87170965, 13.37866927,\n",
       "       20.77476672, 17.64344278, 16.39142155, 17.58503369, 20.15522473,\n",
       "       20.33664069, 15.13378593, 31.06641541, 25.41634701, 27.06176888,\n",
       "       26.95118125, 35.68531448, 37.15793504, 39.17794689, 20.98956504,\n",
       "       23.42349342, 36.66157528, 20.78556599, 23.70551495, 23.98706352,\n",
       "       19.30437583, 20.87150978, 17.59364191, 25.52296755, 22.29975565,\n",
       "       28.56843941, 22.81810809, 26.77487939, 29.14685309, 30.96586131,\n",
       "       33.34652688, 23.87381831, 31.99876804, 28.43022539, 18.21274954,\n",
       "       21.54294556, 35.68051731, 28.90362563, 29.11400321, 31.78546743,\n",
       "       30.77957096, 29.96284283, 33.36854692, 30.05522306, 29.47417753,\n",
       "       36.85537831, 33.14662523, 29.31968013, 31.44880281, 31.24871937,\n",
       "       32.13454487, 25.26308832, 35.41532933, 36.20371198, 37.72326185,\n",
       "       21.67268811, 23.82468505, 16.50389459, 20.11954835, 11.03622024,\n",
       "       17.91313514, 10.7702086 , 17.93015692, 25.09567941,  7.23303098,\n",
       "       24.05457308, 19.96157774, 26.25685672, 17.44974913, 24.3660485 ,\n",
       "       27.81829904, 16.26099047, 27.31015547, 27.47711073, 38.09588116,\n",
       "       40.11963326, 37.593241  , 31.05029451, 35.28222297, 29.60751072,\n",
       "       21.63017953, 33.03191447, 39.53034953, 38.12112827, 27.73828658,\n",
       "       22.65974818, 26.2971678 , 33.09082226, 27.57564911, 27.56371569,\n",
       "       26.47044207, 21.72921661, 23.82712868, 27.87886702, 19.10739721,\n",
       "       15.34007899, 23.87668985, 23.84194009, 25.30124695, 28.65464219,\n",
       "       27.90170267, 29.13590581, 31.81864228, 38.44563265, 25.54039794,\n",
       "       22.63688679, 34.6205424 , 39.69788713, 30.99783605, 29.06799407,\n",
       "       29.17926861, 32.29101132, 37.63141893, 28.74470749, 30.1516669 ,\n",
       "       20.25610379, 24.87609035, 36.13403709, 34.66994109, 20.03468079,\n",
       "       20.12614728, 26.20006279, 26.98602111, 33.59902374, 30.80477947,\n",
       "       31.6471762 , 31.77928355, 30.7465393 , 27.04758648, 30.23198502,\n",
       "       36.06770189, 31.19378511, 35.65788274, 36.97788005, 29.7110715 ,\n",
       "       26.23178496, 22.07656307, 25.68882728, 25.93338997, 25.98018255,\n",
       "       31.4580143 , 32.77247603, 29.40108735, 24.34605866, 22.57578151,\n",
       "       28.63713459, 27.26046561, 17.9655936 , 27.77563603, 31.46935088,\n",
       "       29.74890034, 26.11397583, 26.16312839, 31.09167539, 31.05606979,\n",
       "       26.61258457, 32.28899561, 28.69897184, 29.52933863, 22.66348844,\n",
       "       15.85869849, 25.99071639, 21.79919554, 25.49103786, 26.13811454,\n",
       "       20.32037179, 16.99787506, 17.86059947, 24.50183176, 21.60894454,\n",
       "       26.75585477, 26.71309362, 24.47318223, 20.18149016, 27.3935591 ,\n",
       "       28.14312838, 26.84952519, 21.4175594 , 22.13363049, 26.19210932,\n",
       "       24.10506731, 19.72807333, 24.33872776, 27.17181276, 26.45392061,\n",
       "       24.25367199, 22.24792619, 21.89219835, 24.04457816, 22.8774631 ,\n",
       "       23.07991295, 32.00653973, 26.40524101, 28.14429469, 30.70202787,\n",
       "       22.51774887, 20.55210662, 27.75396669, 28.59791904, 30.21097042,\n",
       "       27.86559837, 28.63379008, 23.61548826, 30.02884824, 22.32252695,\n",
       "       25.30645274, 18.98504346, 22.69880125, 22.48321949, 21.64239125,\n",
       "       26.23420929, 21.37418212, 19.41434893, 18.80265585, 39.9758901 ,\n",
       "       12.21067586, 14.93414327,  9.76025658, 21.8687353 , 30.2941987 ,\n",
       "       32.48537902, 24.18925437, 22.86946459,  1.30195776, -4.66638608,\n",
       "       27.26661571, 17.58856481, 19.61202573, 15.92900559, 16.35602829,\n",
       "       23.08722293, 18.44620086, 11.68681678, 10.98863617,  1.22032533,\n",
       "        5.7358631 ,  4.1767872 ,  3.566624  ,  3.83528036, 12.70946315,\n",
       "       16.75749984, 17.41964693,  7.80331745, 20.44917324, 18.13218529,\n",
       "       20.61292555, 18.83136329, 15.12569572,  6.77386462,  9.2049472 ,\n",
       "       11.94829024, 17.90524602, 18.22245167, 13.19432385,  9.23322834,\n",
       "       12.83401278,  4.73131635, 19.42149161, 10.30089127, 20.84536661,\n",
       "       21.47817885, 18.92688695,  0.14255003, 12.0068039 , -2.08933711,\n",
       "       12.76108347, 16.62815786,  8.55205663, 15.74595036, 18.80133187,\n",
       "       21.65619078, 19.15599797, 18.35983721, 14.77469265, 15.97135331,\n",
       "       13.01347737, 18.30140239, 20.91255925, 16.37019782, 15.67848584,\n",
       "       19.6522403 , 20.80637788, 23.64816923, 21.01273047, 20.52559506,\n",
       "       17.4673983 , 19.96458442, 12.99448493,  7.02626334, 12.61294049,\n",
       "       14.08066091, 18.74010433, 19.6694889 , 19.57297267, 13.18491128,\n",
       "       16.14520992, 19.52022303, 19.92887586, 18.50703427, 18.93104225,\n",
       "       21.82372195, 21.15852796, 19.63007869, 25.55441624, 20.90093631,\n",
       "       20.23926219, 16.87694825, 18.00283848, 20.31851051, 20.18046541,\n",
       "       22.23437762, 21.71554578, 21.83890979, 25.21421407, 21.7832886 ,\n",
       "       18.90608793, 17.94945984, 15.53065977, 17.18748418, 18.26704193,\n",
       "       19.59726742, 22.11000978, 22.21261176, 26.71344914, 14.6387614 ,\n",
       "       14.55497489, 19.67707879,  9.66333655, 18.5712701 , 21.95584378,\n",
       "       23.54446528, 28.05969258, 30.11309322, 21.30452171, 19.98416727,\n",
       "       24.00387777, 20.16873308, 21.37144731, 14.82770934, 10.82758006,\n",
       "        5.52428703, 17.5164286 , 20.54835994, 20.00295862, 20.10379102,\n",
       "       16.22366838, 12.52317924, 19.10367626, 21.00798639, 17.31499063,\n",
       "       20.14301944, 26.02005928, 23.98921598, 30.56006716, 29.09323475,\n",
       "       24.30151506])"
      ]
     },
     "execution_count": 43,
     "metadata": {},
     "output_type": "execute_result"
    }
   ],
   "source": [
    "lreg.predict(X)"
   ]
  },
  {
   "cell_type": "code",
   "execution_count": 44,
   "metadata": {},
   "outputs": [
    {
     "data": {
      "text/plain": [
       "0.6385616062603403"
      ]
     },
     "execution_count": 44,
     "metadata": {},
     "output_type": "execute_result"
    }
   ],
   "source": [
    "lreg.score(X, y)"
   ]
  },
  {
   "cell_type": "code",
   "execution_count": 46,
   "metadata": {},
   "outputs": [
    {
     "data": {
      "text/plain": [
       "<matplotlib.axes._subplots.AxesSubplot at 0x1d8c2fd3710>"
      ]
     },
     "execution_count": 46,
     "metadata": {},
     "output_type": "execute_result"
    },
    {
     "data": {
      "image/png": "[encoded data removed]",
      "text/plain": [
       "<Figure size 432x288 with 1 Axes>"
      ]
     },
     "metadata": {
      "needs_background": "light"
     },
     "output_type": "display_data"
    }
   ],
   "source": [
    "%matplotlib inline\n",
    "y.hist()"
   ]
  },
  {
   "cell_type": "code",
   "execution_count": 47,
   "metadata": {},
   "outputs": [],
   "source": [
    "df['PREDICTION'] = lreg.predict(X)"
   ]
  },
  {
   "cell_type": "code",
   "execution_count": 58,
   "metadata": {},
   "outputs": [
    {
     "data": {
      "text/html": [
       "<div>\n",
       "<style scoped>\n",
       "    .dataframe tbody tr th:only-of-type {\n",
       "        vertical-align: middle;\n",
       "    }\n",
       "\n",
       "    .dataframe tbody tr th {\n",
       "        vertical-align: top;\n",
       "    }\n",
       "\n",
       "    .dataframe thead th {\n",
       "        text-align: right;\n",
       "    }\n",
       "</style>\n",
       "<table border=\"1\" class=\"dataframe\">\n",
       "  <thead>\n",
       "    <tr style=\"text-align: right;\">\n",
       "      <th></th>\n",
       "      <th>CRIM</th>\n",
       "      <th>ZN</th>\n",
       "      <th>INDUS</th>\n",
       "      <th>CHAS</th>\n",
       "      <th>NOX</th>\n",
       "      <th>RM</th>\n",
       "      <th>AGE</th>\n",
       "      <th>DIS</th>\n",
       "      <th>RAD</th>\n",
       "      <th>TAX</th>\n",
       "      <th>PTRATIO</th>\n",
       "      <th>B</th>\n",
       "      <th>LSTAT</th>\n",
       "      <th>PRICE</th>\n",
       "      <th>PREDICTION</th>\n",
       "    </tr>\n",
       "  </thead>\n",
       "  <tbody>\n",
       "    <tr>\n",
       "      <th>0</th>\n",
       "      <td>0.00632</td>\n",
       "      <td>18.0</td>\n",
       "      <td>2.31</td>\n",
       "      <td>0</td>\n",
       "      <td>0.538</td>\n",
       "      <td>6.575</td>\n",
       "      <td>65.2</td>\n",
       "      <td>4.0900</td>\n",
       "      <td>1</td>\n",
       "      <td>296</td>\n",
       "      <td>15.3</td>\n",
       "      <td>396.90</td>\n",
       "      <td>4.98</td>\n",
       "      <td>24.0</td>\n",
       "      <td>28.941014</td>\n",
       "    </tr>\n",
       "    <tr>\n",
       "      <th>1</th>\n",
       "      <td>0.02731</td>\n",
       "      <td>0.0</td>\n",
       "      <td>7.07</td>\n",
       "      <td>0</td>\n",
       "      <td>0.469</td>\n",
       "      <td>6.421</td>\n",
       "      <td>78.9</td>\n",
       "      <td>4.9671</td>\n",
       "      <td>2</td>\n",
       "      <td>242</td>\n",
       "      <td>17.8</td>\n",
       "      <td>396.90</td>\n",
       "      <td>9.14</td>\n",
       "      <td>21.6</td>\n",
       "      <td>25.484206</td>\n",
       "    </tr>\n",
       "    <tr>\n",
       "      <th>2</th>\n",
       "      <td>0.02729</td>\n",
       "      <td>0.0</td>\n",
       "      <td>7.07</td>\n",
       "      <td>0</td>\n",
       "      <td>0.469</td>\n",
       "      <td>7.185</td>\n",
       "      <td>61.1</td>\n",
       "      <td>4.9671</td>\n",
       "      <td>2</td>\n",
       "      <td>242</td>\n",
       "      <td>17.8</td>\n",
       "      <td>392.83</td>\n",
       "      <td>4.03</td>\n",
       "      <td>34.7</td>\n",
       "      <td>32.659075</td>\n",
       "    </tr>\n",
       "    <tr>\n",
       "      <th>3</th>\n",
       "      <td>0.03237</td>\n",
       "      <td>0.0</td>\n",
       "      <td>2.18</td>\n",
       "      <td>0</td>\n",
       "      <td>0.458</td>\n",
       "      <td>6.998</td>\n",
       "      <td>45.8</td>\n",
       "      <td>6.0622</td>\n",
       "      <td>3</td>\n",
       "      <td>222</td>\n",
       "      <td>18.7</td>\n",
       "      <td>394.63</td>\n",
       "      <td>2.94</td>\n",
       "      <td>33.4</td>\n",
       "      <td>32.406520</td>\n",
       "    </tr>\n",
       "    <tr>\n",
       "      <th>4</th>\n",
       "      <td>0.06905</td>\n",
       "      <td>0.0</td>\n",
       "      <td>2.18</td>\n",
       "      <td>0</td>\n",
       "      <td>0.458</td>\n",
       "      <td>7.147</td>\n",
       "      <td>54.2</td>\n",
       "      <td>6.0622</td>\n",
       "      <td>3</td>\n",
       "      <td>222</td>\n",
       "      <td>18.7</td>\n",
       "      <td>396.90</td>\n",
       "      <td>5.33</td>\n",
       "      <td>36.2</td>\n",
       "      <td>31.630407</td>\n",
       "    </tr>\n",
       "  </tbody>\n",
       "</table>\n",
       "</div>"
      ],
      "text/plain": [
       "      CRIM    ZN  INDUS  CHAS    NOX     RM   AGE     DIS  RAD  TAX  PTRATIO  \\\n",
       "0  0.00632  18.0   2.31     0  0.538  6.575  65.2  4.0900    1  296     15.3   \n",
       "1  0.02731   0.0   7.07     0  0.469  6.421  78.9  4.9671    2  242     17.8   \n",
       "2  0.02729   0.0   7.07     0  0.469  7.185  61.1  4.9671    2  242     17.8   \n",
       "3  0.03237   0.0   2.18     0  0.458  6.998  45.8  6.0622    3  222     18.7   \n",
       "4  0.06905   0.0   2.18     0  0.458  7.147  54.2  6.0622    3  222     18.7   \n",
       "\n",
       "        B  LSTAT  PRICE  PREDICTION  \n",
       "0  396.90   4.98   24.0   28.941014  \n",
       "1  396.90   9.14   21.6   25.484206  \n",
       "2  392.83   4.03   34.7   32.659075  \n",
       "3  394.63   2.94   33.4   32.406520  \n",
       "4  396.90   5.33   36.2   31.630407  "
      ]
     },
     "execution_count": 58,
     "metadata": {},
     "output_type": "execute_result"
    }
   ],
   "source": [
    "df.head()"
   ]
  },
  {
   "cell_type": "code",
   "execution_count": 49,
   "metadata": {},
   "outputs": [
    {
     "data": {
      "text/plain": [
       "array([28.94101368, 25.48420566, 32.65907477, 32.40652   , 31.63040699,\n",
       "       28.05452701, 21.28707846, 17.78559653,  8.10469338, 18.24650673,\n",
       "       17.99496223, 20.73221309, 18.5534842 , 23.64474107, 23.10895823,\n",
       "       22.9239452 , 24.65257604, 19.73611045, 18.9297215 , 20.57377596,\n",
       "       13.51732408, 20.14832175, 17.90896697, 15.48764606, 18.35281036,\n",
       "       16.56210901, 18.74440281, 18.34995811, 23.51018847, 24.94888935,\n",
       "       13.23095259, 21.20092715, 11.15596625, 15.89983805, 16.63398622,\n",
       "       22.65107562, 21.07107521, 22.81275431, 22.53014238, 29.46686594,\n",
       "       33.15564849, 30.0244275 , 26.33937234, 25.50630935, 23.42747337,\n",
       "       21.03183392, 19.03080004, 17.28696205,  6.35742724, 16.77652446,\n",
       "       20.38222834, 23.73891662, 28.42223975, 23.78518476, 19.13293549,\n",
       "       32.4841017 , 27.4553513 , 30.83048667, 25.54262118, 22.91599173,\n",
       "       19.44389291, 19.76157796, 27.21060683, 26.99027936, 29.66411644,\n",
       "       27.68813019, 21.54751591, 23.38578845, 18.73350058, 22.97822472,\n",
       "       27.01833368, 22.66525802, 25.99579831, 25.61529631, 26.24614271,\n",
       "       24.92488095, 22.94287168, 23.32670532, 22.46574406, 22.72305097,\n",
       "       29.51629037, 27.72630168, 26.43243306, 25.2371736 , 25.01284044,\n",
       "       28.2255716 , 21.02614874, 24.4054201 , 30.80793576, 31.04628882,\n",
       "       25.67580476, 26.00650589, 26.22070738, 26.2964101 , 23.67648254,\n",
       "       28.12301466, 22.75656203, 37.04724285, 36.18974997, 32.44847679,\n",
       "       26.86335045, 28.26259609, 24.44557513, 21.27514504, 22.14100643,\n",
       "       17.87168992, 16.38850335, 20.80666424, 23.74364784, 20.38848945,\n",
       "       21.85328041, 26.32686783, 18.35457994, 18.70127166, 23.79188665,\n",
       "       18.72006301, 22.37314344, 22.7011548 , 18.68527463, 19.0974602 ,\n",
       "       19.31744339, 20.06438082, 17.49427343, 12.15448035, 17.30132623,\n",
       "       19.62580113,  9.72808395, 16.60421542, 21.52041395, 15.58019521,\n",
       "       23.45015298, 22.9960428 , 23.96269155, 18.64893707, 16.85319885,\n",
       "       20.02281172, 18.05910154, 22.15148074, 14.78682073, 18.12183323,\n",
       "       14.57757085,  2.1089178 ,  8.94081614,  9.5289207 ,  4.80679707,\n",
       "       12.01521584, 16.6199277 ,  4.76981119,  6.87170965, 13.37866927,\n",
       "       20.77476672, 17.64344278, 16.39142155, 17.58503369, 20.15522473,\n",
       "       20.33664069, 15.13378593, 31.06641541, 25.41634701, 27.06176888,\n",
       "       26.95118125, 35.68531448, 37.15793504, 39.17794689, 20.98956504,\n",
       "       23.42349342, 36.66157528, 20.78556599, 23.70551495, 23.98706352,\n",
       "       19.30437583, 20.87150978, 17.59364191, 25.52296755, 22.29975565,\n",
       "       28.56843941, 22.81810809, 26.77487939, 29.14685309, 30.96586131,\n",
       "       33.34652688, 23.87381831, 31.99876804, 28.43022539, 18.21274954,\n",
       "       21.54294556, 35.68051731, 28.90362563, 29.11400321, 31.78546743,\n",
       "       30.77957096, 29.96284283, 33.36854692, 30.05522306, 29.47417753,\n",
       "       36.85537831, 33.14662523, 29.31968013, 31.44880281, 31.24871937,\n",
       "       32.13454487, 25.26308832, 35.41532933, 36.20371198, 37.72326185,\n",
       "       21.67268811, 23.82468505, 16.50389459, 20.11954835, 11.03622024,\n",
       "       17.91313514, 10.7702086 , 17.93015692, 25.09567941,  7.23303098,\n",
       "       24.05457308, 19.96157774, 26.25685672, 17.44974913, 24.3660485 ,\n",
       "       27.81829904, 16.26099047, 27.31015547, 27.47711073, 38.09588116,\n",
       "       40.11963326, 37.593241  , 31.05029451, 35.28222297, 29.60751072,\n",
       "       21.63017953, 33.03191447, 39.53034953, 38.12112827, 27.73828658,\n",
       "       22.65974818, 26.2971678 , 33.09082226, 27.57564911, 27.56371569,\n",
       "       26.47044207, 21.72921661, 23.82712868, 27.87886702, 19.10739721,\n",
       "       15.34007899, 23.87668985, 23.84194009, 25.30124695, 28.65464219,\n",
       "       27.90170267, 29.13590581, 31.81864228, 38.44563265, 25.54039794,\n",
       "       22.63688679, 34.6205424 , 39.69788713, 30.99783605, 29.06799407,\n",
       "       29.17926861, 32.29101132, 37.63141893, 28.74470749, 30.1516669 ,\n",
       "       20.25610379, 24.87609035, 36.13403709, 34.66994109, 20.03468079,\n",
       "       20.12614728, 26.20006279, 26.98602111, 33.59902374, 30.80477947,\n",
       "       31.6471762 , 31.77928355, 30.7465393 , 27.04758648, 30.23198502,\n",
       "       36.06770189, 31.19378511, 35.65788274, 36.97788005, 29.7110715 ,\n",
       "       26.23178496, 22.07656307, 25.68882728, 25.93338997, 25.98018255,\n",
       "       31.4580143 , 32.77247603, 29.40108735, 24.34605866, 22.57578151,\n",
       "       28.63713459, 27.26046561, 17.9655936 , 27.77563603, 31.46935088,\n",
       "       29.74890034, 26.11397583, 26.16312839, 31.09167539, 31.05606979,\n",
       "       26.61258457, 32.28899561, 28.69897184, 29.52933863, 22.66348844,\n",
       "       15.85869849, 25.99071639, 21.79919554, 25.49103786, 26.13811454,\n",
       "       20.32037179, 16.99787506, 17.86059947, 24.50183176, 21.60894454,\n",
       "       26.75585477, 26.71309362, 24.47318223, 20.18149016, 27.3935591 ,\n",
       "       28.14312838, 26.84952519, 21.4175594 , 22.13363049, 26.19210932,\n",
       "       24.10506731, 19.72807333, 24.33872776, 27.17181276, 26.45392061,\n",
       "       24.25367199, 22.24792619, 21.89219835, 24.04457816, 22.8774631 ,\n",
       "       23.07991295, 32.00653973, 26.40524101, 28.14429469, 30.70202787,\n",
       "       22.51774887, 20.55210662, 27.75396669, 28.59791904, 30.21097042,\n",
       "       27.86559837, 28.63379008, 23.61548826, 30.02884824, 22.32252695,\n",
       "       25.30645274, 18.98504346, 22.69880125, 22.48321949, 21.64239125,\n",
       "       26.23420929, 21.37418212, 19.41434893, 18.80265585, 39.9758901 ,\n",
       "       12.21067586, 14.93414327,  9.76025658, 21.8687353 , 30.2941987 ,\n",
       "       32.48537902, 24.18925437, 22.86946459,  1.30195776, -4.66638608,\n",
       "       27.26661571, 17.58856481, 19.61202573, 15.92900559, 16.35602829,\n",
       "       23.08722293, 18.44620086, 11.68681678, 10.98863617,  1.22032533,\n",
       "        5.7358631 ,  4.1767872 ,  3.566624  ,  3.83528036, 12.70946315,\n",
       "       16.75749984, 17.41964693,  7.80331745, 20.44917324, 18.13218529,\n",
       "       20.61292555, 18.83136329, 15.12569572,  6.77386462,  9.2049472 ,\n",
       "       11.94829024, 17.90524602, 18.22245167, 13.19432385,  9.23322834,\n",
       "       12.83401278,  4.73131635, 19.42149161, 10.30089127, 20.84536661,\n",
       "       21.47817885, 18.92688695,  0.14255003, 12.0068039 , -2.08933711,\n",
       "       12.76108347, 16.62815786,  8.55205663, 15.74595036, 18.80133187,\n",
       "       21.65619078, 19.15599797, 18.35983721, 14.77469265, 15.97135331,\n",
       "       13.01347737, 18.30140239, 20.91255925, 16.37019782, 15.67848584,\n",
       "       19.6522403 , 20.80637788, 23.64816923, 21.01273047, 20.52559506,\n",
       "       17.4673983 , 19.96458442, 12.99448493,  7.02626334, 12.61294049,\n",
       "       14.08066091, 18.74010433, 19.6694889 , 19.57297267, 13.18491128,\n",
       "       16.14520992, 19.52022303, 19.92887586, 18.50703427, 18.93104225,\n",
       "       21.82372195, 21.15852796, 19.63007869, 25.55441624, 20.90093631,\n",
       "       20.23926219, 16.87694825, 18.00283848, 20.31851051, 20.18046541,\n",
       "       22.23437762, 21.71554578, 21.83890979, 25.21421407, 21.7832886 ,\n",
       "       18.90608793, 17.94945984, 15.53065977, 17.18748418, 18.26704193,\n",
       "       19.59726742, 22.11000978, 22.21261176, 26.71344914, 14.6387614 ,\n",
       "       14.55497489, 19.67707879,  9.66333655, 18.5712701 , 21.95584378,\n",
       "       23.54446528, 28.05969258, 30.11309322, 21.30452171, 19.98416727,\n",
       "       24.00387777, 20.16873308, 21.37144731, 14.82770934, 10.82758006,\n",
       "        5.52428703, 17.5164286 , 20.54835994, 20.00295862, 20.10379102,\n",
       "       16.22366838, 12.52317924, 19.10367626, 21.00798639, 17.31499063,\n",
       "       20.14301944, 26.02005928, 23.98921598, 30.56006716, 29.09323475,\n",
       "       24.30151506])"
      ]
     },
     "execution_count": 49,
     "metadata": {},
     "output_type": "execute_result"
    }
   ],
   "source": [
    "lreg.predict(X)"
   ]
  },
  {
   "cell_type": "code",
   "execution_count": 55,
   "metadata": {},
   "outputs": [],
   "source": [
    "import numpy as np\n",
    "naive_model_cost = np.sum((y - y.mean())**2)"
   ]
  },
  {
   "cell_type": "code",
   "execution_count": 62,
   "metadata": {},
   "outputs": [],
   "source": [
    "our_model_cost = np.sum((df['PRICE'] - df['PREDICTION'])**2)"
   ]
  },
  {
   "cell_type": "code",
   "execution_count": 63,
   "metadata": {},
   "outputs": [
    {
     "data": {
      "text/plain": [
       "(15439.309201313534, 42716.29541501976)"
      ]
     },
     "execution_count": 63,
     "metadata": {},
     "output_type": "execute_result"
    }
   ],
   "source": [
    "our_model_cost, naive_model_cost"
   ]
  },
  {
   "cell_type": "code",
   "execution_count": 66,
   "metadata": {},
   "outputs": [
    {
     "data": {
      "text/plain": [
       "0.6385616062603403"
      ]
     },
     "execution_count": 66,
     "metadata": {},
     "output_type": "execute_result"
    }
   ],
   "source": [
    "1- (our_model_cost/naive_model_cost)"
   ]
  },
  {
   "cell_type": "code",
   "execution_count": 65,
   "metadata": {},
   "outputs": [
    {
     "data": {
      "text/plain": [
       "0.6385616062603403"
      ]
     },
     "execution_count": 65,
     "metadata": {},
     "output_type": "execute_result"
    }
   ],
   "source": [
    "lreg.score(X, y)"
   ]
  },
  {
   "cell_type": "code",
   "execution_count": null,
   "metadata": {},
   "outputs": [],
   "source": []
  }
 ],
 "metadata": {
  "kernelspec": {
   "display_name": "Python 3",
   "language": "python",
   "name": "python3"
  },
  "language_info": {
   "codemirror_mode": {
    "name": "ipython",
    "version": 3
   },
   "file_extension": ".py",
   "mimetype": "text/x-python",
   "name": "python",
   "nbconvert_exporter": "python",
   "pygments_lexer": "ipython3",
   "version": "3.7.3"
  }
 },
 "nbformat": 4,
 "nbformat_minor": 2
}
