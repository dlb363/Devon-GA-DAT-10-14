{
 "cells": [
  {
   "cell_type": "code",
   "execution_count": 7,
   "metadata": {},
   "outputs": [],
   "source": [
    "import numpy as np\n",
    "import pandas as pd\n",
    "import matplotlib.pyplot as plt\n",
    "\n",
    "from scipy.stats import probplot"
   ]
  },
  {
   "cell_type": "code",
   "execution_count": 6,
   "metadata": {},
   "outputs": [],
   "source": [
    "train = pd.read_csv('/Users/devonbancroft/Desktop/Devon-GA-DAT-10-14/Data/movies/train.csv', parse_dates=['release_year'])\n",
    "test = pd.read_csv('/Users/devonbancroft/Desktop/Devon-GA-DAT-10-14/Data/movies/test.csv', parse_dates=['release_year'])"
   ]
  },
  {
   "cell_type": "code",
   "execution_count": 14,
   "metadata": {},
   "outputs": [
    {
     "data": {
      "text/plain": [
       "<matplotlib.axes._subplots.AxesSubplot at 0x1a190ff400>"
      ]
     },
     "execution_count": 14,
     "metadata": {},
     "output_type": "execute_result"
    },
    {
     "data": {
      "image/png": "[encoded data removed]",
      "text/plain": [
       "<Figure size 432x288 with 1 Axes>"
      ]
     },
     "metadata": {
      "needs_background": "light"
     },
     "output_type": "display_data"
    }
   ],
   "source": [
    "train['revenue'].hist(bins=100)"
   ]
  },
  {
   "cell_type": "code",
   "execution_count": 17,
   "metadata": {},
   "outputs": [
    {
     "data": {
      "image/png": "[encoded data removed]",
      "text/plain": [
       "<Figure size 432x288 with 1 Axes>"
      ]
     },
     "metadata": {
      "needs_background": "light"
     },
     "output_type": "display_data"
    }
   ],
   "source": [
    "vals, model = probplot(train.revenue, plot=plt)\n",
    "##the more this fits a normal distribution (bell curve), the more thne\n",
    "##How well does my model fit the normal distribution? The default is normal"
   ]
  },
  {
   "cell_type": "code",
   "execution_count": 18,
   "metadata": {},
   "outputs": [
    {
     "data": {
      "text/plain": [
       "(array([-3.78075317, -3.55392724, -3.42931994, ...,  3.42931994,\n",
       "         3.55392724,  3.78075317]),\n",
       " array([0.00000000e+00, 0.00000000e+00, 0.00000000e+00, ...,\n",
       "        2.50640574e+09, 2.78971224e+09, 2.82712375e+09]))"
      ]
     },
     "execution_count": 18,
     "metadata": {},
     "output_type": "execute_result"
    }
   ],
   "source": [
    "vals"
   ]
  },
  {
   "cell_type": "code",
   "execution_count": 19,
   "metadata": {},
   "outputs": [
    {
     "data": {
      "text/plain": [
       "(94382012.09287137, 54946959.57808747, 0.6376215163374892)"
      ]
     },
     "execution_count": 19,
     "metadata": {},
     "output_type": "execute_result"
    }
   ],
   "source": [
    "model\n",
    "##How well your data fits the normal distribution assumption"
   ]
  },
  {
   "cell_type": "code",
   "execution_count": 1,
   "metadata": {},
   "outputs": [
    {
     "name": "stdout",
     "output_type": "stream",
     "text": [
      "Object `probplot` not found.\n"
     ]
    }
   ],
   "source": [
    "?probplot"
   ]
  },
  {
   "cell_type": "code",
   "execution_count": 26,
   "metadata": {},
   "outputs": [],
   "source": [
    "#target encoding\n",
    "train['genre'] = train.genres.str.split('|').str[0]"
   ]
  },
  {
   "cell_type": "code",
   "execution_count": 27,
   "metadata": {},
   "outputs": [],
   "source": [
    "test['genre'] = test.genres.str.split('|').str[0]"
   ]
  },
  {
   "cell_type": "code",
   "execution_count": 29,
   "metadata": {},
   "outputs": [],
   "source": [
    "genre_grouping = train.groupby('genre')['revenue'].mean()"
   ]
  },
  {
   "cell_type": "code",
   "execution_count": 30,
   "metadata": {},
   "outputs": [],
   "source": [
    "train['genre_map'] = train['genre'].map(genre_grouping)"
   ]
  },
  {
   "cell_type": "code",
   "execution_count": 33,
   "metadata": {},
   "outputs": [
    {
     "data": {
      "text/plain": [
       "0       6.846030e+07\n",
       "1       2.757272e+07\n",
       "2       6.846030e+07\n",
       "3       4.038222e+07\n",
       "4       6.846030e+07\n",
       "5       6.846030e+07\n",
       "6       2.757272e+07\n",
       "7       4.829502e+07\n",
       "8       4.015771e+07\n",
       "9       4.038222e+07\n",
       "10      4.015771e+07\n",
       "11      2.757272e+07\n",
       "12      4.015771e+07\n",
       "13      2.757272e+07\n",
       "14      1.739583e+08\n",
       "15      4.038222e+07\n",
       "16      2.757272e+07\n",
       "17      4.776162e+07\n",
       "18      4.015771e+07\n",
       "19      4.776162e+07\n",
       "20      4.015771e+07\n",
       "21      2.757272e+07\n",
       "22      4.038222e+07\n",
       "23      6.846030e+07\n",
       "24      4.038222e+07\n",
       "25      4.776162e+07\n",
       "26      6.846030e+07\n",
       "27      6.846030e+07\n",
       "28      4.038222e+07\n",
       "29      6.846030e+07\n",
       "            ...     \n",
       "8836    4.038222e+07\n",
       "8837    4.015771e+07\n",
       "8838    1.739583e+08\n",
       "8839    4.038222e+07\n",
       "8840    3.258923e+06\n",
       "8841    6.846030e+07\n",
       "8842    4.038222e+07\n",
       "8843    4.015771e+07\n",
       "8844    4.015771e+07\n",
       "8845    1.739583e+08\n",
       "8846    4.015771e+07\n",
       "8847    4.038222e+07\n",
       "8848    4.038222e+07\n",
       "8849    4.776162e+07\n",
       "8850    2.757272e+07\n",
       "8851    4.776162e+07\n",
       "8852    4.038222e+07\n",
       "8853    4.038222e+07\n",
       "8854    7.342632e+07\n",
       "8855    4.015771e+07\n",
       "8856    4.015771e+07\n",
       "8857    4.015771e+07\n",
       "8858    6.846030e+07\n",
       "8859    6.846030e+07\n",
       "8860    4.038222e+07\n",
       "8861    4.038222e+07\n",
       "8862    4.015771e+07\n",
       "8863    4.038222e+07\n",
       "8864    4.776162e+07\n",
       "8865    4.015771e+07\n",
       "Name: genre_map, Length: 8866, dtype: float64"
      ]
     },
     "execution_count": 33,
     "metadata": {},
     "output_type": "execute_result"
    }
   ],
   "source": [
    "train.genre_map"
   ]
  },
  {
   "cell_type": "code",
   "execution_count": 34,
   "metadata": {},
   "outputs": [],
   "source": [
    "test['genre_map'] = test['genre'].map(genre_grouping)"
   ]
  },
  {
   "cell_type": "code",
   "execution_count": null,
   "metadata": {},
   "outputs": [],
   "source": []
  }
 ],
 "metadata": {
  "kernelspec": {
   "display_name": "Python 3",
   "language": "python",
   "name": "python3"
  },
  "language_info": {
   "codemirror_mode": {
    "name": "ipython",
    "version": 3
   },
   "file_extension": ".py",
   "mimetype": "text/x-python",
   "name": "python",
   "nbconvert_exporter": "python",
   "pygments_lexer": "ipython3",
   "version": "3.7.3"
  }
 },
 "nbformat": 4,
 "nbformat_minor": 2
}
