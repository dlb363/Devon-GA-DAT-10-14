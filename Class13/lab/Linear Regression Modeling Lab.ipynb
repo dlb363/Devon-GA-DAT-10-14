{
 "cells": [
  {
   "cell_type": "markdown",
   "metadata": {},
   "source": [
    "### Linear Regression Modeling Lab\n",
    "\n",
    "This lab will walk you through the basics of building a linear regression model out of a training and test set using a variety of techniques, including:\n",
    "\n",
    " - estimating distributional fit\n",
    " - onehot and target encoding\n",
    " - measuring progress with cross validation scores\n",
    " - creating a custom loss function\n",
    " - properly using inferences from the training set to transform the test set\n",
    " \n",
    "**Some of these columns might have missing values.  Decide on the best approach for filling them in based on what we did from last class.**"
   ]
  },
  {
   "cell_type": "markdown",
   "metadata": {},
   "source": [
    "#### Step 1).  Upload the training and test set from the `\\movies` folder inside the `\\Data` folder"
   ]
  },
  {
   "cell_type": "code",
   "execution_count": 1,
   "metadata": {},
   "outputs": [],
   "source": [
    "import pandas as pd\n",
    "import numpy as np\n",
    "from sklearn.linear_model import LinearRegression\n",
    "lreg = LinearRegression()\n",
    "import seaborn as sns\n",
    "import matplotlib.pyplot as plt\n",
    "%matplotlib inline\n",
    "import statsmodels.api as sm\n",
    "from statsmodels.tools import add_constant\n",
    "from sklearn.model_selection import train_test_split\n",
    "from sklearn.model_selection import cross_val_score\n",
    "from IPython.display import display\n",
    "pd.options.display.max_columns = None\n",
    "from scipy.stats import probplot"
   ]
  },
  {
   "cell_type": "code",
   "execution_count": 2,
   "metadata": {},
   "outputs": [],
   "source": [
    "import pandas as pd\n",
    "import numpy as np\n",
    "import matplotlib.pyplot as plt\n",
    "from scipy.stats import probplot"
   ]
  },
  {
   "cell_type": "code",
   "execution_count": null,
   "metadata": {},
   "outputs": [],
   "source": []
  },
  {
   "cell_type": "code",
   "execution_count": 3,
   "metadata": {},
   "outputs": [],
   "source": [
    "train = pd.read_csv('/Users/devonbancroft/Desktop/DAT-10-14/class material/Unit3/Data/movies/train.csv')\n",
    "test = pd.read_csv('/Users/devonbancroft/Desktop/DAT-10-14/class material/Unit3/Data/movies/test.csv')"
   ]
  },
  {
   "cell_type": "code",
   "execution_count": 4,
   "metadata": {},
   "outputs": [
    {
     "data": {
      "text/html": [
       "<div>\n",
       "<style scoped>\n",
       "    .dataframe tbody tr th:only-of-type {\n",
       "        vertical-align: middle;\n",
       "    }\n",
       "\n",
       "    .dataframe tbody tr th {\n",
       "        vertical-align: top;\n",
       "    }\n",
       "\n",
       "    .dataframe thead th {\n",
       "        text-align: right;\n",
       "    }\n",
       "</style>\n",
       "<table border=\"1\" class=\"dataframe\">\n",
       "  <thead>\n",
       "    <tr style=\"text-align: right;\">\n",
       "      <th></th>\n",
       "      <th>id</th>\n",
       "      <th>popularity</th>\n",
       "      <th>budget</th>\n",
       "      <th>original_title</th>\n",
       "      <th>cast</th>\n",
       "      <th>homepage</th>\n",
       "      <th>director</th>\n",
       "      <th>tagline</th>\n",
       "      <th>keywords</th>\n",
       "      <th>overview</th>\n",
       "      <th>runtime</th>\n",
       "      <th>genres</th>\n",
       "      <th>production_companies</th>\n",
       "      <th>release_date</th>\n",
       "      <th>vote_count</th>\n",
       "      <th>vote_average</th>\n",
       "      <th>release_year</th>\n",
       "      <th>budget_adj</th>\n",
       "      <th>revenue</th>\n",
       "    </tr>\n",
       "  </thead>\n",
       "  <tbody>\n",
       "    <tr>\n",
       "      <th>0</th>\n",
       "      <td>0</td>\n",
       "      <td>0.421043</td>\n",
       "      <td>0</td>\n",
       "      <td>The Unforgiven</td>\n",
       "      <td>Burt Lancaster|Audrey Hepburn|Audie Murphy|Joh...</td>\n",
       "      <td>NaN</td>\n",
       "      <td>John Huston</td>\n",
       "      <td>A NEW TRIUMPH FROM ACADEMY AWARD WINNER JOHN H...</td>\n",
       "      <td>indian|texas|farm|siblings|saddle</td>\n",
       "      <td>The neighbors of a frontier family turn on the...</td>\n",
       "      <td>125</td>\n",
       "      <td>Action|Drama|Western</td>\n",
       "      <td>James Productions</td>\n",
       "      <td>1960-01-01</td>\n",
       "      <td>17</td>\n",
       "      <td>4.9</td>\n",
       "      <td>1960</td>\n",
       "      <td>0.0</td>\n",
       "      <td>0.0</td>\n",
       "    </tr>\n",
       "    <tr>\n",
       "      <th>1</th>\n",
       "      <td>1</td>\n",
       "      <td>0.333643</td>\n",
       "      <td>0</td>\n",
       "      <td>The Brides of Dracula</td>\n",
       "      <td>Peter Cushing|Martita Hunt|Yvonne Monlaur|Fred...</td>\n",
       "      <td>NaN</td>\n",
       "      <td>Terence Fisher</td>\n",
       "      <td>He Turned Innocent Beauty Into Unspeakable Hor...</td>\n",
       "      <td>dracula|hammer horror|van helsing</td>\n",
       "      <td>A young teacher on her way to a position in Tr...</td>\n",
       "      <td>85</td>\n",
       "      <td>Horror</td>\n",
       "      <td>Hammer Film Productions|Hotspur Film Productio...</td>\n",
       "      <td>1960-01-01</td>\n",
       "      <td>19</td>\n",
       "      <td>6.6</td>\n",
       "      <td>1960</td>\n",
       "      <td>0.0</td>\n",
       "      <td>0.0</td>\n",
       "    </tr>\n",
       "    <tr>\n",
       "      <th>2</th>\n",
       "      <td>2</td>\n",
       "      <td>0.194948</td>\n",
       "      <td>0</td>\n",
       "      <td>Sink the Bismarck!</td>\n",
       "      <td>Kenneth More|Dana Wynter|Carl MÃ¶hner|Laurence...</td>\n",
       "      <td>NaN</td>\n",
       "      <td>Lewis Gilbert</td>\n",
       "      <td>NaN</td>\n",
       "      <td>NaN</td>\n",
       "      <td>A true WW2 story: the British Navy must find a...</td>\n",
       "      <td>97</td>\n",
       "      <td>Action|Drama|Foreign|History|War</td>\n",
       "      <td>Twentieth Century Fox Film Corporation</td>\n",
       "      <td>1960-02-11</td>\n",
       "      <td>12</td>\n",
       "      <td>4.9</td>\n",
       "      <td>1960</td>\n",
       "      <td>0.0</td>\n",
       "      <td>0.0</td>\n",
       "    </tr>\n",
       "    <tr>\n",
       "      <th>3</th>\n",
       "      <td>3</td>\n",
       "      <td>0.136525</td>\n",
       "      <td>0</td>\n",
       "      <td>Carry On Constable</td>\n",
       "      <td>Kenneth Connor|Charles Hawtrey|Sid James|Kenne...</td>\n",
       "      <td>NaN</td>\n",
       "      <td>Gerald Thomas</td>\n",
       "      <td>Oh! What a Carry On When that Crazy Bunch Join...</td>\n",
       "      <td>carry on|police station</td>\n",
       "      <td>With a flu epidemic running rife, three new bu...</td>\n",
       "      <td>86</td>\n",
       "      <td>Comedy</td>\n",
       "      <td>Peter Rogers Productions</td>\n",
       "      <td>1960-02-22</td>\n",
       "      <td>10</td>\n",
       "      <td>6.0</td>\n",
       "      <td>1960</td>\n",
       "      <td>0.0</td>\n",
       "      <td>0.0</td>\n",
       "    </tr>\n",
       "    <tr>\n",
       "      <th>4</th>\n",
       "      <td>4</td>\n",
       "      <td>0.267118</td>\n",
       "      <td>0</td>\n",
       "      <td>Comanche Station</td>\n",
       "      <td>Randolph Scott|Nancy Gates|Skip Homeier|Dyke J...</td>\n",
       "      <td>NaN</td>\n",
       "      <td>Budd Boetticher</td>\n",
       "      <td>The One-Man War Against The Comancheros!</td>\n",
       "      <td>indian|comanche</td>\n",
       "      <td>A man saves a woman who had been kidnapped by ...</td>\n",
       "      <td>73</td>\n",
       "      <td>Action|Western</td>\n",
       "      <td>Columbia Pictures Corporation|Ranown Pictures ...</td>\n",
       "      <td>1960-03-01</td>\n",
       "      <td>12</td>\n",
       "      <td>6.5</td>\n",
       "      <td>1960</td>\n",
       "      <td>0.0</td>\n",
       "      <td>0.0</td>\n",
       "    </tr>\n",
       "  </tbody>\n",
       "</table>\n",
       "</div>"
      ],
      "text/plain": [
       "   id  popularity  budget         original_title  \\\n",
       "0   0    0.421043       0         The Unforgiven   \n",
       "1   1    0.333643       0  The Brides of Dracula   \n",
       "2   2    0.194948       0     Sink the Bismarck!   \n",
       "3   3    0.136525       0     Carry On Constable   \n",
       "4   4    0.267118       0       Comanche Station   \n",
       "\n",
       "                                                cast homepage  \\\n",
       "0  Burt Lancaster|Audrey Hepburn|Audie Murphy|Joh...      NaN   \n",
       "1  Peter Cushing|Martita Hunt|Yvonne Monlaur|Fred...      NaN   \n",
       "2  Kenneth More|Dana Wynter|Carl MÃ¶hner|Laurence...      NaN   \n",
       "3  Kenneth Connor|Charles Hawtrey|Sid James|Kenne...      NaN   \n",
       "4  Randolph Scott|Nancy Gates|Skip Homeier|Dyke J...      NaN   \n",
       "\n",
       "          director                                            tagline  \\\n",
       "0      John Huston  A NEW TRIUMPH FROM ACADEMY AWARD WINNER JOHN H...   \n",
       "1   Terence Fisher  He Turned Innocent Beauty Into Unspeakable Hor...   \n",
       "2    Lewis Gilbert                                                NaN   \n",
       "3    Gerald Thomas  Oh! What a Carry On When that Crazy Bunch Join...   \n",
       "4  Budd Boetticher           The One-Man War Against The Comancheros!   \n",
       "\n",
       "                            keywords  \\\n",
       "0  indian|texas|farm|siblings|saddle   \n",
       "1  dracula|hammer horror|van helsing   \n",
       "2                                NaN   \n",
       "3            carry on|police station   \n",
       "4                    indian|comanche   \n",
       "\n",
       "                                            overview  runtime  \\\n",
       "0  The neighbors of a frontier family turn on the...      125   \n",
       "1  A young teacher on her way to a position in Tr...       85   \n",
       "2  A true WW2 story: the British Navy must find a...       97   \n",
       "3  With a flu epidemic running rife, three new bu...       86   \n",
       "4  A man saves a woman who had been kidnapped by ...       73   \n",
       "\n",
       "                             genres  \\\n",
       "0              Action|Drama|Western   \n",
       "1                            Horror   \n",
       "2  Action|Drama|Foreign|History|War   \n",
       "3                            Comedy   \n",
       "4                    Action|Western   \n",
       "\n",
       "                                production_companies release_date  vote_count  \\\n",
       "0                                  James Productions   1960-01-01          17   \n",
       "1  Hammer Film Productions|Hotspur Film Productio...   1960-01-01          19   \n",
       "2             Twentieth Century Fox Film Corporation   1960-02-11          12   \n",
       "3                           Peter Rogers Productions   1960-02-22          10   \n",
       "4  Columbia Pictures Corporation|Ranown Pictures ...   1960-03-01          12   \n",
       "\n",
       "   vote_average  release_year  budget_adj  revenue  \n",
       "0           4.9          1960         0.0      0.0  \n",
       "1           6.6          1960         0.0      0.0  \n",
       "2           4.9          1960         0.0      0.0  \n",
       "3           6.0          1960         0.0      0.0  \n",
       "4           6.5          1960         0.0      0.0  "
      ]
     },
     "execution_count": 4,
     "metadata": {},
     "output_type": "execute_result"
    }
   ],
   "source": [
    "train.head()"
   ]
  },
  {
   "cell_type": "markdown",
   "metadata": {},
   "source": [
    "#### Step 2).  Using a Custom Loss Function\n",
    "\n",
    "To avoid some of the pitfalls of using a loss function that measures squared error, we're going to modify it a little bit.  This is also a useful skill in practice because lots of projects will require something precise that's not available out-of-the-box in a library.\n",
    "\n",
    "`Scitkit-Learn` allows for custom loss functions relatively easily\n",
    "\n",
    "We're going to instead use the **mean squared log error**.  It has the following form:\n",
    "\n",
    "$$ \\frac{\\sum{log_{e}(y - \\bar{y})^2}}{n} $$\n",
    "\n",
    "The easiest way to do this is the following:\n",
    "\n",
    " - take the log of y using `np.log1p` to avoid the hassles of dealing with negative values\n",
    " - fit your model to that, and then calculate the resulting mean squared error\n",
    " \n",
    "So your job is two fold:\n",
    " - log transform the target variable (revenue)\n",
    " - create a function called `mean_squared_log_error` according to the specifications defined here:  https://scikit-learn.org/stable/modules/generated/sklearn.model_selection.cross_val_score.html, under the heading for the `scoring` argument\n",
    " - to test that you did this correctly, run a 10-fold univariate linear regression on the training set using the `popularity` column as `X` and `revenue` as y.  The correct value should be 60.7."
   ]
  },
  {
   "cell_type": "code",
   "execution_count": 5,
   "metadata": {},
   "outputs": [],
   "source": [
    "y = np.log1p(train['revenue'])\n",
    "X = train[['popularity']]"
   ]
  },
  {
   "cell_type": "code",
   "execution_count": 6,
   "metadata": {},
   "outputs": [],
   "source": [
    "def root_mean_squared_error(model, X, y):\n",
    "    error = model.predict(X) - y\n",
    "    mse = np.mean(error**2)\n",
    "    return mse"
   ]
  },
  {
   "cell_type": "code",
   "execution_count": 7,
   "metadata": {},
   "outputs": [],
   "source": [
    "def mean_squared_log_error(model, X, y):\n",
    "    # our error\n",
    "    error = model.predict(X) - y\n",
    "    # the average value of its square\n",
    "    mse = np.mean(error**2)\n",
    "    return mse\n",
    "\n",
    "lreg = LinearRegression()"
   ]
  },
  {
   "cell_type": "code",
   "execution_count": 8,
   "metadata": {},
   "outputs": [
    {
     "data": {
      "text/plain": [
       "60.730273931644206"
      ]
     },
     "execution_count": 8,
     "metadata": {},
     "output_type": "execute_result"
    }
   ],
   "source": [
    "score = cross_val_score(estimator=lreg, X=X, y=y, scoring=root_mean_squared_error, cv=10)\n",
    "score.mean()"
   ]
  },
  {
   "cell_type": "markdown",
   "metadata": {},
   "source": [
    "#### Step 3).  Distributional Inference of Your Continuous Variables\n",
    "\n",
    "This dataset is far from normal.  Use the `probplot()` method to find the *least* normal variable among your numeric variables, judging by the r-squared value of the resulting line.  \n",
    "\n",
    "Then, see if log-transforming improves its behavior at all.  Use a comparison between your validation scores in a univariate regression between the treated and untreated versions of the variable as your indicator of whether or not this made anything better."
   ]
  },
  {
   "cell_type": "code",
   "execution_count": 9,
   "metadata": {},
   "outputs": [
    {
     "data": {
      "text/plain": [
       "['id',\n",
       " 'popularity',\n",
       " 'budget',\n",
       " 'runtime',\n",
       " 'vote_count',\n",
       " 'vote_average',\n",
       " 'release_year',\n",
       " 'budget_adj',\n",
       " 'revenue']"
      ]
     },
     "execution_count": 9,
     "metadata": {},
     "output_type": "execute_result"
    }
   ],
   "source": [
    "train._get_numeric_data().columns.to_list()"
   ]
  },
  {
   "cell_type": "code",
   "execution_count": 10,
   "metadata": {
    "scrolled": true
   },
   "outputs": [
    {
     "data": {
      "image/png": "[encoded data removed]",
      "text/plain": [
       "<Figure size 432x288 with 1 Axes>"
      ]
     },
     "metadata": {
      "needs_background": "light"
     },
     "output_type": "display_data"
    }
   ],
   "source": [
    "vals, model = probplot(train.popularity, plot=plt)"
   ]
  },
  {
   "cell_type": "code",
   "execution_count": 11,
   "metadata": {},
   "outputs": [
    {
     "data": {
      "text/plain": [
       "(0.5800209126522571, 0.6009993374689825, 0.7759321140913117)"
      ]
     },
     "execution_count": 11,
     "metadata": {},
     "output_type": "execute_result"
    }
   ],
   "source": [
    "model"
   ]
  },
  {
   "cell_type": "code",
   "execution_count": 12,
   "metadata": {
    "scrolled": true
   },
   "outputs": [
    {
     "data": {
      "image/png": "[encoded data removed]",
      "text/plain": [
       "<Figure size 432x288 with 1 Axes>"
      ]
     },
     "metadata": {
      "needs_background": "light"
     },
     "output_type": "display_data"
    }
   ],
   "source": [
    "vals, model = probplot(train.budget, plot=plt)"
   ]
  },
  {
   "cell_type": "code",
   "execution_count": 13,
   "metadata": {
    "scrolled": true
   },
   "outputs": [
    {
     "data": {
      "text/plain": [
       "(22611249.701404847, 15104928.043424312, 0.7484030236487506)"
      ]
     },
     "execution_count": 13,
     "metadata": {},
     "output_type": "execute_result"
    }
   ],
   "source": [
    "model"
   ]
  },
  {
   "cell_type": "code",
   "execution_count": 14,
   "metadata": {},
   "outputs": [
    {
     "name": "stdout",
     "output_type": "stream",
     "text": [
      "id\n",
      "(2502.4269779553483, 4432.499999999999, 0.9773521960408322)\n",
      "popularity\n",
      "(0.5800209126522571, 0.6009993374689825, 0.7759321140913117)\n",
      "budget\n",
      "(22611249.701404847, 15104928.043424312, 0.7484030236487506)\n",
      "runtime\n",
      "(25.84822019588308, 103.2156553124295, 0.7979080090154935)\n",
      "vote_count\n",
      "(317.1854691762457, 197.17933679223992, 0.5965756297041135)\n",
      "vote_average\n",
      "(0.8969423835073336, 5.991901646740357, 0.9934328572787294)\n",
      "release_year\n",
      "(11.735995233694222, 1998.4689826302729, 0.9368789697671646)\n",
      "budget_adj\n",
      "(27169197.00354639, 18897268.73330457, 0.7803944624567354)\n",
      "revenue\n",
      "(94382012.09287137, 54946959.57808747, 0.6376215163374892)\n"
     ]
    },
    {
     "data": {
      "image/png": "[encoded data removed]",
      "text/plain": [
       "<Figure size 432x288 with 1 Axes>"
      ]
     },
     "metadata": {
      "needs_background": "light"
     },
     "output_type": "display_data"
    }
   ],
   "source": [
    "for i in train._get_numeric_data().columns.to_list():\n",
    "    vals, model = probplot(train[i], plot=plt)\n",
    "    print(i), print(model)"
   ]
  },
  {
   "cell_type": "code",
   "execution_count": 15,
   "metadata": {},
   "outputs": [
    {
     "data": {
      "text/plain": [
       "(317.1854691762457, 197.17933679223992, 0.5965756297041135)"
      ]
     },
     "execution_count": 15,
     "metadata": {},
     "output_type": "execute_result"
    },
    {
     "data": {
      "image/png": "[encoded data removed]",
      "text/plain": [
       "<Figure size 432x288 with 1 Axes>"
      ]
     },
     "metadata": {
      "needs_background": "light"
     },
     "output_type": "display_data"
    }
   ],
   "source": [
    "vals, model = probplot(train['vote_count'], plot=plt)\n",
    "model"
   ]
  },
  {
   "cell_type": "code",
   "execution_count": 16,
   "metadata": {
    "scrolled": false
   },
   "outputs": [
    {
     "data": {
      "text/plain": [
       "(1.3333195355497778, 4.025738328015387, 0.9525352115430009)"
      ]
     },
     "execution_count": 16,
     "metadata": {},
     "output_type": "execute_result"
    },
    {
     "data": {
      "image/png": "[encoded data removed]",
      "text/plain": [
       "<Figure size 432x288 with 1 Axes>"
      ]
     },
     "metadata": {
      "needs_background": "light"
     },
     "output_type": "display_data"
    }
   ],
   "source": [
    "vals, model = probplot(np.log1p(train['vote_count']), plot=plt)\n",
    "model"
   ]
  },
  {
   "cell_type": "code",
   "execution_count": 17,
   "metadata": {},
   "outputs": [
    {
     "data": {
      "text/plain": [
       "0.8766248779703636"
      ]
     },
     "execution_count": 17,
     "metadata": {},
     "output_type": "execute_result"
    }
   ],
   "source": [
    "y = np.log1p(train['vote_count'])\n",
    "X = train[['popularity']]\n",
    "score = cross_val_score(estimator=lreg, X=X, y=y, scoring=root_mean_squared_error, cv=10)\n",
    "score.mean()"
   ]
  },
  {
   "cell_type": "code",
   "execution_count": 18,
   "metadata": {},
   "outputs": [
    {
     "data": {
      "text/plain": [
       "85576.4919830497"
      ]
     },
     "execution_count": 18,
     "metadata": {},
     "output_type": "execute_result"
    }
   ],
   "source": [
    "y = train['vote_count']\n",
    "X = train[['popularity']]\n",
    "score = cross_val_score(estimator=lreg, X=X, y=y, scoring=root_mean_squared_error, cv=10)\n",
    "score.mean()"
   ]
  },
  {
   "cell_type": "code",
   "execution_count": 53,
   "metadata": {},
   "outputs": [
    {
     "data": {
      "text/html": [
       "<div>\n",
       "<style scoped>\n",
       "    .dataframe tbody tr th:only-of-type {\n",
       "        vertical-align: middle;\n",
       "    }\n",
       "\n",
       "    .dataframe tbody tr th {\n",
       "        vertical-align: top;\n",
       "    }\n",
       "\n",
       "    .dataframe thead th {\n",
       "        text-align: right;\n",
       "    }\n",
       "</style>\n",
       "<table border=\"1\" class=\"dataframe\">\n",
       "  <thead>\n",
       "    <tr style=\"text-align: right;\">\n",
       "      <th></th>\n",
       "      <th>id</th>\n",
       "      <th>popularity</th>\n",
       "      <th>budget</th>\n",
       "      <th>original_title</th>\n",
       "      <th>cast</th>\n",
       "      <th>homepage</th>\n",
       "      <th>director</th>\n",
       "      <th>tagline</th>\n",
       "      <th>keywords</th>\n",
       "      <th>overview</th>\n",
       "      <th>runtime</th>\n",
       "      <th>genres</th>\n",
       "      <th>production_companies</th>\n",
       "      <th>release_date</th>\n",
       "      <th>vote_count</th>\n",
       "      <th>vote_average</th>\n",
       "      <th>release_year</th>\n",
       "      <th>budget_adj</th>\n",
       "      <th>revenue</th>\n",
       "      <th>director1</th>\n",
       "      <th>director2</th>\n",
       "    </tr>\n",
       "  </thead>\n",
       "  <tbody>\n",
       "    <tr>\n",
       "      <th>0</th>\n",
       "      <td>0</td>\n",
       "      <td>0.421043</td>\n",
       "      <td>0</td>\n",
       "      <td>The Unforgiven</td>\n",
       "      <td>Burt Lancaster|Audrey Hepburn|Audie Murphy|Joh...</td>\n",
       "      <td>NaN</td>\n",
       "      <td>John Huston</td>\n",
       "      <td>A NEW TRIUMPH FROM ACADEMY AWARD WINNER JOHN H...</td>\n",
       "      <td>indian|texas|farm|siblings|saddle</td>\n",
       "      <td>The neighbors of a frontier family turn on the...</td>\n",
       "      <td>125</td>\n",
       "      <td>Action|Drama|Western</td>\n",
       "      <td>James Productions</td>\n",
       "      <td>1960-01-01</td>\n",
       "      <td>17</td>\n",
       "      <td>4.9</td>\n",
       "      <td>1960</td>\n",
       "      <td>0.0</td>\n",
       "      <td>0.0</td>\n",
       "      <td>John Huston</td>\n",
       "      <td>2.227795e+07</td>\n",
       "    </tr>\n",
       "    <tr>\n",
       "      <th>1</th>\n",
       "      <td>1</td>\n",
       "      <td>0.333643</td>\n",
       "      <td>0</td>\n",
       "      <td>The Brides of Dracula</td>\n",
       "      <td>Peter Cushing|Martita Hunt|Yvonne Monlaur|Fred...</td>\n",
       "      <td>NaN</td>\n",
       "      <td>Terence Fisher</td>\n",
       "      <td>He Turned Innocent Beauty Into Unspeakable Hor...</td>\n",
       "      <td>dracula|hammer horror|van helsing</td>\n",
       "      <td>A young teacher on her way to a position in Tr...</td>\n",
       "      <td>85</td>\n",
       "      <td>Horror</td>\n",
       "      <td>Hammer Film Productions|Hotspur Film Productio...</td>\n",
       "      <td>1960-01-01</td>\n",
       "      <td>19</td>\n",
       "      <td>6.6</td>\n",
       "      <td>1960</td>\n",
       "      <td>0.0</td>\n",
       "      <td>0.0</td>\n",
       "      <td>Other</td>\n",
       "      <td>0.000000e+00</td>\n",
       "    </tr>\n",
       "    <tr>\n",
       "      <th>2</th>\n",
       "      <td>2</td>\n",
       "      <td>0.194948</td>\n",
       "      <td>0</td>\n",
       "      <td>Sink the Bismarck!</td>\n",
       "      <td>Kenneth More|Dana Wynter|Carl MÃ¶hner|Laurence...</td>\n",
       "      <td>NaN</td>\n",
       "      <td>Lewis Gilbert</td>\n",
       "      <td>NaN</td>\n",
       "      <td>NaN</td>\n",
       "      <td>A true WW2 story: the British Navy must find a...</td>\n",
       "      <td>97</td>\n",
       "      <td>Action|Drama|Foreign|History|War</td>\n",
       "      <td>Twentieth Century Fox Film Corporation</td>\n",
       "      <td>1960-02-11</td>\n",
       "      <td>12</td>\n",
       "      <td>4.9</td>\n",
       "      <td>1960</td>\n",
       "      <td>0.0</td>\n",
       "      <td>0.0</td>\n",
       "      <td>Other</td>\n",
       "      <td>2.897755e+08</td>\n",
       "    </tr>\n",
       "    <tr>\n",
       "      <th>3</th>\n",
       "      <td>3</td>\n",
       "      <td>0.136525</td>\n",
       "      <td>0</td>\n",
       "      <td>Carry On Constable</td>\n",
       "      <td>Kenneth Connor|Charles Hawtrey|Sid James|Kenne...</td>\n",
       "      <td>NaN</td>\n",
       "      <td>Gerald Thomas</td>\n",
       "      <td>Oh! What a Carry On When that Crazy Bunch Join...</td>\n",
       "      <td>carry on|police station</td>\n",
       "      <td>With a flu epidemic running rife, three new bu...</td>\n",
       "      <td>86</td>\n",
       "      <td>Comedy</td>\n",
       "      <td>Peter Rogers Productions</td>\n",
       "      <td>1960-02-22</td>\n",
       "      <td>10</td>\n",
       "      <td>6.0</td>\n",
       "      <td>1960</td>\n",
       "      <td>0.0</td>\n",
       "      <td>0.0</td>\n",
       "      <td>Gerald Thomas</td>\n",
       "      <td>0.000000e+00</td>\n",
       "    </tr>\n",
       "    <tr>\n",
       "      <th>4</th>\n",
       "      <td>4</td>\n",
       "      <td>0.267118</td>\n",
       "      <td>0</td>\n",
       "      <td>Comanche Station</td>\n",
       "      <td>Randolph Scott|Nancy Gates|Skip Homeier|Dyke J...</td>\n",
       "      <td>NaN</td>\n",
       "      <td>Budd Boetticher</td>\n",
       "      <td>The One-Man War Against The Comancheros!</td>\n",
       "      <td>indian|comanche</td>\n",
       "      <td>A man saves a woman who had been kidnapped by ...</td>\n",
       "      <td>73</td>\n",
       "      <td>Action|Western</td>\n",
       "      <td>Columbia Pictures Corporation|Ranown Pictures ...</td>\n",
       "      <td>1960-03-01</td>\n",
       "      <td>12</td>\n",
       "      <td>6.5</td>\n",
       "      <td>1960</td>\n",
       "      <td>0.0</td>\n",
       "      <td>0.0</td>\n",
       "      <td>Other</td>\n",
       "      <td>0.000000e+00</td>\n",
       "    </tr>\n",
       "  </tbody>\n",
       "</table>\n",
       "</div>"
      ],
      "text/plain": [
       "   id  popularity  budget         original_title  \\\n",
       "0   0    0.421043       0         The Unforgiven   \n",
       "1   1    0.333643       0  The Brides of Dracula   \n",
       "2   2    0.194948       0     Sink the Bismarck!   \n",
       "3   3    0.136525       0     Carry On Constable   \n",
       "4   4    0.267118       0       Comanche Station   \n",
       "\n",
       "                                                cast homepage  \\\n",
       "0  Burt Lancaster|Audrey Hepburn|Audie Murphy|Joh...      NaN   \n",
       "1  Peter Cushing|Martita Hunt|Yvonne Monlaur|Fred...      NaN   \n",
       "2  Kenneth More|Dana Wynter|Carl MÃ¶hner|Laurence...      NaN   \n",
       "3  Kenneth Connor|Charles Hawtrey|Sid James|Kenne...      NaN   \n",
       "4  Randolph Scott|Nancy Gates|Skip Homeier|Dyke J...      NaN   \n",
       "\n",
       "          director                                            tagline  \\\n",
       "0      John Huston  A NEW TRIUMPH FROM ACADEMY AWARD WINNER JOHN H...   \n",
       "1   Terence Fisher  He Turned Innocent Beauty Into Unspeakable Hor...   \n",
       "2    Lewis Gilbert                                                NaN   \n",
       "3    Gerald Thomas  Oh! What a Carry On When that Crazy Bunch Join...   \n",
       "4  Budd Boetticher           The One-Man War Against The Comancheros!   \n",
       "\n",
       "                            keywords  \\\n",
       "0  indian|texas|farm|siblings|saddle   \n",
       "1  dracula|hammer horror|van helsing   \n",
       "2                                NaN   \n",
       "3            carry on|police station   \n",
       "4                    indian|comanche   \n",
       "\n",
       "                                            overview  runtime  \\\n",
       "0  The neighbors of a frontier family turn on the...      125   \n",
       "1  A young teacher on her way to a position in Tr...       85   \n",
       "2  A true WW2 story: the British Navy must find a...       97   \n",
       "3  With a flu epidemic running rife, three new bu...       86   \n",
       "4  A man saves a woman who had been kidnapped by ...       73   \n",
       "\n",
       "                             genres  \\\n",
       "0              Action|Drama|Western   \n",
       "1                            Horror   \n",
       "2  Action|Drama|Foreign|History|War   \n",
       "3                            Comedy   \n",
       "4                    Action|Western   \n",
       "\n",
       "                                production_companies release_date  vote_count  \\\n",
       "0                                  James Productions   1960-01-01          17   \n",
       "1  Hammer Film Productions|Hotspur Film Productio...   1960-01-01          19   \n",
       "2             Twentieth Century Fox Film Corporation   1960-02-11          12   \n",
       "3                           Peter Rogers Productions   1960-02-22          10   \n",
       "4  Columbia Pictures Corporation|Ranown Pictures ...   1960-03-01          12   \n",
       "\n",
       "   vote_average  release_year  budget_adj  revenue      director1  \\\n",
       "0           4.9          1960         0.0      0.0    John Huston   \n",
       "1           6.6          1960         0.0      0.0          Other   \n",
       "2           4.9          1960         0.0      0.0          Other   \n",
       "3           6.0          1960         0.0      0.0  Gerald Thomas   \n",
       "4           6.5          1960         0.0      0.0          Other   \n",
       "\n",
       "      director2  \n",
       "0  2.227795e+07  \n",
       "1  0.000000e+00  \n",
       "2  2.897755e+08  \n",
       "3  0.000000e+00  \n",
       "4  0.000000e+00  "
      ]
     },
     "execution_count": 53,
     "metadata": {},
     "output_type": "execute_result"
    }
   ],
   "source": [
    "train.head()"
   ]
  },
  {
   "cell_type": "markdown",
   "metadata": {},
   "source": [
    "#### Step 4).  Encoding the `Director` Column\n",
    "\n",
    "The `Director` column is a good example of some of the challenges of dealing with categorical data.  If George Lucas or Steven Spielberg direct a film, there's a good chance that has a non-random impact on a film's bottom line.  However, there are a lot of unique values, most of which are probably non-impactful.  \n",
    "\n",
    "Creating a column for everyone is probably not a good idea, but there's also no clear 'order' you could assign them just by looking at their labels.  \n",
    "\n",
    "In this step you're going to try two different techniques to see which one works better on your dataset.\n",
    "\n",
    "**Technique 1:**  Only include directors that have a value count of at least 10 *in your training set*, and set everything else to other.  \n",
    "\n",
    "So:\n",
    "\n",
    " - transform the column accordingly (you can make a new column if that's easier)\n",
    " - transform the same column in your test set so that if a director's name *doesn't* appear in your new training column it gets set to `Other`"
   ]
  },
  {
   "cell_type": "code",
   "execution_count": 19,
   "metadata": {
    "scrolled": true
   },
   "outputs": [
    {
     "data": {
      "text/plain": [
       "0        John Huston\n",
       "1     Terence Fisher\n",
       "2      Lewis Gilbert\n",
       "3      Gerald Thomas\n",
       "4    Budd Boetticher\n",
       "Name: director, dtype: object"
      ]
     },
     "execution_count": 19,
     "metadata": {},
     "output_type": "execute_result"
    }
   ],
   "source": [
    "train['director'].head()"
   ]
  },
  {
   "cell_type": "code",
   "execution_count": 20,
   "metadata": {
    "scrolled": true
   },
   "outputs": [],
   "source": [
    "directors = train['director'\n",
    "                 ].value_counts().to_frame()[train['director'].value_counts().to_frame().director > 9].index.to_list()"
   ]
  },
  {
   "cell_type": "code",
   "execution_count": 21,
   "metadata": {
    "scrolled": true
   },
   "outputs": [],
   "source": [
    "def f(row):\n",
    "    if row['director'] in directors:\n",
    "        val = row['director']\n",
    "    else:\n",
    "        val = 'Other'\n",
    "    return val\n",
    "train['director'] = train.apply(f, axis = 1)"
   ]
  },
  {
   "cell_type": "code",
   "execution_count": 22,
   "metadata": {},
   "outputs": [],
   "source": [
    "test['director'] = test.apply(f, axis = 1)"
   ]
  },
  {
   "cell_type": "code",
   "execution_count": 23,
   "metadata": {},
   "outputs": [
    {
     "data": {
      "text/plain": [
       "0      John Huston\n",
       "1            Other\n",
       "2            Other\n",
       "3    Gerald Thomas\n",
       "4            Other\n",
       "Name: director, dtype: object"
      ]
     },
     "execution_count": 23,
     "metadata": {},
     "output_type": "execute_result"
    }
   ],
   "source": [
    "train.director.head()"
   ]
  },
  {
   "cell_type": "markdown",
   "metadata": {},
   "source": [
    "**Technique 2:** Use target encoding to transform the column instead, and use the results from your training set to transform your test set.  There are a lot of directors in your test set that are not in your training set, and this will result in missing values.  Fill these in with the column average.\n",
    "\n",
    "**Bonus:** The method we're using here is a little blunt because our average value doesn't account for how often a particular value occurs.  A more nuanced approach to is to take some sort of weighted share between the overall column average and average of your particular unique value.  A good article on this is here:  https://maxhalford.github.io/blog/target-encoding-done-the-right-way/"
   ]
  },
  {
   "cell_type": "code",
   "execution_count": 24,
   "metadata": {},
   "outputs": [],
   "source": [
    "train2 = pd.read_csv('/Users/devonbancroft/Desktop/DAT-10-14/class material/Unit3/Data/movies/train.csv')\n",
    "test2 = pd.read_csv('/Users/devonbancroft/Desktop/DAT-10-14/class material/Unit3/Data/movies/test.csv')"
   ]
  },
  {
   "cell_type": "code",
   "execution_count": 25,
   "metadata": {},
   "outputs": [],
   "source": [
    "director_grouping = train2.groupby('director')['revenue'].mean()"
   ]
  },
  {
   "cell_type": "code",
   "execution_count": 26,
   "metadata": {},
   "outputs": [
    {
     "data": {
      "text/plain": [
       "director\n",
       " FrÃ©dÃ©ric Jardin                                    3.255239e+03\n",
       "A.R. Murugadoss                                       7.697178e+07\n",
       "Aaron Aites                                           0.000000e+00\n",
       "Aaron Blaise|Robert Walker                            2.963382e+02\n",
       "Aaron Harvey                                          0.000000e+00\n",
       "Aaron Norris                                          7.468127e+06\n",
       "Aaron Schneider                                       0.000000e+00\n",
       "Aaron Seltzer|Jason Friedberg                         5.251334e+07\n",
       "Aaron Woodley                                         0.000000e+00\n",
       "Abbas Alibhai Burmawalla|Mastan Alibhai Burmawalla    0.000000e+00\n",
       "Abbas Kiarostami                                      0.000000e+00\n",
       "Abbas Tyrewala                                        1.124193e+07\n",
       "Abe Sylvia                                            5.512500e+04\n",
       "Abel Ferrara                                          1.152298e+06\n",
       "Abel Ferry                                            0.000000e+00\n",
       "Adam Brooks                                           5.615696e+07\n",
       "Adam Curtis                                           0.000000e+00\n",
       "Adam Deacon|Daniel Toland                             0.000000e+00\n",
       "Adam Elliot                                           0.000000e+00\n",
       "Adam Fields                                           0.000000e+00\n",
       "Adam Gierasch                                         0.000000e+00\n",
       "Adam Green                                            1.039488e+06\n",
       "Adam Green|Joe Lynch|Adam Rifkin|Tim Sullivan         0.000000e+00\n",
       "Adam Grossman                                         0.000000e+00\n",
       "Adam Jay Epstein|Andrew Jacobson                      0.000000e+00\n",
       "Adam Kassen|Mark Kassen                               6.683515e+04\n",
       "Adam Marcus                                           2.264205e+01\n",
       "Adam McKay                                            1.162034e+08\n",
       "Adam Rehmeier                                         0.000000e+00\n",
       "Adam Rifkin                                           8.651521e+06\n",
       "                                                          ...     \n",
       "Yoon-suk Choi|John Kafka                              0.000000e+00\n",
       "Yoshiaki Kawajiri                                     0.000000e+00\n",
       "Yoshihiro Nakamura                                    0.000000e+00\n",
       "Yoshihiro Nishimura                                   0.000000e+00\n",
       "Yuen Woo-Ping                                         0.000000e+00\n",
       "Yuri Chulyukin                                        0.000000e+00\n",
       "Yves Simoneau                                         0.000000e+00\n",
       "YÄ±lmaz ErdoÄŸan                                      0.000000e+00\n",
       "Zach Braff                                            3.091804e+07\n",
       "Zach Cregger|Trevor Moore                             0.000000e+00\n",
       "Zach Helm                                             7.306432e+07\n",
       "Zack Snyder                                           1.956053e+08\n",
       "Zackary Adler                                         0.000000e+00\n",
       "Zak Levitt                                            0.000000e+00\n",
       "Zal Batmanglij                                        0.000000e+00\n",
       "Zalman King                                           1.426616e+06\n",
       "Zana Briski|Ross Kauffman                             4.057946e+06\n",
       "Zeke Norton                                           0.000000e+00\n",
       "Zev Berman                                            0.000000e+00\n",
       "Zhao Lin-Shan                                         0.000000e+00\n",
       "Ziad Doueiri                                          0.000000e+00\n",
       "Zoe R. Cassavetes                                     0.000000e+00\n",
       "Ãlex de la Iglesia                                    8.046665e+05\n",
       "Ãlvaro de ArmiÃ±Ã¡n                                   0.000000e+00\n",
       "Ã–zgÃ¼r Yildirim                                      0.000000e+00\n",
       "Ã‡aÄŸan Irmak                                         0.000000e+00\n",
       "Ã‰mile Gaudreault                                     3.593753e+06\n",
       "Ã‰ric Besnard                                         0.000000e+00\n",
       "Ã‰tienne Chatiliez                                    0.000000e+00\n",
       "Ã€lex Pastor|David Pastor                             5.897584e+06\n",
       "Name: revenue, Length: 4035, dtype: float64"
      ]
     },
     "execution_count": 26,
     "metadata": {},
     "output_type": "execute_result"
    }
   ],
   "source": [
    "director_grouping"
   ]
  },
  {
   "cell_type": "code",
   "execution_count": 27,
   "metadata": {},
   "outputs": [],
   "source": [
    "train2['director_map'] = train2.director.map(director_grouping)"
   ]
  },
  {
   "cell_type": "code",
   "execution_count": 28,
   "metadata": {
    "scrolled": true
   },
   "outputs": [
    {
     "data": {
      "text/plain": [
       "0    2.227795e+07\n",
       "1    0.000000e+00\n",
       "2    2.897755e+08\n",
       "3    0.000000e+00\n",
       "4    0.000000e+00\n",
       "Name: director_map, dtype: float64"
      ]
     },
     "execution_count": 28,
     "metadata": {},
     "output_type": "execute_result"
    }
   ],
   "source": [
    "train2.director_map.head()"
   ]
  },
  {
   "cell_type": "code",
   "execution_count": 29,
   "metadata": {},
   "outputs": [],
   "source": [
    "test2['director_map'] = test.director.map(director_grouping)"
   ]
  },
  {
   "cell_type": "code",
   "execution_count": 30,
   "metadata": {},
   "outputs": [
    {
     "data": {
      "text/plain": [
       "True     1939\n",
       "False      61\n",
       "Name: director_map, dtype: int64"
      ]
     },
     "execution_count": 30,
     "metadata": {},
     "output_type": "execute_result"
    }
   ],
   "source": [
    "test2.director_map.isna().value_counts()"
   ]
  },
  {
   "cell_type": "code",
   "execution_count": 31,
   "metadata": {},
   "outputs": [],
   "source": [
    "test2['director_map'] = test2.director_map.fillna(test2.director_map.mean())"
   ]
  },
  {
   "cell_type": "code",
   "execution_count": 32,
   "metadata": {
    "scrolled": true
   },
   "outputs": [
    {
     "data": {
      "text/html": [
       "<div>\n",
       "<style scoped>\n",
       "    .dataframe tbody tr th:only-of-type {\n",
       "        vertical-align: middle;\n",
       "    }\n",
       "\n",
       "    .dataframe tbody tr th {\n",
       "        vertical-align: top;\n",
       "    }\n",
       "\n",
       "    .dataframe thead th {\n",
       "        text-align: right;\n",
       "    }\n",
       "</style>\n",
       "<table border=\"1\" class=\"dataframe\">\n",
       "  <thead>\n",
       "    <tr style=\"text-align: right;\">\n",
       "      <th></th>\n",
       "      <th>id</th>\n",
       "      <th>popularity</th>\n",
       "      <th>budget</th>\n",
       "      <th>original_title</th>\n",
       "      <th>cast</th>\n",
       "      <th>homepage</th>\n",
       "      <th>director</th>\n",
       "      <th>tagline</th>\n",
       "      <th>keywords</th>\n",
       "      <th>overview</th>\n",
       "      <th>runtime</th>\n",
       "      <th>genres</th>\n",
       "      <th>production_companies</th>\n",
       "      <th>release_date</th>\n",
       "      <th>vote_count</th>\n",
       "      <th>vote_average</th>\n",
       "      <th>release_year</th>\n",
       "      <th>budget_adj</th>\n",
       "      <th>director_map</th>\n",
       "    </tr>\n",
       "  </thead>\n",
       "  <tbody>\n",
       "    <tr>\n",
       "      <th>0</th>\n",
       "      <td>8866</td>\n",
       "      <td>2.944554</td>\n",
       "      <td>60000000</td>\n",
       "      <td>Jack Reacher</td>\n",
       "      <td>Tom Cruise|Rosamund Pike|Richard Jenkins|David...</td>\n",
       "      <td>http://www.jackreachermovie.com/</td>\n",
       "      <td>Christopher McQuarrie</td>\n",
       "      <td>The Law Has Limits. He Does Not.</td>\n",
       "      <td>based on novel|sniper|investigation|police|cha...</td>\n",
       "      <td>In an innocent heartland city, five are shot d...</td>\n",
       "      <td>130</td>\n",
       "      <td>Crime|Drama|Thriller</td>\n",
       "      <td>Paramount Pictures|Mutual Film Company|Skydanc...</td>\n",
       "      <td>2012-12-20</td>\n",
       "      <td>2281</td>\n",
       "      <td>6.2</td>\n",
       "      <td>2012</td>\n",
       "      <td>56984656.88</td>\n",
       "      <td>1.111056e+08</td>\n",
       "    </tr>\n",
       "    <tr>\n",
       "      <th>1</th>\n",
       "      <td>8867</td>\n",
       "      <td>1.095339</td>\n",
       "      <td>35000000</td>\n",
       "      <td>This Is 40</td>\n",
       "      <td>Paul Rudd|Leslie Mann|Jason Segel|Maude Apatow...</td>\n",
       "      <td>http://www.thisis40movie.com/</td>\n",
       "      <td>Judd Apatow</td>\n",
       "      <td>The sort-of sequel to 'Knocked Up'</td>\n",
       "      <td>family relationships|claim in title|singing in...</td>\n",
       "      <td>Pete and Debbie are both about to turn 40, the...</td>\n",
       "      <td>134</td>\n",
       "      <td>Comedy</td>\n",
       "      <td>Apatow Productions</td>\n",
       "      <td>2012-12-20</td>\n",
       "      <td>693</td>\n",
       "      <td>5.5</td>\n",
       "      <td>2012</td>\n",
       "      <td>33241049.85</td>\n",
       "      <td>1.111056e+08</td>\n",
       "    </tr>\n",
       "    <tr>\n",
       "      <th>2</th>\n",
       "      <td>8868</td>\n",
       "      <td>0.158310</td>\n",
       "      <td>20000000</td>\n",
       "      <td>Not Fade Away</td>\n",
       "      <td>Bella Heathcote|Jack Huston|Dominique McElligo...</td>\n",
       "      <td>NaN</td>\n",
       "      <td>David Chase</td>\n",
       "      <td>there is no past no future either. just the Now--</td>\n",
       "      <td>new jersey|rock band|country club</td>\n",
       "      <td>Set in suburban New Jersey in the 1960s, a gro...</td>\n",
       "      <td>112</td>\n",
       "      <td>Drama</td>\n",
       "      <td>Paramount Vantage</td>\n",
       "      <td>2012-12-21</td>\n",
       "      <td>14</td>\n",
       "      <td>5.4</td>\n",
       "      <td>2012</td>\n",
       "      <td>18994885.63</td>\n",
       "      <td>1.111056e+08</td>\n",
       "    </tr>\n",
       "    <tr>\n",
       "      <th>3</th>\n",
       "      <td>8869</td>\n",
       "      <td>0.055792</td>\n",
       "      <td>0</td>\n",
       "      <td>Minecraft: The Story of Mojang</td>\n",
       "      <td>Markus Persson|Jens Bergensten|Jakob Porser|Ca...</td>\n",
       "      <td>http://theminecraftmovie.com/</td>\n",
       "      <td>Paul Owens</td>\n",
       "      <td>NaN</td>\n",
       "      <td>NaN</td>\n",
       "      <td>Follow Markus \"Notch\" Persson and his co-worke...</td>\n",
       "      <td>104</td>\n",
       "      <td>Documentary</td>\n",
       "      <td>2 Player Productions</td>\n",
       "      <td>2012-12-23</td>\n",
       "      <td>14</td>\n",
       "      <td>5.6</td>\n",
       "      <td>2012</td>\n",
       "      <td>0.00</td>\n",
       "      <td>1.111056e+08</td>\n",
       "    </tr>\n",
       "    <tr>\n",
       "      <th>4</th>\n",
       "      <td>8870</td>\n",
       "      <td>0.074508</td>\n",
       "      <td>0</td>\n",
       "      <td>Naughty or Nice</td>\n",
       "      <td>Hilarie Burton|Matt Dallas|Gabriel Tigerman|Da...</td>\n",
       "      <td>NaN</td>\n",
       "      <td>David Mackay</td>\n",
       "      <td>NaN</td>\n",
       "      <td>christmas</td>\n",
       "      <td>Krissy Kringle receives a delivery intended fo...</td>\n",
       "      <td>90</td>\n",
       "      <td>TV Movie</td>\n",
       "      <td>NaN</td>\n",
       "      <td>2012-12-24</td>\n",
       "      <td>10</td>\n",
       "      <td>7.1</td>\n",
       "      <td>2012</td>\n",
       "      <td>0.00</td>\n",
       "      <td>1.111056e+08</td>\n",
       "    </tr>\n",
       "  </tbody>\n",
       "</table>\n",
       "</div>"
      ],
      "text/plain": [
       "     id  popularity    budget                  original_title  \\\n",
       "0  8866    2.944554  60000000                    Jack Reacher   \n",
       "1  8867    1.095339  35000000                      This Is 40   \n",
       "2  8868    0.158310  20000000                   Not Fade Away   \n",
       "3  8869    0.055792         0  Minecraft: The Story of Mojang   \n",
       "4  8870    0.074508         0                 Naughty or Nice   \n",
       "\n",
       "                                                cast  \\\n",
       "0  Tom Cruise|Rosamund Pike|Richard Jenkins|David...   \n",
       "1  Paul Rudd|Leslie Mann|Jason Segel|Maude Apatow...   \n",
       "2  Bella Heathcote|Jack Huston|Dominique McElligo...   \n",
       "3  Markus Persson|Jens Bergensten|Jakob Porser|Ca...   \n",
       "4  Hilarie Burton|Matt Dallas|Gabriel Tigerman|Da...   \n",
       "\n",
       "                           homepage               director  \\\n",
       "0  http://www.jackreachermovie.com/  Christopher McQuarrie   \n",
       "1     http://www.thisis40movie.com/            Judd Apatow   \n",
       "2                               NaN            David Chase   \n",
       "3     http://theminecraftmovie.com/             Paul Owens   \n",
       "4                               NaN           David Mackay   \n",
       "\n",
       "                                             tagline  \\\n",
       "0                   The Law Has Limits. He Does Not.   \n",
       "1                 The sort-of sequel to 'Knocked Up'   \n",
       "2  there is no past no future either. just the Now--   \n",
       "3                                                NaN   \n",
       "4                                                NaN   \n",
       "\n",
       "                                            keywords  \\\n",
       "0  based on novel|sniper|investigation|police|cha...   \n",
       "1  family relationships|claim in title|singing in...   \n",
       "2                  new jersey|rock band|country club   \n",
       "3                                                NaN   \n",
       "4                                          christmas   \n",
       "\n",
       "                                            overview  runtime  \\\n",
       "0  In an innocent heartland city, five are shot d...      130   \n",
       "1  Pete and Debbie are both about to turn 40, the...      134   \n",
       "2  Set in suburban New Jersey in the 1960s, a gro...      112   \n",
       "3  Follow Markus \"Notch\" Persson and his co-worke...      104   \n",
       "4  Krissy Kringle receives a delivery intended fo...       90   \n",
       "\n",
       "                 genres                               production_companies  \\\n",
       "0  Crime|Drama|Thriller  Paramount Pictures|Mutual Film Company|Skydanc...   \n",
       "1                Comedy                                 Apatow Productions   \n",
       "2                 Drama                                  Paramount Vantage   \n",
       "3           Documentary                               2 Player Productions   \n",
       "4              TV Movie                                                NaN   \n",
       "\n",
       "  release_date  vote_count  vote_average  release_year   budget_adj  \\\n",
       "0   2012-12-20        2281           6.2          2012  56984656.88   \n",
       "1   2012-12-20         693           5.5          2012  33241049.85   \n",
       "2   2012-12-21          14           5.4          2012  18994885.63   \n",
       "3   2012-12-23          14           5.6          2012         0.00   \n",
       "4   2012-12-24          10           7.1          2012         0.00   \n",
       "\n",
       "   director_map  \n",
       "0  1.111056e+08  \n",
       "1  1.111056e+08  \n",
       "2  1.111056e+08  \n",
       "3  1.111056e+08  \n",
       "4  1.111056e+08  "
      ]
     },
     "execution_count": 32,
     "metadata": {},
     "output_type": "execute_result"
    }
   ],
   "source": [
    "test2.head()"
   ]
  },
  {
   "cell_type": "markdown",
   "metadata": {},
   "source": [
    "Use 10-fold univariate regression on both to see which one gives you a better result."
   ]
  },
  {
   "cell_type": "code",
   "execution_count": 33,
   "metadata": {},
   "outputs": [
    {
     "data": {
      "text/plain": [
       "54946959.57808753"
      ]
     },
     "execution_count": 33,
     "metadata": {},
     "output_type": "execute_result"
    }
   ],
   "source": [
    "train['revenue'].mean()"
   ]
  },
  {
   "cell_type": "code",
   "execution_count": 34,
   "metadata": {},
   "outputs": [],
   "source": [
    "# # X = train[['director_map']]\n",
    "# y = np.log1p(train['revenue'])\n",
    "# score = cross_val_score(estimator=lreg, X=X, y=y, scoring=root_mean_squared_error, cv=10)\n",
    "# score.mean()"
   ]
  },
  {
   "cell_type": "code",
   "execution_count": 35,
   "metadata": {
    "scrolled": true
   },
   "outputs": [
    {
     "data": {
      "text/plain": [
       "8.21541633289918e+24"
      ]
     },
     "execution_count": 35,
     "metadata": {},
     "output_type": "execute_result"
    }
   ],
   "source": [
    "X = train\n",
    "y = np.log1p(train['revenue'])\n",
    "score = cross_val_score(estimator=lreg, X=pd.get_dummies(train['director'\n",
    "                                                              ]), y=y, scoring=root_mean_squared_error, cv=10)\n",
    "score.mean()"
   ]
  },
  {
   "cell_type": "code",
   "execution_count": 36,
   "metadata": {},
   "outputs": [],
   "source": [
    "train = pd.read_csv('/Users/devonbancroft/Desktop/DAT-10-14/class material/Unit3/Data/movies/train.csv')\n",
    "test = pd.read_csv('/Users/devonbancroft/Desktop/DAT-10-14/class material/Unit3/Data/movies/test.csv')"
   ]
  },
  {
   "cell_type": "code",
   "execution_count": 37,
   "metadata": {},
   "outputs": [],
   "source": [
    "train['director'].fillna('Unknown', inplace=True)\n",
    "test['director'].fillna('Unknown', inplace=True)"
   ]
  },
  {
   "cell_type": "code",
   "execution_count": 38,
   "metadata": {},
   "outputs": [],
   "source": [
    "director_counts = train.groupby('director')['director'].transform('count')"
   ]
  },
  {
   "cell_type": "code",
   "execution_count": 39,
   "metadata": {},
   "outputs": [
    {
     "data": {
      "text/plain": [
       "0       12\n",
       "1        8\n",
       "2        7\n",
       "3       12\n",
       "4        1\n",
       "5        4\n",
       "6        1\n",
       "7        5\n",
       "8        2\n",
       "9        9\n",
       "10       3\n",
       "11      10\n",
       "12       5\n",
       "13       1\n",
       "14       2\n",
       "15       3\n",
       "16       2\n",
       "17       2\n",
       "18       7\n",
       "19       1\n",
       "20       2\n",
       "21       1\n",
       "22      10\n",
       "23       9\n",
       "24       2\n",
       "25       1\n",
       "26       5\n",
       "27       2\n",
       "28       1\n",
       "29      10\n",
       "        ..\n",
       "8836     3\n",
       "8837     2\n",
       "8838    11\n",
       "8839     1\n",
       "8840     1\n",
       "8841     2\n",
       "8842     4\n",
       "8843     1\n",
       "8844    11\n",
       "8845     3\n",
       "8846     1\n",
       "8847     3\n",
       "8848     1\n",
       "8849     1\n",
       "8850     1\n",
       "8851     1\n",
       "8852     7\n",
       "8853     1\n",
       "8854     1\n",
       "8855     5\n",
       "8856     1\n",
       "8857     2\n",
       "8858     2\n",
       "8859     1\n",
       "8860     2\n",
       "8861     2\n",
       "8862     5\n",
       "8863     4\n",
       "8864     8\n",
       "8865     1\n",
       "Name: director, Length: 8866, dtype: int64"
      ]
     },
     "execution_count": 39,
     "metadata": {},
     "output_type": "execute_result"
    }
   ],
   "source": [
    "train.groupby('director')['director'].transform('count')"
   ]
  },
  {
   "cell_type": "code",
   "execution_count": 40,
   "metadata": {},
   "outputs": [],
   "source": [
    "train['director1'] = np.where(director_counts > 10, train['director'], 'Other')"
   ]
  },
  {
   "cell_type": "code",
   "execution_count": 41,
   "metadata": {},
   "outputs": [],
   "source": [
    "avg_director_gross = train.groupby('director')['revenue'].mean()"
   ]
  },
  {
   "cell_type": "code",
   "execution_count": 42,
   "metadata": {},
   "outputs": [],
   "source": [
    "train['director2'] = train['director'].map(avg_director_gross)"
   ]
  },
  {
   "cell_type": "code",
   "execution_count": 43,
   "metadata": {},
   "outputs": [
    {
     "data": {
      "text/plain": [
       "False    8866\n",
       "Name: director2, dtype: int64"
      ]
     },
     "execution_count": 43,
     "metadata": {},
     "output_type": "execute_result"
    }
   ],
   "source": [
    "train['director2'].isna().value_counts()"
   ]
  },
  {
   "cell_type": "code",
   "execution_count": 44,
   "metadata": {},
   "outputs": [],
   "source": [
    "train['director2'].fillna(train['revenue'].mean(), inplace=True)"
   ]
  },
  {
   "cell_type": "code",
   "execution_count": 45,
   "metadata": {},
   "outputs": [],
   "source": [
    "# your code here\n",
    "dir_scores1 = cross_val_score(estimator=lreg, X=pd.get_dummies(train['director1']), y=y, scoring=mean_squared_log_error, cv=10)\n",
    "dir_scores2 = cross_val_score(estimator=lreg, X=train[['director2']], y=y, scoring=mean_squared_log_error, cv=10)"
   ]
  },
  {
   "cell_type": "code",
   "execution_count": 46,
   "metadata": {},
   "outputs": [
    {
     "data": {
      "text/plain": [
       "(5.834357941873384e+22, 61.86438265013891)"
      ]
     },
     "execution_count": 46,
     "metadata": {},
     "output_type": "execute_result"
    }
   ],
   "source": [
    "# and the winner is....target encoding.....even if you remove the very strange fold the values are still higher\n",
    "np.mean(dir_scores1), np.mean(dir_scores2)"
   ]
  },
  {
   "cell_type": "code",
   "execution_count": 47,
   "metadata": {},
   "outputs": [
    {
     "data": {
      "text/plain": [
       "0                    John Huston\n",
       "1                 Terence Fisher\n",
       "2                  Lewis Gilbert\n",
       "3                  Gerald Thomas\n",
       "4                Budd Boetticher\n",
       "5                 Otto Preminger\n",
       "6                 Michael Powell\n",
       "7                      John Ford\n",
       "8                    David Swift\n",
       "9                   Billy Wilder\n",
       "10                Richard Brooks\n",
       "11                  Roger Corman\n",
       "12                Stanley Kramer\n",
       "13                    Wolf Rilla\n",
       "14                   Irwin Allen\n",
       "15                   Jerry Lewis\n",
       "16                William Castle\n",
       "17               Lewis Milestone\n",
       "18              Alfred Hitchcock\n",
       "19                    George Pal\n",
       "20                   Karel Reisz\n",
       "21          John Llewellyn Moxey\n",
       "22                  Roger Corman\n",
       "23               Stanley Kubrick\n",
       "24                  George Cukor\n",
       "25                  David Miller\n",
       "26                  John Sturges\n",
       "27                    John Wayne\n",
       "28                 Frank Tashlin\n",
       "29                    Don Siegel\n",
       "                  ...           \n",
       "8836           Rachel Goldenberg\n",
       "8837                Lloyd Kramer\n",
       "8838               Peter Jackson\n",
       "8839             RÃ©gis Roinsard\n",
       "8840                  Jay Bulger\n",
       "8841                  Damian Lee\n",
       "8842            Gabriele Muccino\n",
       "8843               Glenio Bonder\n",
       "8844                 Mike Newell\n",
       "8845                Ben Wheatley\n",
       "8846                 Reema Kagti\n",
       "8847            Steven C. Miller\n",
       "8848                  Gary Yates\n",
       "8849                Richard Gray\n",
       "8850             Michael Taverna\n",
       "8851                 Kern Saxton\n",
       "8852               Roger Michell\n",
       "8853            Matthew Spradlin\n",
       "8854    Yoon-suk Choi|John Kafka\n",
       "8855                Allan Arkush\n",
       "8856                 Travis Fine\n",
       "8857            Rachid Bouchareb\n",
       "8858               Dominic Burns\n",
       "8859                Peter Geiger\n",
       "8860           ValÃ©rie Donzelli\n",
       "8861                   Dan Rosen\n",
       "8862                  Tom Hooper\n",
       "8863               Anne Fletcher\n",
       "8864             Kathryn Bigelow\n",
       "8865         Mark Edwin Robinson\n",
       "Name: director, Length: 8866, dtype: object"
      ]
     },
     "execution_count": 47,
     "metadata": {},
     "output_type": "execute_result"
    }
   ],
   "source": [
    "train.director"
   ]
  },
  {
   "cell_type": "markdown",
   "metadata": {},
   "source": [
    "#### Step 5).  Standardize Your Data using the `StandardScaler` module\n",
    "\n",
    " - make sure to `fit` it on the training set and `transform` it on the test set"
   ]
  },
  {
   "cell_type": "code",
   "execution_count": 48,
   "metadata": {},
   "outputs": [],
   "source": [
    "from sklearn.preprocessing import StandardScaler\n",
    "from sklearn import preprocessing\n",
    "sc = StandardScaler()"
   ]
  },
  {
   "cell_type": "code",
   "execution_count": 49,
   "metadata": {},
   "outputs": [],
   "source": [
    "X = train[['popularity', ]]"
   ]
  },
  {
   "cell_type": "code",
   "execution_count": 50,
   "metadata": {
    "scrolled": true
   },
   "outputs": [
    {
     "data": {
      "text/html": [
       "<div>\n",
       "<style scoped>\n",
       "    .dataframe tbody tr th:only-of-type {\n",
       "        vertical-align: middle;\n",
       "    }\n",
       "\n",
       "    .dataframe tbody tr th {\n",
       "        vertical-align: top;\n",
       "    }\n",
       "\n",
       "    .dataframe thead th {\n",
       "        text-align: right;\n",
       "    }\n",
       "</style>\n",
       "<table border=\"1\" class=\"dataframe\">\n",
       "  <thead>\n",
       "    <tr style=\"text-align: right;\">\n",
       "      <th></th>\n",
       "      <th>id</th>\n",
       "      <th>popularity</th>\n",
       "      <th>budget</th>\n",
       "      <th>original_title</th>\n",
       "      <th>cast</th>\n",
       "      <th>homepage</th>\n",
       "      <th>director</th>\n",
       "      <th>tagline</th>\n",
       "      <th>keywords</th>\n",
       "      <th>overview</th>\n",
       "      <th>runtime</th>\n",
       "      <th>genres</th>\n",
       "      <th>production_companies</th>\n",
       "      <th>release_date</th>\n",
       "      <th>vote_count</th>\n",
       "      <th>vote_average</th>\n",
       "      <th>release_year</th>\n",
       "      <th>budget_adj</th>\n",
       "      <th>revenue</th>\n",
       "      <th>director1</th>\n",
       "      <th>director2</th>\n",
       "    </tr>\n",
       "  </thead>\n",
       "  <tbody>\n",
       "    <tr>\n",
       "      <th>0</th>\n",
       "      <td>0</td>\n",
       "      <td>0.421043</td>\n",
       "      <td>0</td>\n",
       "      <td>The Unforgiven</td>\n",
       "      <td>Burt Lancaster|Audrey Hepburn|Audie Murphy|Joh...</td>\n",
       "      <td>NaN</td>\n",
       "      <td>John Huston</td>\n",
       "      <td>A NEW TRIUMPH FROM ACADEMY AWARD WINNER JOHN H...</td>\n",
       "      <td>indian|texas|farm|siblings|saddle</td>\n",
       "      <td>The neighbors of a frontier family turn on the...</td>\n",
       "      <td>125</td>\n",
       "      <td>Action|Drama|Western</td>\n",
       "      <td>James Productions</td>\n",
       "      <td>1960-01-01</td>\n",
       "      <td>17</td>\n",
       "      <td>4.9</td>\n",
       "      <td>1960</td>\n",
       "      <td>0.0</td>\n",
       "      <td>0.0</td>\n",
       "      <td>John Huston</td>\n",
       "      <td>2.227795e+07</td>\n",
       "    </tr>\n",
       "    <tr>\n",
       "      <th>1</th>\n",
       "      <td>1</td>\n",
       "      <td>0.333643</td>\n",
       "      <td>0</td>\n",
       "      <td>The Brides of Dracula</td>\n",
       "      <td>Peter Cushing|Martita Hunt|Yvonne Monlaur|Fred...</td>\n",
       "      <td>NaN</td>\n",
       "      <td>Terence Fisher</td>\n",
       "      <td>He Turned Innocent Beauty Into Unspeakable Hor...</td>\n",
       "      <td>dracula|hammer horror|van helsing</td>\n",
       "      <td>A young teacher on her way to a position in Tr...</td>\n",
       "      <td>85</td>\n",
       "      <td>Horror</td>\n",
       "      <td>Hammer Film Productions|Hotspur Film Productio...</td>\n",
       "      <td>1960-01-01</td>\n",
       "      <td>19</td>\n",
       "      <td>6.6</td>\n",
       "      <td>1960</td>\n",
       "      <td>0.0</td>\n",
       "      <td>0.0</td>\n",
       "      <td>Other</td>\n",
       "      <td>0.000000e+00</td>\n",
       "    </tr>\n",
       "    <tr>\n",
       "      <th>2</th>\n",
       "      <td>2</td>\n",
       "      <td>0.194948</td>\n",
       "      <td>0</td>\n",
       "      <td>Sink the Bismarck!</td>\n",
       "      <td>Kenneth More|Dana Wynter|Carl MÃ¶hner|Laurence...</td>\n",
       "      <td>NaN</td>\n",
       "      <td>Lewis Gilbert</td>\n",
       "      <td>NaN</td>\n",
       "      <td>NaN</td>\n",
       "      <td>A true WW2 story: the British Navy must find a...</td>\n",
       "      <td>97</td>\n",
       "      <td>Action|Drama|Foreign|History|War</td>\n",
       "      <td>Twentieth Century Fox Film Corporation</td>\n",
       "      <td>1960-02-11</td>\n",
       "      <td>12</td>\n",
       "      <td>4.9</td>\n",
       "      <td>1960</td>\n",
       "      <td>0.0</td>\n",
       "      <td>0.0</td>\n",
       "      <td>Other</td>\n",
       "      <td>2.897755e+08</td>\n",
       "    </tr>\n",
       "    <tr>\n",
       "      <th>3</th>\n",
       "      <td>3</td>\n",
       "      <td>0.136525</td>\n",
       "      <td>0</td>\n",
       "      <td>Carry On Constable</td>\n",
       "      <td>Kenneth Connor|Charles Hawtrey|Sid James|Kenne...</td>\n",
       "      <td>NaN</td>\n",
       "      <td>Gerald Thomas</td>\n",
       "      <td>Oh! What a Carry On When that Crazy Bunch Join...</td>\n",
       "      <td>carry on|police station</td>\n",
       "      <td>With a flu epidemic running rife, three new bu...</td>\n",
       "      <td>86</td>\n",
       "      <td>Comedy</td>\n",
       "      <td>Peter Rogers Productions</td>\n",
       "      <td>1960-02-22</td>\n",
       "      <td>10</td>\n",
       "      <td>6.0</td>\n",
       "      <td>1960</td>\n",
       "      <td>0.0</td>\n",
       "      <td>0.0</td>\n",
       "      <td>Gerald Thomas</td>\n",
       "      <td>0.000000e+00</td>\n",
       "    </tr>\n",
       "    <tr>\n",
       "      <th>4</th>\n",
       "      <td>4</td>\n",
       "      <td>0.267118</td>\n",
       "      <td>0</td>\n",
       "      <td>Comanche Station</td>\n",
       "      <td>Randolph Scott|Nancy Gates|Skip Homeier|Dyke J...</td>\n",
       "      <td>NaN</td>\n",
       "      <td>Budd Boetticher</td>\n",
       "      <td>The One-Man War Against The Comancheros!</td>\n",
       "      <td>indian|comanche</td>\n",
       "      <td>A man saves a woman who had been kidnapped by ...</td>\n",
       "      <td>73</td>\n",
       "      <td>Action|Western</td>\n",
       "      <td>Columbia Pictures Corporation|Ranown Pictures ...</td>\n",
       "      <td>1960-03-01</td>\n",
       "      <td>12</td>\n",
       "      <td>6.5</td>\n",
       "      <td>1960</td>\n",
       "      <td>0.0</td>\n",
       "      <td>0.0</td>\n",
       "      <td>Other</td>\n",
       "      <td>0.000000e+00</td>\n",
       "    </tr>\n",
       "  </tbody>\n",
       "</table>\n",
       "</div>"
      ],
      "text/plain": [
       "   id  popularity  budget         original_title  \\\n",
       "0   0    0.421043       0         The Unforgiven   \n",
       "1   1    0.333643       0  The Brides of Dracula   \n",
       "2   2    0.194948       0     Sink the Bismarck!   \n",
       "3   3    0.136525       0     Carry On Constable   \n",
       "4   4    0.267118       0       Comanche Station   \n",
       "\n",
       "                                                cast homepage  \\\n",
       "0  Burt Lancaster|Audrey Hepburn|Audie Murphy|Joh...      NaN   \n",
       "1  Peter Cushing|Martita Hunt|Yvonne Monlaur|Fred...      NaN   \n",
       "2  Kenneth More|Dana Wynter|Carl MÃ¶hner|Laurence...      NaN   \n",
       "3  Kenneth Connor|Charles Hawtrey|Sid James|Kenne...      NaN   \n",
       "4  Randolph Scott|Nancy Gates|Skip Homeier|Dyke J...      NaN   \n",
       "\n",
       "          director                                            tagline  \\\n",
       "0      John Huston  A NEW TRIUMPH FROM ACADEMY AWARD WINNER JOHN H...   \n",
       "1   Terence Fisher  He Turned Innocent Beauty Into Unspeakable Hor...   \n",
       "2    Lewis Gilbert                                                NaN   \n",
       "3    Gerald Thomas  Oh! What a Carry On When that Crazy Bunch Join...   \n",
       "4  Budd Boetticher           The One-Man War Against The Comancheros!   \n",
       "\n",
       "                            keywords  \\\n",
       "0  indian|texas|farm|siblings|saddle   \n",
       "1  dracula|hammer horror|van helsing   \n",
       "2                                NaN   \n",
       "3            carry on|police station   \n",
       "4                    indian|comanche   \n",
       "\n",
       "                                            overview  runtime  \\\n",
       "0  The neighbors of a frontier family turn on the...      125   \n",
       "1  A young teacher on her way to a position in Tr...       85   \n",
       "2  A true WW2 story: the British Navy must find a...       97   \n",
       "3  With a flu epidemic running rife, three new bu...       86   \n",
       "4  A man saves a woman who had been kidnapped by ...       73   \n",
       "\n",
       "                             genres  \\\n",
       "0              Action|Drama|Western   \n",
       "1                            Horror   \n",
       "2  Action|Drama|Foreign|History|War   \n",
       "3                            Comedy   \n",
       "4                    Action|Western   \n",
       "\n",
       "                                production_companies release_date  vote_count  \\\n",
       "0                                  James Productions   1960-01-01          17   \n",
       "1  Hammer Film Productions|Hotspur Film Productio...   1960-01-01          19   \n",
       "2             Twentieth Century Fox Film Corporation   1960-02-11          12   \n",
       "3                           Peter Rogers Productions   1960-02-22          10   \n",
       "4  Columbia Pictures Corporation|Ranown Pictures ...   1960-03-01          12   \n",
       "\n",
       "   vote_average  release_year  budget_adj  revenue      director1  \\\n",
       "0           4.9          1960         0.0      0.0    John Huston   \n",
       "1           6.6          1960         0.0      0.0          Other   \n",
       "2           4.9          1960         0.0      0.0          Other   \n",
       "3           6.0          1960         0.0      0.0  Gerald Thomas   \n",
       "4           6.5          1960         0.0      0.0          Other   \n",
       "\n",
       "      director2  \n",
       "0  2.227795e+07  \n",
       "1  0.000000e+00  \n",
       "2  2.897755e+08  \n",
       "3  0.000000e+00  \n",
       "4  0.000000e+00  "
      ]
     },
     "execution_count": 50,
     "metadata": {},
     "output_type": "execute_result"
    }
   ],
   "source": [
    "train.head()"
   ]
  },
  {
   "cell_type": "code",
   "execution_count": null,
   "metadata": {},
   "outputs": [],
   "source": []
  },
  {
   "cell_type": "markdown",
   "metadata": {},
   "source": [
    "#### Step 6).  To get an estimate of your models performance, use 10-fold cross validation on your training set"
   ]
  },
  {
   "cell_type": "code",
   "execution_count": null,
   "metadata": {},
   "outputs": [],
   "source": []
  },
  {
   "cell_type": "markdown",
   "metadata": {},
   "source": [
    "#### Step 7).  Now, before making your final predictions for your test sit, fit the model on all of your training data"
   ]
  },
  {
   "cell_type": "code",
   "execution_count": 51,
   "metadata": {},
   "outputs": [],
   "source": [
    "# your code here"
   ]
  },
  {
   "cell_type": "markdown",
   "metadata": {},
   "source": [
    "#### Step 8).  Make a prediction on your test set, and save the results as a dataframe, using two columns:\n",
    "\n",
    " - **id**:  the id of your test set rows\n",
    " - **prediction**: your corresponding predictions\n",
    " \n",
    "Submit this to a csv file, using the option `index=False`"
   ]
  },
  {
   "cell_type": "code",
   "execution_count": 52,
   "metadata": {},
   "outputs": [],
   "source": [
    "# your code here"
   ]
  }
 ],
 "metadata": {
  "kernelspec": {
   "display_name": "Python 3",
   "language": "python",
   "name": "python3"
  },
  "language_info": {
   "codemirror_mode": {
    "name": "ipython",
    "version": 3
   },
   "file_extension": ".py",
   "mimetype": "text/x-python",
   "name": "python",
   "nbconvert_exporter": "python",
   "pygments_lexer": "ipython3",
   "version": "3.7.3"
  }
 },
 "nbformat": 4,
 "nbformat_minor": 2
}
