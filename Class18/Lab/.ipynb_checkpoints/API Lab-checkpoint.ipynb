{
 "cells": [
  {
   "cell_type": "markdown",
   "metadata": {},
   "source": [
    "## Lab:  Working With the Movies Database API \n",
    "\n",
    "This lab will guide you through working accessing different aspects of the movies database api.  The documentation can be found here:  https://www.themoviedb.org/documentation/api"
   ]
  },
  {
   "cell_type": "markdown",
   "metadata": {},
   "source": [
    "**Step 1:** Make sure you have an access key.\n",
    "\n",
    "**Step 2:** The complete documentation that you'll need to reference can be found here:  https://developers.themoviedb.org/3/getting-started\n",
    "\n",
    "For now, we are going to use the `/discover` tool to answer the following questions."
   ]
  },
  {
   "cell_type": "markdown",
   "metadata": {},
   "source": [
    "**Step 3:** Select all movies made in the year 2012.   The `total_results` key should return 10000 values."
   ]
  },
  {
   "cell_type": "code",
   "execution_count": null,
   "metadata": {},
   "outputs": [],
   "source": [
    "# your code here"
   ]
  },
  {
   "cell_type": "markdown",
   "metadata": {},
   "source": [
    "**Step 4:** Sort the movies from the previous API call by their popularity, in descending order.  (Use an API call for this, not pandas).  What was the most popular movie in 2012?"
   ]
  },
  {
   "cell_type": "code",
   "execution_count": null,
   "metadata": {},
   "outputs": [],
   "source": [
    "# your code here"
   ]
  },
  {
   "cell_type": "markdown",
   "metadata": {},
   "source": [
    "**Step 5:** Create an api call that collects the 100 most popular movies released in 2017, 2018, and 2019.  \n",
    "\n",
    "**Hint:** You may have noticed that the results returned to you only contain 20 items.  To get more you have to use the `page` parameter."
   ]
  },
  {
   "cell_type": "code",
   "execution_count": null,
   "metadata": {},
   "outputs": [],
   "source": [
    "# your code here"
   ]
  },
  {
   "cell_type": "markdown",
   "metadata": {},
   "source": [
    "**Step 6:**  Take the results from a previous step and turn them into a dataframe.  Make columns for title, popularity, vote_count, and vote_average."
   ]
  },
  {
   "cell_type": "code",
   "execution_count": null,
   "metadata": {},
   "outputs": [],
   "source": [
    "# your code here"
   ]
  },
  {
   "cell_type": "markdown",
   "metadata": {},
   "source": [
    "**Step 7:** Do a new API call for all movies with Samuel Jackson in them. His id is 2231. Sort them by popularity in descending order.  Just the first page is fine. "
   ]
  },
  {
   "cell_type": "code",
   "execution_count": null,
   "metadata": {},
   "outputs": [],
   "source": [
    "# your code here"
   ]
  },
  {
   "cell_type": "markdown",
   "metadata": {},
   "source": [
    "**Step 8:** How would you check to see if there are any Samuel L. Jackson movies **not** in the csv file that you just created?\n",
    "\n",
    "**Hint:** There are a few ways to do this, but the `merge` method gives you some nice options with the `indicator` option."
   ]
  },
  {
   "cell_type": "code",
   "execution_count": null,
   "metadata": {},
   "outputs": [],
   "source": [
    "# your code here"
   ]
  },
  {
   "cell_type": "markdown",
   "metadata": {},
   "source": [
    "**Bonus:** See if you can write a function that accepts the IMDB id of an actor/actress as an argument, and adds their movies to the dataframe of 100 movies you just created if it doesn't exist.\n",
    "\n",
    "**Extra Bonus:** Write the original dataframe to a csv file, and write a modified version of the above function that does the following:\n",
    " - reads in a csv file with existing movies\n",
    " - accepts an actor/actress id as an argument\n",
    " - checks for movies of that performer that are not in the original dataframe\n",
    " - adds the new rows to the df from the imported csv file\n",
    " - exports the new df back to its original file\n",
    " \n",
    "**Hint:** If you're connecting to api data or web scraping, processes like this can be helpful if you want to regularly collect and store new data."
   ]
  },
  {
   "cell_type": "code",
   "execution_count": null,
   "metadata": {},
   "outputs": [],
   "source": [
    "# your code here"
   ]
  }
 ],
 "metadata": {
  "kernelspec": {
   "display_name": "Python 3",
   "language": "python",
   "name": "python3"
  },
  "language_info": {
   "codemirror_mode": {
    "name": "ipython",
    "version": 3
   },
   "file_extension": ".py",
   "mimetype": "text/x-python",
   "name": "python",
   "nbconvert_exporter": "python",
   "pygments_lexer": "ipython3",
   "version": "3.7.3"
  }
 },
 "nbformat": 4,
 "nbformat_minor": 2
}
