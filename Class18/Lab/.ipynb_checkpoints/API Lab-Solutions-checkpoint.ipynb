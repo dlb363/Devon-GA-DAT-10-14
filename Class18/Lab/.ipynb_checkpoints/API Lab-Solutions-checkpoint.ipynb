{
 "cells": [
  {
   "cell_type": "markdown",
   "metadata": {},
   "source": [
    "## Lab:  Working With the Movies Database API \n",
    "\n",
    "This lab will guide you through working accessing different aspects of the movies database api.  The documentation can be found here:  https://www.themoviedb.org/documentation/api"
   ]
  },
  {
   "cell_type": "markdown",
   "metadata": {},
   "source": [
    "**Step 1:** Make sure you have an access key.\n",
    "\n",
    "**Step 2:** The complete documentation that you'll need to reference can be found here:  https://developers.themoviedb.org/3/getting-started\n",
    "\n",
    "For now, we are going to use the `/discover` tool to answer the following questions."
   ]
  },
  {
   "cell_type": "code",
   "execution_count": 2,
   "metadata": {},
   "outputs": [],
   "source": [
    "# import libraries\n",
    "import pandas as pd\n",
    "import requests\n",
    "\n",
    "# variables that will be reused\n",
    "api_key    = 'c6c78f5b65558f9fc6ab9a3ef2d8ba7d'\n",
    "base       = 'https://api.themoviedb.org/3'"
   ]
  },
  {
   "cell_type": "markdown",
   "metadata": {},
   "source": [
    "**Step 3:** Select all movies made with `primary_release_year` set to 2012.  The `total_results` key should return 10000 values."
   ]
  },
  {
   "cell_type": "code",
   "execution_count": 18,
   "metadata": {},
   "outputs": [],
   "source": [
    "# your code here\n",
    "api_string = f'/discover/movie?primary_release_year=2012&api_key={api_key}'\n",
    "data       = requests.get(base+api_string).json()"
   ]
  },
  {
   "cell_type": "markdown",
   "metadata": {},
   "source": [
    "**Step 4:** Sort the movies from the previous API call by their popularity, in descending order. (Use an API call for this, not pandas).  What was the most popular movie released in 2012?"
   ]
  },
  {
   "cell_type": "code",
   "execution_count": 20,
   "metadata": {},
   "outputs": [],
   "source": [
    "# your code here\n",
    "api_string = f'/discover/movie?primary_release_year=2012&api_key={api_key}&sort_by=popularity.desc'\n",
    "data       = requests.get(base+api_string).json()"
   ]
  },
  {
   "cell_type": "code",
   "execution_count": 23,
   "metadata": {},
   "outputs": [
    {
     "data": {
      "text/plain": [
       "'The Avengers'"
      ]
     },
     "execution_count": 23,
     "metadata": {},
     "output_type": "execute_result"
    }
   ],
   "source": [
    "# it was The Avengers\n",
    "data['results'][0]['original_title']"
   ]
  },
  {
   "cell_type": "markdown",
   "metadata": {},
   "source": [
    "**Step 5:** Create an api call that collects the 100 most popular movies released in 2017, 2018, and 2019.  \n",
    "\n",
    "**Hint:** You may have noticed that the results returned to you only contain 20 items.  To get more you have to use the `page` parameter."
   ]
  },
  {
   "cell_type": "code",
   "execution_count": 94,
   "metadata": {},
   "outputs": [],
   "source": [
    "# generate the api_strings\n",
    "api_strings = [ \n",
    "    f'/discover/movie?primary_release_year=2017&primary_release_year=2018&primary_release_year=2019&api_key={api_key}&sort_by=popularity.desc&page={i}'\n",
    "    for i in range(1, 6)\n",
    "]\n",
    "\n",
    "# and get their json endpoints\n",
    "api_results = [requests.get(base + api_strings[i]).json() for i in range(len(api_strings))]"
   ]
  },
  {
   "cell_type": "markdown",
   "metadata": {},
   "source": [
    "**Step 6:**  Take the results from a previous step and turn them into a dataframe.  Make columns for title, popularity, vote_count, and vote_average."
   ]
  },
  {
   "cell_type": "code",
   "execution_count": 95,
   "metadata": {},
   "outputs": [],
   "source": [
    "# turn each dictionary into its own dataframe\n",
    "movie_df = [pd.DataFrame(page['results'], columns=['title', 'popularity', 'vote_count', 'vote_average']) for page in api_results]\n",
    "movie_df = pd.concat(movie_df).reset_index(drop=True)"
   ]
  },
  {
   "cell_type": "markdown",
   "metadata": {},
   "source": [
    "**Step 7:** Do a new API call for all movies with Samuel Jackson in them. His id is 2231. Sort them by popularity in descending order.  Just the first page is fine."
   ]
  },
  {
   "cell_type": "code",
   "execution_count": 97,
   "metadata": {},
   "outputs": [],
   "source": [
    "# your code here\n",
    "api_string = f'/discover/movie?with_cast=2231&sort_by=popularity.desc&api_key={api_key}'\n",
    "data       = requests.get(base + api_string).json()"
   ]
  },
  {
   "cell_type": "markdown",
   "metadata": {},
   "source": [
    "**Step 8:** How would you check to see if there are any Samuel L. Jackson movies **not** in the csv file that you just created?\n",
    "\n",
    "**Hint:** There are a few ways to do this, but the `merge` method gives you some nice options with the `indicator` option."
   ]
  },
  {
   "cell_type": "code",
   "execution_count": 99,
   "metadata": {},
   "outputs": [],
   "source": [
    "# turn Samuel L. Jackson's data into a dataframe\n",
    "slj = pd.DataFrame(data['results'], columns=['title', 'popularity', 'vote_count', 'vote_average'])"
   ]
  },
  {
   "cell_type": "code",
   "execution_count": 104,
   "metadata": {},
   "outputs": [
    {
     "data": {
      "text/html": [
       "<div>\n",
       "<style scoped>\n",
       "    .dataframe tbody tr th:only-of-type {\n",
       "        vertical-align: middle;\n",
       "    }\n",
       "\n",
       "    .dataframe tbody tr th {\n",
       "        vertical-align: top;\n",
       "    }\n",
       "\n",
       "    .dataframe thead th {\n",
       "        text-align: right;\n",
       "    }\n",
       "</style>\n",
       "<table border=\"1\" class=\"dataframe\">\n",
       "  <thead>\n",
       "    <tr style=\"text-align: right;\">\n",
       "      <th></th>\n",
       "      <th>title</th>\n",
       "      <th>popularity</th>\n",
       "      <th>vote_count</th>\n",
       "      <th>vote_average</th>\n",
       "      <th>_merge</th>\n",
       "    </tr>\n",
       "  </thead>\n",
       "  <tbody>\n",
       "    <tr>\n",
       "      <th>0</th>\n",
       "      <td>Avengers: Infinity War</td>\n",
       "      <td>75.228</td>\n",
       "      <td>16044</td>\n",
       "      <td>8.3</td>\n",
       "      <td>left_only</td>\n",
       "    </tr>\n",
       "    <tr>\n",
       "      <th>1</th>\n",
       "      <td>Spider-Man: Far from Home</td>\n",
       "      <td>59.490</td>\n",
       "      <td>5363</td>\n",
       "      <td>7.6</td>\n",
       "      <td>both</td>\n",
       "    </tr>\n",
       "    <tr>\n",
       "      <th>2</th>\n",
       "      <td>Captain Marvel</td>\n",
       "      <td>42.094</td>\n",
       "      <td>7851</td>\n",
       "      <td>7.0</td>\n",
       "      <td>both</td>\n",
       "    </tr>\n",
       "    <tr>\n",
       "      <th>3</th>\n",
       "      <td>The Avengers</td>\n",
       "      <td>45.673</td>\n",
       "      <td>21073</td>\n",
       "      <td>7.7</td>\n",
       "      <td>left_only</td>\n",
       "    </tr>\n",
       "    <tr>\n",
       "      <th>4</th>\n",
       "      <td>Avengers: Endgame</td>\n",
       "      <td>43.047</td>\n",
       "      <td>10488</td>\n",
       "      <td>8.3</td>\n",
       "      <td>both</td>\n",
       "    </tr>\n",
       "    <tr>\n",
       "      <th>5</th>\n",
       "      <td>Iron Man</td>\n",
       "      <td>28.723</td>\n",
       "      <td>17008</td>\n",
       "      <td>7.6</td>\n",
       "      <td>left_only</td>\n",
       "    </tr>\n",
       "    <tr>\n",
       "      <th>6</th>\n",
       "      <td>Star Wars: Episode I - The Phantom Menace</td>\n",
       "      <td>36.807</td>\n",
       "      <td>8688</td>\n",
       "      <td>6.4</td>\n",
       "      <td>left_only</td>\n",
       "    </tr>\n",
       "    <tr>\n",
       "      <th>7</th>\n",
       "      <td>Pulp Fiction</td>\n",
       "      <td>39.511</td>\n",
       "      <td>16866</td>\n",
       "      <td>8.5</td>\n",
       "      <td>left_only</td>\n",
       "    </tr>\n",
       "    <tr>\n",
       "      <th>8</th>\n",
       "      <td>Glass</td>\n",
       "      <td>35.294</td>\n",
       "      <td>4299</td>\n",
       "      <td>6.5</td>\n",
       "      <td>both</td>\n",
       "    </tr>\n",
       "    <tr>\n",
       "      <th>9</th>\n",
       "      <td>Thor</td>\n",
       "      <td>27.419</td>\n",
       "      <td>13786</td>\n",
       "      <td>6.7</td>\n",
       "      <td>left_only</td>\n",
       "    </tr>\n",
       "    <tr>\n",
       "      <th>10</th>\n",
       "      <td>Avengers: Age of Ultron</td>\n",
       "      <td>35.528</td>\n",
       "      <td>14655</td>\n",
       "      <td>7.3</td>\n",
       "      <td>left_only</td>\n",
       "    </tr>\n",
       "    <tr>\n",
       "      <th>11</th>\n",
       "      <td>GoodFellas</td>\n",
       "      <td>26.103</td>\n",
       "      <td>6365</td>\n",
       "      <td>8.4</td>\n",
       "      <td>left_only</td>\n",
       "    </tr>\n",
       "    <tr>\n",
       "      <th>12</th>\n",
       "      <td>Star Wars: Episode II - Attack of the Clones</td>\n",
       "      <td>27.110</td>\n",
       "      <td>7876</td>\n",
       "      <td>6.5</td>\n",
       "      <td>left_only</td>\n",
       "    </tr>\n",
       "    <tr>\n",
       "      <th>13</th>\n",
       "      <td>RoboCop</td>\n",
       "      <td>18.080</td>\n",
       "      <td>3597</td>\n",
       "      <td>5.8</td>\n",
       "      <td>left_only</td>\n",
       "    </tr>\n",
       "    <tr>\n",
       "      <th>14</th>\n",
       "      <td>Star Wars: Episode III - Revenge of the Sith</td>\n",
       "      <td>31.449</td>\n",
       "      <td>8137</td>\n",
       "      <td>7.3</td>\n",
       "      <td>left_only</td>\n",
       "    </tr>\n",
       "    <tr>\n",
       "      <th>15</th>\n",
       "      <td>Incredibles 2</td>\n",
       "      <td>29.982</td>\n",
       "      <td>7332</td>\n",
       "      <td>7.5</td>\n",
       "      <td>left_only</td>\n",
       "    </tr>\n",
       "    <tr>\n",
       "      <th>16</th>\n",
       "      <td>Kong: Skull Island</td>\n",
       "      <td>28.025</td>\n",
       "      <td>6534</td>\n",
       "      <td>6.4</td>\n",
       "      <td>left_only</td>\n",
       "    </tr>\n",
       "    <tr>\n",
       "      <th>17</th>\n",
       "      <td>Django Unchained</td>\n",
       "      <td>22.236</td>\n",
       "      <td>16974</td>\n",
       "      <td>8.1</td>\n",
       "      <td>left_only</td>\n",
       "    </tr>\n",
       "    <tr>\n",
       "      <th>18</th>\n",
       "      <td>Iron Man 2</td>\n",
       "      <td>25.501</td>\n",
       "      <td>13392</td>\n",
       "      <td>6.8</td>\n",
       "      <td>left_only</td>\n",
       "    </tr>\n",
       "    <tr>\n",
       "      <th>19</th>\n",
       "      <td>The Hitman's Bodyguard</td>\n",
       "      <td>22.314</td>\n",
       "      <td>3379</td>\n",
       "      <td>6.8</td>\n",
       "      <td>left_only</td>\n",
       "    </tr>\n",
       "  </tbody>\n",
       "</table>\n",
       "</div>"
      ],
      "text/plain": [
       "                                           title  popularity  vote_count  \\\n",
       "0                         Avengers: Infinity War      75.228       16044   \n",
       "1                      Spider-Man: Far from Home      59.490        5363   \n",
       "2                                 Captain Marvel      42.094        7851   \n",
       "3                                   The Avengers      45.673       21073   \n",
       "4                              Avengers: Endgame      43.047       10488   \n",
       "5                                       Iron Man      28.723       17008   \n",
       "6      Star Wars: Episode I - The Phantom Menace      36.807        8688   \n",
       "7                                   Pulp Fiction      39.511       16866   \n",
       "8                                          Glass      35.294        4299   \n",
       "9                                           Thor      27.419       13786   \n",
       "10                       Avengers: Age of Ultron      35.528       14655   \n",
       "11                                    GoodFellas      26.103        6365   \n",
       "12  Star Wars: Episode II - Attack of the Clones      27.110        7876   \n",
       "13                                       RoboCop      18.080        3597   \n",
       "14  Star Wars: Episode III - Revenge of the Sith      31.449        8137   \n",
       "15                                 Incredibles 2      29.982        7332   \n",
       "16                            Kong: Skull Island      28.025        6534   \n",
       "17                              Django Unchained      22.236       16974   \n",
       "18                                    Iron Man 2      25.501       13392   \n",
       "19                        The Hitman's Bodyguard      22.314        3379   \n",
       "\n",
       "    vote_average     _merge  \n",
       "0            8.3  left_only  \n",
       "1            7.6       both  \n",
       "2            7.0       both  \n",
       "3            7.7  left_only  \n",
       "4            8.3       both  \n",
       "5            7.6  left_only  \n",
       "6            6.4  left_only  \n",
       "7            8.5  left_only  \n",
       "8            6.5       both  \n",
       "9            6.7  left_only  \n",
       "10           7.3  left_only  \n",
       "11           8.4  left_only  \n",
       "12           6.5  left_only  \n",
       "13           5.8  left_only  \n",
       "14           7.3  left_only  \n",
       "15           7.5  left_only  \n",
       "16           6.4  left_only  \n",
       "17           8.1  left_only  \n",
       "18           6.8  left_only  \n",
       "19           6.8  left_only  "
      ]
     },
     "execution_count": 104,
     "metadata": {},
     "output_type": "execute_result"
    }
   ],
   "source": [
    "# anything in the _merge column with a value of left_only would be a value not in the other df\n",
    "slj.merge(movie_df, how='left', indicator=True)"
   ]
  },
  {
   "cell_type": "markdown",
   "metadata": {},
   "source": [
    "**Bonus:** See if you can write a function that accepts two arguments:  the movies database id of an actor, as well as a dataframe.  Make the function look up the actor via an api call, and return a dataframe with the new values appended to it.  Use the same columns that we had before.\n",
    "\n",
    "**Extra Bonus:** Write the original dataframe to a csv file, and write a modified version of the above function that does the following:\n",
    " - reads in a csv file with existing movies\n",
    " - accepts an actor/actress id as an argument\n",
    " - checks for movies of that performer that are not in the original dataframe\n",
    " - adds the new rows to the df from the imported csv file\n",
    " - exports the new df back to its original file\n",
    " \n",
    "**Hint:** If you're connecting to api data or web scraping, processes like this can be helpful if you want to regularly collect and store new data.\n",
    "\n",
    "Here are the id's of some performers:\n",
    "\n",
    " - **Will Smith**: 2888\n",
    " - **Nicole Kidman**: 2227\n",
    " - **Robert Downey Jr**: 3223\n",
    " - **Reese Witherspoon**: 368"
   ]
  },
  {
   "cell_type": "markdown",
   "metadata": {},
   "source": [
    "**Bonus I:**"
   ]
  },
  {
   "cell_type": "code",
   "execution_count": 121,
   "metadata": {},
   "outputs": [],
   "source": [
    "# your code here\n",
    "def find_new_rows(imdb_id, df):\n",
    "    # store api key -- probably good to use as an argument\n",
    "    api_key  = 'c6c78f5b65558f9fc6ab9a3ef2d8ba7d'\n",
    "    # root url\n",
    "    base     = 'https://api.themoviedb.org/3'\n",
    "    # formatted api string\n",
    "    api_str  = f'/discover/movie?with_cast={imdb_id}&api_key={api_key}'\n",
    "    # connect to the api\n",
    "    data     = requests.get(base+api_str).json()\n",
    "    # turn into a dataframe\n",
    "    api_df   = pd.DataFrame(data['results'], columns=['title', 'popularity', 'vote_count', 'vote_average'])\n",
    "    # check for new values on the left dataframe\n",
    "    new_vals = api_df.merge(df, how='left', indicator=True)\n",
    "    # return only values that exist on the left side of the join  new_vals = new_vals[new_vals._merge == 'left_only'].iloc[:, :-1]\n",
    "    return new_vals"
   ]
  },
  {
   "cell_type": "markdown",
   "metadata": {},
   "source": [
    "**Bonus II:**"
   ]
  },
  {
   "cell_type": "code",
   "execution_count": 125,
   "metadata": {},
   "outputs": [],
   "source": [
    "# first, we'll write the df to a csv\n",
    "movie_df.to_csv('movies.csv', index=False)"
   ]
  },
  {
   "cell_type": "code",
   "execution_count": 126,
   "metadata": {},
   "outputs": [],
   "source": [
    "# and write the function\n",
    "def append_new_rows(imdb_id, path='movies.csv'):\n",
    "    api_key  = 'c6c78f5b65558f9fc6ab9a3ef2d8ba7d' # same as before\n",
    "    base     = 'https://api.themoviedb.org/3' # ditto\n",
    "    api_str  = f'/discover/movie?with_cast={imdb_id}&api_key={api_key}' # ditto\n",
    "    data     = requests.get(base+api_str).json() # ditto\n",
    "    old_df   = pd.read_csv(path) # read in old df\n",
    "    api_df   = pd.DataFrame(data['results'], columns=['title', 'popularity', 'vote_count', 'vote_average'])\n",
    "    new_vals = api_df.merge(old_df, how='left', indicator=True)\n",
    "    new_vals = new_vals[new_vals._merge == 'left_only'].iloc[:, :-1]\n",
    "    print(f\"Found {new_vals.shape[0]} new values, adding them to dataframe\")\n",
    "    old_df   = pd.concat([old_df, new_vals])\n",
    "    old_df.to_csv(path, index=False)"
   ]
  }
 ],
 "metadata": {
  "kernelspec": {
   "display_name": "Python 3",
   "language": "python",
   "name": "python3"
  },
  "language_info": {
   "codemirror_mode": {
    "name": "ipython",
    "version": 3
   },
   "file_extension": ".py",
   "mimetype": "text/x-python",
   "name": "python",
   "nbconvert_exporter": "python",
   "pygments_lexer": "ipython3",
   "version": "3.7.3"
  }
 },
 "nbformat": 4,
 "nbformat_minor": 2
}
