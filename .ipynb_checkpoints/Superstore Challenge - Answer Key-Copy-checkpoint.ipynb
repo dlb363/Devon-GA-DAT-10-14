{
 "cells": [
  {
   "cell_type": "markdown",
   "metadata": {},
   "source": [
    "### Superstore Challenge Answer Key"
   ]
  },
  {
   "cell_type": "code",
   "execution_count": 2,
   "metadata": {},
   "outputs": [],
   "source": [
    "import numpy as np\n",
    "import pandas as pd\n",
    "\n",
    "df = pd.read_excel('/Users/devonbancroft/Desktop/Devon-GA-DAT-10-14/data/superstore.xls')"
   ]
  },
  {
   "cell_type": "markdown",
   "metadata": {},
   "source": [
    "**Column 1:** Create a column that lists every customers lifetime customer value."
   ]
  },
  {
   "cell_type": "code",
   "execution_count": 7,
   "metadata": {},
   "outputs": [],
   "source": [
    "# lifetime customer value for people in our dataset\n",
    "custs = df.groupby('Customer ID')['Sales'].sum().to_frame()"
   ]
  },
  {
   "cell_type": "markdown",
   "metadata": {},
   "source": [
    "**Column 2:** Create a column that lists the length of time each customer has been with the store.  This is defined as the number of days between when they made their first purchase and today."
   ]
  },
  {
   "cell_type": "code",
   "execution_count": 8,
   "metadata": {},
   "outputs": [],
   "source": [
    "# length of time customer has been with us\n",
    "earliest_orders = df.groupby(['Customer ID'])['Order Date'].min()\n",
    "length_of_time = np.datetime64('now') - earliest_orders\n",
    "custs = custs.merge(length_of_time.to_frame(), on='Customer ID')\n",
    "custs.rename({\n",
    "    'Order Date': 'Experience'\n",
    "}, axis=1, inplace=True)"
   ]
  },
  {
   "cell_type": "code",
   "execution_count": 9,
   "metadata": {},
   "outputs": [
    {
     "data": {
      "text/plain": [
       "Customer ID\n",
       "AA-10315   2014-03-31\n",
       "AA-10375   2014-04-21\n",
       "AA-10480   2014-05-04\n",
       "AA-10645   2014-06-22\n",
       "AB-10015   2014-02-18\n",
       "AB-10060   2015-09-18\n",
       "AB-10105   2014-12-20\n",
       "AB-10150   2014-03-05\n",
       "AB-10165   2014-11-16\n",
       "AB-10255   2014-07-22\n",
       "AB-10600   2014-11-18\n",
       "AC-10420   2014-07-12\n",
       "AC-10450   2014-10-31\n",
       "AC-10615   2015-09-15\n",
       "AC-10660   2014-10-15\n",
       "AD-10180   2014-11-19\n",
       "AF-10870   2015-12-06\n",
       "AF-10885   2014-05-10\n",
       "AG-10270   2014-05-13\n",
       "AG-10300   2014-04-26\n",
       "AG-10330   2016-08-03\n",
       "AG-10390   2014-04-19\n",
       "AG-10495   2015-01-04\n",
       "AG-10525   2014-08-09\n",
       "AG-10675   2015-05-07\n",
       "AG-10765   2014-09-17\n",
       "AG-10900   2014-07-23\n",
       "AH-10030   2014-04-22\n",
       "AH-10075   2014-11-16\n",
       "AH-10120   2014-07-18\n",
       "              ...    \n",
       "TS-21340   2014-01-19\n",
       "TS-21370   2014-10-28\n",
       "TS-21430   2014-07-30\n",
       "TS-21505   2014-12-20\n",
       "TS-21610   2014-08-16\n",
       "TS-21655   2015-02-06\n",
       "TT-21070   2014-05-18\n",
       "TT-21220   2014-09-23\n",
       "TT-21265   2015-08-15\n",
       "TT-21460   2015-12-08\n",
       "TW-21025   2014-12-22\n",
       "TZ-21580   2014-11-11\n",
       "VB-21745   2015-07-17\n",
       "VD-21670   2014-08-04\n",
       "VF-21715   2014-03-01\n",
       "VG-21790   2014-08-08\n",
       "VG-21805   2014-09-22\n",
       "VM-21685   2014-04-07\n",
       "VM-21835   2014-03-22\n",
       "VP-21730   2015-07-05\n",
       "VP-21760   2014-09-06\n",
       "VS-21820   2014-01-07\n",
       "VT-21700   2014-06-06\n",
       "VW-21775   2014-05-11\n",
       "WB-21850   2014-11-04\n",
       "XP-21865   2014-01-20\n",
       "YC-21895   2014-11-17\n",
       "YS-21880   2015-01-12\n",
       "ZC-21910   2014-10-13\n",
       "ZD-21925   2014-08-27\n",
       "Name: Order Date, Length: 793, dtype: datetime64[ns]"
      ]
     },
     "execution_count": 9,
     "metadata": {},
     "output_type": "execute_result"
    }
   ],
   "source": [
    "earliest_orders"
   ]
  },
  {
   "cell_type": "markdown",
   "metadata": {},
   "source": [
    "**Column 3:** Create a column that lists the total number of purchases for each customer."
   ]
  },
  {
   "cell_type": "code",
   "execution_count": 10,
   "metadata": {},
   "outputs": [],
   "source": [
    "total_orders = df.groupby('Customer ID')['Order ID'].count()\n",
    "custs = custs.merge(total_orders.to_frame(), on='Customer ID')\n",
    "custs.rename({\n",
    "    'Order ID': 'Total Orders'\n",
    "}, axis=1, inplace=True)"
   ]
  },
  {
   "cell_type": "code",
   "execution_count": null,
   "metadata": {},
   "outputs": [],
   "source": []
  },
  {
   "cell_type": "markdown",
   "metadata": {},
   "source": [
    "**Column 4:** Create a column that assigns customers to a cohort.  \n",
    "\n",
    "A customers cohort is determined by when they made their first purchase, and every year in your dataset has two cohorts:  the first half of the year and the second half.  \n",
    "\n",
    "For example, if someone made their first purchase in March of 2017, their cohort would be 2017-1, or something similar.  Someone who purchased in September of 2017 would be 2017-2, and so on."
   ]
  },
  {
   "cell_type": "code",
   "execution_count": 5,
   "metadata": {},
   "outputs": [],
   "source": [
    "conditions = [\n",
    "    earliest_orders.between('01/01/2014', '06/30/2014'),\n",
    "    earliest_orders.between('07/01/2014', '12/31/2014'),\n",
    "    earliest_orders.between('01/01/2015', '06/30/2015'),\n",
    "    earliest_orders.between('07/01/2015', '12/31/2015'),\n",
    "    earliest_orders.between('01/01/2016', '06/30/2016'),\n",
    "    earliest_orders.between('07/01/2016', '12/31/2016'),\n",
    "    earliest_orders.between('01/01/2017', '06/30/2017'),\n",
    "    earliest_orders.between('07/01/2017', '12/31/2017'),\n",
    "]\n",
    "\n",
    "results = [\n",
    "    '2014-1',\n",
    "    '2014-2',\n",
    "    '2015-1',\n",
    "    '2015-2',\n",
    "    '2016-1',\n",
    "    '2016-2',\n",
    "    '2017-1',\n",
    "    '2017-2'\n",
    "]\n",
    "\n",
    "custs['Cohort'] = np.select(conditions, results, 'Other')"
   ]
  },
  {
   "cell_type": "markdown",
   "metadata": {},
   "source": [
    "**Column 5:** Create a column that lists whether or not they're a repeat customer.  This means they've made more than one order."
   ]
  },
  {
   "cell_type": "code",
   "execution_count": 6,
   "metadata": {},
   "outputs": [],
   "source": [
    "custs['Repeat'] = np.where(custs['Total Orders'] > 1, True, False)"
   ]
  },
  {
   "cell_type": "markdown",
   "metadata": {},
   "source": [
    "**Column 6:** We want to find out what type of customer each person is.  To do this, we want to find which value of 'Segment' occurred most frequently for every single customer."
   ]
  },
  {
   "cell_type": "code",
   "execution_count": 7,
   "metadata": {},
   "outputs": [],
   "source": [
    "cust_type = df.groupby('Customer Name')['Segment'].agg(pd.Series.mode).to_frame()\n",
    "custs = custs.merge(cust_type, on='Customer Name')"
   ]
  },
  {
   "cell_type": "markdown",
   "metadata": {},
   "source": [
    "**Column 7:** Create a column that is the date *3 months after they made their first purchase*.  Add this same column to the original dataset."
   ]
  },
  {
   "cell_type": "code",
   "execution_count": 8,
   "metadata": {},
   "outputs": [],
   "source": [
    "period = pd.DateOffset(months=3)"
   ]
  },
  {
   "cell_type": "code",
   "execution_count": 9,
   "metadata": {},
   "outputs": [],
   "source": [
    "three_mo_cutoff = df.groupby('Customer Name')['Order Date'].min() + period"
   ]
  },
  {
   "cell_type": "code",
   "execution_count": 10,
   "metadata": {},
   "outputs": [],
   "source": [
    "three_mo_cutoff = three_mo_cutoff.to_frame().rename({'Order Date': 'Initial Period'}, axis=1)"
   ]
  },
  {
   "cell_type": "code",
   "execution_count": 11,
   "metadata": {},
   "outputs": [],
   "source": [
    "custs = custs.merge(three_mo_cutoff, on='Customer Name')"
   ]
  },
  {
   "cell_type": "code",
   "execution_count": 12,
   "metadata": {},
   "outputs": [],
   "source": [
    "df = df.merge(three_mo_cutoff, on='Customer Name', how='left')"
   ]
  },
  {
   "cell_type": "markdown",
   "metadata": {},
   "source": [
    "**Column 8:** Make a column that represents one year after they made their first purchase.  Add this to your initial dataframe as well."
   ]
  },
  {
   "cell_type": "code",
   "execution_count": 13,
   "metadata": {},
   "outputs": [],
   "source": [
    "year_offset = pd.DateOffset(years=1)\n",
    "custs['Yearly Cutoff'] = earliest_orders + year_offset"
   ]
  },
  {
   "cell_type": "code",
   "execution_count": 14,
   "metadata": {},
   "outputs": [],
   "source": [
    "df = df.merge(custs['Yearly Cutoff'].to_frame(), on='Customer Name', how='left')"
   ]
  },
  {
   "cell_type": "markdown",
   "metadata": {},
   "source": [
    "**Column 9:** Make a column that determines whether or not a customer made a second purchase 3 months after their initial one."
   ]
  },
  {
   "cell_type": "code",
   "execution_count": 15,
   "metadata": {},
   "outputs": [],
   "source": [
    "earliest_orders = earliest_orders.to_frame().rename({'Order Date': 'First Order'}, axis=1)"
   ]
  },
  {
   "cell_type": "code",
   "execution_count": 16,
   "metadata": {},
   "outputs": [],
   "source": [
    "df = df.merge(earliest_orders, on='Customer Name', how='left')"
   ]
  },
  {
   "cell_type": "code",
   "execution_count": 17,
   "metadata": {},
   "outputs": [],
   "source": [
    "df['first_3_mo'] = df['Order Date'].between(df['First Order'], df['Initial Period'], inclusive=False)"
   ]
  },
  {
   "cell_type": "code",
   "execution_count": 18,
   "metadata": {},
   "outputs": [],
   "source": [
    "quick_repeats = df.groupby('Customer Name')['first_3_mo'].any()"
   ]
  },
  {
   "cell_type": "code",
   "execution_count": 19,
   "metadata": {},
   "outputs": [],
   "source": [
    "custs['Repeat_in_3'] = quick_repeats"
   ]
  },
  {
   "cell_type": "markdown",
   "metadata": {},
   "source": [
    "**Column 10:** Make a Column That Counts the Number of Unique Items A Customer Ordered Within a Year After Their First Purchase."
   ]
  },
  {
   "cell_type": "code",
   "execution_count": 20,
   "metadata": {},
   "outputs": [],
   "source": [
    "df['In_1st_year'] = df['Order Date'].between(df['First Order'], df['Yearly Cutoff'])"
   ]
  },
  {
   "cell_type": "code",
   "execution_count": 21,
   "metadata": {},
   "outputs": [],
   "source": [
    "first_year_purchases = (df.groupby(['Customer Name', 'Order ID'])['In_1st_year'].sum() > 0).sum(level='Customer Name').to_frame()"
   ]
  },
  {
   "cell_type": "code",
   "execution_count": 22,
   "metadata": {},
   "outputs": [],
   "source": [
    "custs = custs.merge(first_year_purchases, on='Customer Name')"
   ]
  },
  {
   "cell_type": "markdown",
   "metadata": {},
   "source": [
    "**Column 11:** Make a Column That Sums the Total Amount of Sales Each Customer Had In Their First Year of Becoming a Customer"
   ]
  },
  {
   "cell_type": "code",
   "execution_count": 23,
   "metadata": {},
   "outputs": [],
   "source": [
    "first_year_sales = df[df.In_1st_year == True].groupby('Customer Name')['Sales'].sum().to_frame().rename({'Sales': 'First Year Sales'}, axis=1)"
   ]
  },
  {
   "cell_type": "code",
   "execution_count": 24,
   "metadata": {},
   "outputs": [],
   "source": [
    "custs['First_Year_Sales'] = first_year_sales"
   ]
  },
  {
   "cell_type": "markdown",
   "metadata": {},
   "source": [
    "### Questions:\n",
    "\n",
    "Now that you've made these columns, try and answer the following questions."
   ]
  },
  {
   "cell_type": "markdown",
   "metadata": {},
   "source": [
    "**What percentage of customers make a second purchase within 3 months after their first one? How does this differ by segment?**"
   ]
  },
  {
   "cell_type": "code",
   "execution_count": 25,
   "metadata": {},
   "outputs": [
    {
     "data": {
      "text/plain": [
       "0.22950819672131148"
      ]
     },
     "execution_count": 25,
     "metadata": {},
     "output_type": "execute_result"
    }
   ],
   "source": [
    "# 23%\n",
    "custs['Repeat_in_3'].mean()"
   ]
  },
  {
   "cell_type": "code",
   "execution_count": 26,
   "metadata": {},
   "outputs": [
    {
     "data": {
      "text/plain": [
       "Segment\n",
       "Consumer       0.246944\n",
       "Corporate      0.207627\n",
       "Home Office    0.216216\n",
       "Name: Repeat_in_3, dtype: float64"
      ]
     },
     "execution_count": 26,
     "metadata": {},
     "output_type": "execute_result"
    }
   ],
   "source": [
    "custs.groupby('Segment')['Repeat_in_3'].mean()"
   ]
  },
  {
   "cell_type": "markdown",
   "metadata": {},
   "source": [
    "**How Has the 3-Month Repurchasing Rate Been Changing Across Cohorts?**"
   ]
  },
  {
   "cell_type": "code",
   "execution_count": 27,
   "metadata": {},
   "outputs": [
    {
     "data": {
      "text/plain": [
       "Cohort\n",
       "2014-1    0.177936\n",
       "2014-2    0.273885\n",
       "2015-1    0.176471\n",
       "2015-2    0.264706\n",
       "2016-1    0.333333\n",
       "2016-2    0.133333\n",
       "2017-1    0.200000\n",
       "2017-2    0.166667\n",
       "Name: Repeat_in_3, dtype: float64"
      ]
     },
     "execution_count": 27,
     "metadata": {},
     "output_type": "execute_result"
    }
   ],
   "source": [
    "custs.groupby('Cohort')['Repeat_in_3'].mean()"
   ]
  },
  {
   "cell_type": "code",
   "execution_count": 28,
   "metadata": {},
   "outputs": [
    {
     "data": {
      "image/png": "[encoded data removed]",
      "text/plain": [
       "<Figure size 576x576 with 1 Axes>"
      ]
     },
     "metadata": {
      "needs_background": "light"
     },
     "output_type": "display_data"
    }
   ],
   "source": [
    "# or if you wanted to graph it.....\n",
    "%matplotlib inline\n",
    "\n",
    "\n",
    "cohorts = custs.groupby('Cohort')['Repeat_in_3'].mean().plot(figsize=(8,8), title='3 Month Conversion Rates by Cohort');"
   ]
  },
  {
   "cell_type": "markdown",
   "metadata": {},
   "source": [
    "**What impact does a second order within 3 months of 1st purchase have on lifetime customer value?  Does this effect hold true for each customer segment?**"
   ]
  },
  {
   "cell_type": "code",
   "execution_count": 29,
   "metadata": {},
   "outputs": [
    {
     "data": {
      "text/plain": [
       "Repeat_in_3\n",
       "False    2733.592157\n",
       "True     3444.923365\n",
       "Name: Sales, dtype: float64"
      ]
     },
     "execution_count": 29,
     "metadata": {},
     "output_type": "execute_result"
    }
   ],
   "source": [
    "# looks to have a pretty big dffect\n",
    "custs.groupby('Repeat_in_3')['Sales'].mean()"
   ]
  },
  {
   "cell_type": "code",
   "execution_count": 30,
   "metadata": {},
   "outputs": [
    {
     "data": {
      "text/plain": [
       "Segment      Repeat_in_3\n",
       "Consumer     False          2618.689291\n",
       "             True           3513.317260\n",
       "Corporate    False          2881.440142\n",
       "             True           3414.633882\n",
       "Home Office  False          2800.337927\n",
       "             True           3275.435906\n",
       "Name: Sales, dtype: float64"
      ]
     },
     "execution_count": 30,
     "metadata": {},
     "output_type": "execute_result"
    }
   ],
   "source": [
    "# and to break it down by segment\n",
    "custs.groupby(['Segment','Repeat_in_3'])['Sales'].mean()"
   ]
  },
  {
   "cell_type": "markdown",
   "metadata": {},
   "source": [
    "**What's the average expected sales value for a customer one year after their first purchase? How has this changed across cohorts?**"
   ]
  },
  {
   "cell_type": "code",
   "execution_count": 37,
   "metadata": {},
   "outputs": [
    {
     "data": {
      "text/plain": [
       "1096.6374001261036"
      ]
     },
     "execution_count": 37,
     "metadata": {},
     "output_type": "execute_result"
    }
   ],
   "source": [
    "# average total sales value for each customer 1 year after purchases\n",
    "custs['First_Year_Sales'].mean()"
   ]
  },
  {
   "cell_type": "code",
   "execution_count": 38,
   "metadata": {},
   "outputs": [
    {
     "data": {
      "text/plain": [
       "Cohort\n",
       "2014-1    1106.109004\n",
       "2014-2    1034.084948\n",
       "2015-1    1087.769246\n",
       "2015-2    1020.947093\n",
       "2016-1    1937.110683\n",
       "2016-2     898.243600\n",
       "2017-1     413.136200\n",
       "2017-2     907.687333\n",
       "Name: First_Year_Sales, dtype: float64"
      ]
     },
     "execution_count": 38,
     "metadata": {},
     "output_type": "execute_result"
    }
   ],
   "source": [
    "# broken down by cohort\n",
    "custs.groupby('Cohort')['First_Year_Sales'].mean()"
   ]
  },
  {
   "cell_type": "markdown",
   "metadata": {},
   "source": [
    "**How much does lifetime customer value differ across the different customer segments?**"
   ]
  },
  {
   "cell_type": "code",
   "execution_count": 40,
   "metadata": {},
   "outputs": [
    {
     "data": {
      "text/plain": [
       "Segment\n",
       "Consumer       2839.612090\n",
       "Corporate      2992.145622\n",
       "Home Office    2903.061814\n",
       "Name: Sales, dtype: float64"
      ]
     },
     "execution_count": 40,
     "metadata": {},
     "output_type": "execute_result"
    }
   ],
   "source": [
    "custs.groupby('Segment')['Sales'].mean()"
   ]
  },
  {
   "cell_type": "code",
   "execution_count": null,
   "metadata": {},
   "outputs": [],
   "source": []
  }
 ],
 "metadata": {
  "kernelspec": {
   "display_name": "Python 3",
   "language": "python",
   "name": "python3"
  },
  "language_info": {
   "codemirror_mode": {
    "name": "ipython",
    "version": 3
   },
   "file_extension": ".py",
   "mimetype": "text/x-python",
   "name": "python",
   "nbconvert_exporter": "python",
   "pygments_lexer": "ipython3",
   "version": "3.7.3"
  }
 },
 "nbformat": 4,
 "nbformat_minor": 2
}
