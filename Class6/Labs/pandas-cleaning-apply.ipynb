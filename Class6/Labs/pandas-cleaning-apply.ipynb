{
 "cells": [
  {
   "cell_type": "markdown",
   "metadata": {},
   "source": [
    "<img src=\"http://imgur.com/1ZcRyrc.png\" style=\"float: left; margin: 20px; height: 55px\">\n",
    "\n",
    "## Lab: Cleaning Rock Song Data\n",
    "\n",
    "_Authors: Dave Yerrington (SF)_\n",
    "\n",
    "---\n"
   ]
  },
  {
   "cell_type": "code",
   "execution_count": 61,
   "metadata": {},
   "outputs": [],
   "source": [
    "import pandas as pd\n",
    "import numpy as np \n",
    "import seaborn as sns\n",
    "\n",
    "%matplotlib inline"
   ]
  },
  {
   "cell_type": "markdown",
   "metadata": {},
   "source": [
    "### 1. Load `rock.csv` and do an initial examination of its data columns."
   ]
  },
  {
   "cell_type": "code",
   "execution_count": 85,
   "metadata": {},
   "outputs": [],
   "source": [
    "rockfile = \"/Users/devonbancroft/Desktop/Devon-GA-DAT-10-14/data/rock.csv\""
   ]
  },
  {
   "cell_type": "code",
   "execution_count": 86,
   "metadata": {},
   "outputs": [],
   "source": [
    "df = pd.read_csv(rockfile)"
   ]
  },
  {
   "cell_type": "code",
   "execution_count": 87,
   "metadata": {},
   "outputs": [
    {
     "data": {
      "text/html": [
       "<div>\n",
       "<style scoped>\n",
       "    .dataframe tbody tr th:only-of-type {\n",
       "        vertical-align: middle;\n",
       "    }\n",
       "\n",
       "    .dataframe tbody tr th {\n",
       "        vertical-align: top;\n",
       "    }\n",
       "\n",
       "    .dataframe thead th {\n",
       "        text-align: right;\n",
       "    }\n",
       "</style>\n",
       "<table border=\"1\" class=\"dataframe\">\n",
       "  <thead>\n",
       "    <tr style=\"text-align: right;\">\n",
       "      <th></th>\n",
       "      <th>Song Clean</th>\n",
       "      <th>ARTIST CLEAN</th>\n",
       "      <th>Release Year</th>\n",
       "      <th>COMBINED</th>\n",
       "      <th>First?</th>\n",
       "      <th>Year?</th>\n",
       "      <th>PlayCount</th>\n",
       "      <th>F*G</th>\n",
       "    </tr>\n",
       "  </thead>\n",
       "  <tbody>\n",
       "    <tr>\n",
       "      <th>0</th>\n",
       "      <td>Caught Up in You</td>\n",
       "      <td>.38 Special</td>\n",
       "      <td>1982</td>\n",
       "      <td>Caught Up in You by .38 Special</td>\n",
       "      <td>1</td>\n",
       "      <td>1</td>\n",
       "      <td>82</td>\n",
       "      <td>82</td>\n",
       "    </tr>\n",
       "  </tbody>\n",
       "</table>\n",
       "</div>"
      ],
      "text/plain": [
       "         Song Clean ARTIST CLEAN Release Year  \\\n",
       "0  Caught Up in You  .38 Special         1982   \n",
       "\n",
       "                          COMBINED  First?  Year?  PlayCount  F*G  \n",
       "0  Caught Up in You by .38 Special       1      1         82   82  "
      ]
     },
     "execution_count": 87,
     "metadata": {},
     "output_type": "execute_result"
    }
   ],
   "source": [
    "df.head(1)"
   ]
  },
  {
   "cell_type": "markdown",
   "metadata": {},
   "source": [
    "### 2.  Clean up the column names.\n",
    "\n",
    "Let's clean up the column names. There are two ways we can accomplish this:\n",
    "\n",
    "#### 2.A Change the column names when you import the data using `pd.read_csv()`.\n",
    "\n",
    "Notice that, when passing `names=[..A LIST OF STRING..]` with a number of columns that matches the number of strings in the passed list, you replace the column names.\n",
    "\n",
    "NOTE: When you create custom column names, the first row of the `.csv` already represents a header. It is important to tell `pandas` to skip that row. The `skiprows=1` keyword argument to `read_csv()` will tell `pandas` to skip the first row."
   ]
  },
  {
   "cell_type": "code",
   "execution_count": 65,
   "metadata": {},
   "outputs": [],
   "source": [
    "df = pd.read_csv(rockfile, names = ['Song', 'Artist', 'Release Year', 'Combined', 'First?', 'Year?', 'PlayCount', 'F*G'], skiprows=1)"
   ]
  },
  {
   "cell_type": "code",
   "execution_count": 66,
   "metadata": {},
   "outputs": [],
   "source": [
    "?pd.read_csv"
   ]
  },
  {
   "cell_type": "code",
   "execution_count": 67,
   "metadata": {},
   "outputs": [
    {
     "data": {
      "text/html": [
       "<div>\n",
       "<style scoped>\n",
       "    .dataframe tbody tr th:only-of-type {\n",
       "        vertical-align: middle;\n",
       "    }\n",
       "\n",
       "    .dataframe tbody tr th {\n",
       "        vertical-align: top;\n",
       "    }\n",
       "\n",
       "    .dataframe thead th {\n",
       "        text-align: right;\n",
       "    }\n",
       "</style>\n",
       "<table border=\"1\" class=\"dataframe\">\n",
       "  <thead>\n",
       "    <tr style=\"text-align: right;\">\n",
       "      <th></th>\n",
       "      <th>Song</th>\n",
       "      <th>Artist</th>\n",
       "      <th>Release Year</th>\n",
       "      <th>Combined</th>\n",
       "      <th>First?</th>\n",
       "      <th>Year?</th>\n",
       "      <th>PlayCount</th>\n",
       "      <th>F*G</th>\n",
       "    </tr>\n",
       "  </thead>\n",
       "  <tbody>\n",
       "    <tr>\n",
       "      <th>0</th>\n",
       "      <td>Caught Up in You</td>\n",
       "      <td>.38 Special</td>\n",
       "      <td>1982</td>\n",
       "      <td>Caught Up in You by .38 Special</td>\n",
       "      <td>1</td>\n",
       "      <td>1</td>\n",
       "      <td>82</td>\n",
       "      <td>82</td>\n",
       "    </tr>\n",
       "  </tbody>\n",
       "</table>\n",
       "</div>"
      ],
      "text/plain": [
       "               Song       Artist Release Year  \\\n",
       "0  Caught Up in You  .38 Special         1982   \n",
       "\n",
       "                          Combined  First?  Year?  PlayCount  F*G  \n",
       "0  Caught Up in You by .38 Special       1      1         82   82  "
      ]
     },
     "execution_count": 67,
     "metadata": {},
     "output_type": "execute_result"
    }
   ],
   "source": [
    "df.head(1)"
   ]
  },
  {
   "cell_type": "markdown",
   "metadata": {},
   "source": [
    "#### 2.B Change column names using the `.rename()` function.\n",
    "\n",
    "The `.rename()` function takes an argument, `columns=name_dict`, in which `name_dict` is a dictionary containing the original column names as keys and the new column names as values."
   ]
  },
  {
   "cell_type": "code",
   "execution_count": 88,
   "metadata": {},
   "outputs": [],
   "source": [
    "df = df.rename(columns = {'Song Clean': 'Song', 'ARTIST CLEAN': 'Artist', 'Release Year':'release'})"
   ]
  },
  {
   "cell_type": "code",
   "execution_count": 89,
   "metadata": {},
   "outputs": [
    {
     "data": {
      "text/html": [
       "<div>\n",
       "<style scoped>\n",
       "    .dataframe tbody tr th:only-of-type {\n",
       "        vertical-align: middle;\n",
       "    }\n",
       "\n",
       "    .dataframe tbody tr th {\n",
       "        vertical-align: top;\n",
       "    }\n",
       "\n",
       "    .dataframe thead th {\n",
       "        text-align: right;\n",
       "    }\n",
       "</style>\n",
       "<table border=\"1\" class=\"dataframe\">\n",
       "  <thead>\n",
       "    <tr style=\"text-align: right;\">\n",
       "      <th></th>\n",
       "      <th>Song</th>\n",
       "      <th>Artist</th>\n",
       "      <th>release</th>\n",
       "      <th>COMBINED</th>\n",
       "      <th>First?</th>\n",
       "      <th>Year?</th>\n",
       "      <th>PlayCount</th>\n",
       "      <th>F*G</th>\n",
       "    </tr>\n",
       "  </thead>\n",
       "  <tbody>\n",
       "    <tr>\n",
       "      <th>0</th>\n",
       "      <td>Caught Up in You</td>\n",
       "      <td>.38 Special</td>\n",
       "      <td>1982</td>\n",
       "      <td>Caught Up in You by .38 Special</td>\n",
       "      <td>1</td>\n",
       "      <td>1</td>\n",
       "      <td>82</td>\n",
       "      <td>82</td>\n",
       "    </tr>\n",
       "  </tbody>\n",
       "</table>\n",
       "</div>"
      ],
      "text/plain": [
       "               Song       Artist release                         COMBINED  \\\n",
       "0  Caught Up in You  .38 Special    1982  Caught Up in You by .38 Special   \n",
       "\n",
       "   First?  Year?  PlayCount  F*G  \n",
       "0       1      1         82   82  "
      ]
     },
     "execution_count": 89,
     "metadata": {},
     "output_type": "execute_result"
    }
   ],
   "source": [
    "df.head(1)"
   ]
  },
  {
   "cell_type": "markdown",
   "metadata": {},
   "source": [
    "### 3. Subsetting data where null values exist.\n",
    "\n",
    "We have mixed `str` and `NaN` values in the `release` column. `NaN` stands for \"not a number\" and is the way `pandas` handles \"nulls\" or nonexistent data. We can use the `.isnull()` method of a Series to find null values.\n",
    "\n",
    "Print the header of the data subset to where the `release` column is null values."
   ]
  },
  {
   "cell_type": "code",
   "execution_count": 90,
   "metadata": {},
   "outputs": [
    {
     "data": {
      "text/html": [
       "<div>\n",
       "<style scoped>\n",
       "    .dataframe tbody tr th:only-of-type {\n",
       "        vertical-align: middle;\n",
       "    }\n",
       "\n",
       "    .dataframe tbody tr th {\n",
       "        vertical-align: top;\n",
       "    }\n",
       "\n",
       "    .dataframe thead th {\n",
       "        text-align: right;\n",
       "    }\n",
       "</style>\n",
       "<table border=\"1\" class=\"dataframe\">\n",
       "  <thead>\n",
       "    <tr style=\"text-align: right;\">\n",
       "      <th></th>\n",
       "      <th>Song</th>\n",
       "      <th>Artist</th>\n",
       "      <th>release</th>\n",
       "      <th>COMBINED</th>\n",
       "      <th>First?</th>\n",
       "      <th>Year?</th>\n",
       "      <th>PlayCount</th>\n",
       "      <th>F*G</th>\n",
       "    </tr>\n",
       "  </thead>\n",
       "  <tbody>\n",
       "    <tr>\n",
       "      <th>1</th>\n",
       "      <td>Fantasy Girl</td>\n",
       "      <td>.38 Special</td>\n",
       "      <td>NaN</td>\n",
       "      <td>Fantasy Girl by .38 Special</td>\n",
       "      <td>1</td>\n",
       "      <td>0</td>\n",
       "      <td>3</td>\n",
       "      <td>0</td>\n",
       "    </tr>\n",
       "    <tr>\n",
       "      <th>10</th>\n",
       "      <td>Baby, Please Don't Go</td>\n",
       "      <td>AC/DC</td>\n",
       "      <td>NaN</td>\n",
       "      <td>Baby, Please Don't Go by AC/DC</td>\n",
       "      <td>1</td>\n",
       "      <td>0</td>\n",
       "      <td>1</td>\n",
       "      <td>0</td>\n",
       "    </tr>\n",
       "    <tr>\n",
       "      <th>13</th>\n",
       "      <td>CAN'T STOP ROCK'N'ROLL</td>\n",
       "      <td>AC/DC</td>\n",
       "      <td>NaN</td>\n",
       "      <td>CAN'T STOP ROCK'N'ROLL by AC/DC</td>\n",
       "      <td>1</td>\n",
       "      <td>0</td>\n",
       "      <td>5</td>\n",
       "      <td>0</td>\n",
       "    </tr>\n",
       "    <tr>\n",
       "      <th>16</th>\n",
       "      <td>Girls Got Rhythm</td>\n",
       "      <td>AC/DC</td>\n",
       "      <td>NaN</td>\n",
       "      <td>Girls Got Rhythm by AC/DC</td>\n",
       "      <td>1</td>\n",
       "      <td>0</td>\n",
       "      <td>24</td>\n",
       "      <td>0</td>\n",
       "    </tr>\n",
       "    <tr>\n",
       "      <th>24</th>\n",
       "      <td>Let's Get It Up</td>\n",
       "      <td>AC/DC</td>\n",
       "      <td>NaN</td>\n",
       "      <td>Let's Get It Up by AC/DC</td>\n",
       "      <td>1</td>\n",
       "      <td>0</td>\n",
       "      <td>4</td>\n",
       "      <td>0</td>\n",
       "    </tr>\n",
       "  </tbody>\n",
       "</table>\n",
       "</div>"
      ],
      "text/plain": [
       "                      Song       Artist release  \\\n",
       "1             Fantasy Girl  .38 Special     NaN   \n",
       "10   Baby, Please Don't Go        AC/DC     NaN   \n",
       "13  CAN'T STOP ROCK'N'ROLL        AC/DC     NaN   \n",
       "16        Girls Got Rhythm        AC/DC     NaN   \n",
       "24         Let's Get It Up        AC/DC     NaN   \n",
       "\n",
       "                           COMBINED  First?  Year?  PlayCount  F*G  \n",
       "1       Fantasy Girl by .38 Special       1      0          3    0  \n",
       "10   Baby, Please Don't Go by AC/DC       1      0          1    0  \n",
       "13  CAN'T STOP ROCK'N'ROLL by AC/DC       1      0          5    0  \n",
       "16        Girls Got Rhythm by AC/DC       1      0         24    0  \n",
       "24         Let's Get It Up by AC/DC       1      0          4    0  "
      ]
     },
     "execution_count": 90,
     "metadata": {},
     "output_type": "execute_result"
    }
   ],
   "source": [
    "df[df.release.isnull() == True].head(5)"
   ]
  },
  {
   "cell_type": "markdown",
   "metadata": {},
   "source": [
    "### 4. Update slices of your DataFrame based on mask selection/slices.\n",
    "\n",
    "In many scenarios, we want to upate values in our DataFrame according to criteria. Let's say we wanted to set all of the null values in `release` to 0.\n",
    "\n",
    "With newer versions of `pandas`, in order to manipulate data in the original DataFrame, we have to use `.loc` while performing reassignment using a mask and an index.\n",
    "\n",
    "For example, the following won't always work:\n",
    "```python\n",
    "df[row_mask]['column_name'] = new_value\n",
    "```\n",
    "\n",
    "The best way to accomplish the same task is:\n",
    "```python\n",
    "df.loc[row_mask, 'column_name'] = new_value\n",
    "```\n",
    "\n",
    "For multiple column assignment, you would use:\n",
    "```python\n",
    "df.loc[row_mask, ['col_1', 'col_2', 'col_3']] = new_value\n",
    "```\n",
    "\n",
    "#### 4.A Let's try it out. Make all of the null values in `release` 0."
   ]
  },
  {
   "cell_type": "code",
   "execution_count": 91,
   "metadata": {},
   "outputs": [
    {
     "data": {
      "text/html": [
       "<div>\n",
       "<style scoped>\n",
       "    .dataframe tbody tr th:only-of-type {\n",
       "        vertical-align: middle;\n",
       "    }\n",
       "\n",
       "    .dataframe tbody tr th {\n",
       "        vertical-align: top;\n",
       "    }\n",
       "\n",
       "    .dataframe thead th {\n",
       "        text-align: right;\n",
       "    }\n",
       "</style>\n",
       "<table border=\"1\" class=\"dataframe\">\n",
       "  <thead>\n",
       "    <tr style=\"text-align: right;\">\n",
       "      <th></th>\n",
       "      <th>Song</th>\n",
       "      <th>Artist</th>\n",
       "      <th>release</th>\n",
       "      <th>COMBINED</th>\n",
       "      <th>First?</th>\n",
       "      <th>Year?</th>\n",
       "      <th>PlayCount</th>\n",
       "      <th>F*G</th>\n",
       "    </tr>\n",
       "  </thead>\n",
       "  <tbody>\n",
       "    <tr>\n",
       "      <th>0</th>\n",
       "      <td>Caught Up in You</td>\n",
       "      <td>.38 Special</td>\n",
       "      <td>1982</td>\n",
       "      <td>Caught Up in You by .38 Special</td>\n",
       "      <td>1</td>\n",
       "      <td>1</td>\n",
       "      <td>82</td>\n",
       "      <td>82</td>\n",
       "    </tr>\n",
       "    <tr>\n",
       "      <th>1</th>\n",
       "      <td>Fantasy Girl</td>\n",
       "      <td>.38 Special</td>\n",
       "      <td>0</td>\n",
       "      <td>Fantasy Girl by .38 Special</td>\n",
       "      <td>1</td>\n",
       "      <td>0</td>\n",
       "      <td>3</td>\n",
       "      <td>0</td>\n",
       "    </tr>\n",
       "    <tr>\n",
       "      <th>2</th>\n",
       "      <td>Hold On Loosely</td>\n",
       "      <td>.38 Special</td>\n",
       "      <td>1981</td>\n",
       "      <td>Hold On Loosely by .38 Special</td>\n",
       "      <td>1</td>\n",
       "      <td>1</td>\n",
       "      <td>85</td>\n",
       "      <td>85</td>\n",
       "    </tr>\n",
       "    <tr>\n",
       "      <th>3</th>\n",
       "      <td>Rockin' Into the Night</td>\n",
       "      <td>.38 Special</td>\n",
       "      <td>1980</td>\n",
       "      <td>Rockin' Into the Night by .38 Special</td>\n",
       "      <td>1</td>\n",
       "      <td>1</td>\n",
       "      <td>18</td>\n",
       "      <td>18</td>\n",
       "    </tr>\n",
       "    <tr>\n",
       "      <th>4</th>\n",
       "      <td>Art For Arts Sake</td>\n",
       "      <td>10cc</td>\n",
       "      <td>1975</td>\n",
       "      <td>Art For Arts Sake by 10cc</td>\n",
       "      <td>1</td>\n",
       "      <td>1</td>\n",
       "      <td>1</td>\n",
       "      <td>1</td>\n",
       "    </tr>\n",
       "  </tbody>\n",
       "</table>\n",
       "</div>"
      ],
      "text/plain": [
       "                     Song       Artist release  \\\n",
       "0        Caught Up in You  .38 Special    1982   \n",
       "1            Fantasy Girl  .38 Special       0   \n",
       "2         Hold On Loosely  .38 Special    1981   \n",
       "3  Rockin' Into the Night  .38 Special    1980   \n",
       "4       Art For Arts Sake         10cc    1975   \n",
       "\n",
       "                                COMBINED  First?  Year?  PlayCount  F*G  \n",
       "0        Caught Up in You by .38 Special       1      1         82   82  \n",
       "1            Fantasy Girl by .38 Special       1      0          3    0  \n",
       "2         Hold On Loosely by .38 Special       1      1         85   85  \n",
       "3  Rockin' Into the Night by .38 Special       1      1         18   18  \n",
       "4              Art For Arts Sake by 10cc       1      1          1    1  "
      ]
     },
     "execution_count": 91,
     "metadata": {},
     "output_type": "execute_result"
    }
   ],
   "source": [
    "df.loc[df.release.isnull() == True,'release'] = 0\n",
    "df[df.release.isnull() == False].head(5)"
   ]
  },
  {
   "cell_type": "markdown",
   "metadata": {},
   "source": [
    "#### 4.B Verify that `release` contains no null values."
   ]
  },
  {
   "cell_type": "code",
   "execution_count": 92,
   "metadata": {},
   "outputs": [
    {
     "data": {
      "text/plain": [
       "0"
      ]
     },
     "execution_count": 92,
     "metadata": {},
     "output_type": "execute_result"
    }
   ],
   "source": [
    "df[df.release.isnull() == True].release.sum()"
   ]
  },
  {
   "cell_type": "markdown",
   "metadata": {},
   "source": [
    "### 5. Ensure that the data types of the columns make sense. \n",
    "\n",
    "Verifying column data types is a critical part of data munging. If columns have the wrong data type, then there is usually corrupted or incorrect data in some of the observations.\n",
    "\n",
    "#### 5.A Look at the data types for the columns. Are any incorrect given what the data represents?"
   ]
  },
  {
   "cell_type": "code",
   "execution_count": 93,
   "metadata": {},
   "outputs": [
    {
     "data": {
      "text/html": [
       "<div>\n",
       "<style scoped>\n",
       "    .dataframe tbody tr th:only-of-type {\n",
       "        vertical-align: middle;\n",
       "    }\n",
       "\n",
       "    .dataframe tbody tr th {\n",
       "        vertical-align: top;\n",
       "    }\n",
       "\n",
       "    .dataframe thead th {\n",
       "        text-align: right;\n",
       "    }\n",
       "</style>\n",
       "<table border=\"1\" class=\"dataframe\">\n",
       "  <thead>\n",
       "    <tr style=\"text-align: right;\">\n",
       "      <th></th>\n",
       "      <th>Song</th>\n",
       "      <th>Artist</th>\n",
       "      <th>release</th>\n",
       "      <th>COMBINED</th>\n",
       "      <th>First?</th>\n",
       "      <th>Year?</th>\n",
       "      <th>PlayCount</th>\n",
       "      <th>F*G</th>\n",
       "    </tr>\n",
       "  </thead>\n",
       "  <tbody>\n",
       "    <tr>\n",
       "      <th>0</th>\n",
       "      <td>Caught Up in You</td>\n",
       "      <td>.38 Special</td>\n",
       "      <td>1982</td>\n",
       "      <td>Caught Up in You by .38 Special</td>\n",
       "      <td>1</td>\n",
       "      <td>1</td>\n",
       "      <td>82</td>\n",
       "      <td>82</td>\n",
       "    </tr>\n",
       "    <tr>\n",
       "      <th>1</th>\n",
       "      <td>Fantasy Girl</td>\n",
       "      <td>.38 Special</td>\n",
       "      <td>0</td>\n",
       "      <td>Fantasy Girl by .38 Special</td>\n",
       "      <td>1</td>\n",
       "      <td>0</td>\n",
       "      <td>3</td>\n",
       "      <td>0</td>\n",
       "    </tr>\n",
       "    <tr>\n",
       "      <th>2</th>\n",
       "      <td>Hold On Loosely</td>\n",
       "      <td>.38 Special</td>\n",
       "      <td>1981</td>\n",
       "      <td>Hold On Loosely by .38 Special</td>\n",
       "      <td>1</td>\n",
       "      <td>1</td>\n",
       "      <td>85</td>\n",
       "      <td>85</td>\n",
       "    </tr>\n",
       "    <tr>\n",
       "      <th>3</th>\n",
       "      <td>Rockin' Into the Night</td>\n",
       "      <td>.38 Special</td>\n",
       "      <td>1980</td>\n",
       "      <td>Rockin' Into the Night by .38 Special</td>\n",
       "      <td>1</td>\n",
       "      <td>1</td>\n",
       "      <td>18</td>\n",
       "      <td>18</td>\n",
       "    </tr>\n",
       "    <tr>\n",
       "      <th>4</th>\n",
       "      <td>Art For Arts Sake</td>\n",
       "      <td>10cc</td>\n",
       "      <td>1975</td>\n",
       "      <td>Art For Arts Sake by 10cc</td>\n",
       "      <td>1</td>\n",
       "      <td>1</td>\n",
       "      <td>1</td>\n",
       "      <td>1</td>\n",
       "    </tr>\n",
       "  </tbody>\n",
       "</table>\n",
       "</div>"
      ],
      "text/plain": [
       "                     Song       Artist release  \\\n",
       "0        Caught Up in You  .38 Special    1982   \n",
       "1            Fantasy Girl  .38 Special       0   \n",
       "2         Hold On Loosely  .38 Special    1981   \n",
       "3  Rockin' Into the Night  .38 Special    1980   \n",
       "4       Art For Arts Sake         10cc    1975   \n",
       "\n",
       "                                COMBINED  First?  Year?  PlayCount  F*G  \n",
       "0        Caught Up in You by .38 Special       1      1         82   82  \n",
       "1            Fantasy Girl by .38 Special       1      0          3    0  \n",
       "2         Hold On Loosely by .38 Special       1      1         85   85  \n",
       "3  Rockin' Into the Night by .38 Special       1      1         18   18  \n",
       "4              Art For Arts Sake by 10cc       1      1          1    1  "
      ]
     },
     "execution_count": 93,
     "metadata": {},
     "output_type": "execute_result"
    }
   ],
   "source": [
    "df.head()"
   ]
  },
  {
   "cell_type": "markdown",
   "metadata": {},
   "source": [
    "### 6. Investigate and clean up the `release` column.\n",
    "\n",
    "The `release` column is a string data type when it should be an integer.\n",
    "\n",
    "#### 6.A Figure out what value(s) are causing the `release` column to be encoded as a string instead of an integer."
   ]
  },
  {
   "cell_type": "code",
   "execution_count": 94,
   "metadata": {},
   "outputs": [
    {
     "data": {
      "text/html": [
       "<div>\n",
       "<style scoped>\n",
       "    .dataframe tbody tr th:only-of-type {\n",
       "        vertical-align: middle;\n",
       "    }\n",
       "\n",
       "    .dataframe tbody tr th {\n",
       "        vertical-align: top;\n",
       "    }\n",
       "\n",
       "    .dataframe thead th {\n",
       "        text-align: right;\n",
       "    }\n",
       "</style>\n",
       "<table border=\"1\" class=\"dataframe\">\n",
       "  <thead>\n",
       "    <tr style=\"text-align: right;\">\n",
       "      <th></th>\n",
       "      <th>Song</th>\n",
       "      <th>Artist</th>\n",
       "      <th>release</th>\n",
       "      <th>COMBINED</th>\n",
       "      <th>First?</th>\n",
       "      <th>Year?</th>\n",
       "      <th>PlayCount</th>\n",
       "      <th>F*G</th>\n",
       "    </tr>\n",
       "  </thead>\n",
       "  <tbody>\n",
       "    <tr>\n",
       "      <th>1504</th>\n",
       "      <td>Bullfrog Blues</td>\n",
       "      <td>Rory Gallagher</td>\n",
       "      <td>SONGFACTS.COM</td>\n",
       "      <td>Bullfrog Blues by Rory Gallagher</td>\n",
       "      <td>1</td>\n",
       "      <td>1</td>\n",
       "      <td>1</td>\n",
       "      <td>1</td>\n",
       "    </tr>\n",
       "  </tbody>\n",
       "</table>\n",
       "</div>"
      ],
      "text/plain": [
       "                Song          Artist        release  \\\n",
       "1504  Bullfrog Blues  Rory Gallagher  SONGFACTS.COM   \n",
       "\n",
       "                              COMBINED  First?  Year?  PlayCount  F*G  \n",
       "1504  Bullfrog Blues by Rory Gallagher       1      1          1    1  "
      ]
     },
     "execution_count": 94,
     "metadata": {},
     "output_type": "execute_result"
    }
   ],
   "source": [
    "df[df.release.str.isdigit() == False]"
   ]
  },
  {
   "cell_type": "code",
   "execution_count": 95,
   "metadata": {},
   "outputs": [
    {
     "data": {
      "text/plain": [
       "1504    SONGFACTS.COM\n",
       "Name: release, dtype: object"
      ]
     },
     "execution_count": 95,
     "metadata": {},
     "output_type": "execute_result"
    }
   ],
   "source": [
    "df.loc[df.release.str.isdigit() == False, 'release']"
   ]
  },
  {
   "cell_type": "markdown",
   "metadata": {},
   "source": [
    "#### 6.B Look at the rows in which there is incorrect data in the `release` column."
   ]
  },
  {
   "cell_type": "code",
   "execution_count": 96,
   "metadata": {},
   "outputs": [
    {
     "data": {
      "text/html": [
       "<div>\n",
       "<style scoped>\n",
       "    .dataframe tbody tr th:only-of-type {\n",
       "        vertical-align: middle;\n",
       "    }\n",
       "\n",
       "    .dataframe tbody tr th {\n",
       "        vertical-align: top;\n",
       "    }\n",
       "\n",
       "    .dataframe thead th {\n",
       "        text-align: right;\n",
       "    }\n",
       "</style>\n",
       "<table border=\"1\" class=\"dataframe\">\n",
       "  <thead>\n",
       "    <tr style=\"text-align: right;\">\n",
       "      <th></th>\n",
       "      <th>Song</th>\n",
       "      <th>Artist</th>\n",
       "      <th>release</th>\n",
       "      <th>COMBINED</th>\n",
       "      <th>First?</th>\n",
       "      <th>Year?</th>\n",
       "      <th>PlayCount</th>\n",
       "      <th>F*G</th>\n",
       "    </tr>\n",
       "  </thead>\n",
       "  <tbody>\n",
       "    <tr>\n",
       "      <th>1504</th>\n",
       "      <td>Bullfrog Blues</td>\n",
       "      <td>Rory Gallagher</td>\n",
       "      <td>SONGFACTS.COM</td>\n",
       "      <td>Bullfrog Blues by Rory Gallagher</td>\n",
       "      <td>1</td>\n",
       "      <td>1</td>\n",
       "      <td>1</td>\n",
       "      <td>1</td>\n",
       "    </tr>\n",
       "  </tbody>\n",
       "</table>\n",
       "</div>"
      ],
      "text/plain": [
       "                Song          Artist        release  \\\n",
       "1504  Bullfrog Blues  Rory Gallagher  SONGFACTS.COM   \n",
       "\n",
       "                              COMBINED  First?  Year?  PlayCount  F*G  \n",
       "1504  Bullfrog Blues by Rory Gallagher       1      1          1    1  "
      ]
     },
     "execution_count": 96,
     "metadata": {},
     "output_type": "execute_result"
    }
   ],
   "source": [
    "df[df.release.str.isdigit() == False]"
   ]
  },
  {
   "cell_type": "code",
   "execution_count": 98,
   "metadata": {},
   "outputs": [],
   "source": [
    "df.loc[df.release.str.isdigit() == False, 'release'] = 0"
   ]
  },
  {
   "cell_type": "code",
   "execution_count": 100,
   "metadata": {},
   "outputs": [],
   "source": [
    "df = df.astype({'release': 'int32'})"
   ]
  },
  {
   "cell_type": "code",
   "execution_count": 104,
   "metadata": {},
   "outputs": [
    {
     "data": {
      "text/plain": [
       "547     1071.0\n",
       "148     1955.0\n",
       "341     1958.0\n",
       "1759    1961.0\n",
       "1804    1962.0\n",
       "258     1962.0\n",
       "1795    1962.0\n",
       "1807    1963.0\n",
       "1783    1963.0\n",
       "1782    1963.0\n",
       "1747    1963.0\n",
       "1768    1963.0\n",
       "1818    1963.0\n",
       "1791    1963.0\n",
       "1831    1963.0\n",
       "1794    1963.0\n",
       "1757    1964.0\n",
       "1939    1964.0\n",
       "1819    1964.0\n",
       "1786    1964.0\n",
       "1785    1964.0\n",
       "1750    1964.0\n",
       "1929    1964.0\n",
       "1473    1964.0\n",
       "1781    1964.0\n",
       "1730    1964.0\n",
       "1744    1964.0\n",
       "1107    1964.0\n",
       "1764    1964.0\n",
       "1829    1964.0\n",
       "         ...  \n",
       "1566    2003.0\n",
       "856     2004.0\n",
       "736     2004.0\n",
       "739     2004.0\n",
       "740     2004.0\n",
       "2103    2004.0\n",
       "634     2005.0\n",
       "2032    2005.0\n",
       "1562    2005.0\n",
       "1186    2005.0\n",
       "1187    2005.0\n",
       "1399    2006.0\n",
       "976     2007.0\n",
       "308     2007.0\n",
       "639     2007.0\n",
       "980     2008.0\n",
       "981     2008.0\n",
       "1846    2008.0\n",
       "1855    2011.0\n",
       "1856    2011.0\n",
       "640     2011.0\n",
       "903     2012.0\n",
       "1462    2012.0\n",
       "904     2012.0\n",
       "978     2012.0\n",
       "805     2012.0\n",
       "1282    2013.0\n",
       "1284    2013.0\n",
       "40      2014.0\n",
       "331     2014.0\n",
       "Name: release, Length: 2230, dtype: float64"
      ]
     },
     "execution_count": 104,
     "metadata": {},
     "output_type": "execute_result"
    }
   ],
   "source": [
    "df.release.sort_values()"
   ]
  },
  {
   "cell_type": "markdown",
   "metadata": {},
   "source": [
    "#### 6.C. Clean up the data. Normally we may replace the offending data with null np.nan values, however we previously converted all of the nan values in the release column to zeros so we might as well continue with the same practice. Replacing with 0 (or nan) will allow us to convert the column to numeric."
   ]
  },
  {
   "cell_type": "code",
   "execution_count": 78,
   "metadata": {},
   "outputs": [],
   "source": [
    "df.loc[df.release == 0, 'release'] = NaN "
   ]
  },
  {
   "cell_type": "code",
   "execution_count": 79,
   "metadata": {},
   "outputs": [],
   "source": [
    "df = df.astype({'release': 'int32'})"
   ]
  },
  {
   "cell_type": "code",
   "execution_count": 103,
   "metadata": {},
   "outputs": [],
   "source": [
    "df.loc[df.release == 0, 'release'] = df[df.release != 0].release.mean()"
   ]
  },
  {
   "cell_type": "code",
   "execution_count": 105,
   "metadata": {},
   "outputs": [],
   "source": [
    "df.loc[df.release == 1071, 'release'] = df[df.release != 0].release.mean()"
   ]
  },
  {
   "cell_type": "markdown",
   "metadata": {},
   "source": [
    "### 7. Get summary statistics for the `release` column using the `.describe()` function.\n",
    "\n",
    "Now that the `release` column is finally a numeric data type, we can apply the `.describe()` function.  \n",
    "\n",
    "#### 7.A Print out the summary stats for the `release` column. What is the earliest and latest release date?"
   ]
  },
  {
   "cell_type": "code",
   "execution_count": 106,
   "metadata": {},
   "outputs": [
    {
     "data": {
      "text/plain": [
       "count    2230.000000\n",
       "mean     1978.426711\n",
       "std         8.013509\n",
       "min      1955.000000\n",
       "25%      1973.000000\n",
       "50%      1978.019976\n",
       "75%      1981.000000\n",
       "max      2014.000000\n",
       "Name: release, dtype: float64"
      ]
     },
     "execution_count": 106,
     "metadata": {},
     "output_type": "execute_result"
    }
   ],
   "source": [
    "df.release.describe()"
   ]
  },
  {
   "cell_type": "markdown",
   "metadata": {},
   "source": [
    "#### 7.B Based on the summary statistics, is there anything else wrong with the `release` column? "
   ]
  },
  {
   "cell_type": "code",
   "execution_count": 16,
   "metadata": {},
   "outputs": [],
   "source": [
    "# A:"
   ]
  },
  {
   "cell_type": "code",
   "execution_count": 107,
   "metadata": {},
   "outputs": [
    {
     "data": {
      "text/html": [
       "<div>\n",
       "<style scoped>\n",
       "    .dataframe tbody tr th:only-of-type {\n",
       "        vertical-align: middle;\n",
       "    }\n",
       "\n",
       "    .dataframe tbody tr th {\n",
       "        vertical-align: top;\n",
       "    }\n",
       "\n",
       "    .dataframe thead th {\n",
       "        text-align: right;\n",
       "    }\n",
       "</style>\n",
       "<table border=\"1\" class=\"dataframe\">\n",
       "  <thead>\n",
       "    <tr style=\"text-align: right;\">\n",
       "      <th></th>\n",
       "      <th>Song</th>\n",
       "      <th>Artist</th>\n",
       "      <th>release</th>\n",
       "      <th>COMBINED</th>\n",
       "      <th>First?</th>\n",
       "      <th>Year?</th>\n",
       "      <th>PlayCount</th>\n",
       "      <th>F*G</th>\n",
       "    </tr>\n",
       "  </thead>\n",
       "  <tbody>\n",
       "    <tr>\n",
       "      <th>0</th>\n",
       "      <td>Caught Up in You</td>\n",
       "      <td>.38 Special</td>\n",
       "      <td>1982.0</td>\n",
       "      <td>Caught Up in You by .38 Special</td>\n",
       "      <td>1</td>\n",
       "      <td>1</td>\n",
       "      <td>82</td>\n",
       "      <td>82</td>\n",
       "    </tr>\n",
       "  </tbody>\n",
       "</table>\n",
       "</div>"
      ],
      "text/plain": [
       "               Song       Artist  release                         COMBINED  \\\n",
       "0  Caught Up in You  .38 Special   1982.0  Caught Up in You by .38 Special   \n",
       "\n",
       "   First?  Year?  PlayCount  F*G  \n",
       "0       1      1         82   82  "
      ]
     },
     "execution_count": 107,
     "metadata": {},
     "output_type": "execute_result"
    }
   ],
   "source": [
    "df.head(1)"
   ]
  },
  {
   "cell_type": "markdown",
   "metadata": {
    "collapsed": true
   },
   "source": [
    "_Looking at the DataFrame that contains the year 1071, we can see that the year was probably corrupted and should be replaced with something else if possible._"
   ]
  },
  {
   "cell_type": "markdown",
   "metadata": {
    "collapsed": true
   },
   "source": [
    "### 8. Make changes and investigate using custom functions with `.apply()`.\n",
    "\n",
    "Let's say we want to traverse every single row in our data set and apply a function to that row.\n",
    "\n",
    "#### 8.A Write a function that will take a row of a DataFrame and print out the song, artist, and whether or not the release date is < 1970.\n"
   ]
  },
  {
   "cell_type": "code",
   "execution_count": 121,
   "metadata": {},
   "outputs": [
    {
     "data": {
      "text/plain": [
       "0       (Caught Up in You, .38 Special, NOT released b...\n",
       "1       (Fantasy Girl, .38 Special, NOT released befor...\n",
       "2       (Hold On Loosely, .38 Special, NOT released be...\n",
       "3       (Rockin' Into the Night, .38 Special, NOT rele...\n",
       "4       (Art For Arts Sake, 10cc, NOT released before ...\n",
       "5       (Kryptonite, 3 Doors Down, NOT released before...\n",
       "6         (Loser, 3 Doors Down, NOT released before 1970)\n",
       "7       (When I'm Gone, 3 Doors Down, NOT released bef...\n",
       "8       (What's Up?, 4 Non Blondes, NOT released befor...\n",
       "9            (Take On Me, a-ha, NOT released before 1970)\n",
       "10      (Baby, Please Don't Go, AC/DC, NOT released be...\n",
       "11       (Back In Black, AC/DC, NOT released before 1970)\n",
       "12             (Big Gun, AC/DC, NOT released before 1970)\n",
       "13      (CAN'T STOP ROCK'N'ROLL, AC/DC, NOT released b...\n",
       "14      (Dirty Deeds Done Dirt Cheap, AC/DC, NOT relea...\n",
       "15      (For Those About To Rock, AC/DC, NOT released ...\n",
       "16      (Girls Got Rhythm, AC/DC, NOT released before ...\n",
       "17      (Hard As A Rock, AC/DC, NOT released before 1970)\n",
       "18      (Have a Drink On Me, AC/DC, NOT released befor...\n",
       "19         (Hells Bells, AC/DC, NOT released before 1970)\n",
       "20      (Highway To Hell, AC/DC, NOT released before 1...\n",
       "21      (It's A Long Way To The Top, AC/DC, NOT releas...\n",
       "22           (Jailbreak, AC/DC, NOT released before 1970)\n",
       "23      (Let There Be Rock, AC/DC, NOT released before...\n",
       "24      (Let's Get It Up, AC/DC, NOT released before 1...\n",
       "25           (Live Wire, AC/DC, NOT released before 1970)\n",
       "26          (Moneytalks, AC/DC, NOT released before 1970)\n",
       "27       (Night Prowler, AC/DC, NOT released before 1970)\n",
       "28      (Rock and Roll Ain't Noise Pollution, AC/DC, N...\n",
       "29      (Shoot To Thrill, AC/DC, NOT released before 1...\n",
       "                              ...                        \n",
       "2200    (Owner of a Lonely Heart, Yes, NOT released be...\n",
       "2201          (Roundabout, Yes, NOT released before 1970)\n",
       "2202    (Starship Trooper, Yes, NOT released before 1970)\n",
       "2203    (Wonderous Stories, Yes, NOT released before 1...\n",
       "2204    (Yours Is No Disgrace, Yes, NOT released befor...\n",
       "2205    (Tell Me What You Want, Zebra, NOT released be...\n",
       "2206    (Who's Behind The Door, Zebra, NOT released be...\n",
       "2207    (Time of the Season, Zombies, released before ...\n",
       "2208    (A Fool for Your Stockings, ZZ Top, NOT releas...\n",
       "2209    (Arrested For Driving While Blind, ZZ Top, NOT...\n",
       "2210    (Beer Drinkers & Hell Raisers, ZZ Top, NOT rel...\n",
       "2211    (Cheap Sunglasses, ZZ Top, NOT released before...\n",
       "2212    (Gimme All Your Lovin, ZZ Top, NOT released be...\n",
       "2213    (Got Me Under Pressure, ZZ Top, NOT released b...\n",
       "2214    (Heard It On the X, ZZ Top, NOT released befor...\n",
       "2215      (I Thank You, ZZ Top, NOT released before 1970)\n",
       "2216    (I'm Bad, I'm Nationwide, ZZ Top, NOT released...\n",
       "2217    (Jesus Just Left Chicago, ZZ Top, NOT released...\n",
       "2218    (Just Got Paid, ZZ Top, NOT released before 1970)\n",
       "2219        (La Grange, ZZ Top, NOT released before 1970)\n",
       "2220             (Legs, ZZ Top, NOT released before 1970)\n",
       "2221    (My Head's In Mississippi, ZZ Top, NOT release...\n",
       "2222    (Party On The Patio, ZZ Top, NOT released befo...\n",
       "2223    (Pearl Necklace, ZZ Top, NOT released before 1...\n",
       "2224    (Sharp Dressed Man, ZZ Top, NOT released befor...\n",
       "2225    (She Loves My Automobile, ZZ Top, NOT released...\n",
       "2226    (Tube Snake Boogie, ZZ Top, NOT released befor...\n",
       "2227             (Tush, ZZ Top, NOT released before 1970)\n",
       "2228       (TV Dinners, ZZ Top, NOT released before 1970)\n",
       "2229    (WAITIN' FOR THE BUS/JESUS JUST LEFT CHICAGO, ...\n",
       "Length: 2230, dtype: object"
      ]
     },
     "execution_count": 121,
     "metadata": {},
     "output_type": "execute_result"
    }
   ],
   "source": [
    "def print_stats(val):\n",
    "    if val['release'] < 1970:\n",
    "        return val.Song, val.Artist, \"released before 1970\"\n",
    "    else:\n",
    "        return val.Song, val.Artist, \"NOT released before 1970\"\n",
    "\n",
    "df.apply(print_stats, axis=1)"
   ]
  },
  {
   "cell_type": "markdown",
   "metadata": {},
   "source": [
    "#### 8.B Using the `.apply()` function, apply the function you wrote to the first four rows of the DataFrame.\n",
    "\n",
    "You will need to tell the `apply` function to operate row by row. Setting the keyword argument as `axis=1` indicates that the function should be applied to each row individually."
   ]
  },
  {
   "cell_type": "code",
   "execution_count": 122,
   "metadata": {},
   "outputs": [
    {
     "data": {
      "text/plain": [
       "0       (Caught Up in You, .38 Special, NOT released b...\n",
       "1       (Fantasy Girl, .38 Special, NOT released befor...\n",
       "2       (Hold On Loosely, .38 Special, NOT released be...\n",
       "3       (Rockin' Into the Night, .38 Special, NOT rele...\n",
       "4       (Art For Arts Sake, 10cc, NOT released before ...\n",
       "5       (Kryptonite, 3 Doors Down, NOT released before...\n",
       "6         (Loser, 3 Doors Down, NOT released before 1970)\n",
       "7       (When I'm Gone, 3 Doors Down, NOT released bef...\n",
       "8       (What's Up?, 4 Non Blondes, NOT released befor...\n",
       "9            (Take On Me, a-ha, NOT released before 1970)\n",
       "10      (Baby, Please Don't Go, AC/DC, NOT released be...\n",
       "11       (Back In Black, AC/DC, NOT released before 1970)\n",
       "12             (Big Gun, AC/DC, NOT released before 1970)\n",
       "13      (CAN'T STOP ROCK'N'ROLL, AC/DC, NOT released b...\n",
       "14      (Dirty Deeds Done Dirt Cheap, AC/DC, NOT relea...\n",
       "15      (For Those About To Rock, AC/DC, NOT released ...\n",
       "16      (Girls Got Rhythm, AC/DC, NOT released before ...\n",
       "17      (Hard As A Rock, AC/DC, NOT released before 1970)\n",
       "18      (Have a Drink On Me, AC/DC, NOT released befor...\n",
       "19         (Hells Bells, AC/DC, NOT released before 1970)\n",
       "20      (Highway To Hell, AC/DC, NOT released before 1...\n",
       "21      (It's A Long Way To The Top, AC/DC, NOT releas...\n",
       "22           (Jailbreak, AC/DC, NOT released before 1970)\n",
       "23      (Let There Be Rock, AC/DC, NOT released before...\n",
       "24      (Let's Get It Up, AC/DC, NOT released before 1...\n",
       "25           (Live Wire, AC/DC, NOT released before 1970)\n",
       "26          (Moneytalks, AC/DC, NOT released before 1970)\n",
       "27       (Night Prowler, AC/DC, NOT released before 1970)\n",
       "28      (Rock and Roll Ain't Noise Pollution, AC/DC, N...\n",
       "29      (Shoot To Thrill, AC/DC, NOT released before 1...\n",
       "                              ...                        \n",
       "2200    (Owner of a Lonely Heart, Yes, NOT released be...\n",
       "2201          (Roundabout, Yes, NOT released before 1970)\n",
       "2202    (Starship Trooper, Yes, NOT released before 1970)\n",
       "2203    (Wonderous Stories, Yes, NOT released before 1...\n",
       "2204    (Yours Is No Disgrace, Yes, NOT released befor...\n",
       "2205    (Tell Me What You Want, Zebra, NOT released be...\n",
       "2206    (Who's Behind The Door, Zebra, NOT released be...\n",
       "2207    (Time of the Season, Zombies, released before ...\n",
       "2208    (A Fool for Your Stockings, ZZ Top, NOT releas...\n",
       "2209    (Arrested For Driving While Blind, ZZ Top, NOT...\n",
       "2210    (Beer Drinkers & Hell Raisers, ZZ Top, NOT rel...\n",
       "2211    (Cheap Sunglasses, ZZ Top, NOT released before...\n",
       "2212    (Gimme All Your Lovin, ZZ Top, NOT released be...\n",
       "2213    (Got Me Under Pressure, ZZ Top, NOT released b...\n",
       "2214    (Heard It On the X, ZZ Top, NOT released befor...\n",
       "2215      (I Thank You, ZZ Top, NOT released before 1970)\n",
       "2216    (I'm Bad, I'm Nationwide, ZZ Top, NOT released...\n",
       "2217    (Jesus Just Left Chicago, ZZ Top, NOT released...\n",
       "2218    (Just Got Paid, ZZ Top, NOT released before 1970)\n",
       "2219        (La Grange, ZZ Top, NOT released before 1970)\n",
       "2220             (Legs, ZZ Top, NOT released before 1970)\n",
       "2221    (My Head's In Mississippi, ZZ Top, NOT release...\n",
       "2222    (Party On The Patio, ZZ Top, NOT released befo...\n",
       "2223    (Pearl Necklace, ZZ Top, NOT released before 1...\n",
       "2224    (Sharp Dressed Man, ZZ Top, NOT released befor...\n",
       "2225    (She Loves My Automobile, ZZ Top, NOT released...\n",
       "2226    (Tube Snake Boogie, ZZ Top, NOT released befor...\n",
       "2227             (Tush, ZZ Top, NOT released before 1970)\n",
       "2228       (TV Dinners, ZZ Top, NOT released before 1970)\n",
       "2229    (WAITIN' FOR THE BUS/JESUS JUST LEFT CHICAGO, ...\n",
       "Length: 2230, dtype: object"
      ]
     },
     "execution_count": 122,
     "metadata": {},
     "output_type": "execute_result"
    }
   ],
   "source": [
    "def print_stats(val):\n",
    "    if val['release'] < 1970:\n",
    "        return val.Song, val.Artist, \"released before 1970\"\n",
    "    else:\n",
    "        return val.Song, val.Artist, \"NOT released before 1970\"\n",
    "df.apply(print_stats, axis=1)"
   ]
  },
  {
   "cell_type": "code",
   "execution_count": 123,
   "metadata": {},
   "outputs": [],
   "source": [
    "df['Stats'] = df.head(4).apply(print_stats, axis=1)"
   ]
  },
  {
   "cell_type": "code",
   "execution_count": 124,
   "metadata": {},
   "outputs": [
    {
     "data": {
      "text/html": [
       "<div>\n",
       "<style scoped>\n",
       "    .dataframe tbody tr th:only-of-type {\n",
       "        vertical-align: middle;\n",
       "    }\n",
       "\n",
       "    .dataframe tbody tr th {\n",
       "        vertical-align: top;\n",
       "    }\n",
       "\n",
       "    .dataframe thead th {\n",
       "        text-align: right;\n",
       "    }\n",
       "</style>\n",
       "<table border=\"1\" class=\"dataframe\">\n",
       "  <thead>\n",
       "    <tr style=\"text-align: right;\">\n",
       "      <th></th>\n",
       "      <th>Song</th>\n",
       "      <th>Artist</th>\n",
       "      <th>release</th>\n",
       "      <th>COMBINED</th>\n",
       "      <th>First?</th>\n",
       "      <th>Year?</th>\n",
       "      <th>PlayCount</th>\n",
       "      <th>F*G</th>\n",
       "      <th>Stats</th>\n",
       "    </tr>\n",
       "  </thead>\n",
       "  <tbody>\n",
       "    <tr>\n",
       "      <th>0</th>\n",
       "      <td>Caught Up in You</td>\n",
       "      <td>.38 Special</td>\n",
       "      <td>1982.000000</td>\n",
       "      <td>Caught Up in You by .38 Special</td>\n",
       "      <td>1</td>\n",
       "      <td>1</td>\n",
       "      <td>82</td>\n",
       "      <td>82</td>\n",
       "      <td>(Caught Up in You, .38 Special, NOT released b...</td>\n",
       "    </tr>\n",
       "    <tr>\n",
       "      <th>1</th>\n",
       "      <td>Fantasy Girl</td>\n",
       "      <td>.38 Special</td>\n",
       "      <td>1978.019976</td>\n",
       "      <td>Fantasy Girl by .38 Special</td>\n",
       "      <td>1</td>\n",
       "      <td>0</td>\n",
       "      <td>3</td>\n",
       "      <td>0</td>\n",
       "      <td>(Fantasy Girl, .38 Special, NOT released befor...</td>\n",
       "    </tr>\n",
       "    <tr>\n",
       "      <th>2</th>\n",
       "      <td>Hold On Loosely</td>\n",
       "      <td>.38 Special</td>\n",
       "      <td>1981.000000</td>\n",
       "      <td>Hold On Loosely by .38 Special</td>\n",
       "      <td>1</td>\n",
       "      <td>1</td>\n",
       "      <td>85</td>\n",
       "      <td>85</td>\n",
       "      <td>(Hold On Loosely, .38 Special, NOT released be...</td>\n",
       "    </tr>\n",
       "    <tr>\n",
       "      <th>3</th>\n",
       "      <td>Rockin' Into the Night</td>\n",
       "      <td>.38 Special</td>\n",
       "      <td>1980.000000</td>\n",
       "      <td>Rockin' Into the Night by .38 Special</td>\n",
       "      <td>1</td>\n",
       "      <td>1</td>\n",
       "      <td>18</td>\n",
       "      <td>18</td>\n",
       "      <td>(Rockin' Into the Night, .38 Special, NOT rele...</td>\n",
       "    </tr>\n",
       "    <tr>\n",
       "      <th>4</th>\n",
       "      <td>Art For Arts Sake</td>\n",
       "      <td>10cc</td>\n",
       "      <td>1975.000000</td>\n",
       "      <td>Art For Arts Sake by 10cc</td>\n",
       "      <td>1</td>\n",
       "      <td>1</td>\n",
       "      <td>1</td>\n",
       "      <td>1</td>\n",
       "      <td>NaN</td>\n",
       "    </tr>\n",
       "    <tr>\n",
       "      <th>5</th>\n",
       "      <td>Kryptonite</td>\n",
       "      <td>3 Doors Down</td>\n",
       "      <td>2000.000000</td>\n",
       "      <td>Kryptonite by 3 Doors Down</td>\n",
       "      <td>1</td>\n",
       "      <td>1</td>\n",
       "      <td>13</td>\n",
       "      <td>13</td>\n",
       "      <td>NaN</td>\n",
       "    </tr>\n",
       "    <tr>\n",
       "      <th>6</th>\n",
       "      <td>Loser</td>\n",
       "      <td>3 Doors Down</td>\n",
       "      <td>2000.000000</td>\n",
       "      <td>Loser by 3 Doors Down</td>\n",
       "      <td>1</td>\n",
       "      <td>1</td>\n",
       "      <td>1</td>\n",
       "      <td>1</td>\n",
       "      <td>NaN</td>\n",
       "    </tr>\n",
       "    <tr>\n",
       "      <th>7</th>\n",
       "      <td>When I'm Gone</td>\n",
       "      <td>3 Doors Down</td>\n",
       "      <td>2002.000000</td>\n",
       "      <td>When I'm Gone by 3 Doors Down</td>\n",
       "      <td>1</td>\n",
       "      <td>1</td>\n",
       "      <td>6</td>\n",
       "      <td>6</td>\n",
       "      <td>NaN</td>\n",
       "    </tr>\n",
       "    <tr>\n",
       "      <th>8</th>\n",
       "      <td>What's Up?</td>\n",
       "      <td>4 Non Blondes</td>\n",
       "      <td>1992.000000</td>\n",
       "      <td>What's Up? by 4 Non Blondes</td>\n",
       "      <td>1</td>\n",
       "      <td>1</td>\n",
       "      <td>3</td>\n",
       "      <td>3</td>\n",
       "      <td>NaN</td>\n",
       "    </tr>\n",
       "    <tr>\n",
       "      <th>9</th>\n",
       "      <td>Take On Me</td>\n",
       "      <td>a-ha</td>\n",
       "      <td>1985.000000</td>\n",
       "      <td>Take On Me by a-ha</td>\n",
       "      <td>1</td>\n",
       "      <td>1</td>\n",
       "      <td>1</td>\n",
       "      <td>1</td>\n",
       "      <td>NaN</td>\n",
       "    </tr>\n",
       "  </tbody>\n",
       "</table>\n",
       "</div>"
      ],
      "text/plain": [
       "                     Song         Artist      release  \\\n",
       "0        Caught Up in You    .38 Special  1982.000000   \n",
       "1            Fantasy Girl    .38 Special  1978.019976   \n",
       "2         Hold On Loosely    .38 Special  1981.000000   \n",
       "3  Rockin' Into the Night    .38 Special  1980.000000   \n",
       "4       Art For Arts Sake           10cc  1975.000000   \n",
       "5              Kryptonite   3 Doors Down  2000.000000   \n",
       "6                   Loser   3 Doors Down  2000.000000   \n",
       "7           When I'm Gone   3 Doors Down  2002.000000   \n",
       "8              What's Up?  4 Non Blondes  1992.000000   \n",
       "9              Take On Me           a-ha  1985.000000   \n",
       "\n",
       "                                COMBINED  First?  Year?  PlayCount  F*G  \\\n",
       "0        Caught Up in You by .38 Special       1      1         82   82   \n",
       "1            Fantasy Girl by .38 Special       1      0          3    0   \n",
       "2         Hold On Loosely by .38 Special       1      1         85   85   \n",
       "3  Rockin' Into the Night by .38 Special       1      1         18   18   \n",
       "4              Art For Arts Sake by 10cc       1      1          1    1   \n",
       "5             Kryptonite by 3 Doors Down       1      1         13   13   \n",
       "6                  Loser by 3 Doors Down       1      1          1    1   \n",
       "7          When I'm Gone by 3 Doors Down       1      1          6    6   \n",
       "8            What's Up? by 4 Non Blondes       1      1          3    3   \n",
       "9                     Take On Me by a-ha       1      1          1    1   \n",
       "\n",
       "                                               Stats  \n",
       "0  (Caught Up in You, .38 Special, NOT released b...  \n",
       "1  (Fantasy Girl, .38 Special, NOT released befor...  \n",
       "2  (Hold On Loosely, .38 Special, NOT released be...  \n",
       "3  (Rockin' Into the Night, .38 Special, NOT rele...  \n",
       "4                                                NaN  \n",
       "5                                                NaN  \n",
       "6                                                NaN  \n",
       "7                                                NaN  \n",
       "8                                                NaN  \n",
       "9                                                NaN  "
      ]
     },
     "execution_count": 124,
     "metadata": {},
     "output_type": "execute_result"
    }
   ],
   "source": [
    "df.head(10)"
   ]
  },
  {
   "cell_type": "code",
   "execution_count": null,
   "metadata": {},
   "outputs": [],
   "source": [
    "new_cols = [col.lower() for col in df.columns.tolist()]\n",
    "rock.columns = new_cols"
   ]
  },
  {
   "cell_type": "code",
   "execution_count": null,
   "metadata": {},
   "outputs": [],
   "source": [
    "df['release'] = df.release.astype(str)"
   ]
  },
  {
   "cell_type": "code",
   "execution_count": 125,
   "metadata": {},
   "outputs": [
    {
     "ename": "AttributeError",
     "evalue": "Can only use .str accessor with string values, which use np.object_ dtype in pandas",
     "output_type": "error",
     "traceback": [
      "\u001b[0;31m---------------------------------------------------------------------------\u001b[0m",
      "\u001b[0;31mAttributeError\u001b[0m                            Traceback (most recent call last)",
      "\u001b[0;32m<ipython-input-125-c90aaf7b3074>\u001b[0m in \u001b[0;36m<module>\u001b[0;34m\u001b[0m\n\u001b[0;32m----> 1\u001b[0;31m \u001b[0mdf\u001b[0m\u001b[0;34m[\u001b[0m\u001b[0;34m~\u001b[0m\u001b[0mdf\u001b[0m\u001b[0;34m.\u001b[0m\u001b[0mrelease\u001b[0m\u001b[0;34m.\u001b[0m\u001b[0mstr\u001b[0m\u001b[0;34m.\u001b[0m\u001b[0misdigit\u001b[0m\u001b[0;34m(\u001b[0m\u001b[0;34m)\u001b[0m\u001b[0;34m]\u001b[0m\u001b[0;34m\u001b[0m\u001b[0;34m\u001b[0m\u001b[0m\n\u001b[0m",
      "\u001b[0;32m~/anaconda3/lib/python3.7/site-packages/pandas/core/generic.py\u001b[0m in \u001b[0;36m__getattr__\u001b[0;34m(self, name)\u001b[0m\n\u001b[1;32m   5061\u001b[0m         if (name in self._internal_names_set or name in self._metadata or\n\u001b[1;32m   5062\u001b[0m                 name in self._accessors):\n\u001b[0;32m-> 5063\u001b[0;31m             \u001b[0;32mreturn\u001b[0m \u001b[0mobject\u001b[0m\u001b[0;34m.\u001b[0m\u001b[0m__getattribute__\u001b[0m\u001b[0;34m(\u001b[0m\u001b[0mself\u001b[0m\u001b[0;34m,\u001b[0m \u001b[0mname\u001b[0m\u001b[0;34m)\u001b[0m\u001b[0;34m\u001b[0m\u001b[0;34m\u001b[0m\u001b[0m\n\u001b[0m\u001b[1;32m   5064\u001b[0m         \u001b[0;32melse\u001b[0m\u001b[0;34m:\u001b[0m\u001b[0;34m\u001b[0m\u001b[0;34m\u001b[0m\u001b[0m\n\u001b[1;32m   5065\u001b[0m             \u001b[0;32mif\u001b[0m \u001b[0mself\u001b[0m\u001b[0;34m.\u001b[0m\u001b[0m_info_axis\u001b[0m\u001b[0;34m.\u001b[0m\u001b[0m_can_hold_identifiers_and_holds_name\u001b[0m\u001b[0;34m(\u001b[0m\u001b[0mname\u001b[0m\u001b[0;34m)\u001b[0m\u001b[0;34m:\u001b[0m\u001b[0;34m\u001b[0m\u001b[0;34m\u001b[0m\u001b[0m\n",
      "\u001b[0;32m~/anaconda3/lib/python3.7/site-packages/pandas/core/accessor.py\u001b[0m in \u001b[0;36m__get__\u001b[0;34m(self, obj, cls)\u001b[0m\n\u001b[1;32m    169\u001b[0m             \u001b[0;31m# we're accessing the attribute of the class, i.e., Dataset.geo\u001b[0m\u001b[0;34m\u001b[0m\u001b[0;34m\u001b[0m\u001b[0;34m\u001b[0m\u001b[0m\n\u001b[1;32m    170\u001b[0m             \u001b[0;32mreturn\u001b[0m \u001b[0mself\u001b[0m\u001b[0;34m.\u001b[0m\u001b[0m_accessor\u001b[0m\u001b[0;34m\u001b[0m\u001b[0;34m\u001b[0m\u001b[0m\n\u001b[0;32m--> 171\u001b[0;31m         \u001b[0maccessor_obj\u001b[0m \u001b[0;34m=\u001b[0m \u001b[0mself\u001b[0m\u001b[0;34m.\u001b[0m\u001b[0m_accessor\u001b[0m\u001b[0;34m(\u001b[0m\u001b[0mobj\u001b[0m\u001b[0;34m)\u001b[0m\u001b[0;34m\u001b[0m\u001b[0;34m\u001b[0m\u001b[0m\n\u001b[0m\u001b[1;32m    172\u001b[0m         \u001b[0;31m# Replace the property with the accessor object. Inspired by:\u001b[0m\u001b[0;34m\u001b[0m\u001b[0;34m\u001b[0m\u001b[0;34m\u001b[0m\u001b[0m\n\u001b[1;32m    173\u001b[0m         \u001b[0;31m# http://www.pydanny.com/cached-property.html\u001b[0m\u001b[0;34m\u001b[0m\u001b[0;34m\u001b[0m\u001b[0;34m\u001b[0m\u001b[0m\n",
      "\u001b[0;32m~/anaconda3/lib/python3.7/site-packages/pandas/core/strings.py\u001b[0m in \u001b[0;36m__init__\u001b[0;34m(self, data)\u001b[0m\n\u001b[1;32m   1794\u001b[0m \u001b[0;34m\u001b[0m\u001b[0m\n\u001b[1;32m   1795\u001b[0m     \u001b[0;32mdef\u001b[0m \u001b[0m__init__\u001b[0m\u001b[0;34m(\u001b[0m\u001b[0mself\u001b[0m\u001b[0;34m,\u001b[0m \u001b[0mdata\u001b[0m\u001b[0;34m)\u001b[0m\u001b[0;34m:\u001b[0m\u001b[0;34m\u001b[0m\u001b[0;34m\u001b[0m\u001b[0m\n\u001b[0;32m-> 1796\u001b[0;31m         \u001b[0mself\u001b[0m\u001b[0;34m.\u001b[0m\u001b[0m_validate\u001b[0m\u001b[0;34m(\u001b[0m\u001b[0mdata\u001b[0m\u001b[0;34m)\u001b[0m\u001b[0;34m\u001b[0m\u001b[0;34m\u001b[0m\u001b[0m\n\u001b[0m\u001b[1;32m   1797\u001b[0m         \u001b[0mself\u001b[0m\u001b[0;34m.\u001b[0m\u001b[0m_is_categorical\u001b[0m \u001b[0;34m=\u001b[0m \u001b[0mis_categorical_dtype\u001b[0m\u001b[0;34m(\u001b[0m\u001b[0mdata\u001b[0m\u001b[0;34m)\u001b[0m\u001b[0;34m\u001b[0m\u001b[0;34m\u001b[0m\u001b[0m\n\u001b[1;32m   1798\u001b[0m \u001b[0;34m\u001b[0m\u001b[0m\n",
      "\u001b[0;32m~/anaconda3/lib/python3.7/site-packages/pandas/core/strings.py\u001b[0m in \u001b[0;36m_validate\u001b[0;34m(data)\u001b[0m\n\u001b[1;32m   1816\u001b[0m             \u001b[0;31m# (instead of test for object dtype), but that isn't practical for\u001b[0m\u001b[0;34m\u001b[0m\u001b[0;34m\u001b[0m\u001b[0;34m\u001b[0m\u001b[0m\n\u001b[1;32m   1817\u001b[0m             \u001b[0;31m# performance reasons until we have a str dtype (GH 9343)\u001b[0m\u001b[0;34m\u001b[0m\u001b[0;34m\u001b[0m\u001b[0;34m\u001b[0m\u001b[0m\n\u001b[0;32m-> 1818\u001b[0;31m             raise AttributeError(\"Can only use .str accessor with string \"\n\u001b[0m\u001b[1;32m   1819\u001b[0m                                  \u001b[0;34m\"values, which use np.object_ dtype in \"\u001b[0m\u001b[0;34m\u001b[0m\u001b[0;34m\u001b[0m\u001b[0m\n\u001b[1;32m   1820\u001b[0m                                  \"pandas\")\n",
      "\u001b[0;31mAttributeError\u001b[0m: Can only use .str accessor with string values, which use np.object_ dtype in pandas"
     ]
    }
   ],
   "source": [
    "df[~df.release.str.isdigit()]"
   ]
  },
  {
   "cell_type": "code",
   "execution_count": 126,
   "metadata": {},
   "outputs": [
    {
     "data": {
      "text/html": [
       "<div>\n",
       "<style scoped>\n",
       "    .dataframe tbody tr th:only-of-type {\n",
       "        vertical-align: middle;\n",
       "    }\n",
       "\n",
       "    .dataframe tbody tr th {\n",
       "        vertical-align: top;\n",
       "    }\n",
       "\n",
       "    .dataframe thead th {\n",
       "        text-align: right;\n",
       "    }\n",
       "</style>\n",
       "<table border=\"1\" class=\"dataframe\">\n",
       "  <thead>\n",
       "    <tr style=\"text-align: right;\">\n",
       "      <th></th>\n",
       "      <th>Song</th>\n",
       "      <th>Artist</th>\n",
       "      <th>release</th>\n",
       "      <th>COMBINED</th>\n",
       "      <th>First?</th>\n",
       "      <th>Year?</th>\n",
       "      <th>PlayCount</th>\n",
       "      <th>F*G</th>\n",
       "      <th>Stats</th>\n",
       "    </tr>\n",
       "  </thead>\n",
       "  <tbody>\n",
       "    <tr>\n",
       "      <th>0</th>\n",
       "      <td>Caught Up in You</td>\n",
       "      <td>.38 Special</td>\n",
       "      <td>1982.000000</td>\n",
       "      <td>Caught Up in You by .38 Special</td>\n",
       "      <td>1</td>\n",
       "      <td>1</td>\n",
       "      <td>82</td>\n",
       "      <td>82</td>\n",
       "      <td>(Caught Up in You, .38 Special, NOT released b...</td>\n",
       "    </tr>\n",
       "    <tr>\n",
       "      <th>1</th>\n",
       "      <td>Fantasy Girl</td>\n",
       "      <td>.38 Special</td>\n",
       "      <td>1978.019976</td>\n",
       "      <td>Fantasy Girl by .38 Special</td>\n",
       "      <td>1</td>\n",
       "      <td>0</td>\n",
       "      <td>3</td>\n",
       "      <td>0</td>\n",
       "      <td>(Fantasy Girl, .38 Special, NOT released befor...</td>\n",
       "    </tr>\n",
       "    <tr>\n",
       "      <th>2</th>\n",
       "      <td>Hold On Loosely</td>\n",
       "      <td>.38 Special</td>\n",
       "      <td>1981.000000</td>\n",
       "      <td>Hold On Loosely by .38 Special</td>\n",
       "      <td>1</td>\n",
       "      <td>1</td>\n",
       "      <td>85</td>\n",
       "      <td>85</td>\n",
       "      <td>(Hold On Loosely, .38 Special, NOT released be...</td>\n",
       "    </tr>\n",
       "    <tr>\n",
       "      <th>3</th>\n",
       "      <td>Rockin' Into the Night</td>\n",
       "      <td>.38 Special</td>\n",
       "      <td>1980.000000</td>\n",
       "      <td>Rockin' Into the Night by .38 Special</td>\n",
       "      <td>1</td>\n",
       "      <td>1</td>\n",
       "      <td>18</td>\n",
       "      <td>18</td>\n",
       "      <td>(Rockin' Into the Night, .38 Special, NOT rele...</td>\n",
       "    </tr>\n",
       "    <tr>\n",
       "      <th>4</th>\n",
       "      <td>Art For Arts Sake</td>\n",
       "      <td>10cc</td>\n",
       "      <td>1975.000000</td>\n",
       "      <td>Art For Arts Sake by 10cc</td>\n",
       "      <td>1</td>\n",
       "      <td>1</td>\n",
       "      <td>1</td>\n",
       "      <td>1</td>\n",
       "      <td>NaN</td>\n",
       "    </tr>\n",
       "  </tbody>\n",
       "</table>\n",
       "</div>"
      ],
      "text/plain": [
       "                     Song       Artist      release  \\\n",
       "0        Caught Up in You  .38 Special  1982.000000   \n",
       "1            Fantasy Girl  .38 Special  1978.019976   \n",
       "2         Hold On Loosely  .38 Special  1981.000000   \n",
       "3  Rockin' Into the Night  .38 Special  1980.000000   \n",
       "4       Art For Arts Sake         10cc  1975.000000   \n",
       "\n",
       "                                COMBINED  First?  Year?  PlayCount  F*G  \\\n",
       "0        Caught Up in You by .38 Special       1      1         82   82   \n",
       "1            Fantasy Girl by .38 Special       1      0          3    0   \n",
       "2         Hold On Loosely by .38 Special       1      1         85   85   \n",
       "3  Rockin' Into the Night by .38 Special       1      1         18   18   \n",
       "4              Art For Arts Sake by 10cc       1      1          1    1   \n",
       "\n",
       "                                               Stats  \n",
       "0  (Caught Up in You, .38 Special, NOT released b...  \n",
       "1  (Fantasy Girl, .38 Special, NOT released befor...  \n",
       "2  (Hold On Loosely, .38 Special, NOT released be...  \n",
       "3  (Rockin' Into the Night, .38 Special, NOT rele...  \n",
       "4                                                NaN  "
      ]
     },
     "execution_count": 126,
     "metadata": {},
     "output_type": "execute_result"
    }
   ],
   "source": [
    "df.head()"
   ]
  },
  {
   "cell_type": "code",
   "execution_count": null,
   "metadata": {},
   "outputs": [],
   "source": []
  }
 ],
 "metadata": {
  "anaconda-cloud": {},
  "kernelspec": {
   "display_name": "Python 3",
   "language": "python",
   "name": "python3"
  },
  "language_info": {
   "codemirror_mode": {
    "name": "ipython",
    "version": 3
   },
   "file_extension": ".py",
   "mimetype": "text/x-python",
   "name": "python",
   "nbconvert_exporter": "python",
   "pygments_lexer": "ipython3",
   "version": "3.7.3"
  }
 },
 "nbformat": 4,
 "nbformat_minor": 1
}
