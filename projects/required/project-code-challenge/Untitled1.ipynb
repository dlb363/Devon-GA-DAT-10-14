{
 "cells": [
  {
   "cell_type": "code",
   "execution_count": 107,
   "metadata": {},
   "outputs": [
    {
     "name": "stdout",
     "output_type": "stream",
     "text": [
      "277050\n"
     ]
    }
   ],
   "source": [
    "sumPrimes = 0\n",
    "max_prime = 2000 #setting the max number that we will begin to iterate through in the below program\n",
    "\n",
    "#creating a nested loop so we can go through max_prime.  It will return true if it's a prime number, \n",
    "# and it will return false if it's not a prime number\n",
    "for x in range (2, max_prime):   \n",
    "    primeCheck = True\n",
    "    for y in range (2,x):\n",
    "        if x % y == 0:\n",
    "            primeCheck = False\n",
    "      \n",
    "             \n",
    "    if primeCheck:\n",
    "        sumPrimes += x   #add all of the prime numbers together\n",
    "print(sumPrimes)\n",
    "        \n",
    "            "
   ]
  },
  {
   "cell_type": "code",
   "execution_count": null,
   "metadata": {},
   "outputs": [],
   "source": []
  },
  {
   "cell_type": "code",
   "execution_count": 80,
   "metadata": {},
   "outputs": [
    {
     "name": "stdout",
     "output_type": "stream",
     "text": [
      "233168\n"
     ]
    }
   ],
   "source": [
    "total_multiples = 0\n",
    "max_number = 1000\n",
    "\n",
    "for x in range(1, max_number):\n",
    "#checking to see if the number passed is divisible by 3 or 5, if so, then add it to my variable\n",
    "\n",
    "    if (x % 3 == 0 or x % 5 == 0):  \n",
    "        total_multiples += x\n",
    "        \n",
    "print(total_multiples) "
   ]
  },
  {
   "cell_type": "code",
   "execution_count": null,
   "metadata": {},
   "outputs": [],
   "source": []
  },
  {
   "cell_type": "code",
   "execution_count": 112,
   "metadata": {},
   "outputs": [
    {
     "name": "stdout",
     "output_type": "stream",
     "text": [
      "Fizz\n",
      "Buzz\n",
      "Fizz\n",
      "Fizz\n",
      "Buzz\n",
      "Fizz\n",
      "FizzBuzz\n",
      "Fizz\n",
      "Buzz\n",
      "Fizz\n",
      "Fizz\n",
      "Buzz\n",
      "Fizz\n",
      "FizzBuzz\n",
      "Fizz\n",
      "Buzz\n",
      "Fizz\n",
      "Fizz\n",
      "Buzz\n",
      "Fizz\n",
      "FizzBuzz\n",
      "Fizz\n",
      "Buzz\n",
      "Fizz\n",
      "Fizz\n",
      "Buzz\n",
      "Fizz\n",
      "FizzBuzz\n",
      "Fizz\n",
      "Buzz\n",
      "Fizz\n",
      "Fizz\n",
      "Buzz\n",
      "Fizz\n",
      "FizzBuzz\n",
      "Fizz\n",
      "Buzz\n",
      "Fizz\n",
      "Fizz\n",
      "Buzz\n",
      "Fizz\n",
      "FizzBuzz\n",
      "Fizz\n",
      "Buzz\n",
      "Fizz\n",
      "Fizz\n",
      "Buzz\n"
     ]
    }
   ],
   "source": [
    "max_number = 100\n",
    "for x in range(1, max_number+1):\n",
    "    if (x % 3 == 0 and x % 5 == 0):\n",
    "        print('FizzBuzz')\n",
    "        continue    #using continue to skip to the next iteration of the for loop, otherwise it would print fizz and buzz additional times\n",
    "    if (x % 3 == 0):  \n",
    "        print('Fizz')\n",
    "        continue        \n",
    "    if (x % 5 == 0):  \n",
    "        print('Buzz')\n",
    "        continue\n",
    "        \n",
    "    print(x)\n",
    "   \n"
   ]
  },
  {
   "cell_type": "code",
   "execution_count": null,
   "metadata": {},
   "outputs": [],
   "source": [
    "# Function to calculate largest \n",
    "# palindrome which is \n",
    "#  product of two n-digits numbers \n",
    "     \n",
    "def larrgestPalindrome(n): \n",
    "  \n",
    "    upper_limit = 0\n",
    "   \n",
    "    # Loop to calculate upper \n",
    "    # bound(largest number \n",
    "    # of n-digit) \n",
    "    for i in range(1, n+1): \n",
    "      \n",
    "        upper_limit =upper_limit * 10\n",
    "        upper_limit =upper_limit + 9\n",
    "      \n",
    "   \n",
    "    # largest number of n-1 digit. \n",
    "    # One plus this number  \n",
    "    # is lower limit which is \n",
    "    # product of two numbers. \n",
    "    lower_limit = 1 + upper_limit//10\n",
    "   \n",
    "    max_product = 0 # Initialize result \n",
    "    for i in range(upper_limit,lower_limit-1, -1): \n",
    "      \n",
    "        for j in range(i,lower_limit-1,-1): \n",
    "          \n",
    "            # calculating product of \n",
    "            # two n-digit numbers \n",
    "            product = i * j \n",
    "            if (product < max_product): \n",
    "                break\n",
    "            number = product \n",
    "            reverse = 0\n",
    "   \n",
    "            # calculating reverse of \n",
    "            # product to check \n",
    "            # whether it is palindrome or not \n",
    "            while (number != 0): \n",
    "              \n",
    "                reverse = reverse * 10 + number % 10\n",
    "                number =number // 10\n",
    "              \n",
    "   \n",
    "             # update new product if exist and if \n",
    "             # greater than previous one \n",
    "            if (product == reverse and product > max_product): \n",
    "                max_product = product \n",
    "          \n",
    "      \n",
    "    return max_product "
   ]
  },
  {
   "cell_type": "code",
   "execution_count": null,
   "metadata": {},
   "outputs": [],
   "source": [
    "n = 3\n",
    "print(larrgestPalindrome(x))"
   ]
  },
  {
   "cell_type": "code",
   "execution_count": null,
   "metadata": {},
   "outputs": [],
   "source": []
  }
 ],
 "metadata": {
  "kernelspec": {
   "display_name": "Python 3",
   "language": "python",
   "name": "python3"
  },
  "language_info": {
   "codemirror_mode": {
    "name": "ipython",
    "version": 3
   },
   "file_extension": ".py",
   "mimetype": "text/x-python",
   "name": "python",
   "nbconvert_exporter": "python",
   "pygments_lexer": "ipython3",
   "version": "3.7.3"
  }
 },
 "nbformat": 4,
 "nbformat_minor": 2
}
