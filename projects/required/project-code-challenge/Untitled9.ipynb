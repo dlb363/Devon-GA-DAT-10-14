{
 "cells": [
  {
   "cell_type": "code",
   "execution_count": 1,
   "metadata": {},
   "outputs": [
    {
     "name": "stdout",
     "output_type": "stream",
     "text": [
      "0\n",
      "1\n",
      "2\n",
      "3\n",
      "4\n"
     ]
    }
   ],
   "source": [
    "for i in range(0,5):\n",
    "   print(i)\n"
   ]
  },
  {
   "cell_type": "code",
   "execution_count": 6,
   "metadata": {},
   "outputs": [
    {
     "name": "stdout",
     "output_type": "stream",
     "text": [
      "2\n",
      "3\n",
      "2\n",
      "4\n",
      "2\n",
      "3\n",
      "5\n",
      "2\n",
      "3\n",
      "4\n",
      "6\n",
      "2\n",
      "3\n",
      "4\n",
      "5\n",
      "7\n",
      "2\n",
      "3\n",
      "4\n",
      "5\n",
      "6\n",
      "8\n",
      "2\n",
      "3\n",
      "4\n",
      "5\n",
      "6\n",
      "7\n"
     ]
    }
   ],
   "source": [
    "sumPrimes = 0\n",
    "max_prime = 9 #setting the max number that we will begin to iterate through in the below program\n",
    "\n",
    "#creating a nested loop so we can go through max_prime.  It will return true if it's a prime number, \n",
    "# and it will return false if it's not a prime number. \n",
    "for x in range (2, max_prime):   \n",
    "    primeCheck = True\n",
    "    print(x)\n",
    "    for y in range (2,x):  #\n",
    "        print(y)\n",
    "        if x % y == 0:\n",
    "            primeCheck = False       \n",
    "    if primeCheck:\n",
    "        sumPrimes += x   #add all of the prime numbers together\n",
    "        "
   ]
  },
  {
   "cell_type": "code",
   "execution_count": 10,
   "metadata": {},
   "outputs": [
    {
     "name": "stdout",
     "output_type": "stream",
     "text": [
      "2, "
     ]
    }
   ],
   "source": [
    "for i in range(2,3):\n",
    "    print(i, end=', ')"
   ]
  },
  {
   "cell_type": "code",
   "execution_count": null,
   "metadata": {},
   "outputs": [],
   "source": []
  }
 ],
 "metadata": {
  "kernelspec": {
   "display_name": "Python 3",
   "language": "python",
   "name": "python3"
  },
  "language_info": {
   "codemirror_mode": {
    "name": "ipython",
    "version": 3
   },
   "file_extension": ".py",
   "mimetype": "text/x-python",
   "name": "python",
   "nbconvert_exporter": "python",
   "pygments_lexer": "ipython3",
   "version": "3.7.3"
  }
 },
 "nbformat": 4,
 "nbformat_minor": 2
}
