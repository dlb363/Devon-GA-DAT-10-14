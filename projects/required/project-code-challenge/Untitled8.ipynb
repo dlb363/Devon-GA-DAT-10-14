{
 "cells": [
  {
   "cell_type": "code",
   "execution_count": 7,
   "metadata": {},
   "outputs": [
    {
     "name": "stdout",
     "output_type": "stream",
     "text": [
      "906609\n"
     ]
    }
   ],
   "source": [
    "largestPalindrome = 0\n",
    "\n",
    "#Created a function that will test if a number that is passed to it, is a Palindrome\n",
    "#I have to convert the integer into a string, so I can reverse it to compare\n",
    "def isPalindrome(x):\n",
    "    testPalindrome = str(x)\n",
    "    if testPalindrome == testPalindrome[::-1]:\n",
    "        return True\n",
    "    else:\n",
    "        return False    \n",
    "\n",
    "#nested loop to run through min and max numbers, if isPalindrome returns true, \n",
    "#then it is stored in largest Palindrone    \n",
    "for x in range (100, 1000):\n",
    "    for i in range (100, 1000):\n",
    "        if isPalindrome(x*i) == True and (x*i) > largestPalindrome:\n",
    "            largestPalindrome = (x*i)\n",
    "            \n",
    "print(largestPalindrome)"
   ]
  },
  {
   "cell_type": "code",
   "execution_count": null,
   "metadata": {},
   "outputs": [],
   "source": []
  }
 ],
 "metadata": {
  "kernelspec": {
   "display_name": "Python 3",
   "language": "python",
   "name": "python3"
  }
 },
 "nbformat": 4,
 "nbformat_minor": 2
}
