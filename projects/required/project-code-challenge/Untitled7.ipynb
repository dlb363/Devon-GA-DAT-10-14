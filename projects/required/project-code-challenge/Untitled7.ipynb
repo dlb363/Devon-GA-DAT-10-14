{
 "cells": [
  {
   "cell_type": "code",
   "execution_count": 1,
   "metadata": {},
   "outputs": [],
   "source": [
    "# Function to calculate largest \n",
    "# palindrome which is \n",
    "#  product of two n-digits numbers \n",
    "     \n",
    "def larrgestPalindrome(n): \n",
    "  \n",
    "    upper_limit = 0\n",
    "   \n",
    "    # Loop to calculate upper \n",
    "    # bound(largest number \n",
    "    # of n-digit) \n",
    "    for i in range(1, n+1): \n",
    "      \n",
    "        upper_limit =upper_limit * 10\n",
    "        upper_limit =upper_limit + 9\n",
    "      \n",
    "   \n",
    "    # largest number of n-1 digit. \n",
    "    # One plus this number  \n",
    "    # is lower limit which is \n",
    "    # product of two numbers. \n",
    "    lower_limit = 1 + upper_limit//10\n",
    "   \n",
    "    max_product = 0 # Initialize result \n",
    "    for i in range(upper_limit,lower_limit-1, -1): \n",
    "      \n",
    "        for j in range(i,lower_limit-1,-1): \n",
    "          \n",
    "            # calculating product of \n",
    "            # two n-digit numbers \n",
    "            product = i * j \n",
    "            if (product < max_product): \n",
    "                break\n",
    "            number = product \n",
    "            reverse = 0\n",
    "   \n",
    "            # calculating reverse of \n",
    "            # product to check \n",
    "            # whether it is palindrome or not \n",
    "            while (number != 0): \n",
    "              \n",
    "                reverse = reverse * 10 + number % 10\n",
    "                number =number // 10\n",
    "              \n",
    "   \n",
    "             # update new product if exist and if \n",
    "             # greater than previous one \n",
    "            if (product == reverse and product > max_product): \n",
    "                max_product = product \n",
    "          \n",
    "      \n",
    "    return max_product "
   ]
  },
  {
   "cell_type": "code",
   "execution_count": 3,
   "metadata": {},
   "outputs": [
    {
     "name": "stdout",
     "output_type": "stream",
     "text": [
      "906609\n"
     ]
    }
   ],
   "source": [
    "n = 3\n",
    "print(larrgestPalindrome(n))"
   ]
  },
  {
   "cell_type": "code",
   "execution_count": null,
   "metadata": {},
   "outputs": [],
   "source": []
  }
 ],
 "metadata": {
  "kernelspec": {
   "display_name": "Python 3",
   "language": "python",
   "name": "python3"
  },
  "language_info": {
   "codemirror_mode": {
    "name": "ipython",
    "version": 3
   },
   "file_extension": ".py",
   "mimetype": "text/x-python",
   "name": "python",
   "nbconvert_exporter": "python",
   "pygments_lexer": "ipython3",
   "version": "3.7.3"
  }
 },
 "nbformat": 4,
 "nbformat_minor": 2
}
