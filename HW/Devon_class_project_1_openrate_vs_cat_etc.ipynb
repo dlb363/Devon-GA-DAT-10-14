{
 "cells": [
  {
   "cell_type": "code",
   "execution_count": 1,
   "metadata": {},
   "outputs": [],
   "source": [
    "import pandas as pd\n",
    "import numpy as np\n",
    "%matplotlib inline\n",
    "import seaborn as sns\n",
    "import matplotlib.pyplot as plt\n",
    "import snpytools as snpy\n",
    "def q(sql):\n",
    "    return snpy.df_from_presto(sql, user_name = 'devon.bancroft')"
   ]
  },
  {
   "cell_type": "markdown",
   "metadata": {},
   "source": [
    "### Breaking Push open rate exploration"
   ]
  },
  {
   "cell_type": "markdown",
   "metadata": {},
   "source": [
    "#### Questions:\n",
    "1. What is the relationship between category and open rate?\n",
    "2. What is the relationship between title length and open rate?\n",
    "3. How does including \"Trump\" in the title affect open rate? \"Impeachment\"?\n",
    "4. What is the trend of open rates overtime? By category?\n",
    "\n",
    "Segmentations: platform (iOS vs Android)"
   ]
  },
  {
   "cell_type": "markdown",
   "metadata": {},
   "source": [
    "### Getting number of opens by url and platform"
   ]
  },
  {
   "cell_type": "code",
   "execution_count": 2,
   "metadata": {},
   "outputs": [
    {
     "name": "stdout",
     "output_type": "stream",
     "text": [
      "SELECT a.dt,\n",
      "       a.title,\n",
      "       a.url,\n",
      "       b.cat,\n",
      "       c.platform,\n",
      "       c.opens\n",
      "FROM\n",
      "  (SELECT *\n",
      "   FROM\n",
      "     (SELECT date_format(from_unixtime(sent_flg), '%Y-%m-%d') AS dt,\n",
      "             title,\n",
      "             url\n",
      "      FROM rds.smartnews.breaking_push\n",
      "      WHERE edition = 'en_US'\n",
      "        AND target_user = 1)\n",
      "   WHERE dt BETWEEN '2019-07-02' AND '2019-10-29') a\n",
      "INNER JOIN\n",
      "  (SELECT url,\n",
      "          min(cat) AS cat\n",
      "   FROM articles\n",
      "   CROSS JOIN UNNEST(category) AS t(cat)\n",
      "   WHERE lang = 'EN'\n",
      "     AND dt > '2019-06-01'\n",
      "   GROUP BY 1) b ON a.url=b.url\n",
      "LEFT JOIN\n",
      "  (SELECT platform,\n",
      "          url,\n",
      "          count(*) AS opens\n",
      "   FROM actions\n",
      "   WHERE action = 'receivePush'\n",
      "     AND dt BETWEEN '2019-07-02' AND '2019-10-29'\n",
      "     AND edition = 'en_US'\n",
      "   GROUP BY 1,\n",
      "            2) c ON a.url=c.url\n",
      "Length of dataframe is 790\n",
      "Top 5 rows of the dataframe:\n",
      "           dt                                              title  \\\n",
      "0  2019-07-03        Federal judge blocks Ohio anti-abortion law   \n",
      "1  2019-07-03        Federal judge blocks Ohio anti-abortion law   \n",
      "2  2019-07-06  Even more powerful quake shakes Southern Calif...   \n",
      "3  2019-07-06  Even more powerful quake shakes Southern Calif...   \n",
      "4  2019-07-10  UK Ambassador Who Called Trump ‘Inept’ And ‘Dy...   \n",
      "\n",
      "                                                 url             cat platform  \\\n",
      "0  https://www.reuters.com/article/us-usa-abortio...  EN_US_POLITICS  android   \n",
      "1  https://www.reuters.com/article/us-usa-abortio...  EN_US_POLITICS      ios   \n",
      "2  https://www.nbcnews.com/news/us-news/earthquak...  EN_US_NATIONAL  android   \n",
      "3  https://www.nbcnews.com/news/us-news/earthquak...  EN_US_NATIONAL      ios   \n",
      "4  https://www.huffpost.com/entry/uk-ambassador-r...  EN_US_POLITICS  android   \n",
      "\n",
      "    opens  \n",
      "0   76236  \n",
      "1   12286  \n",
      "2  136187  \n",
      "3   29194  \n",
      "4   82727  \n"
     ]
    }
   ],
   "source": [
    "df = q('''\n",
    "SELECT a.dt, a.title, a.url, b.cat, c.platform, c.opens\n",
    "FROM\n",
    "(SELECT * FROM (SELECT date_format(from_unixtime(sent_flg), '%Y-%m-%d') AS dt,\n",
    "          title,\n",
    "          url\n",
    "   FROM rds.smartnews.breaking_push\n",
    "   WHERE edition = 'en_US'\n",
    "     AND target_user = 1)\n",
    "   WHERE dt BETWEEN '2019-07-02' AND '2019-10-29') a\n",
    "INNER JOIN\n",
    "(SELECT url, min(cat) as cat\n",
    "from articles\n",
    "CROSS JOIN UNNEST(category) as t(cat)\n",
    "WHERE lang = 'EN'\n",
    "AND dt > '2019-06-01'\n",
    "GROUP BY 1) b on a.url=b.url\n",
    "LEFT JOIN\n",
    "(SELECT platform, url, count(*) as opens\n",
    "FROM actions\n",
    "WHERE action = 'receivePush'\n",
    "AND dt BETWEEN '2019-07-02' AND '2019-10-29'\n",
    "AND edition = 'en_US'\n",
    "GROUP BY 1, 2) c on a.url=c.url\n",
    "''')"
   ]
  },
  {
   "cell_type": "code",
   "execution_count": 3,
   "metadata": {},
   "outputs": [
    {
     "data": {
      "text/html": [
       "<div>\n",
       "<style scoped>\n",
       "    .dataframe tbody tr th:only-of-type {\n",
       "        vertical-align: middle;\n",
       "    }\n",
       "\n",
       "    .dataframe tbody tr th {\n",
       "        vertical-align: top;\n",
       "    }\n",
       "\n",
       "    .dataframe thead th {\n",
       "        text-align: right;\n",
       "    }\n",
       "</style>\n",
       "<table border=\"1\" class=\"dataframe\">\n",
       "  <thead>\n",
       "    <tr style=\"text-align: right;\">\n",
       "      <th></th>\n",
       "      <th>dt</th>\n",
       "      <th>title</th>\n",
       "      <th>url</th>\n",
       "      <th>cat</th>\n",
       "      <th>platform</th>\n",
       "      <th>opens</th>\n",
       "    </tr>\n",
       "  </thead>\n",
       "  <tbody>\n",
       "    <tr>\n",
       "      <td>0</td>\n",
       "      <td>2019-07-03</td>\n",
       "      <td>Federal judge blocks Ohio anti-abortion law</td>\n",
       "      <td>https://www.reuters.com/article/us-usa-abortio...</td>\n",
       "      <td>EN_US_POLITICS</td>\n",
       "      <td>android</td>\n",
       "      <td>76236</td>\n",
       "    </tr>\n",
       "    <tr>\n",
       "      <td>1</td>\n",
       "      <td>2019-07-03</td>\n",
       "      <td>Federal judge blocks Ohio anti-abortion law</td>\n",
       "      <td>https://www.reuters.com/article/us-usa-abortio...</td>\n",
       "      <td>EN_US_POLITICS</td>\n",
       "      <td>ios</td>\n",
       "      <td>12286</td>\n",
       "    </tr>\n",
       "    <tr>\n",
       "      <td>2</td>\n",
       "      <td>2019-07-06</td>\n",
       "      <td>Even more powerful quake shakes Southern Calif...</td>\n",
       "      <td>https://www.nbcnews.com/news/us-news/earthquak...</td>\n",
       "      <td>EN_US_NATIONAL</td>\n",
       "      <td>android</td>\n",
       "      <td>136187</td>\n",
       "    </tr>\n",
       "    <tr>\n",
       "      <td>3</td>\n",
       "      <td>2019-07-06</td>\n",
       "      <td>Even more powerful quake shakes Southern Calif...</td>\n",
       "      <td>https://www.nbcnews.com/news/us-news/earthquak...</td>\n",
       "      <td>EN_US_NATIONAL</td>\n",
       "      <td>ios</td>\n",
       "      <td>29194</td>\n",
       "    </tr>\n",
       "    <tr>\n",
       "      <td>4</td>\n",
       "      <td>2019-07-10</td>\n",
       "      <td>UK Ambassador Who Called Trump ‘Inept’ And ‘Dy...</td>\n",
       "      <td>https://www.huffpost.com/entry/uk-ambassador-r...</td>\n",
       "      <td>EN_US_POLITICS</td>\n",
       "      <td>android</td>\n",
       "      <td>82727</td>\n",
       "    </tr>\n",
       "  </tbody>\n",
       "</table>\n",
       "</div>"
      ],
      "text/plain": [
       "           dt                                              title  \\\n",
       "0  2019-07-03        Federal judge blocks Ohio anti-abortion law   \n",
       "1  2019-07-03        Federal judge blocks Ohio anti-abortion law   \n",
       "2  2019-07-06  Even more powerful quake shakes Southern Calif...   \n",
       "3  2019-07-06  Even more powerful quake shakes Southern Calif...   \n",
       "4  2019-07-10  UK Ambassador Who Called Trump ‘Inept’ And ‘Dy...   \n",
       "\n",
       "                                                 url             cat platform  \\\n",
       "0  https://www.reuters.com/article/us-usa-abortio...  EN_US_POLITICS  android   \n",
       "1  https://www.reuters.com/article/us-usa-abortio...  EN_US_POLITICS      ios   \n",
       "2  https://www.nbcnews.com/news/us-news/earthquak...  EN_US_NATIONAL  android   \n",
       "3  https://www.nbcnews.com/news/us-news/earthquak...  EN_US_NATIONAL      ios   \n",
       "4  https://www.huffpost.com/entry/uk-ambassador-r...  EN_US_POLITICS  android   \n",
       "\n",
       "    opens  \n",
       "0   76236  \n",
       "1   12286  \n",
       "2  136187  \n",
       "3   29194  \n",
       "4   82727  "
      ]
     },
     "execution_count": 3,
     "metadata": {},
     "output_type": "execute_result"
    }
   ],
   "source": [
    "df.head()"
   ]
  },
  {
   "cell_type": "code",
   "execution_count": 4,
   "metadata": {},
   "outputs": [
    {
     "data": {
      "text/plain": [
       "(790, 6)"
      ]
     },
     "execution_count": 4,
     "metadata": {},
     "output_type": "execute_result"
    }
   ],
   "source": [
    "df.shape"
   ]
  },
  {
   "cell_type": "code",
   "execution_count": 5,
   "metadata": {},
   "outputs": [
    {
     "data": {
      "text/html": [
       "<div>\n",
       "<style scoped>\n",
       "    .dataframe tbody tr th:only-of-type {\n",
       "        vertical-align: middle;\n",
       "    }\n",
       "\n",
       "    .dataframe tbody tr th {\n",
       "        vertical-align: top;\n",
       "    }\n",
       "\n",
       "    .dataframe thead th {\n",
       "        text-align: right;\n",
       "    }\n",
       "</style>\n",
       "<table border=\"1\" class=\"dataframe\">\n",
       "  <thead>\n",
       "    <tr style=\"text-align: right;\">\n",
       "      <th></th>\n",
       "      <th>opens</th>\n",
       "    </tr>\n",
       "  </thead>\n",
       "  <tbody>\n",
       "    <tr>\n",
       "      <td>count</td>\n",
       "      <td>790.000000</td>\n",
       "    </tr>\n",
       "    <tr>\n",
       "      <td>mean</td>\n",
       "      <td>57755.725316</td>\n",
       "    </tr>\n",
       "    <tr>\n",
       "      <td>std</td>\n",
       "      <td>48276.882901</td>\n",
       "    </tr>\n",
       "    <tr>\n",
       "      <td>min</td>\n",
       "      <td>4.000000</td>\n",
       "    </tr>\n",
       "    <tr>\n",
       "      <td>25%</td>\n",
       "      <td>14101.000000</td>\n",
       "    </tr>\n",
       "    <tr>\n",
       "      <td>50%</td>\n",
       "      <td>40874.500000</td>\n",
       "    </tr>\n",
       "    <tr>\n",
       "      <td>75%</td>\n",
       "      <td>96552.500000</td>\n",
       "    </tr>\n",
       "    <tr>\n",
       "      <td>max</td>\n",
       "      <td>208753.000000</td>\n",
       "    </tr>\n",
       "  </tbody>\n",
       "</table>\n",
       "</div>"
      ],
      "text/plain": [
       "               opens\n",
       "count     790.000000\n",
       "mean    57755.725316\n",
       "std     48276.882901\n",
       "min         4.000000\n",
       "25%     14101.000000\n",
       "50%     40874.500000\n",
       "75%     96552.500000\n",
       "max    208753.000000"
      ]
     },
     "execution_count": 5,
     "metadata": {},
     "output_type": "execute_result"
    }
   ],
   "source": [
    "df.describe()"
   ]
  },
  {
   "cell_type": "code",
   "execution_count": 6,
   "metadata": {},
   "outputs": [
    {
     "data": {
      "text/html": [
       "<div>\n",
       "<style scoped>\n",
       "    .dataframe tbody tr th:only-of-type {\n",
       "        vertical-align: middle;\n",
       "    }\n",
       "\n",
       "    .dataframe tbody tr th {\n",
       "        vertical-align: top;\n",
       "    }\n",
       "\n",
       "    .dataframe thead th {\n",
       "        text-align: right;\n",
       "    }\n",
       "</style>\n",
       "<table border=\"1\" class=\"dataframe\">\n",
       "  <thead>\n",
       "    <tr style=\"text-align: right;\">\n",
       "      <th></th>\n",
       "      <th>dt</th>\n",
       "      <th>title</th>\n",
       "      <th>url</th>\n",
       "      <th>cat</th>\n",
       "      <th>platform</th>\n",
       "      <th>opens</th>\n",
       "    </tr>\n",
       "  </thead>\n",
       "  <tbody>\n",
       "    <tr>\n",
       "      <td>603</td>\n",
       "      <td>2019-08-24</td>\n",
       "      <td>Lightning strikes at PGA Tour Championship, si...</td>\n",
       "      <td>https://golfweek.com/2019/08/24/lightning-stri...</td>\n",
       "      <td>EN_US_SPORTS</td>\n",
       "      <td>ios</td>\n",
       "      <td>4</td>\n",
       "    </tr>\n",
       "    <tr>\n",
       "      <td>249</td>\n",
       "      <td>2019-10-23</td>\n",
       "      <td>Trump says U.S. will lift Turkey sanctions as ...</td>\n",
       "      <td>https://www.bloomberg.com/news/articles/2019-1...</td>\n",
       "      <td>EN_US_POLITICS</td>\n",
       "      <td>ios</td>\n",
       "      <td>6</td>\n",
       "    </tr>\n",
       "    <tr>\n",
       "      <td>415</td>\n",
       "      <td>2019-10-24</td>\n",
       "      <td>Boris Johnson seeks early general election to ...</td>\n",
       "      <td>https://www.bloomberg.com/news/articles/2019-1...</td>\n",
       "      <td>EN_US_WORLD</td>\n",
       "      <td>ios</td>\n",
       "      <td>11</td>\n",
       "    </tr>\n",
       "    <tr>\n",
       "      <td>329</td>\n",
       "      <td>2019-10-23</td>\n",
       "      <td>Google says it has achieved ‘quantum supremacy...</td>\n",
       "      <td>https://www.theverge.com/2019/10/23/20928294/g...</td>\n",
       "      <td>EN_US_TECHNOLOGY</td>\n",
       "      <td>ios</td>\n",
       "      <td>14</td>\n",
       "    </tr>\n",
       "    <tr>\n",
       "      <td>673</td>\n",
       "      <td>2019-10-24</td>\n",
       "      <td>House committee subpoenas agency for Trump DC ...</td>\n",
       "      <td>https://www.cnn.com/2019/10/24/politics/transp...</td>\n",
       "      <td>EN_US_POLITICS</td>\n",
       "      <td>ios</td>\n",
       "      <td>19</td>\n",
       "    </tr>\n",
       "    <tr>\n",
       "      <td>670</td>\n",
       "      <td>2019-10-23</td>\n",
       "      <td>Police find body in dumpster believed to be mi...</td>\n",
       "      <td>https://abcnews.go.com/US/police-find-body-dum...</td>\n",
       "      <td>EN_US_NATIONAL</td>\n",
       "      <td>ios</td>\n",
       "      <td>21</td>\n",
       "    </tr>\n",
       "    <tr>\n",
       "      <td>414</td>\n",
       "      <td>2019-10-24</td>\n",
       "      <td>Boris Johnson seeks early general election to ...</td>\n",
       "      <td>https://www.bloomberg.com/news/articles/2019-1...</td>\n",
       "      <td>EN_US_WORLD</td>\n",
       "      <td>android</td>\n",
       "      <td>202</td>\n",
       "    </tr>\n",
       "    <tr>\n",
       "      <td>248</td>\n",
       "      <td>2019-10-23</td>\n",
       "      <td>Trump says U.S. will lift Turkey sanctions as ...</td>\n",
       "      <td>https://www.bloomberg.com/news/articles/2019-1...</td>\n",
       "      <td>EN_US_POLITICS</td>\n",
       "      <td>android</td>\n",
       "      <td>205</td>\n",
       "    </tr>\n",
       "    <tr>\n",
       "      <td>672</td>\n",
       "      <td>2019-10-24</td>\n",
       "      <td>House committee subpoenas agency for Trump DC ...</td>\n",
       "      <td>https://www.cnn.com/2019/10/24/politics/transp...</td>\n",
       "      <td>EN_US_POLITICS</td>\n",
       "      <td>android</td>\n",
       "      <td>221</td>\n",
       "    </tr>\n",
       "    <tr>\n",
       "      <td>602</td>\n",
       "      <td>2019-08-24</td>\n",
       "      <td>Lightning strikes at PGA Tour Championship, si...</td>\n",
       "      <td>https://golfweek.com/2019/08/24/lightning-stri...</td>\n",
       "      <td>EN_US_SPORTS</td>\n",
       "      <td>android</td>\n",
       "      <td>437</td>\n",
       "    </tr>\n",
       "  </tbody>\n",
       "</table>\n",
       "</div>"
      ],
      "text/plain": [
       "             dt                                              title  \\\n",
       "603  2019-08-24  Lightning strikes at PGA Tour Championship, si...   \n",
       "249  2019-10-23  Trump says U.S. will lift Turkey sanctions as ...   \n",
       "415  2019-10-24  Boris Johnson seeks early general election to ...   \n",
       "329  2019-10-23  Google says it has achieved ‘quantum supremacy...   \n",
       "673  2019-10-24  House committee subpoenas agency for Trump DC ...   \n",
       "670  2019-10-23  Police find body in dumpster believed to be mi...   \n",
       "414  2019-10-24  Boris Johnson seeks early general election to ...   \n",
       "248  2019-10-23  Trump says U.S. will lift Turkey sanctions as ...   \n",
       "672  2019-10-24  House committee subpoenas agency for Trump DC ...   \n",
       "602  2019-08-24  Lightning strikes at PGA Tour Championship, si...   \n",
       "\n",
       "                                                   url               cat  \\\n",
       "603  https://golfweek.com/2019/08/24/lightning-stri...      EN_US_SPORTS   \n",
       "249  https://www.bloomberg.com/news/articles/2019-1...    EN_US_POLITICS   \n",
       "415  https://www.bloomberg.com/news/articles/2019-1...       EN_US_WORLD   \n",
       "329  https://www.theverge.com/2019/10/23/20928294/g...  EN_US_TECHNOLOGY   \n",
       "673  https://www.cnn.com/2019/10/24/politics/transp...    EN_US_POLITICS   \n",
       "670  https://abcnews.go.com/US/police-find-body-dum...    EN_US_NATIONAL   \n",
       "414  https://www.bloomberg.com/news/articles/2019-1...       EN_US_WORLD   \n",
       "248  https://www.bloomberg.com/news/articles/2019-1...    EN_US_POLITICS   \n",
       "672  https://www.cnn.com/2019/10/24/politics/transp...    EN_US_POLITICS   \n",
       "602  https://golfweek.com/2019/08/24/lightning-stri...      EN_US_SPORTS   \n",
       "\n",
       "    platform  opens  \n",
       "603      ios      4  \n",
       "249      ios      6  \n",
       "415      ios     11  \n",
       "329      ios     14  \n",
       "673      ios     19  \n",
       "670      ios     21  \n",
       "414  android    202  \n",
       "248  android    205  \n",
       "672  android    221  \n",
       "602  android    437  "
      ]
     },
     "execution_count": 6,
     "metadata": {},
     "output_type": "execute_result"
    }
   ],
   "source": [
    "df.sort_values(by = 'opens').head(10)"
   ]
  },
  {
   "cell_type": "markdown",
   "metadata": {},
   "source": [
    "10/23 and 10/24 was a push outage"
   ]
  },
  {
   "cell_type": "code",
   "execution_count": 7,
   "metadata": {},
   "outputs": [
    {
     "data": {
      "text/plain": [
       "dt          object\n",
       "title       object\n",
       "url         object\n",
       "cat         object\n",
       "platform    object\n",
       "opens        int64\n",
       "dtype: object"
      ]
     },
     "execution_count": 7,
     "metadata": {},
     "output_type": "execute_result"
    }
   ],
   "source": [
    "df.dtypes"
   ]
  },
  {
   "cell_type": "markdown",
   "metadata": {},
   "source": [
    "Casting dt column as datetime data type"
   ]
  },
  {
   "cell_type": "code",
   "execution_count": 8,
   "metadata": {},
   "outputs": [],
   "source": [
    "df.dt = pd.to_datetime(df.dt)"
   ]
  },
  {
   "cell_type": "code",
   "execution_count": 9,
   "metadata": {},
   "outputs": [
    {
     "data": {
      "text/plain": [
       "dt          datetime64[ns]\n",
       "title               object\n",
       "url                 object\n",
       "cat                 object\n",
       "platform            object\n",
       "opens                int64\n",
       "dtype: object"
      ]
     },
     "execution_count": 9,
     "metadata": {},
     "output_type": "execute_result"
    }
   ],
   "source": [
    "df.dtypes"
   ]
  },
  {
   "cell_type": "code",
   "execution_count": 10,
   "metadata": {},
   "outputs": [],
   "source": [
    "df = df[(df.dt != '2019-10-23') & (df.dt != '2019-10-24')].copy()"
   ]
  },
  {
   "cell_type": "markdown",
   "metadata": {},
   "source": [
    "Checking for more outliers"
   ]
  },
  {
   "cell_type": "code",
   "execution_count": 11,
   "metadata": {},
   "outputs": [
    {
     "data": {
      "text/html": [
       "<div>\n",
       "<style scoped>\n",
       "    .dataframe tbody tr th:only-of-type {\n",
       "        vertical-align: middle;\n",
       "    }\n",
       "\n",
       "    .dataframe tbody tr th {\n",
       "        vertical-align: top;\n",
       "    }\n",
       "\n",
       "    .dataframe thead th {\n",
       "        text-align: right;\n",
       "    }\n",
       "</style>\n",
       "<table border=\"1\" class=\"dataframe\">\n",
       "  <thead>\n",
       "    <tr style=\"text-align: right;\">\n",
       "      <th></th>\n",
       "      <th>dt</th>\n",
       "      <th>title</th>\n",
       "      <th>url</th>\n",
       "      <th>cat</th>\n",
       "      <th>platform</th>\n",
       "      <th>opens</th>\n",
       "    </tr>\n",
       "  </thead>\n",
       "  <tbody>\n",
       "    <tr>\n",
       "      <td>603</td>\n",
       "      <td>2019-08-24</td>\n",
       "      <td>Lightning strikes at PGA Tour Championship, si...</td>\n",
       "      <td>https://golfweek.com/2019/08/24/lightning-stri...</td>\n",
       "      <td>EN_US_SPORTS</td>\n",
       "      <td>ios</td>\n",
       "      <td>4</td>\n",
       "    </tr>\n",
       "    <tr>\n",
       "      <td>602</td>\n",
       "      <td>2019-08-24</td>\n",
       "      <td>Lightning strikes at PGA Tour Championship, si...</td>\n",
       "      <td>https://golfweek.com/2019/08/24/lightning-stri...</td>\n",
       "      <td>EN_US_SPORTS</td>\n",
       "      <td>android</td>\n",
       "      <td>437</td>\n",
       "    </tr>\n",
       "    <tr>\n",
       "      <td>413</td>\n",
       "      <td>2019-10-17</td>\n",
       "      <td>Boris Johnson has finally agreed a Brexit deal...</td>\n",
       "      <td>https://www.businessinsider.com/boris-johnson-...</td>\n",
       "      <td>EN_US_WORLD</td>\n",
       "      <td>ios</td>\n",
       "      <td>5322</td>\n",
       "    </tr>\n",
       "    <tr>\n",
       "      <td>281</td>\n",
       "      <td>2019-10-22</td>\n",
       "      <td>Boris Johnson wants Brexit by October 31. Parl...</td>\n",
       "      <td>https://www.vox.com/2019/10/22/20926907/brexit...</td>\n",
       "      <td>EN_US_POLITICS</td>\n",
       "      <td>ios</td>\n",
       "      <td>5514</td>\n",
       "    </tr>\n",
       "    <tr>\n",
       "      <td>616</td>\n",
       "      <td>2019-10-16</td>\n",
       "      <td>GM and UAW reach tentative deal that could end...</td>\n",
       "      <td>https://apnews.com/be0a22ea7772427dbf545450119...</td>\n",
       "      <td>EN_US_BUSINESS</td>\n",
       "      <td>ios</td>\n",
       "      <td>5828</td>\n",
       "    </tr>\n",
       "    <tr>\n",
       "      <td>...</td>\n",
       "      <td>...</td>\n",
       "      <td>...</td>\n",
       "      <td>...</td>\n",
       "      <td>...</td>\n",
       "      <td>...</td>\n",
       "      <td>...</td>\n",
       "    </tr>\n",
       "    <tr>\n",
       "      <td>452</td>\n",
       "      <td>2019-07-04</td>\n",
       "      <td>Earthquake with preliminary 6.4 magnitude rock...</td>\n",
       "      <td>https://abcnews.go.com/US/earthquake-prelimina...</td>\n",
       "      <td>EN_US_NATIONAL</td>\n",
       "      <td>android</td>\n",
       "      <td>193192</td>\n",
       "    </tr>\n",
       "    <tr>\n",
       "      <td>46</td>\n",
       "      <td>2019-09-03</td>\n",
       "      <td>‘American Idol’ Contestant Haley Smith Dies in...</td>\n",
       "      <td>https://www.tmz.com/2019/09/03/american-idol-c...</td>\n",
       "      <td>EN_US_ENTERTAINMENT</td>\n",
       "      <td>android</td>\n",
       "      <td>198934</td>\n",
       "    </tr>\n",
       "    <tr>\n",
       "      <td>510</td>\n",
       "      <td>2019-09-05</td>\n",
       "      <td>Country Singer Kylie Rae Harris Dies at Age 30</td>\n",
       "      <td>https://www.billboard.com/articles/columns/cou...</td>\n",
       "      <td>EN_US_ENTERTAINMENT</td>\n",
       "      <td>android</td>\n",
       "      <td>201672</td>\n",
       "    </tr>\n",
       "    <tr>\n",
       "      <td>221</td>\n",
       "      <td>2019-08-07</td>\n",
       "      <td>USA TODAY headquarters evacuated after police ...</td>\n",
       "      <td>https://www.usatoday.com/story/news/politics/2...</td>\n",
       "      <td>EN_US_NATIONAL</td>\n",
       "      <td>android</td>\n",
       "      <td>208753</td>\n",
       "    </tr>\n",
       "    <tr>\n",
       "      <td>223</td>\n",
       "      <td>2019-08-07</td>\n",
       "      <td>Police say report of man with weapon at USA TO...</td>\n",
       "      <td>https://www.usatoday.com/story/news/politics/2...</td>\n",
       "      <td>EN_US_NATIONAL</td>\n",
       "      <td>android</td>\n",
       "      <td>208753</td>\n",
       "    </tr>\n",
       "  </tbody>\n",
       "</table>\n",
       "<p>776 rows × 6 columns</p>\n",
       "</div>"
      ],
      "text/plain": [
       "            dt                                              title  \\\n",
       "603 2019-08-24  Lightning strikes at PGA Tour Championship, si...   \n",
       "602 2019-08-24  Lightning strikes at PGA Tour Championship, si...   \n",
       "413 2019-10-17  Boris Johnson has finally agreed a Brexit deal...   \n",
       "281 2019-10-22  Boris Johnson wants Brexit by October 31. Parl...   \n",
       "616 2019-10-16  GM and UAW reach tentative deal that could end...   \n",
       "..         ...                                                ...   \n",
       "452 2019-07-04  Earthquake with preliminary 6.4 magnitude rock...   \n",
       "46  2019-09-03  ‘American Idol’ Contestant Haley Smith Dies in...   \n",
       "510 2019-09-05     Country Singer Kylie Rae Harris Dies at Age 30   \n",
       "221 2019-08-07  USA TODAY headquarters evacuated after police ...   \n",
       "223 2019-08-07  Police say report of man with weapon at USA TO...   \n",
       "\n",
       "                                                   url                  cat  \\\n",
       "603  https://golfweek.com/2019/08/24/lightning-stri...         EN_US_SPORTS   \n",
       "602  https://golfweek.com/2019/08/24/lightning-stri...         EN_US_SPORTS   \n",
       "413  https://www.businessinsider.com/boris-johnson-...          EN_US_WORLD   \n",
       "281  https://www.vox.com/2019/10/22/20926907/brexit...       EN_US_POLITICS   \n",
       "616  https://apnews.com/be0a22ea7772427dbf545450119...       EN_US_BUSINESS   \n",
       "..                                                 ...                  ...   \n",
       "452  https://abcnews.go.com/US/earthquake-prelimina...       EN_US_NATIONAL   \n",
       "46   https://www.tmz.com/2019/09/03/american-idol-c...  EN_US_ENTERTAINMENT   \n",
       "510  https://www.billboard.com/articles/columns/cou...  EN_US_ENTERTAINMENT   \n",
       "221  https://www.usatoday.com/story/news/politics/2...       EN_US_NATIONAL   \n",
       "223  https://www.usatoday.com/story/news/politics/2...       EN_US_NATIONAL   \n",
       "\n",
       "    platform   opens  \n",
       "603      ios       4  \n",
       "602  android     437  \n",
       "413      ios    5322  \n",
       "281      ios    5514  \n",
       "616      ios    5828  \n",
       "..       ...     ...  \n",
       "452  android  193192  \n",
       "46   android  198934  \n",
       "510  android  201672  \n",
       "221  android  208753  \n",
       "223  android  208753  \n",
       "\n",
       "[776 rows x 6 columns]"
      ]
     },
     "execution_count": 11,
     "metadata": {},
     "output_type": "execute_result"
    }
   ],
   "source": [
    "df.sort_values(by='opens')"
   ]
  },
  {
   "cell_type": "code",
   "execution_count": 12,
   "metadata": {},
   "outputs": [],
   "source": [
    "df = df[df.opens > 1000].copy()"
   ]
  },
  {
   "cell_type": "code",
   "execution_count": 13,
   "metadata": {},
   "outputs": [
    {
     "data": {
      "text/html": [
       "<div>\n",
       "<style scoped>\n",
       "    .dataframe tbody tr th:only-of-type {\n",
       "        vertical-align: middle;\n",
       "    }\n",
       "\n",
       "    .dataframe tbody tr th {\n",
       "        vertical-align: top;\n",
       "    }\n",
       "\n",
       "    .dataframe thead th {\n",
       "        text-align: right;\n",
       "    }\n",
       "</style>\n",
       "<table border=\"1\" class=\"dataframe\">\n",
       "  <thead>\n",
       "    <tr style=\"text-align: right;\">\n",
       "      <th></th>\n",
       "      <th>opens</th>\n",
       "    </tr>\n",
       "  </thead>\n",
       "  <tbody>\n",
       "    <tr>\n",
       "      <td>count</td>\n",
       "      <td>774.000000</td>\n",
       "    </tr>\n",
       "    <tr>\n",
       "      <td>mean</td>\n",
       "      <td>58772.328165</td>\n",
       "    </tr>\n",
       "    <tr>\n",
       "      <td>std</td>\n",
       "      <td>48097.792585</td>\n",
       "    </tr>\n",
       "    <tr>\n",
       "      <td>min</td>\n",
       "      <td>5322.000000</td>\n",
       "    </tr>\n",
       "    <tr>\n",
       "      <td>25%</td>\n",
       "      <td>14419.750000</td>\n",
       "    </tr>\n",
       "    <tr>\n",
       "      <td>50%</td>\n",
       "      <td>46358.000000</td>\n",
       "    </tr>\n",
       "    <tr>\n",
       "      <td>75%</td>\n",
       "      <td>96622.000000</td>\n",
       "    </tr>\n",
       "    <tr>\n",
       "      <td>max</td>\n",
       "      <td>208753.000000</td>\n",
       "    </tr>\n",
       "  </tbody>\n",
       "</table>\n",
       "</div>"
      ],
      "text/plain": [
       "               opens\n",
       "count     774.000000\n",
       "mean    58772.328165\n",
       "std     48097.792585\n",
       "min      5322.000000\n",
       "25%     14419.750000\n",
       "50%     46358.000000\n",
       "75%     96622.000000\n",
       "max    208753.000000"
      ]
     },
     "execution_count": 13,
     "metadata": {},
     "output_type": "execute_result"
    }
   ],
   "source": [
    "df.describe()"
   ]
  },
  {
   "cell_type": "markdown",
   "metadata": {},
   "source": [
    "### Getting sent count for each article"
   ]
  },
  {
   "cell_type": "code",
   "execution_count": 14,
   "metadata": {},
   "outputs": [
    {
     "name": "stdout",
     "output_type": "stream",
     "text": [
      "SELECT link_url AS url,\n",
      "       platform,\n",
      "       COUNT(DISTINCT a.user_id) AS sent_count\n",
      "FROM smartnews.push_send_urls_detailed a\n",
      "INNER JOIN\n",
      "  (SELECT DISTINCT dt,\n",
      "                   user_id\n",
      "   FROM daily_user_fq_segment\n",
      "   WHERE dt BETWEEN '2019-07-01' AND '2019-11-01'\n",
      "     AND edition = 'en_US') b ON a.dt = b.dt\n",
      "AND a.user_id = b.user_id\n",
      "WHERE a.dt BETWEEN '2019-07-01' AND '2019-11-01'\n",
      "  AND a.edition = 'en_US'\n",
      "  AND BREAKING_PUSH_CONDITION_ID IS NOT NULL\n",
      "GROUP BY 1,\n",
      "         2\n",
      "Length of dataframe is 870\n",
      "Top 5 rows of the dataframe:\n",
      "                                                 url platform  sent_count\n",
      "0  https://abcnews.go.com/US/legendary-journalist...  android     2782988\n",
      "1  https://abcnews.go.com/US/active-shooter-incid...  android     2541944\n",
      "2  https://www.nbcnews.com/politics/donald-trump/...      ios      622450\n",
      "3  https://www.reuters.com/article/us-usa-fed-idU...      ios           6\n",
      "4  https://www.cnn.com/2019/08/28/politics/johnny...  android           1\n"
     ]
    }
   ],
   "source": [
    "df1 = q(\n",
    "    '''\n",
    "    SELECT\n",
    "          link_url as url,\n",
    "          platform,\n",
    "          COUNT(DISTINCT a.user_id) AS sent_count\n",
    "   FROM smartnews.push_send_urls_detailed a\n",
    "   INNER JOIN\n",
    "     (SELECT DISTINCT dt,\n",
    "                      user_id\n",
    "      FROM daily_user_fq_segment\n",
    "      WHERE dt BETWEEN '2019-07-01' AND '2019-11-01'\n",
    "        AND edition = 'en_US') b ON a.dt = b.dt\n",
    "   AND a.user_id = b.user_id\n",
    "   WHERE a.dt BETWEEN '2019-07-01' AND '2019-11-01'\n",
    "     AND a.edition = 'en_US'\n",
    "     AND BREAKING_PUSH_CONDITION_ID IS NOT NULL\n",
    "   GROUP BY 1, 2\n",
    "    '''\n",
    ")"
   ]
  },
  {
   "cell_type": "code",
   "execution_count": 15,
   "metadata": {},
   "outputs": [
    {
     "data": {
      "text/html": [
       "<div>\n",
       "<style scoped>\n",
       "    .dataframe tbody tr th:only-of-type {\n",
       "        vertical-align: middle;\n",
       "    }\n",
       "\n",
       "    .dataframe tbody tr th {\n",
       "        vertical-align: top;\n",
       "    }\n",
       "\n",
       "    .dataframe thead th {\n",
       "        text-align: right;\n",
       "    }\n",
       "</style>\n",
       "<table border=\"1\" class=\"dataframe\">\n",
       "  <thead>\n",
       "    <tr style=\"text-align: right;\">\n",
       "      <th></th>\n",
       "      <th>url</th>\n",
       "      <th>platform</th>\n",
       "      <th>sent_count</th>\n",
       "    </tr>\n",
       "  </thead>\n",
       "  <tbody>\n",
       "    <tr>\n",
       "      <td>0</td>\n",
       "      <td>https://abcnews.go.com/US/legendary-journalist...</td>\n",
       "      <td>android</td>\n",
       "      <td>2782988</td>\n",
       "    </tr>\n",
       "    <tr>\n",
       "      <td>1</td>\n",
       "      <td>https://abcnews.go.com/US/active-shooter-incid...</td>\n",
       "      <td>android</td>\n",
       "      <td>2541944</td>\n",
       "    </tr>\n",
       "    <tr>\n",
       "      <td>2</td>\n",
       "      <td>https://www.nbcnews.com/politics/donald-trump/...</td>\n",
       "      <td>ios</td>\n",
       "      <td>622450</td>\n",
       "    </tr>\n",
       "    <tr>\n",
       "      <td>3</td>\n",
       "      <td>https://www.reuters.com/article/us-usa-fed-idU...</td>\n",
       "      <td>ios</td>\n",
       "      <td>6</td>\n",
       "    </tr>\n",
       "    <tr>\n",
       "      <td>4</td>\n",
       "      <td>https://www.cnn.com/2019/08/28/politics/johnny...</td>\n",
       "      <td>android</td>\n",
       "      <td>1</td>\n",
       "    </tr>\n",
       "  </tbody>\n",
       "</table>\n",
       "</div>"
      ],
      "text/plain": [
       "                                                 url platform  sent_count\n",
       "0  https://abcnews.go.com/US/legendary-journalist...  android     2782988\n",
       "1  https://abcnews.go.com/US/active-shooter-incid...  android     2541944\n",
       "2  https://www.nbcnews.com/politics/donald-trump/...      ios      622450\n",
       "3  https://www.reuters.com/article/us-usa-fed-idU...      ios           6\n",
       "4  https://www.cnn.com/2019/08/28/politics/johnny...  android           1"
      ]
     },
     "execution_count": 15,
     "metadata": {},
     "output_type": "execute_result"
    }
   ],
   "source": [
    "df1.head()"
   ]
  },
  {
   "cell_type": "code",
   "execution_count": 16,
   "metadata": {},
   "outputs": [
    {
     "data": {
      "text/plain": [
       "(870, 3)"
      ]
     },
     "execution_count": 16,
     "metadata": {},
     "output_type": "execute_result"
    }
   ],
   "source": [
    "df1.shape"
   ]
  },
  {
   "cell_type": "code",
   "execution_count": 17,
   "metadata": {},
   "outputs": [
    {
     "data": {
      "text/plain": [
       "(774, 6)"
      ]
     },
     "execution_count": 17,
     "metadata": {},
     "output_type": "execute_result"
    }
   ],
   "source": [
    "df.shape"
   ]
  },
  {
   "cell_type": "code",
   "execution_count": 18,
   "metadata": {},
   "outputs": [
    {
     "data": {
      "text/html": [
       "<div>\n",
       "<style scoped>\n",
       "    .dataframe tbody tr th:only-of-type {\n",
       "        vertical-align: middle;\n",
       "    }\n",
       "\n",
       "    .dataframe tbody tr th {\n",
       "        vertical-align: top;\n",
       "    }\n",
       "\n",
       "    .dataframe thead th {\n",
       "        text-align: right;\n",
       "    }\n",
       "</style>\n",
       "<table border=\"1\" class=\"dataframe\">\n",
       "  <thead>\n",
       "    <tr style=\"text-align: right;\">\n",
       "      <th></th>\n",
       "      <th>dt</th>\n",
       "      <th>title</th>\n",
       "      <th>url</th>\n",
       "      <th>cat</th>\n",
       "      <th>platform</th>\n",
       "      <th>opens</th>\n",
       "    </tr>\n",
       "  </thead>\n",
       "  <tbody>\n",
       "  </tbody>\n",
       "</table>\n",
       "</div>"
      ],
      "text/plain": [
       "Empty DataFrame\n",
       "Columns: [dt, title, url, cat, platform, opens]\n",
       "Index: []"
      ]
     },
     "execution_count": 18,
     "metadata": {},
     "output_type": "execute_result"
    }
   ],
   "source": [
    "df[~df.url.isin(df1.url)]"
   ]
  },
  {
   "cell_type": "code",
   "execution_count": 19,
   "metadata": {},
   "outputs": [],
   "source": [
    "df = df.merge(df1, on=['url', 'platform'], how='left')"
   ]
  },
  {
   "cell_type": "code",
   "execution_count": 20,
   "metadata": {
    "scrolled": false
   },
   "outputs": [
    {
     "data": {
      "text/html": [
       "<div>\n",
       "<style scoped>\n",
       "    .dataframe tbody tr th:only-of-type {\n",
       "        vertical-align: middle;\n",
       "    }\n",
       "\n",
       "    .dataframe tbody tr th {\n",
       "        vertical-align: top;\n",
       "    }\n",
       "\n",
       "    .dataframe thead th {\n",
       "        text-align: right;\n",
       "    }\n",
       "</style>\n",
       "<table border=\"1\" class=\"dataframe\">\n",
       "  <thead>\n",
       "    <tr style=\"text-align: right;\">\n",
       "      <th></th>\n",
       "      <th>dt</th>\n",
       "      <th>title</th>\n",
       "      <th>url</th>\n",
       "      <th>cat</th>\n",
       "      <th>platform</th>\n",
       "      <th>opens</th>\n",
       "      <th>sent_count</th>\n",
       "    </tr>\n",
       "  </thead>\n",
       "  <tbody>\n",
       "    <tr>\n",
       "      <td>0</td>\n",
       "      <td>2019-07-03</td>\n",
       "      <td>Federal judge blocks Ohio anti-abortion law</td>\n",
       "      <td>https://www.reuters.com/article/us-usa-abortio...</td>\n",
       "      <td>EN_US_POLITICS</td>\n",
       "      <td>android</td>\n",
       "      <td>76236</td>\n",
       "      <td>2707846</td>\n",
       "    </tr>\n",
       "    <tr>\n",
       "      <td>1</td>\n",
       "      <td>2019-07-03</td>\n",
       "      <td>Federal judge blocks Ohio anti-abortion law</td>\n",
       "      <td>https://www.reuters.com/article/us-usa-abortio...</td>\n",
       "      <td>EN_US_POLITICS</td>\n",
       "      <td>ios</td>\n",
       "      <td>12286</td>\n",
       "      <td>593894</td>\n",
       "    </tr>\n",
       "    <tr>\n",
       "      <td>2</td>\n",
       "      <td>2019-07-06</td>\n",
       "      <td>Even more powerful quake shakes Southern Calif...</td>\n",
       "      <td>https://www.nbcnews.com/news/us-news/earthquak...</td>\n",
       "      <td>EN_US_NATIONAL</td>\n",
       "      <td>android</td>\n",
       "      <td>136187</td>\n",
       "      <td>2692045</td>\n",
       "    </tr>\n",
       "    <tr>\n",
       "      <td>3</td>\n",
       "      <td>2019-07-06</td>\n",
       "      <td>Even more powerful quake shakes Southern Calif...</td>\n",
       "      <td>https://www.nbcnews.com/news/us-news/earthquak...</td>\n",
       "      <td>EN_US_NATIONAL</td>\n",
       "      <td>ios</td>\n",
       "      <td>29194</td>\n",
       "      <td>567169</td>\n",
       "    </tr>\n",
       "    <tr>\n",
       "      <td>4</td>\n",
       "      <td>2019-07-10</td>\n",
       "      <td>UK Ambassador Who Called Trump ‘Inept’ And ‘Dy...</td>\n",
       "      <td>https://www.huffpost.com/entry/uk-ambassador-r...</td>\n",
       "      <td>EN_US_POLITICS</td>\n",
       "      <td>android</td>\n",
       "      <td>82727</td>\n",
       "      <td>2676041</td>\n",
       "    </tr>\n",
       "  </tbody>\n",
       "</table>\n",
       "</div>"
      ],
      "text/plain": [
       "          dt                                              title  \\\n",
       "0 2019-07-03        Federal judge blocks Ohio anti-abortion law   \n",
       "1 2019-07-03        Federal judge blocks Ohio anti-abortion law   \n",
       "2 2019-07-06  Even more powerful quake shakes Southern Calif...   \n",
       "3 2019-07-06  Even more powerful quake shakes Southern Calif...   \n",
       "4 2019-07-10  UK Ambassador Who Called Trump ‘Inept’ And ‘Dy...   \n",
       "\n",
       "                                                 url             cat platform  \\\n",
       "0  https://www.reuters.com/article/us-usa-abortio...  EN_US_POLITICS  android   \n",
       "1  https://www.reuters.com/article/us-usa-abortio...  EN_US_POLITICS      ios   \n",
       "2  https://www.nbcnews.com/news/us-news/earthquak...  EN_US_NATIONAL  android   \n",
       "3  https://www.nbcnews.com/news/us-news/earthquak...  EN_US_NATIONAL      ios   \n",
       "4  https://www.huffpost.com/entry/uk-ambassador-r...  EN_US_POLITICS  android   \n",
       "\n",
       "    opens  sent_count  \n",
       "0   76236     2707846  \n",
       "1   12286      593894  \n",
       "2  136187     2692045  \n",
       "3   29194      567169  \n",
       "4   82727     2676041  "
      ]
     },
     "execution_count": 20,
     "metadata": {},
     "output_type": "execute_result"
    }
   ],
   "source": [
    "df.head()"
   ]
  },
  {
   "cell_type": "markdown",
   "metadata": {},
   "source": [
    "Adding open rate calc"
   ]
  },
  {
   "cell_type": "code",
   "execution_count": 21,
   "metadata": {},
   "outputs": [],
   "source": [
    "df['open_rate'] = round((df.opens / df.sent_count) *100, 3)"
   ]
  },
  {
   "cell_type": "code",
   "execution_count": 22,
   "metadata": {},
   "outputs": [
    {
     "data": {
      "text/html": [
       "<div>\n",
       "<style scoped>\n",
       "    .dataframe tbody tr th:only-of-type {\n",
       "        vertical-align: middle;\n",
       "    }\n",
       "\n",
       "    .dataframe tbody tr th {\n",
       "        vertical-align: top;\n",
       "    }\n",
       "\n",
       "    .dataframe thead th {\n",
       "        text-align: right;\n",
       "    }\n",
       "</style>\n",
       "<table border=\"1\" class=\"dataframe\">\n",
       "  <thead>\n",
       "    <tr style=\"text-align: right;\">\n",
       "      <th></th>\n",
       "      <th>dt</th>\n",
       "      <th>title</th>\n",
       "      <th>url</th>\n",
       "      <th>cat</th>\n",
       "      <th>platform</th>\n",
       "      <th>opens</th>\n",
       "      <th>sent_count</th>\n",
       "      <th>open_rate</th>\n",
       "    </tr>\n",
       "  </thead>\n",
       "  <tbody>\n",
       "    <tr>\n",
       "      <td>0</td>\n",
       "      <td>2019-07-03</td>\n",
       "      <td>Federal judge blocks Ohio anti-abortion law</td>\n",
       "      <td>https://www.reuters.com/article/us-usa-abortio...</td>\n",
       "      <td>EN_US_POLITICS</td>\n",
       "      <td>android</td>\n",
       "      <td>76236</td>\n",
       "      <td>2707846</td>\n",
       "      <td>2.815</td>\n",
       "    </tr>\n",
       "    <tr>\n",
       "      <td>1</td>\n",
       "      <td>2019-07-03</td>\n",
       "      <td>Federal judge blocks Ohio anti-abortion law</td>\n",
       "      <td>https://www.reuters.com/article/us-usa-abortio...</td>\n",
       "      <td>EN_US_POLITICS</td>\n",
       "      <td>ios</td>\n",
       "      <td>12286</td>\n",
       "      <td>593894</td>\n",
       "      <td>2.069</td>\n",
       "    </tr>\n",
       "    <tr>\n",
       "      <td>2</td>\n",
       "      <td>2019-07-06</td>\n",
       "      <td>Even more powerful quake shakes Southern Calif...</td>\n",
       "      <td>https://www.nbcnews.com/news/us-news/earthquak...</td>\n",
       "      <td>EN_US_NATIONAL</td>\n",
       "      <td>android</td>\n",
       "      <td>136187</td>\n",
       "      <td>2692045</td>\n",
       "      <td>5.059</td>\n",
       "    </tr>\n",
       "    <tr>\n",
       "      <td>3</td>\n",
       "      <td>2019-07-06</td>\n",
       "      <td>Even more powerful quake shakes Southern Calif...</td>\n",
       "      <td>https://www.nbcnews.com/news/us-news/earthquak...</td>\n",
       "      <td>EN_US_NATIONAL</td>\n",
       "      <td>ios</td>\n",
       "      <td>29194</td>\n",
       "      <td>567169</td>\n",
       "      <td>5.147</td>\n",
       "    </tr>\n",
       "    <tr>\n",
       "      <td>4</td>\n",
       "      <td>2019-07-10</td>\n",
       "      <td>UK Ambassador Who Called Trump ‘Inept’ And ‘Dy...</td>\n",
       "      <td>https://www.huffpost.com/entry/uk-ambassador-r...</td>\n",
       "      <td>EN_US_POLITICS</td>\n",
       "      <td>android</td>\n",
       "      <td>82727</td>\n",
       "      <td>2676041</td>\n",
       "      <td>3.091</td>\n",
       "    </tr>\n",
       "  </tbody>\n",
       "</table>\n",
       "</div>"
      ],
      "text/plain": [
       "          dt                                              title  \\\n",
       "0 2019-07-03        Federal judge blocks Ohio anti-abortion law   \n",
       "1 2019-07-03        Federal judge blocks Ohio anti-abortion law   \n",
       "2 2019-07-06  Even more powerful quake shakes Southern Calif...   \n",
       "3 2019-07-06  Even more powerful quake shakes Southern Calif...   \n",
       "4 2019-07-10  UK Ambassador Who Called Trump ‘Inept’ And ‘Dy...   \n",
       "\n",
       "                                                 url             cat platform  \\\n",
       "0  https://www.reuters.com/article/us-usa-abortio...  EN_US_POLITICS  android   \n",
       "1  https://www.reuters.com/article/us-usa-abortio...  EN_US_POLITICS      ios   \n",
       "2  https://www.nbcnews.com/news/us-news/earthquak...  EN_US_NATIONAL  android   \n",
       "3  https://www.nbcnews.com/news/us-news/earthquak...  EN_US_NATIONAL      ios   \n",
       "4  https://www.huffpost.com/entry/uk-ambassador-r...  EN_US_POLITICS  android   \n",
       "\n",
       "    opens  sent_count  open_rate  \n",
       "0   76236     2707846      2.815  \n",
       "1   12286      593894      2.069  \n",
       "2  136187     2692045      5.059  \n",
       "3   29194      567169      5.147  \n",
       "4   82727     2676041      3.091  "
      ]
     },
     "execution_count": 22,
     "metadata": {},
     "output_type": "execute_result"
    }
   ],
   "source": [
    "df.head()"
   ]
  },
  {
   "cell_type": "markdown",
   "metadata": {},
   "source": [
    "### Exploring Data"
   ]
  },
  {
   "cell_type": "markdown",
   "metadata": {},
   "source": [
    "#### Distribution of open rates"
   ]
  },
  {
   "cell_type": "code",
   "execution_count": 144,
   "metadata": {
    "scrolled": true
   },
   "outputs": [
    {
     "data": {
      "text/plain": [
       "<matplotlib.axes._subplots.AxesSubplot at 0x7f7800c889e8>"
      ]
     },
     "execution_count": 144,
     "metadata": {},
     "output_type": "execute_result"
    },
    {
     "data": {
      "image/png": "[encoded data removed]",
      "text/plain": [
       "<Figure size 432x288 with 1 Axes>"
      ]
     },
     "metadata": {
      "needs_background": "light"
     },
     "output_type": "display_data"
    }
   ],
   "source": [
    "df.open_rate.plot(kind='hist')"
   ]
  },
  {
   "cell_type": "markdown",
   "metadata": {},
   "source": [
    "#### Open rates by category"
   ]
  },
  {
   "cell_type": "code",
   "execution_count": 314,
   "metadata": {
    "scrolled": false
   },
   "outputs": [
    {
     "data": {
      "image/png": "[encoded data removed]",
      "text/plain": [
       "<Figure size 655.2x504 with 1 Axes>"
      ]
     },
     "metadata": {
      "needs_background": "light"
     },
     "output_type": "display_data"
    }
   ],
   "source": [
    "my_order = df.groupby(by=[\"cat\"])[\"open_rate\"].mean().sort_values(ascending=False).index\n",
    "sns.catplot(x='cat', y='open_rate', kind='box', data=df, height=7, aspect=1.3, order=my_order);\n",
    "plt.xticks(rotation=45);\n",
    "plt.title(\"Open Rate vs Category\");"
   ]
  },
  {
   "cell_type": "code",
   "execution_count": 332,
   "metadata": {
    "scrolled": false
   },
   "outputs": [
    {
     "data": {
      "image/png": "[encoded data removed]",
      "text/plain": [
       "<Figure size 432x288 with 1 Axes>"
      ]
     },
     "metadata": {
      "needs_background": "light"
     },
     "output_type": "display_data"
    }
   ],
   "source": [
    "df.groupby('cat').open_rate.mean().reindex(my_order.to_list()).plot(kind='bar');"
   ]
  },
  {
   "cell_type": "code",
   "execution_count": 340,
   "metadata": {
    "scrolled": true
   },
   "outputs": [
    {
     "data": {
      "image/png": "[encoded data removed]",
      "text/plain": [
       "<Figure size 432x288 with 1 Axes>"
      ]
     },
     "metadata": {},
     "output_type": "display_data"
    }
   ],
   "source": [
    "sns.set(style=\"whitegrid\")\n",
    "ax = sns.barplot(y=\"cat\", x=\"open_rate\", data=df)"
   ]
  },
  {
   "cell_type": "markdown",
   "metadata": {},
   "source": [
    "Number of BPs by category"
   ]
  },
  {
   "cell_type": "code",
   "execution_count": 341,
   "metadata": {
    "scrolled": false
   },
   "outputs": [
    {
     "data": {
      "image/png": "[encoded data removed]",
      "text/plain": [
       "<Figure size 432x288 with 1 Axes>"
      ]
     },
     "metadata": {},
     "output_type": "display_data"
    }
   ],
   "source": [
    "df.groupby('cat').url.count().reindex(my_order.to_list()).plot(kind='bar');"
   ]
  },
  {
   "cell_type": "markdown",
   "metadata": {},
   "source": [
    "#### Findings:"
   ]
  },
  {
   "cell_type": "markdown",
   "metadata": {},
   "source": [
    "*Entertainment, Lifestyle and National BP have the highest average open rates.*"
   ]
  },
  {
   "cell_type": "markdown",
   "metadata": {},
   "source": [
    "*National and Entertainment have the highest ceiling*"
   ]
  },
  {
   "cell_type": "markdown",
   "metadata": {},
   "source": [
    "*World and Biz have the lowest*"
   ]
  },
  {
   "cell_type": "markdown",
   "metadata": {},
   "source": [
    "#### What is the trend of open rates over time?"
   ]
  },
  {
   "cell_type": "code",
   "execution_count": 291,
   "metadata": {},
   "outputs": [],
   "source": [
    "totalOpenRate = round((df.groupby(['dt']).agg({\n",
    "    'opens':'sum', 'sent_count':'sum'}).opens / df.groupby(['dt']).agg({\n",
    "    'opens':'sum', 'sent_count':'sum'}).sent_count) * 100, 2)"
   ]
  },
  {
   "cell_type": "code",
   "execution_count": 292,
   "metadata": {
    "scrolled": true
   },
   "outputs": [
    {
     "data": {
      "text/plain": [
       "<matplotlib.axes._subplots.AxesSubplot at 0x7f77ff52fa58>"
      ]
     },
     "execution_count": 292,
     "metadata": {},
     "output_type": "execute_result"
    },
    {
     "data": {
      "image/png": "[encoded data removed]",
      "text/plain": [
       "<Figure size 432x288 with 1 Axes>"
      ]
     },
     "metadata": {
      "needs_background": "light"
     },
     "output_type": "display_data"
    }
   ],
   "source": [
    "totalOpenRate.plot()"
   ]
  },
  {
   "cell_type": "markdown",
   "metadata": {},
   "source": [
    "#### How about by week?"
   ]
  },
  {
   "cell_type": "code",
   "execution_count": 54,
   "metadata": {
    "scrolled": true
   },
   "outputs": [
    {
     "data": {
      "image/png": "[encoded data removed]",
      "text/plain": [
       "<Figure size 432x288 with 1 Axes>"
      ]
     },
     "metadata": {
      "needs_background": "light"
     },
     "output_type": "display_data"
    }
   ],
   "source": [
    "df.set_index('dt').resample('w').mean().open_rate.plot();"
   ]
  },
  {
   "cell_type": "markdown",
   "metadata": {},
   "source": [
    "#### How about by category?"
   ]
  },
  {
   "cell_type": "code",
   "execution_count": 115,
   "metadata": {
    "scrolled": true
   },
   "outputs": [
    {
     "data": {
      "text/plain": [
       "array(['EN_US_POLITICS', 'EN_US_NATIONAL', 'EN_US_WORLD',\n",
       "       'EN_US_ENTERTAINMENT', 'EN_US_SPORTS', 'EN_US_BUSINESS',\n",
       "       'EN_US_LIFESTYLE', 'UNKNOWN', 'EN_US_TECHNOLOGY', 'EN_US_SCIENCE'],\n",
       "      dtype=object)"
      ]
     },
     "execution_count": 115,
     "metadata": {},
     "output_type": "execute_result"
    }
   ],
   "source": [
    "df.cat.unique()"
   ]
  },
  {
   "cell_type": "code",
   "execution_count": 120,
   "metadata": {
    "scrolled": false
   },
   "outputs": [],
   "source": [
    "biz = df[df.cat == 'EN_US_BUSINESS'].set_index('dt').resample('w').mean().open_rate.to_frame()\n",
    "pol = df[df.cat == 'EN_US_POLITICS'].set_index('dt').resample('w').mean().open_rate.to_frame()\n",
    "US = df[df.cat == 'EN_US_NATIONAL'].set_index('dt').resample('w').mean().open_rate.to_frame()\n",
    "World = df[df.cat == 'EN_US_WORLD'].set_index('dt').resample('w').mean().open_rate.to_frame()\n",
    "Ent = df[df.cat == 'EN_US_ENTERTAINMENT'].set_index('dt').resample('w').mean().open_rate.to_frame()\n",
    "Sports = df[df.cat == 'EN_US_SPORTS'].set_index('dt').resample('w').mean().open_rate.to_frame()\n",
    "Tech = df[df.cat == 'EN_US_TECHNOLOGY'].set_index('dt').resample('w').mean().open_rate.to_frame()\n",
    "Science = df[df.cat == 'EN_US_SCIENCE'].set_index('dt').resample('w').mean().open_rate.to_frame()\n",
    "Lifestyle = df[df.cat == 'EN_US_LIFESTYLE'].set_index('dt').resample('w').mean().open_rate.to_frame()"
   ]
  },
  {
   "cell_type": "code",
   "execution_count": 136,
   "metadata": {},
   "outputs": [
    {
     "data": {
      "text/html": [
       "<div>\n",
       "<style scoped>\n",
       "    .dataframe tbody tr th:only-of-type {\n",
       "        vertical-align: middle;\n",
       "    }\n",
       "\n",
       "    .dataframe tbody tr th {\n",
       "        vertical-align: top;\n",
       "    }\n",
       "\n",
       "    .dataframe thead th {\n",
       "        text-align: right;\n",
       "    }\n",
       "</style>\n",
       "<table border=\"1\" class=\"dataframe\">\n",
       "  <thead>\n",
       "    <tr style=\"text-align: right;\">\n",
       "      <th></th>\n",
       "      <th>open_rate</th>\n",
       "    </tr>\n",
       "    <tr>\n",
       "      <th>dt</th>\n",
       "      <th></th>\n",
       "    </tr>\n",
       "  </thead>\n",
       "  <tbody>\n",
       "    <tr>\n",
       "      <td>2019-07-28</td>\n",
       "      <td>3.04925</td>\n",
       "    </tr>\n",
       "    <tr>\n",
       "      <td>2019-08-04</td>\n",
       "      <td>NaN</td>\n",
       "    </tr>\n",
       "    <tr>\n",
       "      <td>2019-08-11</td>\n",
       "      <td>2.83950</td>\n",
       "    </tr>\n",
       "    <tr>\n",
       "      <td>2019-08-18</td>\n",
       "      <td>NaN</td>\n",
       "    </tr>\n",
       "    <tr>\n",
       "      <td>2019-08-25</td>\n",
       "      <td>NaN</td>\n",
       "    </tr>\n",
       "    <tr>\n",
       "      <td>2019-09-01</td>\n",
       "      <td>NaN</td>\n",
       "    </tr>\n",
       "    <tr>\n",
       "      <td>2019-09-08</td>\n",
       "      <td>3.99550</td>\n",
       "    </tr>\n",
       "    <tr>\n",
       "      <td>2019-09-15</td>\n",
       "      <td>3.38900</td>\n",
       "    </tr>\n",
       "    <tr>\n",
       "      <td>2019-09-22</td>\n",
       "      <td>4.22800</td>\n",
       "    </tr>\n",
       "  </tbody>\n",
       "</table>\n",
       "</div>"
      ],
      "text/plain": [
       "            open_rate\n",
       "dt                   \n",
       "2019-07-28    3.04925\n",
       "2019-08-04        NaN\n",
       "2019-08-11    2.83950\n",
       "2019-08-18        NaN\n",
       "2019-08-25        NaN\n",
       "2019-09-01        NaN\n",
       "2019-09-08    3.99550\n",
       "2019-09-15    3.38900\n",
       "2019-09-22    4.22800"
      ]
     },
     "execution_count": 136,
     "metadata": {},
     "output_type": "execute_result"
    }
   ],
   "source": [
    "df[df.cat == 'EN_US_LIFESTYLE'].set_index('dt').resample('w').mean().open_rate.to_frame()"
   ]
  },
  {
   "cell_type": "code",
   "execution_count": 160,
   "metadata": {
    "scrolled": false
   },
   "outputs": [
    {
     "data": {
      "image/png": "[encoded data removed]",
      "text/plain": [
       "<Figure size 936x504 with 4 Axes>"
      ]
     },
     "metadata": {
      "needs_background": "light"
     },
     "output_type": "display_data"
    }
   ],
   "source": [
    "fix, ax = plt.subplots(2, 2, figsize=(13,7))\n",
    "biz.plot(ax=ax[0,0], title = 'biz')\n",
    "pol.plot(ax=ax[0,1], title = 'politics')\n",
    "US.plot(ax=ax[1,0], title = 'US')\n",
    "World.plot(ax=ax[1,1], title = 'World');\n",
    "\n",
    "plt.subplots_adjust(top = 0.8, bottom=0.01, hspace=1.0, wspace=0.4)"
   ]
  },
  {
   "cell_type": "markdown",
   "metadata": {},
   "source": [
    "#### Findings:<br>\n",
    "*Open rate has been declining since Oct 1st*<br>\n",
    "*Decline about the same for the major categories of push*"
   ]
  },
  {
   "cell_type": "markdown",
   "metadata": {},
   "source": [
    "#### What is the relationship between number of BPs per day and open rate?"
   ]
  },
  {
   "cell_type": "code",
   "execution_count": 177,
   "metadata": {},
   "outputs": [
    {
     "data": {
      "text/html": [
       "<div>\n",
       "<style scoped>\n",
       "    .dataframe tbody tr th:only-of-type {\n",
       "        vertical-align: middle;\n",
       "    }\n",
       "\n",
       "    .dataframe tbody tr th {\n",
       "        vertical-align: top;\n",
       "    }\n",
       "\n",
       "    .dataframe thead th {\n",
       "        text-align: right;\n",
       "    }\n",
       "</style>\n",
       "<table border=\"1\" class=\"dataframe\">\n",
       "  <thead>\n",
       "    <tr style=\"text-align: right;\">\n",
       "      <th></th>\n",
       "      <th>dt</th>\n",
       "      <th>title</th>\n",
       "      <th>url</th>\n",
       "      <th>cat</th>\n",
       "      <th>platform</th>\n",
       "      <th>opens</th>\n",
       "      <th>sent_count</th>\n",
       "      <th>open_rate</th>\n",
       "    </tr>\n",
       "  </thead>\n",
       "  <tbody>\n",
       "    <tr>\n",
       "      <td>0</td>\n",
       "      <td>2019-07-03</td>\n",
       "      <td>Federal judge blocks Ohio anti-abortion law</td>\n",
       "      <td>https://www.reuters.com/article/us-usa-abortio...</td>\n",
       "      <td>EN_US_POLITICS</td>\n",
       "      <td>android</td>\n",
       "      <td>76236</td>\n",
       "      <td>2707846</td>\n",
       "      <td>2.815</td>\n",
       "    </tr>\n",
       "    <tr>\n",
       "      <td>1</td>\n",
       "      <td>2019-07-03</td>\n",
       "      <td>Federal judge blocks Ohio anti-abortion law</td>\n",
       "      <td>https://www.reuters.com/article/us-usa-abortio...</td>\n",
       "      <td>EN_US_POLITICS</td>\n",
       "      <td>ios</td>\n",
       "      <td>12286</td>\n",
       "      <td>593894</td>\n",
       "      <td>2.069</td>\n",
       "    </tr>\n",
       "    <tr>\n",
       "      <td>2</td>\n",
       "      <td>2019-07-06</td>\n",
       "      <td>Even more powerful quake shakes Southern Calif...</td>\n",
       "      <td>https://www.nbcnews.com/news/us-news/earthquak...</td>\n",
       "      <td>EN_US_NATIONAL</td>\n",
       "      <td>android</td>\n",
       "      <td>136187</td>\n",
       "      <td>2692045</td>\n",
       "      <td>5.059</td>\n",
       "    </tr>\n",
       "    <tr>\n",
       "      <td>3</td>\n",
       "      <td>2019-07-06</td>\n",
       "      <td>Even more powerful quake shakes Southern Calif...</td>\n",
       "      <td>https://www.nbcnews.com/news/us-news/earthquak...</td>\n",
       "      <td>EN_US_NATIONAL</td>\n",
       "      <td>ios</td>\n",
       "      <td>29194</td>\n",
       "      <td>567169</td>\n",
       "      <td>5.147</td>\n",
       "    </tr>\n",
       "    <tr>\n",
       "      <td>4</td>\n",
       "      <td>2019-07-10</td>\n",
       "      <td>UK Ambassador Who Called Trump ‘Inept’ And ‘Dy...</td>\n",
       "      <td>https://www.huffpost.com/entry/uk-ambassador-r...</td>\n",
       "      <td>EN_US_POLITICS</td>\n",
       "      <td>android</td>\n",
       "      <td>82727</td>\n",
       "      <td>2676041</td>\n",
       "      <td>3.091</td>\n",
       "    </tr>\n",
       "  </tbody>\n",
       "</table>\n",
       "</div>"
      ],
      "text/plain": [
       "          dt                                              title  \\\n",
       "0 2019-07-03        Federal judge blocks Ohio anti-abortion law   \n",
       "1 2019-07-03        Federal judge blocks Ohio anti-abortion law   \n",
       "2 2019-07-06  Even more powerful quake shakes Southern Calif...   \n",
       "3 2019-07-06  Even more powerful quake shakes Southern Calif...   \n",
       "4 2019-07-10  UK Ambassador Who Called Trump ‘Inept’ And ‘Dy...   \n",
       "\n",
       "                                                 url             cat platform  \\\n",
       "0  https://www.reuters.com/article/us-usa-abortio...  EN_US_POLITICS  android   \n",
       "1  https://www.reuters.com/article/us-usa-abortio...  EN_US_POLITICS      ios   \n",
       "2  https://www.nbcnews.com/news/us-news/earthquak...  EN_US_NATIONAL  android   \n",
       "3  https://www.nbcnews.com/news/us-news/earthquak...  EN_US_NATIONAL      ios   \n",
       "4  https://www.huffpost.com/entry/uk-ambassador-r...  EN_US_POLITICS  android   \n",
       "\n",
       "    opens  sent_count  open_rate  \n",
       "0   76236     2707846      2.815  \n",
       "1   12286      593894      2.069  \n",
       "2  136187     2692045      5.059  \n",
       "3   29194      567169      5.147  \n",
       "4   82727     2676041      3.091  "
      ]
     },
     "execution_count": 177,
     "metadata": {},
     "output_type": "execute_result"
    }
   ],
   "source": [
    "df.head()"
   ]
  },
  {
   "cell_type": "code",
   "execution_count": 186,
   "metadata": {},
   "outputs": [],
   "source": [
    "open_rate_agg = round((df.groupby('dt').agg({'opens':'sum', 'sent_count':'sum'}).opens / df.groupby('dt').agg({\n",
    "    'opens':'sum', 'sent_count':'sum'}).sent_count) * 100.0, 2).to_frame().rename({\n",
    "    0:'open_rate'}, axis=1)"
   ]
  },
  {
   "cell_type": "code",
   "execution_count": 187,
   "metadata": {},
   "outputs": [
    {
     "data": {
      "text/html": [
       "<div>\n",
       "<style scoped>\n",
       "    .dataframe tbody tr th:only-of-type {\n",
       "        vertical-align: middle;\n",
       "    }\n",
       "\n",
       "    .dataframe tbody tr th {\n",
       "        vertical-align: top;\n",
       "    }\n",
       "\n",
       "    .dataframe thead th {\n",
       "        text-align: right;\n",
       "    }\n",
       "</style>\n",
       "<table border=\"1\" class=\"dataframe\">\n",
       "  <thead>\n",
       "    <tr style=\"text-align: right;\">\n",
       "      <th></th>\n",
       "      <th>open_rate</th>\n",
       "    </tr>\n",
       "    <tr>\n",
       "      <th>dt</th>\n",
       "      <th></th>\n",
       "    </tr>\n",
       "  </thead>\n",
       "  <tbody>\n",
       "    <tr>\n",
       "      <td>2019-07-02</td>\n",
       "      <td>2.96</td>\n",
       "    </tr>\n",
       "    <tr>\n",
       "      <td>2019-07-03</td>\n",
       "      <td>2.74</td>\n",
       "    </tr>\n",
       "    <tr>\n",
       "      <td>2019-07-04</td>\n",
       "      <td>6.98</td>\n",
       "    </tr>\n",
       "    <tr>\n",
       "      <td>2019-07-06</td>\n",
       "      <td>6.08</td>\n",
       "    </tr>\n",
       "    <tr>\n",
       "      <td>2019-07-07</td>\n",
       "      <td>4.70</td>\n",
       "    </tr>\n",
       "    <tr>\n",
       "      <td>...</td>\n",
       "      <td>...</td>\n",
       "    </tr>\n",
       "    <tr>\n",
       "      <td>2019-10-22</td>\n",
       "      <td>2.06</td>\n",
       "    </tr>\n",
       "    <tr>\n",
       "      <td>2019-10-25</td>\n",
       "      <td>2.64</td>\n",
       "    </tr>\n",
       "    <tr>\n",
       "      <td>2019-10-27</td>\n",
       "      <td>3.38</td>\n",
       "    </tr>\n",
       "    <tr>\n",
       "      <td>2019-10-28</td>\n",
       "      <td>3.09</td>\n",
       "    </tr>\n",
       "    <tr>\n",
       "      <td>2019-10-29</td>\n",
       "      <td>2.63</td>\n",
       "    </tr>\n",
       "  </tbody>\n",
       "</table>\n",
       "<p>105 rows × 1 columns</p>\n",
       "</div>"
      ],
      "text/plain": [
       "            open_rate\n",
       "dt                   \n",
       "2019-07-02       2.96\n",
       "2019-07-03       2.74\n",
       "2019-07-04       6.98\n",
       "2019-07-06       6.08\n",
       "2019-07-07       4.70\n",
       "...               ...\n",
       "2019-10-22       2.06\n",
       "2019-10-25       2.64\n",
       "2019-10-27       3.38\n",
       "2019-10-28       3.09\n",
       "2019-10-29       2.63\n",
       "\n",
       "[105 rows x 1 columns]"
      ]
     },
     "execution_count": 187,
     "metadata": {},
     "output_type": "execute_result"
    }
   ],
   "source": [
    "open_rate_agg"
   ]
  },
  {
   "cell_type": "code",
   "execution_count": 180,
   "metadata": {},
   "outputs": [],
   "source": [
    "df2 = df.groupby('dt').url.nunique().to_frame().rename({'url':'BP_count'}, axis=1)"
   ]
  },
  {
   "cell_type": "code",
   "execution_count": 191,
   "metadata": {},
   "outputs": [],
   "source": [
    "df2 = df2.merge(open_rate_agg, on='dt', how='left')"
   ]
  },
  {
   "cell_type": "code",
   "execution_count": 192,
   "metadata": {},
   "outputs": [
    {
     "data": {
      "text/html": [
       "<div>\n",
       "<style scoped>\n",
       "    .dataframe tbody tr th:only-of-type {\n",
       "        vertical-align: middle;\n",
       "    }\n",
       "\n",
       "    .dataframe tbody tr th {\n",
       "        vertical-align: top;\n",
       "    }\n",
       "\n",
       "    .dataframe thead th {\n",
       "        text-align: right;\n",
       "    }\n",
       "</style>\n",
       "<table border=\"1\" class=\"dataframe\">\n",
       "  <thead>\n",
       "    <tr style=\"text-align: right;\">\n",
       "      <th></th>\n",
       "      <th>BP_count</th>\n",
       "      <th>open_rate</th>\n",
       "    </tr>\n",
       "    <tr>\n",
       "      <th>dt</th>\n",
       "      <th></th>\n",
       "      <th></th>\n",
       "    </tr>\n",
       "  </thead>\n",
       "  <tbody>\n",
       "    <tr>\n",
       "      <td>2019-07-02</td>\n",
       "      <td>2</td>\n",
       "      <td>2.96</td>\n",
       "    </tr>\n",
       "    <tr>\n",
       "      <td>2019-07-03</td>\n",
       "      <td>9</td>\n",
       "      <td>2.74</td>\n",
       "    </tr>\n",
       "    <tr>\n",
       "      <td>2019-07-04</td>\n",
       "      <td>1</td>\n",
       "      <td>6.98</td>\n",
       "    </tr>\n",
       "    <tr>\n",
       "      <td>2019-07-06</td>\n",
       "      <td>2</td>\n",
       "      <td>6.08</td>\n",
       "    </tr>\n",
       "    <tr>\n",
       "      <td>2019-07-07</td>\n",
       "      <td>2</td>\n",
       "      <td>4.70</td>\n",
       "    </tr>\n",
       "  </tbody>\n",
       "</table>\n",
       "</div>"
      ],
      "text/plain": [
       "            BP_count  open_rate\n",
       "dt                             \n",
       "2019-07-02         2       2.96\n",
       "2019-07-03         9       2.74\n",
       "2019-07-04         1       6.98\n",
       "2019-07-06         2       6.08\n",
       "2019-07-07         2       4.70"
      ]
     },
     "execution_count": 192,
     "metadata": {},
     "output_type": "execute_result"
    }
   ],
   "source": [
    "df2.head()"
   ]
  },
  {
   "cell_type": "code",
   "execution_count": 197,
   "metadata": {
    "scrolled": true
   },
   "outputs": [
    {
     "data": {
      "image/png": "[encoded data removed]",
      "text/plain": [
       "<Figure size 432x288 with 1 Axes>"
      ]
     },
     "metadata": {
      "needs_background": "light"
     },
     "output_type": "display_data"
    }
   ],
   "source": [
    "sns.regplot(x=\"BP_count\", y=\"open_rate\", data=df2);"
   ]
  },
  {
   "cell_type": "code",
   "execution_count": 204,
   "metadata": {},
   "outputs": [
    {
     "data": {
      "image/png": "[encoded data removed]",
      "text/plain": [
       "<Figure size 655.2x504 with 1 Axes>"
      ]
     },
     "metadata": {
      "needs_background": "light"
     },
     "output_type": "display_data"
    }
   ],
   "source": [
    "sns.catplot(x='BP_count', y='open_rate', kind='box', data=df2, height=7, aspect=1.3);"
   ]
  },
  {
   "cell_type": "code",
   "execution_count": 199,
   "metadata": {
    "scrolled": true
   },
   "outputs": [
    {
     "data": {
      "text/html": [
       "<div>\n",
       "<style scoped>\n",
       "    .dataframe tbody tr th:only-of-type {\n",
       "        vertical-align: middle;\n",
       "    }\n",
       "\n",
       "    .dataframe tbody tr th {\n",
       "        vertical-align: top;\n",
       "    }\n",
       "\n",
       "    .dataframe thead th {\n",
       "        text-align: right;\n",
       "    }\n",
       "</style>\n",
       "<table border=\"1\" class=\"dataframe\">\n",
       "  <thead>\n",
       "    <tr style=\"text-align: right;\">\n",
       "      <th></th>\n",
       "      <th>BP_count</th>\n",
       "      <th>open_rate</th>\n",
       "    </tr>\n",
       "  </thead>\n",
       "  <tbody>\n",
       "    <tr>\n",
       "      <td>BP_count</td>\n",
       "      <td>1.00000</td>\n",
       "      <td>-0.38164</td>\n",
       "    </tr>\n",
       "    <tr>\n",
       "      <td>open_rate</td>\n",
       "      <td>-0.38164</td>\n",
       "      <td>1.00000</td>\n",
       "    </tr>\n",
       "  </tbody>\n",
       "</table>\n",
       "</div>"
      ],
      "text/plain": [
       "           BP_count  open_rate\n",
       "BP_count    1.00000   -0.38164\n",
       "open_rate  -0.38164    1.00000"
      ]
     },
     "execution_count": 199,
     "metadata": {},
     "output_type": "execute_result"
    }
   ],
   "source": [
    "df2.corr()"
   ]
  },
  {
   "cell_type": "markdown",
   "metadata": {},
   "source": [
    "#### Findings:\n",
    "*Negative relationship - as number of BPs goes up, open rate goes down*|"
   ]
  },
  {
   "cell_type": "markdown",
   "metadata": {},
   "source": [
    "#### Have been sending more BPs (would this explain decreasing open rates?)"
   ]
  },
  {
   "cell_type": "code",
   "execution_count": 203,
   "metadata": {
    "scrolled": true
   },
   "outputs": [
    {
     "data": {
      "text/plain": [
       "<matplotlib.axes._subplots.AxesSubplot at 0x7f7801964198>"
      ]
     },
     "execution_count": 203,
     "metadata": {},
     "output_type": "execute_result"
    },
    {
     "data": {
      "image/png": "[encoded data removed]",
      "text/plain": [
       "<Figure size 432x288 with 1 Axes>"
      ]
     },
     "metadata": {
      "needs_background": "light"
     },
     "output_type": "display_data"
    }
   ],
   "source": [
    "df.set_index('dt').resample('w').url.nunique().plot()"
   ]
  },
  {
   "cell_type": "markdown",
   "metadata": {},
   "source": [
    "#### Finding:\n",
    "*But number of BPs per week has not gone up dramatically*"
   ]
  },
  {
   "cell_type": "markdown",
   "metadata": {},
   "source": [
    "#### What is the relationship between length of title and open rate by platform?"
   ]
  },
  {
   "cell_type": "code",
   "execution_count": 205,
   "metadata": {},
   "outputs": [
    {
     "data": {
      "text/html": [
       "<div>\n",
       "<style scoped>\n",
       "    .dataframe tbody tr th:only-of-type {\n",
       "        vertical-align: middle;\n",
       "    }\n",
       "\n",
       "    .dataframe tbody tr th {\n",
       "        vertical-align: top;\n",
       "    }\n",
       "\n",
       "    .dataframe thead th {\n",
       "        text-align: right;\n",
       "    }\n",
       "</style>\n",
       "<table border=\"1\" class=\"dataframe\">\n",
       "  <thead>\n",
       "    <tr style=\"text-align: right;\">\n",
       "      <th></th>\n",
       "      <th>dt</th>\n",
       "      <th>title</th>\n",
       "      <th>url</th>\n",
       "      <th>cat</th>\n",
       "      <th>platform</th>\n",
       "      <th>opens</th>\n",
       "      <th>sent_count</th>\n",
       "      <th>open_rate</th>\n",
       "    </tr>\n",
       "  </thead>\n",
       "  <tbody>\n",
       "    <tr>\n",
       "      <td>0</td>\n",
       "      <td>2019-07-03</td>\n",
       "      <td>Federal judge blocks Ohio anti-abortion law</td>\n",
       "      <td>https://www.reuters.com/article/us-usa-abortio...</td>\n",
       "      <td>EN_US_POLITICS</td>\n",
       "      <td>android</td>\n",
       "      <td>76236</td>\n",
       "      <td>2707846</td>\n",
       "      <td>2.815</td>\n",
       "    </tr>\n",
       "    <tr>\n",
       "      <td>1</td>\n",
       "      <td>2019-07-03</td>\n",
       "      <td>Federal judge blocks Ohio anti-abortion law</td>\n",
       "      <td>https://www.reuters.com/article/us-usa-abortio...</td>\n",
       "      <td>EN_US_POLITICS</td>\n",
       "      <td>ios</td>\n",
       "      <td>12286</td>\n",
       "      <td>593894</td>\n",
       "      <td>2.069</td>\n",
       "    </tr>\n",
       "    <tr>\n",
       "      <td>2</td>\n",
       "      <td>2019-07-06</td>\n",
       "      <td>Even more powerful quake shakes Southern Calif...</td>\n",
       "      <td>https://www.nbcnews.com/news/us-news/earthquak...</td>\n",
       "      <td>EN_US_NATIONAL</td>\n",
       "      <td>android</td>\n",
       "      <td>136187</td>\n",
       "      <td>2692045</td>\n",
       "      <td>5.059</td>\n",
       "    </tr>\n",
       "    <tr>\n",
       "      <td>3</td>\n",
       "      <td>2019-07-06</td>\n",
       "      <td>Even more powerful quake shakes Southern Calif...</td>\n",
       "      <td>https://www.nbcnews.com/news/us-news/earthquak...</td>\n",
       "      <td>EN_US_NATIONAL</td>\n",
       "      <td>ios</td>\n",
       "      <td>29194</td>\n",
       "      <td>567169</td>\n",
       "      <td>5.147</td>\n",
       "    </tr>\n",
       "    <tr>\n",
       "      <td>4</td>\n",
       "      <td>2019-07-10</td>\n",
       "      <td>UK Ambassador Who Called Trump ‘Inept’ And ‘Dy...</td>\n",
       "      <td>https://www.huffpost.com/entry/uk-ambassador-r...</td>\n",
       "      <td>EN_US_POLITICS</td>\n",
       "      <td>android</td>\n",
       "      <td>82727</td>\n",
       "      <td>2676041</td>\n",
       "      <td>3.091</td>\n",
       "    </tr>\n",
       "  </tbody>\n",
       "</table>\n",
       "</div>"
      ],
      "text/plain": [
       "          dt                                              title  \\\n",
       "0 2019-07-03        Federal judge blocks Ohio anti-abortion law   \n",
       "1 2019-07-03        Federal judge blocks Ohio anti-abortion law   \n",
       "2 2019-07-06  Even more powerful quake shakes Southern Calif...   \n",
       "3 2019-07-06  Even more powerful quake shakes Southern Calif...   \n",
       "4 2019-07-10  UK Ambassador Who Called Trump ‘Inept’ And ‘Dy...   \n",
       "\n",
       "                                                 url             cat platform  \\\n",
       "0  https://www.reuters.com/article/us-usa-abortio...  EN_US_POLITICS  android   \n",
       "1  https://www.reuters.com/article/us-usa-abortio...  EN_US_POLITICS      ios   \n",
       "2  https://www.nbcnews.com/news/us-news/earthquak...  EN_US_NATIONAL  android   \n",
       "3  https://www.nbcnews.com/news/us-news/earthquak...  EN_US_NATIONAL      ios   \n",
       "4  https://www.huffpost.com/entry/uk-ambassador-r...  EN_US_POLITICS  android   \n",
       "\n",
       "    opens  sent_count  open_rate  \n",
       "0   76236     2707846      2.815  \n",
       "1   12286      593894      2.069  \n",
       "2  136187     2692045      5.059  \n",
       "3   29194      567169      5.147  \n",
       "4   82727     2676041      3.091  "
      ]
     },
     "execution_count": 205,
     "metadata": {},
     "output_type": "execute_result"
    }
   ],
   "source": [
    "df.head()"
   ]
  },
  {
   "cell_type": "code",
   "execution_count": 209,
   "metadata": {},
   "outputs": [],
   "source": [
    "df['title_length'] = df.apply(lambda x: len(x['title']), axis=1)"
   ]
  },
  {
   "cell_type": "code",
   "execution_count": 210,
   "metadata": {},
   "outputs": [
    {
     "data": {
      "text/html": [
       "<div>\n",
       "<style scoped>\n",
       "    .dataframe tbody tr th:only-of-type {\n",
       "        vertical-align: middle;\n",
       "    }\n",
       "\n",
       "    .dataframe tbody tr th {\n",
       "        vertical-align: top;\n",
       "    }\n",
       "\n",
       "    .dataframe thead th {\n",
       "        text-align: right;\n",
       "    }\n",
       "</style>\n",
       "<table border=\"1\" class=\"dataframe\">\n",
       "  <thead>\n",
       "    <tr style=\"text-align: right;\">\n",
       "      <th></th>\n",
       "      <th>dt</th>\n",
       "      <th>title</th>\n",
       "      <th>url</th>\n",
       "      <th>cat</th>\n",
       "      <th>platform</th>\n",
       "      <th>opens</th>\n",
       "      <th>sent_count</th>\n",
       "      <th>open_rate</th>\n",
       "      <th>title_length</th>\n",
       "    </tr>\n",
       "  </thead>\n",
       "  <tbody>\n",
       "    <tr>\n",
       "      <td>0</td>\n",
       "      <td>2019-07-03</td>\n",
       "      <td>Federal judge blocks Ohio anti-abortion law</td>\n",
       "      <td>https://www.reuters.com/article/us-usa-abortio...</td>\n",
       "      <td>EN_US_POLITICS</td>\n",
       "      <td>android</td>\n",
       "      <td>76236</td>\n",
       "      <td>2707846</td>\n",
       "      <td>2.815</td>\n",
       "      <td>43</td>\n",
       "    </tr>\n",
       "    <tr>\n",
       "      <td>1</td>\n",
       "      <td>2019-07-03</td>\n",
       "      <td>Federal judge blocks Ohio anti-abortion law</td>\n",
       "      <td>https://www.reuters.com/article/us-usa-abortio...</td>\n",
       "      <td>EN_US_POLITICS</td>\n",
       "      <td>ios</td>\n",
       "      <td>12286</td>\n",
       "      <td>593894</td>\n",
       "      <td>2.069</td>\n",
       "      <td>43</td>\n",
       "    </tr>\n",
       "    <tr>\n",
       "      <td>2</td>\n",
       "      <td>2019-07-06</td>\n",
       "      <td>Even more powerful quake shakes Southern Calif...</td>\n",
       "      <td>https://www.nbcnews.com/news/us-news/earthquak...</td>\n",
       "      <td>EN_US_NATIONAL</td>\n",
       "      <td>android</td>\n",
       "      <td>136187</td>\n",
       "      <td>2692045</td>\n",
       "      <td>5.059</td>\n",
       "      <td>83</td>\n",
       "    </tr>\n",
       "    <tr>\n",
       "      <td>3</td>\n",
       "      <td>2019-07-06</td>\n",
       "      <td>Even more powerful quake shakes Southern Calif...</td>\n",
       "      <td>https://www.nbcnews.com/news/us-news/earthquak...</td>\n",
       "      <td>EN_US_NATIONAL</td>\n",
       "      <td>ios</td>\n",
       "      <td>29194</td>\n",
       "      <td>567169</td>\n",
       "      <td>5.147</td>\n",
       "      <td>83</td>\n",
       "    </tr>\n",
       "    <tr>\n",
       "      <td>4</td>\n",
       "      <td>2019-07-10</td>\n",
       "      <td>UK Ambassador Who Called Trump ‘Inept’ And ‘Dy...</td>\n",
       "      <td>https://www.huffpost.com/entry/uk-ambassador-r...</td>\n",
       "      <td>EN_US_POLITICS</td>\n",
       "      <td>android</td>\n",
       "      <td>82727</td>\n",
       "      <td>2676041</td>\n",
       "      <td>3.091</td>\n",
       "      <td>66</td>\n",
       "    </tr>\n",
       "  </tbody>\n",
       "</table>\n",
       "</div>"
      ],
      "text/plain": [
       "          dt                                              title  \\\n",
       "0 2019-07-03        Federal judge blocks Ohio anti-abortion law   \n",
       "1 2019-07-03        Federal judge blocks Ohio anti-abortion law   \n",
       "2 2019-07-06  Even more powerful quake shakes Southern Calif...   \n",
       "3 2019-07-06  Even more powerful quake shakes Southern Calif...   \n",
       "4 2019-07-10  UK Ambassador Who Called Trump ‘Inept’ And ‘Dy...   \n",
       "\n",
       "                                                 url             cat platform  \\\n",
       "0  https://www.reuters.com/article/us-usa-abortio...  EN_US_POLITICS  android   \n",
       "1  https://www.reuters.com/article/us-usa-abortio...  EN_US_POLITICS      ios   \n",
       "2  https://www.nbcnews.com/news/us-news/earthquak...  EN_US_NATIONAL  android   \n",
       "3  https://www.nbcnews.com/news/us-news/earthquak...  EN_US_NATIONAL      ios   \n",
       "4  https://www.huffpost.com/entry/uk-ambassador-r...  EN_US_POLITICS  android   \n",
       "\n",
       "    opens  sent_count  open_rate  title_length  \n",
       "0   76236     2707846      2.815            43  \n",
       "1   12286      593894      2.069            43  \n",
       "2  136187     2692045      5.059            83  \n",
       "3   29194      567169      5.147            83  \n",
       "4   82727     2676041      3.091            66  "
      ]
     },
     "execution_count": 210,
     "metadata": {},
     "output_type": "execute_result"
    }
   ],
   "source": [
    "df.head()"
   ]
  },
  {
   "cell_type": "code",
   "execution_count": 214,
   "metadata": {},
   "outputs": [
    {
     "data": {
      "text/plain": [
       "<seaborn.axisgrid.FacetGrid at 0x7f77ffc17518>"
      ]
     },
     "execution_count": 214,
     "metadata": {},
     "output_type": "execute_result"
    },
    {
     "data": {
      "image/png": "[encoded data removed]",
      "text/plain": [
       "<Figure size 432x216 with 2 Axes>"
      ]
     },
     "metadata": {
      "needs_background": "light"
     },
     "output_type": "display_data"
    }
   ],
   "source": [
    "g = sns.FacetGrid(df, col=\"platform\")\n",
    "g.map(plt.scatter, \"title_length\", \"open_rate\")"
   ]
  },
  {
   "cell_type": "code",
   "execution_count": 218,
   "metadata": {
    "scrolled": true
   },
   "outputs": [
    {
     "data": {
      "image/png": "[encoded data removed]",
      "text/plain": [
       "<Figure size 432x288 with 1 Axes>"
      ]
     },
     "metadata": {
      "needs_background": "light"
     },
     "output_type": "display_data"
    }
   ],
   "source": [
    "sns.regplot(x=\"title_length\", y=\"open_rate\", data=df[df.platform=='android']);"
   ]
  },
  {
   "cell_type": "code",
   "execution_count": 219,
   "metadata": {},
   "outputs": [
    {
     "data": {
      "image/png": "[encoded data removed]",
      "text/plain": [
       "<Figure size 432x288 with 1 Axes>"
      ]
     },
     "metadata": {
      "needs_background": "light"
     },
     "output_type": "display_data"
    }
   ],
   "source": [
    "sns.regplot(x=\"title_length\", y=\"open_rate\", data=df[df.platform=='ios']);"
   ]
  },
  {
   "cell_type": "code",
   "execution_count": 220,
   "metadata": {},
   "outputs": [
    {
     "data": {
      "image/png": "[encoded data removed]",
      "text/plain": [
       "<Figure size 432x288 with 1 Axes>"
      ]
     },
     "metadata": {
      "needs_background": "light"
     },
     "output_type": "display_data"
    }
   ],
   "source": [
    "sns.regplot(x=\"title_length\", y=\"open_rate\", data=df[df.platform=='android']);\n",
    "sns.regplot(x=\"title_length\", y=\"open_rate\", data=df[df.platform=='ios']);"
   ]
  },
  {
   "cell_type": "code",
   "execution_count": 222,
   "metadata": {},
   "outputs": [
    {
     "data": {
      "text/html": [
       "<div>\n",
       "<style scoped>\n",
       "    .dataframe tbody tr th:only-of-type {\n",
       "        vertical-align: middle;\n",
       "    }\n",
       "\n",
       "    .dataframe tbody tr th {\n",
       "        vertical-align: top;\n",
       "    }\n",
       "\n",
       "    .dataframe thead th {\n",
       "        text-align: right;\n",
       "    }\n",
       "</style>\n",
       "<table border=\"1\" class=\"dataframe\">\n",
       "  <thead>\n",
       "    <tr style=\"text-align: right;\">\n",
       "      <th></th>\n",
       "      <th></th>\n",
       "      <th>opens</th>\n",
       "      <th>sent_count</th>\n",
       "      <th>open_rate</th>\n",
       "      <th>title_length</th>\n",
       "    </tr>\n",
       "    <tr>\n",
       "      <th>platform</th>\n",
       "      <th></th>\n",
       "      <th></th>\n",
       "      <th></th>\n",
       "      <th></th>\n",
       "      <th></th>\n",
       "    </tr>\n",
       "  </thead>\n",
       "  <tbody>\n",
       "    <tr>\n",
       "      <td rowspan=\"4\" valign=\"top\">android</td>\n",
       "      <td>opens</td>\n",
       "      <td>1.000000</td>\n",
       "      <td>-0.141813</td>\n",
       "      <td>0.976993</td>\n",
       "      <td>0.007374</td>\n",
       "    </tr>\n",
       "    <tr>\n",
       "      <td>sent_count</td>\n",
       "      <td>-0.141813</td>\n",
       "      <td>1.000000</td>\n",
       "      <td>-0.340348</td>\n",
       "      <td>0.198402</td>\n",
       "    </tr>\n",
       "    <tr>\n",
       "      <td>open_rate</td>\n",
       "      <td>0.976993</td>\n",
       "      <td>-0.340348</td>\n",
       "      <td>1.000000</td>\n",
       "      <td>-0.035958</td>\n",
       "    </tr>\n",
       "    <tr>\n",
       "      <td>title_length</td>\n",
       "      <td>0.007374</td>\n",
       "      <td>0.198402</td>\n",
       "      <td>-0.035958</td>\n",
       "      <td>1.000000</td>\n",
       "    </tr>\n",
       "    <tr>\n",
       "      <td rowspan=\"4\" valign=\"top\">ios</td>\n",
       "      <td>opens</td>\n",
       "      <td>1.000000</td>\n",
       "      <td>-0.037727</td>\n",
       "      <td>0.996899</td>\n",
       "      <td>-0.099886</td>\n",
       "    </tr>\n",
       "    <tr>\n",
       "      <td>sent_count</td>\n",
       "      <td>-0.037727</td>\n",
       "      <td>1.000000</td>\n",
       "      <td>-0.107181</td>\n",
       "      <td>0.103424</td>\n",
       "    </tr>\n",
       "    <tr>\n",
       "      <td>open_rate</td>\n",
       "      <td>0.996899</td>\n",
       "      <td>-0.107181</td>\n",
       "      <td>1.000000</td>\n",
       "      <td>-0.105771</td>\n",
       "    </tr>\n",
       "    <tr>\n",
       "      <td>title_length</td>\n",
       "      <td>-0.099886</td>\n",
       "      <td>0.103424</td>\n",
       "      <td>-0.105771</td>\n",
       "      <td>1.000000</td>\n",
       "    </tr>\n",
       "  </tbody>\n",
       "</table>\n",
       "</div>"
      ],
      "text/plain": [
       "                          opens  sent_count  open_rate  title_length\n",
       "platform                                                            \n",
       "android  opens         1.000000   -0.141813   0.976993      0.007374\n",
       "         sent_count   -0.141813    1.000000  -0.340348      0.198402\n",
       "         open_rate     0.976993   -0.340348   1.000000     -0.035958\n",
       "         title_length  0.007374    0.198402  -0.035958      1.000000\n",
       "ios      opens         1.000000   -0.037727   0.996899     -0.099886\n",
       "         sent_count   -0.037727    1.000000  -0.107181      0.103424\n",
       "         open_rate     0.996899   -0.107181   1.000000     -0.105771\n",
       "         title_length -0.099886    0.103424  -0.105771      1.000000"
      ]
     },
     "execution_count": 222,
     "metadata": {},
     "output_type": "execute_result"
    }
   ],
   "source": [
    "df.groupby('platform').corr()"
   ]
  },
  {
   "cell_type": "markdown",
   "metadata": {},
   "source": [
    "#### Finding:\n",
    "*Only very slight negative relationship for iOS. Nothing for Android*"
   ]
  },
  {
   "cell_type": "markdown",
   "metadata": {},
   "source": [
    "#### Does having the word \"Trump\" in the title correlate with open_rate?"
   ]
  },
  {
   "cell_type": "code",
   "execution_count": 223,
   "metadata": {},
   "outputs": [
    {
     "data": {
      "text/html": [
       "<div>\n",
       "<style scoped>\n",
       "    .dataframe tbody tr th:only-of-type {\n",
       "        vertical-align: middle;\n",
       "    }\n",
       "\n",
       "    .dataframe tbody tr th {\n",
       "        vertical-align: top;\n",
       "    }\n",
       "\n",
       "    .dataframe thead th {\n",
       "        text-align: right;\n",
       "    }\n",
       "</style>\n",
       "<table border=\"1\" class=\"dataframe\">\n",
       "  <thead>\n",
       "    <tr style=\"text-align: right;\">\n",
       "      <th></th>\n",
       "      <th>dt</th>\n",
       "      <th>title</th>\n",
       "      <th>url</th>\n",
       "      <th>cat</th>\n",
       "      <th>platform</th>\n",
       "      <th>opens</th>\n",
       "      <th>sent_count</th>\n",
       "      <th>open_rate</th>\n",
       "      <th>title_length</th>\n",
       "    </tr>\n",
       "  </thead>\n",
       "  <tbody>\n",
       "    <tr>\n",
       "      <td>0</td>\n",
       "      <td>2019-07-03</td>\n",
       "      <td>Federal judge blocks Ohio anti-abortion law</td>\n",
       "      <td>https://www.reuters.com/article/us-usa-abortio...</td>\n",
       "      <td>EN_US_POLITICS</td>\n",
       "      <td>android</td>\n",
       "      <td>76236</td>\n",
       "      <td>2707846</td>\n",
       "      <td>2.815</td>\n",
       "      <td>43</td>\n",
       "    </tr>\n",
       "    <tr>\n",
       "      <td>1</td>\n",
       "      <td>2019-07-03</td>\n",
       "      <td>Federal judge blocks Ohio anti-abortion law</td>\n",
       "      <td>https://www.reuters.com/article/us-usa-abortio...</td>\n",
       "      <td>EN_US_POLITICS</td>\n",
       "      <td>ios</td>\n",
       "      <td>12286</td>\n",
       "      <td>593894</td>\n",
       "      <td>2.069</td>\n",
       "      <td>43</td>\n",
       "    </tr>\n",
       "    <tr>\n",
       "      <td>2</td>\n",
       "      <td>2019-07-06</td>\n",
       "      <td>Even more powerful quake shakes Southern Calif...</td>\n",
       "      <td>https://www.nbcnews.com/news/us-news/earthquak...</td>\n",
       "      <td>EN_US_NATIONAL</td>\n",
       "      <td>android</td>\n",
       "      <td>136187</td>\n",
       "      <td>2692045</td>\n",
       "      <td>5.059</td>\n",
       "      <td>83</td>\n",
       "    </tr>\n",
       "    <tr>\n",
       "      <td>3</td>\n",
       "      <td>2019-07-06</td>\n",
       "      <td>Even more powerful quake shakes Southern Calif...</td>\n",
       "      <td>https://www.nbcnews.com/news/us-news/earthquak...</td>\n",
       "      <td>EN_US_NATIONAL</td>\n",
       "      <td>ios</td>\n",
       "      <td>29194</td>\n",
       "      <td>567169</td>\n",
       "      <td>5.147</td>\n",
       "      <td>83</td>\n",
       "    </tr>\n",
       "    <tr>\n",
       "      <td>4</td>\n",
       "      <td>2019-07-10</td>\n",
       "      <td>UK Ambassador Who Called Trump ‘Inept’ And ‘Dy...</td>\n",
       "      <td>https://www.huffpost.com/entry/uk-ambassador-r...</td>\n",
       "      <td>EN_US_POLITICS</td>\n",
       "      <td>android</td>\n",
       "      <td>82727</td>\n",
       "      <td>2676041</td>\n",
       "      <td>3.091</td>\n",
       "      <td>66</td>\n",
       "    </tr>\n",
       "  </tbody>\n",
       "</table>\n",
       "</div>"
      ],
      "text/plain": [
       "          dt                                              title  \\\n",
       "0 2019-07-03        Federal judge blocks Ohio anti-abortion law   \n",
       "1 2019-07-03        Federal judge blocks Ohio anti-abortion law   \n",
       "2 2019-07-06  Even more powerful quake shakes Southern Calif...   \n",
       "3 2019-07-06  Even more powerful quake shakes Southern Calif...   \n",
       "4 2019-07-10  UK Ambassador Who Called Trump ‘Inept’ And ‘Dy...   \n",
       "\n",
       "                                                 url             cat platform  \\\n",
       "0  https://www.reuters.com/article/us-usa-abortio...  EN_US_POLITICS  android   \n",
       "1  https://www.reuters.com/article/us-usa-abortio...  EN_US_POLITICS      ios   \n",
       "2  https://www.nbcnews.com/news/us-news/earthquak...  EN_US_NATIONAL  android   \n",
       "3  https://www.nbcnews.com/news/us-news/earthquak...  EN_US_NATIONAL      ios   \n",
       "4  https://www.huffpost.com/entry/uk-ambassador-r...  EN_US_POLITICS  android   \n",
       "\n",
       "    opens  sent_count  open_rate  title_length  \n",
       "0   76236     2707846      2.815            43  \n",
       "1   12286      593894      2.069            43  \n",
       "2  136187     2692045      5.059            83  \n",
       "3   29194      567169      5.147            83  \n",
       "4   82727     2676041      3.091            66  "
      ]
     },
     "execution_count": 223,
     "metadata": {},
     "output_type": "execute_result"
    }
   ],
   "source": [
    "df.head()"
   ]
  },
  {
   "cell_type": "code",
   "execution_count": 244,
   "metadata": {},
   "outputs": [],
   "source": [
    "df['Trump?'] = df.url.isin(df[df.title.str.contains('Trump')].url)"
   ]
  },
  {
   "cell_type": "code",
   "execution_count": 245,
   "metadata": {},
   "outputs": [
    {
     "data": {
      "text/html": [
       "<div>\n",
       "<style scoped>\n",
       "    .dataframe tbody tr th:only-of-type {\n",
       "        vertical-align: middle;\n",
       "    }\n",
       "\n",
       "    .dataframe tbody tr th {\n",
       "        vertical-align: top;\n",
       "    }\n",
       "\n",
       "    .dataframe thead th {\n",
       "        text-align: right;\n",
       "    }\n",
       "</style>\n",
       "<table border=\"1\" class=\"dataframe\">\n",
       "  <thead>\n",
       "    <tr style=\"text-align: right;\">\n",
       "      <th></th>\n",
       "      <th>dt</th>\n",
       "      <th>title</th>\n",
       "      <th>url</th>\n",
       "      <th>cat</th>\n",
       "      <th>platform</th>\n",
       "      <th>opens</th>\n",
       "      <th>sent_count</th>\n",
       "      <th>open_rate</th>\n",
       "      <th>title_length</th>\n",
       "      <th>Trump?</th>\n",
       "    </tr>\n",
       "  </thead>\n",
       "  <tbody>\n",
       "    <tr>\n",
       "      <td>0</td>\n",
       "      <td>2019-07-03</td>\n",
       "      <td>Federal judge blocks Ohio anti-abortion law</td>\n",
       "      <td>https://www.reuters.com/article/us-usa-abortio...</td>\n",
       "      <td>EN_US_POLITICS</td>\n",
       "      <td>android</td>\n",
       "      <td>76236</td>\n",
       "      <td>2707846</td>\n",
       "      <td>2.815</td>\n",
       "      <td>43</td>\n",
       "      <td>False</td>\n",
       "    </tr>\n",
       "    <tr>\n",
       "      <td>1</td>\n",
       "      <td>2019-07-03</td>\n",
       "      <td>Federal judge blocks Ohio anti-abortion law</td>\n",
       "      <td>https://www.reuters.com/article/us-usa-abortio...</td>\n",
       "      <td>EN_US_POLITICS</td>\n",
       "      <td>ios</td>\n",
       "      <td>12286</td>\n",
       "      <td>593894</td>\n",
       "      <td>2.069</td>\n",
       "      <td>43</td>\n",
       "      <td>False</td>\n",
       "    </tr>\n",
       "  </tbody>\n",
       "</table>\n",
       "</div>"
      ],
      "text/plain": [
       "          dt                                        title  \\\n",
       "0 2019-07-03  Federal judge blocks Ohio anti-abortion law   \n",
       "1 2019-07-03  Federal judge blocks Ohio anti-abortion law   \n",
       "\n",
       "                                                 url             cat platform  \\\n",
       "0  https://www.reuters.com/article/us-usa-abortio...  EN_US_POLITICS  android   \n",
       "1  https://www.reuters.com/article/us-usa-abortio...  EN_US_POLITICS      ios   \n",
       "\n",
       "   opens  sent_count  open_rate  title_length  Trump?  \n",
       "0  76236     2707846      2.815            43   False  \n",
       "1  12286      593894      2.069            43   False  "
      ]
     },
     "execution_count": 245,
     "metadata": {},
     "output_type": "execute_result"
    }
   ],
   "source": [
    "df.head(2)"
   ]
  },
  {
   "cell_type": "code",
   "execution_count": 249,
   "metadata": {},
   "outputs": [],
   "source": [
    "df['Trump?'] = df['Trump?'].map({True:1, False:0})"
   ]
  },
  {
   "cell_type": "code",
   "execution_count": 250,
   "metadata": {},
   "outputs": [
    {
     "data": {
      "text/html": [
       "<div>\n",
       "<style scoped>\n",
       "    .dataframe tbody tr th:only-of-type {\n",
       "        vertical-align: middle;\n",
       "    }\n",
       "\n",
       "    .dataframe tbody tr th {\n",
       "        vertical-align: top;\n",
       "    }\n",
       "\n",
       "    .dataframe thead th {\n",
       "        text-align: right;\n",
       "    }\n",
       "</style>\n",
       "<table border=\"1\" class=\"dataframe\">\n",
       "  <thead>\n",
       "    <tr style=\"text-align: right;\">\n",
       "      <th></th>\n",
       "      <th>dt</th>\n",
       "      <th>title</th>\n",
       "      <th>url</th>\n",
       "      <th>cat</th>\n",
       "      <th>platform</th>\n",
       "      <th>opens</th>\n",
       "      <th>sent_count</th>\n",
       "      <th>open_rate</th>\n",
       "      <th>title_length</th>\n",
       "      <th>Trump?</th>\n",
       "    </tr>\n",
       "  </thead>\n",
       "  <tbody>\n",
       "    <tr>\n",
       "      <td>0</td>\n",
       "      <td>2019-07-03</td>\n",
       "      <td>Federal judge blocks Ohio anti-abortion law</td>\n",
       "      <td>https://www.reuters.com/article/us-usa-abortio...</td>\n",
       "      <td>EN_US_POLITICS</td>\n",
       "      <td>android</td>\n",
       "      <td>76236</td>\n",
       "      <td>2707846</td>\n",
       "      <td>2.815</td>\n",
       "      <td>43</td>\n",
       "      <td>0</td>\n",
       "    </tr>\n",
       "    <tr>\n",
       "      <td>1</td>\n",
       "      <td>2019-07-03</td>\n",
       "      <td>Federal judge blocks Ohio anti-abortion law</td>\n",
       "      <td>https://www.reuters.com/article/us-usa-abortio...</td>\n",
       "      <td>EN_US_POLITICS</td>\n",
       "      <td>ios</td>\n",
       "      <td>12286</td>\n",
       "      <td>593894</td>\n",
       "      <td>2.069</td>\n",
       "      <td>43</td>\n",
       "      <td>0</td>\n",
       "    </tr>\n",
       "    <tr>\n",
       "      <td>2</td>\n",
       "      <td>2019-07-06</td>\n",
       "      <td>Even more powerful quake shakes Southern Calif...</td>\n",
       "      <td>https://www.nbcnews.com/news/us-news/earthquak...</td>\n",
       "      <td>EN_US_NATIONAL</td>\n",
       "      <td>android</td>\n",
       "      <td>136187</td>\n",
       "      <td>2692045</td>\n",
       "      <td>5.059</td>\n",
       "      <td>83</td>\n",
       "      <td>0</td>\n",
       "    </tr>\n",
       "    <tr>\n",
       "      <td>3</td>\n",
       "      <td>2019-07-06</td>\n",
       "      <td>Even more powerful quake shakes Southern Calif...</td>\n",
       "      <td>https://www.nbcnews.com/news/us-news/earthquak...</td>\n",
       "      <td>EN_US_NATIONAL</td>\n",
       "      <td>ios</td>\n",
       "      <td>29194</td>\n",
       "      <td>567169</td>\n",
       "      <td>5.147</td>\n",
       "      <td>83</td>\n",
       "      <td>0</td>\n",
       "    </tr>\n",
       "    <tr>\n",
       "      <td>4</td>\n",
       "      <td>2019-07-10</td>\n",
       "      <td>UK Ambassador Who Called Trump ‘Inept’ And ‘Dy...</td>\n",
       "      <td>https://www.huffpost.com/entry/uk-ambassador-r...</td>\n",
       "      <td>EN_US_POLITICS</td>\n",
       "      <td>android</td>\n",
       "      <td>82727</td>\n",
       "      <td>2676041</td>\n",
       "      <td>3.091</td>\n",
       "      <td>66</td>\n",
       "      <td>1</td>\n",
       "    </tr>\n",
       "  </tbody>\n",
       "</table>\n",
       "</div>"
      ],
      "text/plain": [
       "          dt                                              title  \\\n",
       "0 2019-07-03        Federal judge blocks Ohio anti-abortion law   \n",
       "1 2019-07-03        Federal judge blocks Ohio anti-abortion law   \n",
       "2 2019-07-06  Even more powerful quake shakes Southern Calif...   \n",
       "3 2019-07-06  Even more powerful quake shakes Southern Calif...   \n",
       "4 2019-07-10  UK Ambassador Who Called Trump ‘Inept’ And ‘Dy...   \n",
       "\n",
       "                                                 url             cat platform  \\\n",
       "0  https://www.reuters.com/article/us-usa-abortio...  EN_US_POLITICS  android   \n",
       "1  https://www.reuters.com/article/us-usa-abortio...  EN_US_POLITICS      ios   \n",
       "2  https://www.nbcnews.com/news/us-news/earthquak...  EN_US_NATIONAL  android   \n",
       "3  https://www.nbcnews.com/news/us-news/earthquak...  EN_US_NATIONAL      ios   \n",
       "4  https://www.huffpost.com/entry/uk-ambassador-r...  EN_US_POLITICS  android   \n",
       "\n",
       "    opens  sent_count  open_rate  title_length  Trump?  \n",
       "0   76236     2707846      2.815            43       0  \n",
       "1   12286      593894      2.069            43       0  \n",
       "2  136187     2692045      5.059            83       0  \n",
       "3   29194      567169      5.147            83       0  \n",
       "4   82727     2676041      3.091            66       1  "
      ]
     },
     "execution_count": 250,
     "metadata": {},
     "output_type": "execute_result"
    }
   ],
   "source": [
    "df.head()"
   ]
  },
  {
   "cell_type": "code",
   "execution_count": 259,
   "metadata": {},
   "outputs": [],
   "source": [
    "open_rate_agg2 = round((df.groupby(['dt', 'url', 'Trump?']).agg({'opens':'sum', 'sent_count':'sum'}).opens / df.groupby('dt').agg({\n",
    "    'opens':'sum', 'sent_count':'sum'}).sent_count) * 100.0, 2).to_frame().rename({0:'open_rate'}, axis=1)"
   ]
  },
  {
   "cell_type": "code",
   "execution_count": 270,
   "metadata": {},
   "outputs": [],
   "source": [
    "open_rate_agg2.reset_index(inplace=True)"
   ]
  },
  {
   "cell_type": "code",
   "execution_count": 271,
   "metadata": {},
   "outputs": [
    {
     "data": {
      "image/png": "[encoded data removed]",
      "text/plain": [
       "<Figure size 432x288 with 1 Axes>"
      ]
     },
     "metadata": {
      "needs_background": "light"
     },
     "output_type": "display_data"
    }
   ],
   "source": [
    "sns.regplot(x=\"Trump?\", y=\"open_rate\", data=open_rate_agg2);"
   ]
  },
  {
   "cell_type": "code",
   "execution_count": 274,
   "metadata": {
    "scrolled": false
   },
   "outputs": [
    {
     "data": {
      "image/png": "[encoded data removed]",
      "text/plain": [
       "<Figure size 360x360 with 1 Axes>"
      ]
     },
     "metadata": {
      "needs_background": "light"
     },
     "output_type": "display_data"
    }
   ],
   "source": [
    "sns.catplot(x='Trump?',y='open_rate', kind='swarm', data=open_rate_agg2);"
   ]
  },
  {
   "cell_type": "code",
   "execution_count": 275,
   "metadata": {},
   "outputs": [
    {
     "data": {
      "image/png": "[encoded data removed]",
      "text/plain": [
       "<Figure size 360x360 with 1 Axes>"
      ]
     },
     "metadata": {
      "needs_background": "light"
     },
     "output_type": "display_data"
    }
   ],
   "source": [
    "sns.catplot(x='Trump?',y='open_rate', kind='box', data=open_rate_agg2);"
   ]
  },
  {
   "cell_type": "code",
   "execution_count": 272,
   "metadata": {
    "scrolled": true
   },
   "outputs": [
    {
     "data": {
      "text/html": [
       "<div>\n",
       "<style scoped>\n",
       "    .dataframe tbody tr th:only-of-type {\n",
       "        vertical-align: middle;\n",
       "    }\n",
       "\n",
       "    .dataframe tbody tr th {\n",
       "        vertical-align: top;\n",
       "    }\n",
       "\n",
       "    .dataframe thead th {\n",
       "        text-align: right;\n",
       "    }\n",
       "</style>\n",
       "<table border=\"1\" class=\"dataframe\">\n",
       "  <thead>\n",
       "    <tr style=\"text-align: right;\">\n",
       "      <th></th>\n",
       "      <th>Trump?</th>\n",
       "      <th>open_rate</th>\n",
       "    </tr>\n",
       "  </thead>\n",
       "  <tbody>\n",
       "    <tr>\n",
       "      <td>Trump?</td>\n",
       "      <td>1.00000</td>\n",
       "      <td>-0.01199</td>\n",
       "    </tr>\n",
       "    <tr>\n",
       "      <td>open_rate</td>\n",
       "      <td>-0.01199</td>\n",
       "      <td>1.00000</td>\n",
       "    </tr>\n",
       "  </tbody>\n",
       "</table>\n",
       "</div>"
      ],
      "text/plain": [
       "            Trump?  open_rate\n",
       "Trump?     1.00000   -0.01199\n",
       "open_rate -0.01199    1.00000"
      ]
     },
     "execution_count": 272,
     "metadata": {},
     "output_type": "execute_result"
    }
   ],
   "source": [
    "open_rate_agg2.corr()"
   ]
  },
  {
   "cell_type": "markdown",
   "metadata": {},
   "source": [
    "#### Finding:\n",
    "*No correlation between \"Trump\" in the hed and open rate*"
   ]
  },
  {
   "cell_type": "markdown",
   "metadata": {},
   "source": [
    "#### How about \"impeachment\" or \"impeach\" in the title?"
   ]
  },
  {
   "cell_type": "code",
   "execution_count": 278,
   "metadata": {},
   "outputs": [],
   "source": [
    "df['Impeach?'] = df.url.isin(df[(df.title.str.contains('mpeach'))|(df.title.str.contains('mpeachment'))].url)"
   ]
  },
  {
   "cell_type": "code",
   "execution_count": 280,
   "metadata": {
    "scrolled": true
   },
   "outputs": [
    {
     "data": {
      "text/plain": [
       "False    734\n",
       "True      40\n",
       "Name: Impeach?, dtype: int64"
      ]
     },
     "execution_count": 280,
     "metadata": {},
     "output_type": "execute_result"
    }
   ],
   "source": [
    "df['Impeach?'].value_counts()"
   ]
  },
  {
   "cell_type": "markdown",
   "metadata": {},
   "source": [
    "Filtering to just the Politics category"
   ]
  },
  {
   "cell_type": "code",
   "execution_count": 281,
   "metadata": {},
   "outputs": [],
   "source": [
    "open_rate_agg3 = round((df[df.cat == 'EN_US_POLITICS'].groupby(['dt', 'url', 'Impeach?']).agg({'opens':'sum', 'sent_count':'sum'}).opens / df.groupby('dt').agg({\n",
    "    'opens':'sum', 'sent_count':'sum'}).sent_count) * 100.0, 2).to_frame().rename({0:'open_rate'}, axis=1)"
   ]
  },
  {
   "cell_type": "code",
   "execution_count": 286,
   "metadata": {},
   "outputs": [],
   "source": [
    "open_rate_agg3.reset_index(inplace=True)"
   ]
  },
  {
   "cell_type": "code",
   "execution_count": 287,
   "metadata": {
    "scrolled": false
   },
   "outputs": [
    {
     "data": {
      "image/png": "[encoded data removed]",
      "text/plain": [
       "<Figure size 432x288 with 1 Axes>"
      ]
     },
     "metadata": {
      "needs_background": "light"
     },
     "output_type": "display_data"
    }
   ],
   "source": [
    "sns.regplot(x=\"Impeach?\", y=\"open_rate\", data=open_rate_agg3);"
   ]
  },
  {
   "cell_type": "code",
   "execution_count": 289,
   "metadata": {
    "scrolled": false
   },
   "outputs": [
    {
     "data": {
      "image/png": "[encoded data removed]",
      "text/plain": [
       "<Figure size 360x360 with 1 Axes>"
      ]
     },
     "metadata": {
      "needs_background": "light"
     },
     "output_type": "display_data"
    }
   ],
   "source": [
    "sns.catplot(x='Impeach?',y='open_rate', kind='swarm', data=open_rate_agg3);"
   ]
  },
  {
   "cell_type": "code",
   "execution_count": 290,
   "metadata": {},
   "outputs": [
    {
     "data": {
      "image/png": "[encoded data removed]",
      "text/plain": [
       "<Figure size 360x360 with 1 Axes>"
      ]
     },
     "metadata": {
      "needs_background": "light"
     },
     "output_type": "display_data"
    }
   ],
   "source": [
    "sns.catplot(x='Impeach?',y='open_rate', kind='box', data=open_rate_agg3);"
   ]
  },
  {
   "cell_type": "code",
   "execution_count": 288,
   "metadata": {
    "scrolled": true
   },
   "outputs": [
    {
     "data": {
      "text/html": [
       "<div>\n",
       "<style scoped>\n",
       "    .dataframe tbody tr th:only-of-type {\n",
       "        vertical-align: middle;\n",
       "    }\n",
       "\n",
       "    .dataframe tbody tr th {\n",
       "        vertical-align: top;\n",
       "    }\n",
       "\n",
       "    .dataframe thead th {\n",
       "        text-align: right;\n",
       "    }\n",
       "</style>\n",
       "<table border=\"1\" class=\"dataframe\">\n",
       "  <thead>\n",
       "    <tr style=\"text-align: right;\">\n",
       "      <th></th>\n",
       "      <th>Impeach?</th>\n",
       "      <th>open_rate</th>\n",
       "    </tr>\n",
       "  </thead>\n",
       "  <tbody>\n",
       "    <tr>\n",
       "      <td>Impeach?</td>\n",
       "      <td>1.000000</td>\n",
       "      <td>-0.069247</td>\n",
       "    </tr>\n",
       "    <tr>\n",
       "      <td>open_rate</td>\n",
       "      <td>-0.069247</td>\n",
       "      <td>1.000000</td>\n",
       "    </tr>\n",
       "  </tbody>\n",
       "</table>\n",
       "</div>"
      ],
      "text/plain": [
       "           Impeach?  open_rate\n",
       "Impeach?   1.000000  -0.069247\n",
       "open_rate -0.069247   1.000000"
      ]
     },
     "execution_count": 288,
     "metadata": {},
     "output_type": "execute_result"
    }
   ],
   "source": [
    "open_rate_agg3.corr()"
   ]
  },
  {
   "cell_type": "markdown",
   "metadata": {},
   "source": [
    "#### Finding: \n",
    "*Very slight negative correlation*"
   ]
  },
  {
   "cell_type": "code",
   "execution_count": null,
   "metadata": {},
   "outputs": [],
   "source": []
  },
  {
   "cell_type": "markdown",
   "metadata": {},
   "source": [
    "### Findings"
   ]
  },
  {
   "cell_type": "markdown",
   "metadata": {},
   "source": [
    "1. Open rate for BPs is declining, and its declining across different categories"
   ]
  },
  {
   "cell_type": "markdown",
   "metadata": {},
   "source": [
    "2. National, Lifestyle, and Entertainment categories have the highest average open rates, and also the biggest spread (some high performers, some very low performers). Politics has average open rate with small spread of results."
   ]
  },
  {
   "cell_type": "markdown",
   "metadata": {},
   "source": [
    "3. Open rate is negatively correlated with # of BPs sent per day. Though this does not explain the declining open rate over time"
   ]
  },
  {
   "cell_type": "markdown",
   "metadata": {},
   "source": [
    "4. Length of title has only a slight negative correlation for iOS users. "
   ]
  },
  {
   "cell_type": "markdown",
   "metadata": {},
   "source": [
    "5. \"Trump\" being in the title of the push has no relationship with open rate"
   ]
  },
  {
   "cell_type": "markdown",
   "metadata": {},
   "source": [
    "### Follow up analyses"
   ]
  },
  {
   "cell_type": "markdown",
   "metadata": {},
   "source": [
    "1. Is open rate declining across all cohorts (new/existing users, FB vs preload new users, Entertainment vs Politics readers, etc.)?"
   ]
  },
  {
   "cell_type": "markdown",
   "metadata": {},
   "source": [
    "2. Is open rate declining across all types of pushes? Can this be explained by increasing number of pushes per day?"
   ]
  },
  {
   "cell_type": "markdown",
   "metadata": {},
   "source": [
    "3. Is there an open rate decay that becomes obvious when you follow a particular cohort of users over time? (E.g. if you follow users who installed one week in July, do their open rates decline over time as they become desensitized to our pushes?)"
   ]
  },
  {
   "cell_type": "code",
   "execution_count": null,
   "metadata": {},
   "outputs": [],
   "source": []
  }
 ],
 "metadata": {
  "kernelspec": {
   "display_name": "Python 3",
   "language": "python",
   "name": "python3"
  },
  "language_info": {
   "codemirror_mode": {
    "name": "ipython",
    "version": 3
   },
   "file_extension": ".py",
   "mimetype": "text/x-python",
   "name": "python",
   "nbconvert_exporter": "python",
   "pygments_lexer": "ipython3",
   "version": "3.7.3"
  },
  "varInspector": {
   "cols": {
    "lenName": 16,
    "lenType": 16,
    "lenVar": 40
   },
   "kernels_config": {
    "python": {
     "delete_cmd_postfix": "",
     "delete_cmd_prefix": "del ",
     "library": "var_list.py",
     "varRefreshCmd": "print(var_dic_list())"
    },
    "r": {
     "delete_cmd_postfix": ") ",
     "delete_cmd_prefix": "rm(",
     "library": "var_list.r",
     "varRefreshCmd": "cat(var_dic_list()) "
    }
   },
   "types_to_exclude": [
    "module",
    "function",
    "builtin_function_or_method",
    "instance",
    "_Feature"
   ],
   "window_display": false
  }
 },
 "nbformat": 4,
 "nbformat_minor": 2
}
