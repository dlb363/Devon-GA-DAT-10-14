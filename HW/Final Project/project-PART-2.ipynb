{
 "cells": [
  {
   "cell_type": "code",
   "execution_count": 1,
   "metadata": {},
   "outputs": [],
   "source": [
    "import pandas as pd\n",
    "import numpy as np\n",
    "import matplotlib.pyplot as plt\n",
    "%matplotlib inline\n",
    "import seaborn as sns\n",
    "import snpytools as snpy\n",
    "def q(sql):\n",
    "    return snpy.df_from_presto(sql, user_name = 'devon.bancroft')\n",
    "from scipy.stats import norm\n",
    "from scipy import stats\n",
    "from sklearn.preprocessing import StandardScaler\n",
    "sc = StandardScaler()\n",
    "from sklearn.linear_model import Ridge, Lasso\n",
    "rreg = Ridge()\n",
    "lasso = Lasso()\n",
    "from sklearn.model_selection import cross_val_score\n",
    "from scipy.stats import probplot\n",
    "from sklearn.ensemble import RandomForestRegressor\n",
    "rf = RandomForestRegressor()"
   ]
  },
  {
   "cell_type": "markdown",
   "metadata": {},
   "source": [
    "### New model= get rid of targeted Pushes, which is too biased. Add in new feature - time difference between first closing the app and getting your first push notification, and use hard news ratio (number of pushes sent in US and Politics vs Entertainment, Lifestyle, etc.)"
   ]
  },
  {
   "cell_type": "markdown",
   "metadata": {},
   "source": [
    "1) only scheduled and breaking, no targeted\n",
    "2) D0 through D6 sent count\n",
    "3) ratio of hard new to soft news (counting personalized scheduled push)\n",
    "4) time difference between first closing the app and sending first push\n",
    "5) D7 plus whether they were in 5 weeks after installing"
   ]
  },
  {
   "cell_type": "markdown",
   "metadata": {},
   "source": [
    "Previous work here: https://jupyter.smartnews.be/user/sn/notebooks/push-notification/2020-01-02-DEVON-PUSH-new_user_activation_project-PART-1.ipynb"
   ]
  },
  {
   "cell_type": "markdown",
   "metadata": {},
   "source": [
    "User segmentation:\n",
    "New users who installed in November, and who had ATLEAST ONE PUSH SENT TO THEM AND ALSO A LEAVE FOREGROUND ACTION"
   ]
  },
  {
   "cell_type": "code",
   "execution_count": 2,
   "metadata": {
    "scrolled": false
   },
   "outputs": [
    {
     "name": "stdout",
     "output_type": "stream",
     "text": [
      "SELECT a.user_id,\n",
      "       a.install_dt,\n",
      "       a.network_name,\n",
      "       a.platform,\n",
      "       a.day,\n",
      "       a.dt,\n",
      "       COALESCE(b.sent_count, 0) AS sent_count,\n",
      "       COALESCE(LIFESTYLE, 0) AS LIFESTYLE,\n",
      "       COALESCE(ENTERTAINMENT, 0) AS ENTERTAINMENT,\n",
      "       COALESCE(WORLD, 0) AS WORLD,\n",
      "       COALESCE(SCIENCE, 0) AS SCIENCE,\n",
      "       COALESCE(BIZ, 0) AS BIZ,\n",
      "       COALESCE(TECH, 0) AS TECH,\n",
      "       COALESCE(SPORTS, 0) AS SPORTS,\n",
      "       COALESCE(POLITICS, 0) AS POLITICS,\n",
      "       COALESCE(NATIONAL, 0) AS NATIONAL,\n",
      "       COALESCE(UNKNOWN, 0) AS UNKNOWN,\n",
      "       (CASE\n",
      "            WHEN c.user_id IS NULL THEN 0\n",
      "            ELSE 1\n",
      "        END) AS active_day\n",
      "FROM\n",
      "  (SELECT user_id,\n",
      "          install_dt,\n",
      "          platform,\n",
      "          network_name,\n",
      "          dt,\n",
      "          date_diff('day', date_parse(install_dt, '%Y-%m-%d'), date_parse(dt, '%Y-%m-%d')) AS DAY\n",
      "   FROM\n",
      "     (SELECT user_id,\n",
      "             date_format(from_unixtime(creation_timestamp), '%Y-%m-%d') AS install_dt,\n",
      "             network_name,\n",
      "             platform\n",
      "      FROM daily_user_installs\n",
      "      WHERE dt BETWEEN '2019-10-01' AND '2019-10-31'\n",
      "        AND country = 'US'\n",
      "        AND mod(user_id, 10) = 5\n",
      "        AND LANGUAGE = 'en'\n",
      "        AND user_id IN\n",
      "          (SELECT id\n",
      "           FROM users\n",
      "           WHERE dt = '2019-11-07'\n",
      "             AND j(PROFILE, '$.pushNotificationPermission') = '1' ) ) a\n",
      "   CROSS JOIN\n",
      "     (SELECT date AS dt\n",
      "      FROM analytics.dates\n",
      "      WHERE date BETWEEN '2019-10-01' AND '2019-11-07' ) b\n",
      "   WHERE date_diff('day', date_parse(install_dt, '%Y-%m-%d'), date_parse(dt, '%Y-%m-%d')) BETWEEN 0 AND 7 ) a\n",
      "LEFT JOIN\n",
      "  (SELECT user_id,\n",
      "          dt,\n",
      "          count(DISTINCT push_id) AS sent_count\n",
      "   FROM smartnews.push_episodes\n",
      "   WHERE dt BETWEEN '2019-10-01' AND '2019-11-07'\n",
      "     AND edition = 'en_US'\n",
      "     AND mod(user_id, 10) = 5\n",
      "     AND split(push_id, '::')[1] <> 'personalizedBreaking'\n",
      "   GROUP BY 1,\n",
      "            2) b ON b.user_id = a.user_id\n",
      "AND b.dt = a.dt\n",
      "LEFT JOIN\n",
      "  (SELECT DISTINCT dt,\n",
      "                   user_id\n",
      "   FROM user_activities\n",
      "   WHERE dt BETWEEN '2019-10-01' AND '2019-11-07'\n",
      "     AND edition = 'en_US' ) c ON a.user_id = c.user_id\n",
      "AND c.dt = a.dt\n",
      "LEFT JOIN\n",
      "  (SELECT user_id,\n",
      "          dt,\n",
      "          count_if(cat = 'EN_US_LIFESTYLE') AS LIFESTYLE,\n",
      "          count_if(cat = 'EN_US_ENTERTAINMENT') AS ENTERTAINMENT,\n",
      "          count_if(cat = 'EN_US_WORLD') AS WORLD,\n",
      "          count_if(cat = 'EN_US_SCIENCE') AS SCIENCE,\n",
      "          count_if(cat = 'EN_US_BUSINESS') AS BIZ,\n",
      "          count_if(cat = 'EN_US_TECHNOLOGY') AS TECH,\n",
      "          count_if(cat = 'EN_US_SPORTS') AS SPORTS,\n",
      "          count_if(cat = 'EN_US_POLITICS') AS POLITICS,\n",
      "          count_if(cat = 'EN_US_NATIONAL') AS NATIONAL,\n",
      "          count_if(cat = 'UNKNOWN') AS UNKNOWN\n",
      "   FROM\n",
      "     (SELECT DISTINCT user_id,\n",
      "                      dt,\n",
      "                      sent_link_url,\n",
      "                      cat\n",
      "      FROM smartnews.push_episodes ep\n",
      "      INNER JOIN\n",
      "        (SELECT url,\n",
      "                array_min(category) AS cat\n",
      "         FROM articles\n",
      "         WHERE dt BETWEEN '2019-09-25' AND '2019-11-10'\n",
      "           AND lang = 'EN' ) cat ON cat.url = ep.sent_link_url\n",
      "      WHERE ep.dt BETWEEN '2019-10-01' AND '2019-11-07'\n",
      "        AND edition = 'en_US'\n",
      "        AND mod(user_id, 10) = 5\n",
      "        AND split(push_id, '::')[1] <> 'personalizedBreaking' )\n",
      "   GROUP BY 1,\n",
      "            2) d ON a.dt = d.dt\n",
      "AND a.user_id = d.user_id\n",
      "Length of dataframe is 680606\n",
      "Top 5 rows of the dataframe:\n",
      "     user_id  install_dt                         network_name platform  day  \\\n",
      "0  104890785  2019-10-02  Android_DigitalTurbine_Verizon_Test  android    0   \n",
      "1  104890785  2019-10-02  Android_DigitalTurbine_Verizon_Test  android    1   \n",
      "2  104890785  2019-10-02  Android_DigitalTurbine_Verizon_Test  android    2   \n",
      "3  104890785  2019-10-02  Android_DigitalTurbine_Verizon_Test  android    3   \n",
      "4  104890785  2019-10-02  Android_DigitalTurbine_Verizon_Test  android    4   \n",
      "\n",
      "           dt  sent_count  LIFESTYLE  ENTERTAINMENT  WORLD  SCIENCE  BIZ  \\\n",
      "0  2019-10-02           0          0              0      0        0    0   \n",
      "1  2019-10-03           7          2              3      1        1    0   \n",
      "2  2019-10-04          10          1              2      0        1    0   \n",
      "3  2019-10-05           4          3              1      0        0    1   \n",
      "4  2019-10-06           6          3              2      0        1    0   \n",
      "\n",
      "   TECH  SPORTS  POLITICS  NATIONAL  UNKNOWN  active_day  \n",
      "0     0       0         0         0        0           1  \n",
      "1     1       1         4         2        0           0  \n",
      "2     0       1         7         5        0           1  \n",
      "3     0       2         3         3        0           0  \n",
      "4     0       0         4         4        0           0  \n"
     ]
    }
   ],
   "source": [
    "df = q('''\n",
    "SELECT\n",
    "   a.user_id,\n",
    "   a.install_dt,\n",
    "   a.network_name,\n",
    "   a.platform,\n",
    "   a.day,\n",
    "   a.dt,\n",
    "   COALESCE(b.sent_count, 0) as sent_count,\n",
    "   COALESCE(LIFESTYLE, 0) as LIFESTYLE,\n",
    "   COALESCE(ENTERTAINMENT, 0) as ENTERTAINMENT,\n",
    "   COALESCE(WORLD, 0) as WORLD,\n",
    "   COALESCE(SCIENCE, 0) as SCIENCE,\n",
    "   COALESCE(BIZ, 0) as BIZ,\n",
    "   COALESCE(TECH, 0) as TECH,\n",
    "   COALESCE(SPORTS, 0) as SPORTS,\n",
    "   COALESCE(POLITICS,0) as POLITICS,\n",
    "   COALESCE(NATIONAL, 0) as NATIONAL,\n",
    "   COALESCE(UNKNOWN, 0) as UNKNOWN,\n",
    "   (\n",
    "   CASE\n",
    "      WHEN\n",
    "         c.user_id IS NULL\n",
    "      THEN\n",
    "         0\n",
    "      ELSE\n",
    "         1\n",
    "   END\n",
    ") as active_day\n",
    "FROM\n",
    "   (\n",
    "      SELECT\n",
    "         user_id,\n",
    "         install_dt,\n",
    "         platform,\n",
    "         network_name,\n",
    "         dt,\n",
    "         date_diff('day', date_parse(install_dt, '%Y-%m-%d'), date_parse(dt, '%Y-%m-%d')) as day\n",
    "      FROM\n",
    "         (\n",
    "            SELECT\n",
    "               user_id,\n",
    "               date_format(from_unixtime(creation_timestamp), '%Y-%m-%d') as install_dt,\n",
    "               network_name,\n",
    "               platform\n",
    "            from\n",
    "               daily_user_installs\n",
    "            where\n",
    "               dt BETWEEN '2019-10-01' AND '2019-10-31'\n",
    "               AND country = 'US'\n",
    "               AND mod(user_id, 10) = 5\n",
    "               AND language = 'en'\n",
    "               AND user_id IN\n",
    "               (\n",
    "                  SELECT\n",
    "                     id\n",
    "                  from\n",
    "                     users\n",
    "                  where\n",
    "                     dt = '2019-11-07'\n",
    "                     and j(profile, '$.pushNotificationPermission') = '1'\n",
    "               )\n",
    "         )\n",
    "         a\n",
    "         CROSS JOIN\n",
    "            (\n",
    "               SELECT\n",
    "                  date as dt\n",
    "               from\n",
    "                  analytics.dates\n",
    "               WHERE\n",
    "                  date between '2019-10-01' AND '2019-11-07'\n",
    "            )\n",
    "            b\n",
    "      where\n",
    "         date_diff('day', date_parse(install_dt, '%Y-%m-%d'), date_parse(dt, '%Y-%m-%d')) between 0 and 7\n",
    "   )\n",
    "   a\n",
    "   LEFT JOIN\n",
    "      (\n",
    "         SELECT\n",
    "            user_id,\n",
    "            dt,\n",
    "            count(distinct push_id) as sent_count\n",
    "         from\n",
    "            smartnews.push_episodes\n",
    "         WHERE\n",
    "            dt between '2019-10-01' AND '2019-11-07'\n",
    "            AND edition = 'en_US'\n",
    "            AND mod(user_id, 10) = 5\n",
    "            AND split(push_id,'::')[1] <> 'personalizedBreaking'\n",
    "         GROUP BY\n",
    "            1, 2\n",
    "      )\n",
    "      b\n",
    "      on b.user_id = a.user_id\n",
    "      AND b.dt = a.dt\n",
    "\n",
    "   LEFT JOIN\n",
    "      (\n",
    "         SELECT DISTINCT\n",
    "            dt,\n",
    "            user_id\n",
    "         from\n",
    "            user_activities\n",
    "         where\n",
    "            dt between '2019-10-01' AND '2019-11-07'\n",
    "            and edition = 'en_US'\n",
    "      )\n",
    "      c\n",
    "      on a.user_id = c.user_id\n",
    "      and c.dt = a.dt\n",
    "   LEFT JOIN\n",
    "      (\n",
    "         SELECT\n",
    "            user_id,\n",
    "            dt,\n",
    "            count_if(cat = 'EN_US_LIFESTYLE') as LIFESTYLE,\n",
    "            count_if(cat = 'EN_US_ENTERTAINMENT') as ENTERTAINMENT,\n",
    "            count_if(cat = 'EN_US_WORLD') as WORLD,\n",
    "            count_if(cat = 'EN_US_SCIENCE') as SCIENCE,\n",
    "            count_if(cat = 'EN_US_BUSINESS') as BIZ,\n",
    "            count_if(cat = 'EN_US_TECHNOLOGY') as TECH,\n",
    "            count_if(cat = 'EN_US_SPORTS') as SPORTS,\n",
    "            count_if(cat = 'EN_US_POLITICS') as POLITICS,\n",
    "            count_if(cat = 'EN_US_NATIONAL') as NATIONAL,\n",
    "            count_if(cat = 'UNKNOWN') as UNKNOWN\n",
    "         FROM\n",
    "            (\n",
    "               SELECT DISTINCT\n",
    "                  user_id,\n",
    "                  dt,\n",
    "                  sent_link_url,\n",
    "                  cat\n",
    "               from\n",
    "                  smartnews.push_episodes ep\n",
    "                  INNER JOIN\n",
    "                     (\n",
    "                        SELECT\n",
    "                           url,\n",
    "                           array_min(category) as cat\n",
    "                        from\n",
    "                           articles\n",
    "                        WHERE\n",
    "                           dt between '2019-09-25' AND '2019-11-10'\n",
    "                           AND lang = 'EN'\n",
    "                     )\n",
    "                     cat\n",
    "                     on cat.url = ep.sent_link_url\n",
    "               WHERE\n",
    "                  ep.dt between '2019-10-01' AND '2019-11-07'\n",
    "                  AND edition = 'en_US'\n",
    "                  AND mod(user_id, 10) = 5\n",
    "                  AND split(push_id,'::')[1] <> 'personalizedBreaking'\n",
    "            )\n",
    "         GROUP BY\n",
    "            1,\n",
    "            2\n",
    "      )\n",
    "      d      \n",
    "      on a.dt = d.dt\n",
    "      AND a.user_id = d.user_id''')"
   ]
  },
  {
   "cell_type": "code",
   "execution_count": 3,
   "metadata": {},
   "outputs": [
    {
     "data": {
      "text/plain": [
       "(680606, 18)"
      ]
     },
     "execution_count": 3,
     "metadata": {},
     "output_type": "execute_result"
    }
   ],
   "source": [
    "df.shape"
   ]
  },
  {
   "cell_type": "code",
   "execution_count": 4,
   "metadata": {
    "scrolled": true
   },
   "outputs": [
    {
     "data": {
      "text/html": [
       "<div>\n",
       "<style scoped>\n",
       "    .dataframe tbody tr th:only-of-type {\n",
       "        vertical-align: middle;\n",
       "    }\n",
       "\n",
       "    .dataframe tbody tr th {\n",
       "        vertical-align: top;\n",
       "    }\n",
       "\n",
       "    .dataframe thead th {\n",
       "        text-align: right;\n",
       "    }\n",
       "</style>\n",
       "<table border=\"1\" class=\"dataframe\">\n",
       "  <thead>\n",
       "    <tr style=\"text-align: right;\">\n",
       "      <th></th>\n",
       "      <th>user_id</th>\n",
       "      <th>install_dt</th>\n",
       "      <th>network_name</th>\n",
       "      <th>platform</th>\n",
       "      <th>day</th>\n",
       "      <th>dt</th>\n",
       "      <th>sent_count</th>\n",
       "      <th>LIFESTYLE</th>\n",
       "      <th>ENTERTAINMENT</th>\n",
       "      <th>WORLD</th>\n",
       "      <th>SCIENCE</th>\n",
       "      <th>BIZ</th>\n",
       "      <th>TECH</th>\n",
       "      <th>SPORTS</th>\n",
       "      <th>POLITICS</th>\n",
       "      <th>NATIONAL</th>\n",
       "      <th>UNKNOWN</th>\n",
       "      <th>active_day</th>\n",
       "    </tr>\n",
       "  </thead>\n",
       "  <tbody>\n",
       "    <tr>\n",
       "      <td>0</td>\n",
       "      <td>104890785</td>\n",
       "      <td>2019-10-02</td>\n",
       "      <td>Android_DigitalTurbine_Verizon_Test</td>\n",
       "      <td>android</td>\n",
       "      <td>0</td>\n",
       "      <td>2019-10-02</td>\n",
       "      <td>0</td>\n",
       "      <td>0</td>\n",
       "      <td>0</td>\n",
       "      <td>0</td>\n",
       "      <td>0</td>\n",
       "      <td>0</td>\n",
       "      <td>0</td>\n",
       "      <td>0</td>\n",
       "      <td>0</td>\n",
       "      <td>0</td>\n",
       "      <td>0</td>\n",
       "      <td>1</td>\n",
       "    </tr>\n",
       "    <tr>\n",
       "      <td>1</td>\n",
       "      <td>104890785</td>\n",
       "      <td>2019-10-02</td>\n",
       "      <td>Android_DigitalTurbine_Verizon_Test</td>\n",
       "      <td>android</td>\n",
       "      <td>1</td>\n",
       "      <td>2019-10-03</td>\n",
       "      <td>7</td>\n",
       "      <td>2</td>\n",
       "      <td>3</td>\n",
       "      <td>1</td>\n",
       "      <td>1</td>\n",
       "      <td>0</td>\n",
       "      <td>1</td>\n",
       "      <td>1</td>\n",
       "      <td>4</td>\n",
       "      <td>2</td>\n",
       "      <td>0</td>\n",
       "      <td>0</td>\n",
       "    </tr>\n",
       "    <tr>\n",
       "      <td>2</td>\n",
       "      <td>104890785</td>\n",
       "      <td>2019-10-02</td>\n",
       "      <td>Android_DigitalTurbine_Verizon_Test</td>\n",
       "      <td>android</td>\n",
       "      <td>2</td>\n",
       "      <td>2019-10-04</td>\n",
       "      <td>10</td>\n",
       "      <td>1</td>\n",
       "      <td>2</td>\n",
       "      <td>0</td>\n",
       "      <td>1</td>\n",
       "      <td>0</td>\n",
       "      <td>0</td>\n",
       "      <td>1</td>\n",
       "      <td>7</td>\n",
       "      <td>5</td>\n",
       "      <td>0</td>\n",
       "      <td>1</td>\n",
       "    </tr>\n",
       "    <tr>\n",
       "      <td>3</td>\n",
       "      <td>104890785</td>\n",
       "      <td>2019-10-02</td>\n",
       "      <td>Android_DigitalTurbine_Verizon_Test</td>\n",
       "      <td>android</td>\n",
       "      <td>3</td>\n",
       "      <td>2019-10-05</td>\n",
       "      <td>4</td>\n",
       "      <td>3</td>\n",
       "      <td>1</td>\n",
       "      <td>0</td>\n",
       "      <td>0</td>\n",
       "      <td>1</td>\n",
       "      <td>0</td>\n",
       "      <td>2</td>\n",
       "      <td>3</td>\n",
       "      <td>3</td>\n",
       "      <td>0</td>\n",
       "      <td>0</td>\n",
       "    </tr>\n",
       "    <tr>\n",
       "      <td>4</td>\n",
       "      <td>104890785</td>\n",
       "      <td>2019-10-02</td>\n",
       "      <td>Android_DigitalTurbine_Verizon_Test</td>\n",
       "      <td>android</td>\n",
       "      <td>4</td>\n",
       "      <td>2019-10-06</td>\n",
       "      <td>6</td>\n",
       "      <td>3</td>\n",
       "      <td>2</td>\n",
       "      <td>0</td>\n",
       "      <td>1</td>\n",
       "      <td>0</td>\n",
       "      <td>0</td>\n",
       "      <td>0</td>\n",
       "      <td>4</td>\n",
       "      <td>4</td>\n",
       "      <td>0</td>\n",
       "      <td>0</td>\n",
       "    </tr>\n",
       "  </tbody>\n",
       "</table>\n",
       "</div>"
      ],
      "text/plain": [
       "     user_id  install_dt                         network_name platform  day  \\\n",
       "0  104890785  2019-10-02  Android_DigitalTurbine_Verizon_Test  android    0   \n",
       "1  104890785  2019-10-02  Android_DigitalTurbine_Verizon_Test  android    1   \n",
       "2  104890785  2019-10-02  Android_DigitalTurbine_Verizon_Test  android    2   \n",
       "3  104890785  2019-10-02  Android_DigitalTurbine_Verizon_Test  android    3   \n",
       "4  104890785  2019-10-02  Android_DigitalTurbine_Verizon_Test  android    4   \n",
       "\n",
       "           dt  sent_count  LIFESTYLE  ENTERTAINMENT  WORLD  SCIENCE  BIZ  \\\n",
       "0  2019-10-02           0          0              0      0        0    0   \n",
       "1  2019-10-03           7          2              3      1        1    0   \n",
       "2  2019-10-04          10          1              2      0        1    0   \n",
       "3  2019-10-05           4          3              1      0        0    1   \n",
       "4  2019-10-06           6          3              2      0        1    0   \n",
       "\n",
       "   TECH  SPORTS  POLITICS  NATIONAL  UNKNOWN  active_day  \n",
       "0     0       0         0         0        0           1  \n",
       "1     1       1         4         2        0           0  \n",
       "2     0       1         7         5        0           1  \n",
       "3     0       2         3         3        0           0  \n",
       "4     0       0         4         4        0           0  "
      ]
     },
     "execution_count": 4,
     "metadata": {},
     "output_type": "execute_result"
    }
   ],
   "source": [
    "df.head()"
   ]
  },
  {
   "cell_type": "code",
   "execution_count": 5,
   "metadata": {},
   "outputs": [],
   "source": [
    "df_new = df.pivot(index='user_id', columns='day', values='sent_count').reset_index()"
   ]
  },
  {
   "cell_type": "code",
   "execution_count": 6,
   "metadata": {
    "scrolled": false
   },
   "outputs": [
    {
     "data": {
      "text/plain": [
       "user_id\n",
       "104628555    0.966102\n",
       "104628565    0.824742\n",
       "104628655    0.775510\n",
       "104628675    0.806818\n",
       "104628705    0.000000\n",
       "               ...   \n",
       "109446055    0.605634\n",
       "109446065    0.696429\n",
       "109446145    0.688525\n",
       "109446195    0.694915\n",
       "109446215    0.666667\n",
       "Length: 85103, dtype: float64"
      ]
     },
     "execution_count": 6,
     "metadata": {},
     "output_type": "execute_result"
    }
   ],
   "source": [
    "df.groupby('user_id').sum()[\n",
    "    ['NATIONAL', 'POLITICS']].sum(axis=1) / df.groupby('user_id').sum().iloc[:,7:16].sum(axis=1)"
   ]
  },
  {
   "cell_type": "code",
   "execution_count": 7,
   "metadata": {},
   "outputs": [],
   "source": [
    "hard_news = pd.DataFrame(df.groupby('user_id').sum()[\n",
    "    ['NATIONAL', 'POLITICS']].sum(axis=1) / df.groupby('user_id').sum().iloc[:,7:16].sum(axis=1)).rename({0:'hard_news_ratio'}, axis=1)"
   ]
  },
  {
   "cell_type": "code",
   "execution_count": 8,
   "metadata": {
    "scrolled": true
   },
   "outputs": [
    {
     "data": {
      "text/html": [
       "<div>\n",
       "<style scoped>\n",
       "    .dataframe tbody tr th:only-of-type {\n",
       "        vertical-align: middle;\n",
       "    }\n",
       "\n",
       "    .dataframe tbody tr th {\n",
       "        vertical-align: top;\n",
       "    }\n",
       "\n",
       "    .dataframe thead th {\n",
       "        text-align: right;\n",
       "    }\n",
       "</style>\n",
       "<table border=\"1\" class=\"dataframe\">\n",
       "  <thead>\n",
       "    <tr style=\"text-align: right;\">\n",
       "      <th>day</th>\n",
       "      <th>user_id</th>\n",
       "      <th>0</th>\n",
       "      <th>1</th>\n",
       "      <th>2</th>\n",
       "      <th>3</th>\n",
       "      <th>4</th>\n",
       "      <th>5</th>\n",
       "      <th>6</th>\n",
       "      <th>7</th>\n",
       "    </tr>\n",
       "  </thead>\n",
       "  <tbody>\n",
       "    <tr>\n",
       "      <td>0</td>\n",
       "      <td>104628555</td>\n",
       "      <td>9.0</td>\n",
       "      <td>10.0</td>\n",
       "      <td>7.0</td>\n",
       "      <td>11.0</td>\n",
       "      <td>4.0</td>\n",
       "      <td>6.0</td>\n",
       "      <td>8.0</td>\n",
       "      <td>10.0</td>\n",
       "    </tr>\n",
       "    <tr>\n",
       "      <td>1</td>\n",
       "      <td>104628565</td>\n",
       "      <td>9.0</td>\n",
       "      <td>10.0</td>\n",
       "      <td>7.0</td>\n",
       "      <td>10.0</td>\n",
       "      <td>4.0</td>\n",
       "      <td>6.0</td>\n",
       "      <td>8.0</td>\n",
       "      <td>10.0</td>\n",
       "    </tr>\n",
       "    <tr>\n",
       "      <td>2</td>\n",
       "      <td>104628655</td>\n",
       "      <td>9.0</td>\n",
       "      <td>10.0</td>\n",
       "      <td>7.0</td>\n",
       "      <td>10.0</td>\n",
       "      <td>4.0</td>\n",
       "      <td>6.0</td>\n",
       "      <td>8.0</td>\n",
       "      <td>10.0</td>\n",
       "    </tr>\n",
       "    <tr>\n",
       "      <td>3</td>\n",
       "      <td>104628675</td>\n",
       "      <td>9.0</td>\n",
       "      <td>10.0</td>\n",
       "      <td>7.0</td>\n",
       "      <td>11.0</td>\n",
       "      <td>4.0</td>\n",
       "      <td>6.0</td>\n",
       "      <td>8.0</td>\n",
       "      <td>10.0</td>\n",
       "    </tr>\n",
       "    <tr>\n",
       "      <td>4</td>\n",
       "      <td>104628705</td>\n",
       "      <td>0.0</td>\n",
       "      <td>0.0</td>\n",
       "      <td>0.0</td>\n",
       "      <td>0.0</td>\n",
       "      <td>0.0</td>\n",
       "      <td>0.0</td>\n",
       "      <td>0.0</td>\n",
       "      <td>0.0</td>\n",
       "    </tr>\n",
       "  </tbody>\n",
       "</table>\n",
       "</div>"
      ],
      "text/plain": [
       "day    user_id    0     1    2     3    4    5    6     7\n",
       "0    104628555  9.0  10.0  7.0  11.0  4.0  6.0  8.0  10.0\n",
       "1    104628565  9.0  10.0  7.0  10.0  4.0  6.0  8.0  10.0\n",
       "2    104628655  9.0  10.0  7.0  10.0  4.0  6.0  8.0  10.0\n",
       "3    104628675  9.0  10.0  7.0  11.0  4.0  6.0  8.0  10.0\n",
       "4    104628705  0.0   0.0  0.0   0.0  0.0  0.0  0.0   0.0"
      ]
     },
     "execution_count": 8,
     "metadata": {},
     "output_type": "execute_result"
    }
   ],
   "source": [
    "df_new.head()"
   ]
  },
  {
   "cell_type": "code",
   "execution_count": 9,
   "metadata": {},
   "outputs": [],
   "source": [
    "df_new = pd.merge(df_new, hard_news, on='user_id', how='left')"
   ]
  },
  {
   "cell_type": "code",
   "execution_count": 10,
   "metadata": {
    "scrolled": true
   },
   "outputs": [],
   "source": [
    "df_new = pd.merge(df_new, df[df.day==7][['user_id','active_day']].rename({'active_day':'D7R'}, axis=1), on='user_id', how='left')"
   ]
  },
  {
   "cell_type": "code",
   "execution_count": 11,
   "metadata": {},
   "outputs": [
    {
     "data": {
      "text/html": [
       "<div>\n",
       "<style scoped>\n",
       "    .dataframe tbody tr th:only-of-type {\n",
       "        vertical-align: middle;\n",
       "    }\n",
       "\n",
       "    .dataframe tbody tr th {\n",
       "        vertical-align: top;\n",
       "    }\n",
       "\n",
       "    .dataframe thead th {\n",
       "        text-align: right;\n",
       "    }\n",
       "</style>\n",
       "<table border=\"1\" class=\"dataframe\">\n",
       "  <thead>\n",
       "    <tr style=\"text-align: right;\">\n",
       "      <th></th>\n",
       "      <th>user_id</th>\n",
       "      <th>0</th>\n",
       "      <th>1</th>\n",
       "      <th>2</th>\n",
       "      <th>3</th>\n",
       "      <th>4</th>\n",
       "      <th>5</th>\n",
       "      <th>6</th>\n",
       "      <th>7</th>\n",
       "      <th>hard_news_ratio</th>\n",
       "      <th>D7R</th>\n",
       "    </tr>\n",
       "  </thead>\n",
       "  <tbody>\n",
       "    <tr>\n",
       "      <td>0</td>\n",
       "      <td>104628555</td>\n",
       "      <td>9.0</td>\n",
       "      <td>10.0</td>\n",
       "      <td>7.0</td>\n",
       "      <td>11.0</td>\n",
       "      <td>4.0</td>\n",
       "      <td>6.0</td>\n",
       "      <td>8.0</td>\n",
       "      <td>10.0</td>\n",
       "      <td>0.966102</td>\n",
       "      <td>0</td>\n",
       "    </tr>\n",
       "    <tr>\n",
       "      <td>1</td>\n",
       "      <td>104628565</td>\n",
       "      <td>9.0</td>\n",
       "      <td>10.0</td>\n",
       "      <td>7.0</td>\n",
       "      <td>10.0</td>\n",
       "      <td>4.0</td>\n",
       "      <td>6.0</td>\n",
       "      <td>8.0</td>\n",
       "      <td>10.0</td>\n",
       "      <td>0.824742</td>\n",
       "      <td>0</td>\n",
       "    </tr>\n",
       "    <tr>\n",
       "      <td>2</td>\n",
       "      <td>104628655</td>\n",
       "      <td>9.0</td>\n",
       "      <td>10.0</td>\n",
       "      <td>7.0</td>\n",
       "      <td>10.0</td>\n",
       "      <td>4.0</td>\n",
       "      <td>6.0</td>\n",
       "      <td>8.0</td>\n",
       "      <td>10.0</td>\n",
       "      <td>0.775510</td>\n",
       "      <td>0</td>\n",
       "    </tr>\n",
       "    <tr>\n",
       "      <td>3</td>\n",
       "      <td>104628675</td>\n",
       "      <td>9.0</td>\n",
       "      <td>10.0</td>\n",
       "      <td>7.0</td>\n",
       "      <td>11.0</td>\n",
       "      <td>4.0</td>\n",
       "      <td>6.0</td>\n",
       "      <td>8.0</td>\n",
       "      <td>10.0</td>\n",
       "      <td>0.806818</td>\n",
       "      <td>0</td>\n",
       "    </tr>\n",
       "    <tr>\n",
       "      <td>4</td>\n",
       "      <td>104628705</td>\n",
       "      <td>0.0</td>\n",
       "      <td>0.0</td>\n",
       "      <td>0.0</td>\n",
       "      <td>0.0</td>\n",
       "      <td>0.0</td>\n",
       "      <td>0.0</td>\n",
       "      <td>0.0</td>\n",
       "      <td>0.0</td>\n",
       "      <td>0.000000</td>\n",
       "      <td>0</td>\n",
       "    </tr>\n",
       "  </tbody>\n",
       "</table>\n",
       "</div>"
      ],
      "text/plain": [
       "     user_id    0     1    2     3    4    5    6     7  hard_news_ratio  D7R\n",
       "0  104628555  9.0  10.0  7.0  11.0  4.0  6.0  8.0  10.0         0.966102    0\n",
       "1  104628565  9.0  10.0  7.0  10.0  4.0  6.0  8.0  10.0         0.824742    0\n",
       "2  104628655  9.0  10.0  7.0  10.0  4.0  6.0  8.0  10.0         0.775510    0\n",
       "3  104628675  9.0  10.0  7.0  11.0  4.0  6.0  8.0  10.0         0.806818    0\n",
       "4  104628705  0.0   0.0  0.0   0.0  0.0  0.0  0.0   0.0         0.000000    0"
      ]
     },
     "execution_count": 11,
     "metadata": {},
     "output_type": "execute_result"
    }
   ],
   "source": [
    "df_new.head()"
   ]
  },
  {
   "cell_type": "markdown",
   "metadata": {},
   "source": [
    "SQL to get time difference in seconds between first leaveForeground and the next sent push"
   ]
  },
  {
   "cell_type": "code",
   "execution_count": 12,
   "metadata": {},
   "outputs": [
    {
     "name": "stdout",
     "output_type": "stream",
     "text": [
      "SELECT user_id,\n",
      "       first_sent - first_exit AS diff_secs\n",
      "FROM\n",
      "  (SELECT first_exit.user_id,\n",
      "          first_exit.first_exit,\n",
      "          min(first_sent.sent_timestamp) AS first_sent\n",
      "   FROM\n",
      "     (SELECT user_id,\n",
      "             min(event_timestamp) AS first_exit\n",
      "      FROM actions\n",
      "      WHERE action = 'leaveForeground'\n",
      "        AND dt BETWEEN '2019-10-01' AND '2019-11-07'\n",
      "        AND edition = 'en_US'\n",
      "      GROUP BY 1) first_exit\n",
      "   INNER JOIN\n",
      "     (SELECT user_id,\n",
      "             sent_timestamp\n",
      "      FROM smartnews.push_episodes\n",
      "      WHERE user_id IN\n",
      "          (SELECT user_id\n",
      "           FROM daily_user_installs\n",
      "           WHERE dt BETWEEN '2019-10-01' AND '2019-10-31'\n",
      "             AND country = 'US'\n",
      "             AND mod(user_id, 10) = 5\n",
      "             AND LANGUAGE = 'en' )\n",
      "        AND dt BETWEEN '2019-10-01' AND '2019-11-07'\n",
      "        AND edition = 'en_US' ) first_sent ON first_exit.user_id = first_sent.user_id\n",
      "   AND first_exit.first_exit < first_sent.sent_timestamp\n",
      "   GROUP BY 1,\n",
      "            2)\n",
      "Length of dataframe is 78294\n",
      "Top 5 rows of the dataframe:\n",
      "     user_id  diff_secs\n",
      "0  108439655       9496\n",
      "1  106873255      12737\n",
      "2  109187815      18524\n",
      "3  105290905      16413\n",
      "4  107908145      25749\n"
     ]
    }
   ],
   "source": [
    "df_diff = q('''SELECT\n",
    "   user_id,\n",
    "   first_sent - first_exit as diff_secs \n",
    "FROM\n",
    "   (\n",
    "      SELECT\n",
    "         first_exit.user_id,\n",
    "         first_exit.first_exit,\n",
    "         min(first_sent.sent_timestamp) as first_sent \n",
    "      FROM\n",
    "         (\n",
    "            SELECT\n",
    "               user_id,\n",
    "               min(event_timestamp) as first_exit \n",
    "            from\n",
    "               actions \n",
    "            WHERE\n",
    "               action = 'leaveForeground' \n",
    "               AND dt between '2019-10-01' AND '2019-11-07' \n",
    "               AND edition = 'en_US' \n",
    "            GROUP BY\n",
    "               1\n",
    "         )\n",
    "         first_exit \n",
    "         INNER join\n",
    "            (\n",
    "               SELECT\n",
    "                  user_id,\n",
    "                  sent_timestamp \n",
    "               from\n",
    "                  smartnews.push_episodes \n",
    "               WHERE\n",
    "                  user_id IN \n",
    "                  (\n",
    "                     SELECT\n",
    "                        user_id \n",
    "                     from\n",
    "                        daily_user_installs \n",
    "                     where\n",
    "                        dt BETWEEN '2019-10-01' AND '2019-10-31' \n",
    "                        AND country = 'US' \n",
    "                        AND mod(user_id, 10) = 5 \n",
    "                        AND language = 'en'\n",
    "                  )\n",
    "                  AND dt between '2019-10-01' AND '2019-11-07' \n",
    "                  AND edition = 'en_US' \n",
    "            )\n",
    "            first_sent \n",
    "            on first_exit.user_id = first_sent.user_id \n",
    "            and first_exit.first_exit < first_sent.sent_timestamp \n",
    "      GROUP BY\n",
    "         1,\n",
    "         2\n",
    "   )''')"
   ]
  },
  {
   "cell_type": "code",
   "execution_count": 13,
   "metadata": {},
   "outputs": [
    {
     "data": {
      "text/plain": [
       "(85103, 11)"
      ]
     },
     "execution_count": 13,
     "metadata": {},
     "output_type": "execute_result"
    }
   ],
   "source": [
    "df_new.shape"
   ]
  },
  {
   "cell_type": "code",
   "execution_count": 14,
   "metadata": {},
   "outputs": [
    {
     "data": {
      "text/plain": [
       "(78294, 2)"
      ]
     },
     "execution_count": 14,
     "metadata": {},
     "output_type": "execute_result"
    }
   ],
   "source": [
    "df_diff.shape"
   ]
  },
  {
   "cell_type": "code",
   "execution_count": null,
   "metadata": {},
   "outputs": [],
   "source": []
  },
  {
   "cell_type": "code",
   "execution_count": 15,
   "metadata": {
    "scrolled": false
   },
   "outputs": [
    {
     "data": {
      "text/plain": [
       "7827"
      ]
     },
     "execution_count": 15,
     "metadata": {},
     "output_type": "execute_result"
    }
   ],
   "source": [
    "np.sum(df_new.iloc[:,1:9].sum(axis=1) == 0)"
   ]
  },
  {
   "cell_type": "markdown",
   "metadata": {},
   "source": [
    "7827 users in original dataframe with 0 total pushes"
   ]
  },
  {
   "cell_type": "code",
   "execution_count": 16,
   "metadata": {},
   "outputs": [
    {
     "data": {
      "text/html": [
       "<div>\n",
       "<style scoped>\n",
       "    .dataframe tbody tr th:only-of-type {\n",
       "        vertical-align: middle;\n",
       "    }\n",
       "\n",
       "    .dataframe tbody tr th {\n",
       "        vertical-align: top;\n",
       "    }\n",
       "\n",
       "    .dataframe thead th {\n",
       "        text-align: right;\n",
       "    }\n",
       "</style>\n",
       "<table border=\"1\" class=\"dataframe\">\n",
       "  <thead>\n",
       "    <tr style=\"text-align: right;\">\n",
       "      <th></th>\n",
       "      <th>user_id</th>\n",
       "      <th>0</th>\n",
       "      <th>1</th>\n",
       "      <th>2</th>\n",
       "      <th>3</th>\n",
       "      <th>4</th>\n",
       "      <th>5</th>\n",
       "      <th>6</th>\n",
       "      <th>7</th>\n",
       "      <th>hard_news_ratio</th>\n",
       "      <th>D7R</th>\n",
       "      <th>diff_secs</th>\n",
       "    </tr>\n",
       "  </thead>\n",
       "  <tbody>\n",
       "    <tr>\n",
       "      <td>0</td>\n",
       "      <td>104628565</td>\n",
       "      <td>9.0</td>\n",
       "      <td>10.0</td>\n",
       "      <td>7.0</td>\n",
       "      <td>10.0</td>\n",
       "      <td>4.0</td>\n",
       "      <td>6.0</td>\n",
       "      <td>8.0</td>\n",
       "      <td>10.0</td>\n",
       "      <td>0.824742</td>\n",
       "      <td>0</td>\n",
       "      <td>7291</td>\n",
       "    </tr>\n",
       "    <tr>\n",
       "      <td>1</td>\n",
       "      <td>104628655</td>\n",
       "      <td>9.0</td>\n",
       "      <td>10.0</td>\n",
       "      <td>7.0</td>\n",
       "      <td>10.0</td>\n",
       "      <td>4.0</td>\n",
       "      <td>6.0</td>\n",
       "      <td>8.0</td>\n",
       "      <td>10.0</td>\n",
       "      <td>0.775510</td>\n",
       "      <td>0</td>\n",
       "      <td>7235</td>\n",
       "    </tr>\n",
       "    <tr>\n",
       "      <td>2</td>\n",
       "      <td>104628675</td>\n",
       "      <td>9.0</td>\n",
       "      <td>10.0</td>\n",
       "      <td>7.0</td>\n",
       "      <td>11.0</td>\n",
       "      <td>4.0</td>\n",
       "      <td>6.0</td>\n",
       "      <td>8.0</td>\n",
       "      <td>10.0</td>\n",
       "      <td>0.806818</td>\n",
       "      <td>0</td>\n",
       "      <td>10731</td>\n",
       "    </tr>\n",
       "    <tr>\n",
       "      <td>3</td>\n",
       "      <td>104628725</td>\n",
       "      <td>9.0</td>\n",
       "      <td>10.0</td>\n",
       "      <td>7.0</td>\n",
       "      <td>11.0</td>\n",
       "      <td>4.0</td>\n",
       "      <td>6.0</td>\n",
       "      <td>8.0</td>\n",
       "      <td>10.0</td>\n",
       "      <td>0.806122</td>\n",
       "      <td>0</td>\n",
       "      <td>10921</td>\n",
       "    </tr>\n",
       "    <tr>\n",
       "      <td>4</td>\n",
       "      <td>104628795</td>\n",
       "      <td>2.0</td>\n",
       "      <td>0.0</td>\n",
       "      <td>0.0</td>\n",
       "      <td>0.0</td>\n",
       "      <td>0.0</td>\n",
       "      <td>0.0</td>\n",
       "      <td>0.0</td>\n",
       "      <td>10.0</td>\n",
       "      <td>0.583333</td>\n",
       "      <td>1</td>\n",
       "      <td>10728</td>\n",
       "    </tr>\n",
       "    <tr>\n",
       "      <td>...</td>\n",
       "      <td>...</td>\n",
       "      <td>...</td>\n",
       "      <td>...</td>\n",
       "      <td>...</td>\n",
       "      <td>...</td>\n",
       "      <td>...</td>\n",
       "      <td>...</td>\n",
       "      <td>...</td>\n",
       "      <td>...</td>\n",
       "      <td>...</td>\n",
       "      <td>...</td>\n",
       "      <td>...</td>\n",
       "    </tr>\n",
       "    <tr>\n",
       "      <td>74510</td>\n",
       "      <td>109446055</td>\n",
       "      <td>0.0</td>\n",
       "      <td>6.0</td>\n",
       "      <td>5.0</td>\n",
       "      <td>5.0</td>\n",
       "      <td>8.0</td>\n",
       "      <td>5.0</td>\n",
       "      <td>10.0</td>\n",
       "      <td>6.0</td>\n",
       "      <td>0.605634</td>\n",
       "      <td>1</td>\n",
       "      <td>18137</td>\n",
       "    </tr>\n",
       "    <tr>\n",
       "      <td>74511</td>\n",
       "      <td>109446065</td>\n",
       "      <td>0.0</td>\n",
       "      <td>7.0</td>\n",
       "      <td>4.0</td>\n",
       "      <td>5.0</td>\n",
       "      <td>8.0</td>\n",
       "      <td>5.0</td>\n",
       "      <td>10.0</td>\n",
       "      <td>6.0</td>\n",
       "      <td>0.696429</td>\n",
       "      <td>0</td>\n",
       "      <td>7392</td>\n",
       "    </tr>\n",
       "    <tr>\n",
       "      <td>74512</td>\n",
       "      <td>109446145</td>\n",
       "      <td>0.0</td>\n",
       "      <td>7.0</td>\n",
       "      <td>4.0</td>\n",
       "      <td>5.0</td>\n",
       "      <td>8.0</td>\n",
       "      <td>5.0</td>\n",
       "      <td>10.0</td>\n",
       "      <td>6.0</td>\n",
       "      <td>0.688525</td>\n",
       "      <td>0</td>\n",
       "      <td>7338</td>\n",
       "    </tr>\n",
       "    <tr>\n",
       "      <td>74513</td>\n",
       "      <td>109446195</td>\n",
       "      <td>0.0</td>\n",
       "      <td>7.0</td>\n",
       "      <td>4.0</td>\n",
       "      <td>5.0</td>\n",
       "      <td>8.0</td>\n",
       "      <td>5.0</td>\n",
       "      <td>10.0</td>\n",
       "      <td>6.0</td>\n",
       "      <td>0.694915</td>\n",
       "      <td>0</td>\n",
       "      <td>7210</td>\n",
       "    </tr>\n",
       "    <tr>\n",
       "      <td>74514</td>\n",
       "      <td>109446215</td>\n",
       "      <td>0.0</td>\n",
       "      <td>6.0</td>\n",
       "      <td>4.0</td>\n",
       "      <td>5.0</td>\n",
       "      <td>9.0</td>\n",
       "      <td>0.0</td>\n",
       "      <td>0.0</td>\n",
       "      <td>0.0</td>\n",
       "      <td>0.666667</td>\n",
       "      <td>0</td>\n",
       "      <td>14349</td>\n",
       "    </tr>\n",
       "  </tbody>\n",
       "</table>\n",
       "<p>74515 rows × 12 columns</p>\n",
       "</div>"
      ],
      "text/plain": [
       "         user_id    0     1    2     3    4    5     6     7  hard_news_ratio  \\\n",
       "0      104628565  9.0  10.0  7.0  10.0  4.0  6.0   8.0  10.0         0.824742   \n",
       "1      104628655  9.0  10.0  7.0  10.0  4.0  6.0   8.0  10.0         0.775510   \n",
       "2      104628675  9.0  10.0  7.0  11.0  4.0  6.0   8.0  10.0         0.806818   \n",
       "3      104628725  9.0  10.0  7.0  11.0  4.0  6.0   8.0  10.0         0.806122   \n",
       "4      104628795  2.0   0.0  0.0   0.0  0.0  0.0   0.0  10.0         0.583333   \n",
       "...          ...  ...   ...  ...   ...  ...  ...   ...   ...              ...   \n",
       "74510  109446055  0.0   6.0  5.0   5.0  8.0  5.0  10.0   6.0         0.605634   \n",
       "74511  109446065  0.0   7.0  4.0   5.0  8.0  5.0  10.0   6.0         0.696429   \n",
       "74512  109446145  0.0   7.0  4.0   5.0  8.0  5.0  10.0   6.0         0.688525   \n",
       "74513  109446195  0.0   7.0  4.0   5.0  8.0  5.0  10.0   6.0         0.694915   \n",
       "74514  109446215  0.0   6.0  4.0   5.0  9.0  0.0   0.0   0.0         0.666667   \n",
       "\n",
       "       D7R  diff_secs  \n",
       "0        0       7291  \n",
       "1        0       7235  \n",
       "2        0      10731  \n",
       "3        0      10921  \n",
       "4        1      10728  \n",
       "...    ...        ...  \n",
       "74510    1      18137  \n",
       "74511    0       7392  \n",
       "74512    0       7338  \n",
       "74513    0       7210  \n",
       "74514    0      14349  \n",
       "\n",
       "[74515 rows x 12 columns]"
      ]
     },
     "execution_count": 16,
     "metadata": {},
     "output_type": "execute_result"
    }
   ],
   "source": [
    "pd.merge(df_new, df_diff, on='user_id', how='inner')"
   ]
  },
  {
   "cell_type": "code",
   "execution_count": 17,
   "metadata": {},
   "outputs": [],
   "source": [
    "df_new = pd.merge(df_new, df_diff, on='user_id', how='inner')"
   ]
  },
  {
   "cell_type": "code",
   "execution_count": 18,
   "metadata": {},
   "outputs": [
    {
     "data": {
      "text/plain": [
       "336"
      ]
     },
     "execution_count": 18,
     "metadata": {},
     "output_type": "execute_result"
    }
   ],
   "source": [
    "np.sum(df_new.iloc[:,1:9].sum(axis=1) == 0)"
   ]
  },
  {
   "cell_type": "markdown",
   "metadata": {},
   "source": [
    "Adding whether users were in MAU 6 weeks (42 days) after install. In other words, counting two weeks after install, were they active for at least one day for the 28 day period?"
   ]
  },
  {
   "cell_type": "code",
   "execution_count": 19,
   "metadata": {},
   "outputs": [
    {
     "name": "stdout",
     "output_type": "stream",
     "text": [
      "SELECT a.user_id,\n",
      "       a.install_dt,\n",
      "       (CASE\n",
      "            WHEN b.dt IS NOT NULL THEN 1\n",
      "            ELSE 0\n",
      "        END) AS active_MAU\n",
      "FROM\n",
      "  (SELECT user_id,\n",
      "          dt AS install_dt\n",
      "   FROM daily_user_installs\n",
      "   WHERE dt BETWEEN '2019-10-01' AND '2019-10-31'\n",
      "     AND country = 'US'\n",
      "     AND mod(user_id, 10) = 5\n",
      "     AND LANGUAGE = 'en' ) a\n",
      "LEFT JOIN\n",
      "  (SELECT user_id,\n",
      "          dt\n",
      "   FROM daily_user_fq_segment\n",
      "   WHERE dt BETWEEN '2019-10-01' AND '2019-12-07'\n",
      "     AND edition = 'en_US'\n",
      "     AND mod(user_id, 10) = 5 ) b ON a.user_id = b.user_id\n",
      "AND date_diff('day', date_parse(a.install_dt, '%Y-%m-%d'), date_parse(b.dt, '%Y-%m-%d')) = 42\n",
      "Length of dataframe is 102896\n",
      "Top 5 rows of the dataframe:\n",
      "     user_id  install_dt  active_MAU\n",
      "0  109416845  2019-10-31           0\n",
      "1  109318125  2019-10-31           0\n",
      "2  109357115  2019-10-31           0\n",
      "3  109140935  2019-10-30           0\n",
      "4  109203525  2019-10-30           0\n"
     ]
    }
   ],
   "source": [
    "df_mau_retained = q('''SELECT\n",
    "   a.user_id,\n",
    "   a.install_dt,\n",
    "   (\n",
    "      CASE\n",
    "         WHEN\n",
    "            b.dt IS NOT NULL \n",
    "         THEN\n",
    "            1 \n",
    "         ELSE\n",
    "            0 \n",
    "      END\n",
    "   )\n",
    "   as active_MAU \n",
    "FROM\n",
    "   (\n",
    "      SELECT\n",
    "         user_id,\n",
    "         dt as install_dt \n",
    "      from\n",
    "         daily_user_installs \n",
    "      WHERE\n",
    "         dt BETWEEN '2019-10-01' AND '2019-10-31' \n",
    "         AND country = 'US' \n",
    "         AND mod(user_id, 10) = 5 \n",
    "         AND language = 'en'\n",
    "   )\n",
    "   a \n",
    "   LEFT JOIN\n",
    "      (\n",
    "         SELECT\n",
    "            user_id,\n",
    "            dt \n",
    "         from\n",
    "            daily_user_fq_segment \n",
    "         where\n",
    "            dt BETWEEN '2019-10-01' AND '2019-12-07' \n",
    "            AND edition = 'en_US' \n",
    "            AND mod(user_id, 10) = 5 \n",
    "      )\n",
    "      b \n",
    "      on a.user_id = b.user_id \n",
    "      and date_diff('day', date_parse(a.install_dt, '%Y-%m-%d'), date_parse(b.dt, '%Y-%m-%d')) = 42\n",
    "\n",
    "''')"
   ]
  },
  {
   "cell_type": "code",
   "execution_count": 20,
   "metadata": {},
   "outputs": [
    {
     "data": {
      "text/plain": [
       "(102896, 3)"
      ]
     },
     "execution_count": 20,
     "metadata": {},
     "output_type": "execute_result"
    }
   ],
   "source": [
    "df_mau_retained.shape"
   ]
  },
  {
   "cell_type": "code",
   "execution_count": 21,
   "metadata": {},
   "outputs": [
    {
     "data": {
      "text/html": [
       "<div>\n",
       "<style scoped>\n",
       "    .dataframe tbody tr th:only-of-type {\n",
       "        vertical-align: middle;\n",
       "    }\n",
       "\n",
       "    .dataframe tbody tr th {\n",
       "        vertical-align: top;\n",
       "    }\n",
       "\n",
       "    .dataframe thead th {\n",
       "        text-align: right;\n",
       "    }\n",
       "</style>\n",
       "<table border=\"1\" class=\"dataframe\">\n",
       "  <thead>\n",
       "    <tr style=\"text-align: right;\">\n",
       "      <th></th>\n",
       "      <th>user_id</th>\n",
       "      <th>0</th>\n",
       "      <th>1</th>\n",
       "      <th>2</th>\n",
       "      <th>3</th>\n",
       "      <th>4</th>\n",
       "      <th>5</th>\n",
       "      <th>6</th>\n",
       "      <th>7</th>\n",
       "      <th>hard_news_ratio</th>\n",
       "      <th>D7R</th>\n",
       "      <th>diff_secs</th>\n",
       "      <th>install_dt</th>\n",
       "      <th>active_MAU</th>\n",
       "    </tr>\n",
       "  </thead>\n",
       "  <tbody>\n",
       "    <tr>\n",
       "      <td>0</td>\n",
       "      <td>104628565</td>\n",
       "      <td>9.0</td>\n",
       "      <td>10.0</td>\n",
       "      <td>7.0</td>\n",
       "      <td>10.0</td>\n",
       "      <td>4.0</td>\n",
       "      <td>6.0</td>\n",
       "      <td>8.0</td>\n",
       "      <td>10.0</td>\n",
       "      <td>0.824742</td>\n",
       "      <td>0</td>\n",
       "      <td>7291</td>\n",
       "      <td>2019-10-01</td>\n",
       "      <td>0</td>\n",
       "    </tr>\n",
       "    <tr>\n",
       "      <td>1</td>\n",
       "      <td>104628655</td>\n",
       "      <td>9.0</td>\n",
       "      <td>10.0</td>\n",
       "      <td>7.0</td>\n",
       "      <td>10.0</td>\n",
       "      <td>4.0</td>\n",
       "      <td>6.0</td>\n",
       "      <td>8.0</td>\n",
       "      <td>10.0</td>\n",
       "      <td>0.775510</td>\n",
       "      <td>0</td>\n",
       "      <td>7235</td>\n",
       "      <td>2019-10-01</td>\n",
       "      <td>0</td>\n",
       "    </tr>\n",
       "    <tr>\n",
       "      <td>2</td>\n",
       "      <td>104628675</td>\n",
       "      <td>9.0</td>\n",
       "      <td>10.0</td>\n",
       "      <td>7.0</td>\n",
       "      <td>11.0</td>\n",
       "      <td>4.0</td>\n",
       "      <td>6.0</td>\n",
       "      <td>8.0</td>\n",
       "      <td>10.0</td>\n",
       "      <td>0.806818</td>\n",
       "      <td>0</td>\n",
       "      <td>10731</td>\n",
       "      <td>2019-10-01</td>\n",
       "      <td>0</td>\n",
       "    </tr>\n",
       "    <tr>\n",
       "      <td>3</td>\n",
       "      <td>104628725</td>\n",
       "      <td>9.0</td>\n",
       "      <td>10.0</td>\n",
       "      <td>7.0</td>\n",
       "      <td>11.0</td>\n",
       "      <td>4.0</td>\n",
       "      <td>6.0</td>\n",
       "      <td>8.0</td>\n",
       "      <td>10.0</td>\n",
       "      <td>0.806122</td>\n",
       "      <td>0</td>\n",
       "      <td>10921</td>\n",
       "      <td>2019-10-01</td>\n",
       "      <td>0</td>\n",
       "    </tr>\n",
       "    <tr>\n",
       "      <td>4</td>\n",
       "      <td>104628795</td>\n",
       "      <td>2.0</td>\n",
       "      <td>0.0</td>\n",
       "      <td>0.0</td>\n",
       "      <td>0.0</td>\n",
       "      <td>0.0</td>\n",
       "      <td>0.0</td>\n",
       "      <td>0.0</td>\n",
       "      <td>10.0</td>\n",
       "      <td>0.583333</td>\n",
       "      <td>1</td>\n",
       "      <td>10728</td>\n",
       "      <td>2019-10-01</td>\n",
       "      <td>1</td>\n",
       "    </tr>\n",
       "    <tr>\n",
       "      <td>...</td>\n",
       "      <td>...</td>\n",
       "      <td>...</td>\n",
       "      <td>...</td>\n",
       "      <td>...</td>\n",
       "      <td>...</td>\n",
       "      <td>...</td>\n",
       "      <td>...</td>\n",
       "      <td>...</td>\n",
       "      <td>...</td>\n",
       "      <td>...</td>\n",
       "      <td>...</td>\n",
       "      <td>...</td>\n",
       "      <td>...</td>\n",
       "      <td>...</td>\n",
       "    </tr>\n",
       "    <tr>\n",
       "      <td>74510</td>\n",
       "      <td>109446055</td>\n",
       "      <td>0.0</td>\n",
       "      <td>6.0</td>\n",
       "      <td>5.0</td>\n",
       "      <td>5.0</td>\n",
       "      <td>8.0</td>\n",
       "      <td>5.0</td>\n",
       "      <td>10.0</td>\n",
       "      <td>6.0</td>\n",
       "      <td>0.605634</td>\n",
       "      <td>1</td>\n",
       "      <td>18137</td>\n",
       "      <td>2019-10-31</td>\n",
       "      <td>0</td>\n",
       "    </tr>\n",
       "    <tr>\n",
       "      <td>74511</td>\n",
       "      <td>109446065</td>\n",
       "      <td>0.0</td>\n",
       "      <td>7.0</td>\n",
       "      <td>4.0</td>\n",
       "      <td>5.0</td>\n",
       "      <td>8.0</td>\n",
       "      <td>5.0</td>\n",
       "      <td>10.0</td>\n",
       "      <td>6.0</td>\n",
       "      <td>0.696429</td>\n",
       "      <td>0</td>\n",
       "      <td>7392</td>\n",
       "      <td>2019-10-31</td>\n",
       "      <td>0</td>\n",
       "    </tr>\n",
       "    <tr>\n",
       "      <td>74512</td>\n",
       "      <td>109446145</td>\n",
       "      <td>0.0</td>\n",
       "      <td>7.0</td>\n",
       "      <td>4.0</td>\n",
       "      <td>5.0</td>\n",
       "      <td>8.0</td>\n",
       "      <td>5.0</td>\n",
       "      <td>10.0</td>\n",
       "      <td>6.0</td>\n",
       "      <td>0.688525</td>\n",
       "      <td>0</td>\n",
       "      <td>7338</td>\n",
       "      <td>2019-10-31</td>\n",
       "      <td>0</td>\n",
       "    </tr>\n",
       "    <tr>\n",
       "      <td>74513</td>\n",
       "      <td>109446195</td>\n",
       "      <td>0.0</td>\n",
       "      <td>7.0</td>\n",
       "      <td>4.0</td>\n",
       "      <td>5.0</td>\n",
       "      <td>8.0</td>\n",
       "      <td>5.0</td>\n",
       "      <td>10.0</td>\n",
       "      <td>6.0</td>\n",
       "      <td>0.694915</td>\n",
       "      <td>0</td>\n",
       "      <td>7210</td>\n",
       "      <td>2019-10-31</td>\n",
       "      <td>0</td>\n",
       "    </tr>\n",
       "    <tr>\n",
       "      <td>74514</td>\n",
       "      <td>109446215</td>\n",
       "      <td>0.0</td>\n",
       "      <td>6.0</td>\n",
       "      <td>4.0</td>\n",
       "      <td>5.0</td>\n",
       "      <td>9.0</td>\n",
       "      <td>0.0</td>\n",
       "      <td>0.0</td>\n",
       "      <td>0.0</td>\n",
       "      <td>0.666667</td>\n",
       "      <td>0</td>\n",
       "      <td>14349</td>\n",
       "      <td>2019-10-31</td>\n",
       "      <td>0</td>\n",
       "    </tr>\n",
       "  </tbody>\n",
       "</table>\n",
       "<p>74515 rows × 14 columns</p>\n",
       "</div>"
      ],
      "text/plain": [
       "         user_id    0     1    2     3    4    5     6     7  hard_news_ratio  \\\n",
       "0      104628565  9.0  10.0  7.0  10.0  4.0  6.0   8.0  10.0         0.824742   \n",
       "1      104628655  9.0  10.0  7.0  10.0  4.0  6.0   8.0  10.0         0.775510   \n",
       "2      104628675  9.0  10.0  7.0  11.0  4.0  6.0   8.0  10.0         0.806818   \n",
       "3      104628725  9.0  10.0  7.0  11.0  4.0  6.0   8.0  10.0         0.806122   \n",
       "4      104628795  2.0   0.0  0.0   0.0  0.0  0.0   0.0  10.0         0.583333   \n",
       "...          ...  ...   ...  ...   ...  ...  ...   ...   ...              ...   \n",
       "74510  109446055  0.0   6.0  5.0   5.0  8.0  5.0  10.0   6.0         0.605634   \n",
       "74511  109446065  0.0   7.0  4.0   5.0  8.0  5.0  10.0   6.0         0.696429   \n",
       "74512  109446145  0.0   7.0  4.0   5.0  8.0  5.0  10.0   6.0         0.688525   \n",
       "74513  109446195  0.0   7.0  4.0   5.0  8.0  5.0  10.0   6.0         0.694915   \n",
       "74514  109446215  0.0   6.0  4.0   5.0  9.0  0.0   0.0   0.0         0.666667   \n",
       "\n",
       "       D7R  diff_secs  install_dt  active_MAU  \n",
       "0        0       7291  2019-10-01           0  \n",
       "1        0       7235  2019-10-01           0  \n",
       "2        0      10731  2019-10-01           0  \n",
       "3        0      10921  2019-10-01           0  \n",
       "4        1      10728  2019-10-01           1  \n",
       "...    ...        ...         ...         ...  \n",
       "74510    1      18137  2019-10-31           0  \n",
       "74511    0       7392  2019-10-31           0  \n",
       "74512    0       7338  2019-10-31           0  \n",
       "74513    0       7210  2019-10-31           0  \n",
       "74514    0      14349  2019-10-31           0  \n",
       "\n",
       "[74515 rows x 14 columns]"
      ]
     },
     "execution_count": 21,
     "metadata": {},
     "output_type": "execute_result"
    }
   ],
   "source": [
    "pd.merge(df_new, df_mau_retained, on='user_id', how='left')"
   ]
  },
  {
   "cell_type": "code",
   "execution_count": 22,
   "metadata": {},
   "outputs": [],
   "source": [
    "df_new = pd.merge(df_new, df_mau_retained, on='user_id', how='left')"
   ]
  },
  {
   "cell_type": "markdown",
   "metadata": {},
   "source": [
    "## Data Exploration"
   ]
  },
  {
   "cell_type": "code",
   "execution_count": 23,
   "metadata": {},
   "outputs": [],
   "source": [
    "df = df_new.copy()"
   ]
  },
  {
   "cell_type": "code",
   "execution_count": 24,
   "metadata": {},
   "outputs": [
    {
     "data": {
      "text/plain": [
       "0.18460712608199692"
      ]
     },
     "execution_count": 24,
     "metadata": {},
     "output_type": "execute_result"
    }
   ],
   "source": [
    "df.D7R.mean()"
   ]
  },
  {
   "cell_type": "markdown",
   "metadata": {},
   "source": [
    "18% D7RR"
   ]
  },
  {
   "cell_type": "code",
   "execution_count": 25,
   "metadata": {},
   "outputs": [
    {
     "data": {
      "text/plain": [
       "0.3414614507146212"
      ]
     },
     "execution_count": 25,
     "metadata": {},
     "output_type": "execute_result"
    }
   ],
   "source": [
    "df.active_MAU.mean()"
   ]
  },
  {
   "cell_type": "markdown",
   "metadata": {},
   "source": [
    "34% of new users were part of MAU 14 days after install"
   ]
  },
  {
   "cell_type": "code",
   "execution_count": 26,
   "metadata": {},
   "outputs": [
    {
     "data": {
      "text/html": [
       "<div>\n",
       "<style scoped>\n",
       "    .dataframe tbody tr th:only-of-type {\n",
       "        vertical-align: middle;\n",
       "    }\n",
       "\n",
       "    .dataframe tbody tr th {\n",
       "        vertical-align: top;\n",
       "    }\n",
       "\n",
       "    .dataframe thead th {\n",
       "        text-align: right;\n",
       "    }\n",
       "</style>\n",
       "<table border=\"1\" class=\"dataframe\">\n",
       "  <thead>\n",
       "    <tr style=\"text-align: right;\">\n",
       "      <th></th>\n",
       "      <th>user_id</th>\n",
       "      <th>0</th>\n",
       "      <th>1</th>\n",
       "      <th>2</th>\n",
       "      <th>3</th>\n",
       "      <th>4</th>\n",
       "      <th>5</th>\n",
       "      <th>6</th>\n",
       "      <th>7</th>\n",
       "      <th>hard_news_ratio</th>\n",
       "      <th>D7R</th>\n",
       "      <th>diff_secs</th>\n",
       "      <th>active_MAU</th>\n",
       "    </tr>\n",
       "  </thead>\n",
       "  <tbody>\n",
       "    <tr>\n",
       "      <td>count</td>\n",
       "      <td>7.451500e+04</td>\n",
       "      <td>74459.000000</td>\n",
       "      <td>74467.000000</td>\n",
       "      <td>74476.000000</td>\n",
       "      <td>74490.000000</td>\n",
       "      <td>74497.000000</td>\n",
       "      <td>74502.000000</td>\n",
       "      <td>74508.000000</td>\n",
       "      <td>74515.000000</td>\n",
       "      <td>74386.000000</td>\n",
       "      <td>74515.000000</td>\n",
       "      <td>7.451500e+04</td>\n",
       "      <td>74515.000000</td>\n",
       "    </tr>\n",
       "    <tr>\n",
       "      <td>mean</td>\n",
       "      <td>1.069888e+08</td>\n",
       "      <td>3.564781</td>\n",
       "      <td>6.890623</td>\n",
       "      <td>6.523981</td>\n",
       "      <td>6.346355</td>\n",
       "      <td>6.232063</td>\n",
       "      <td>6.203162</td>\n",
       "      <td>6.264817</td>\n",
       "      <td>6.163028</td>\n",
       "      <td>0.717874</td>\n",
       "      <td>0.184607</td>\n",
       "      <td>2.311104e+05</td>\n",
       "      <td>0.341461</td>\n",
       "    </tr>\n",
       "    <tr>\n",
       "      <td>std</td>\n",
       "      <td>1.447036e+06</td>\n",
       "      <td>2.820482</td>\n",
       "      <td>2.569456</td>\n",
       "      <td>2.741777</td>\n",
       "      <td>2.859108</td>\n",
       "      <td>2.854608</td>\n",
       "      <td>2.889259</td>\n",
       "      <td>3.007268</td>\n",
       "      <td>3.041304</td>\n",
       "      <td>0.086495</td>\n",
       "      <td>0.387981</td>\n",
       "      <td>1.645599e+07</td>\n",
       "      <td>0.474203</td>\n",
       "    </tr>\n",
       "    <tr>\n",
       "      <td>min</td>\n",
       "      <td>1.046286e+08</td>\n",
       "      <td>0.000000</td>\n",
       "      <td>0.000000</td>\n",
       "      <td>0.000000</td>\n",
       "      <td>0.000000</td>\n",
       "      <td>0.000000</td>\n",
       "      <td>0.000000</td>\n",
       "      <td>0.000000</td>\n",
       "      <td>0.000000</td>\n",
       "      <td>0.000000</td>\n",
       "      <td>0.000000</td>\n",
       "      <td>4.000000e+00</td>\n",
       "      <td>0.000000</td>\n",
       "    </tr>\n",
       "    <tr>\n",
       "      <td>25%</td>\n",
       "      <td>1.056947e+08</td>\n",
       "      <td>1.000000</td>\n",
       "      <td>5.000000</td>\n",
       "      <td>5.000000</td>\n",
       "      <td>5.000000</td>\n",
       "      <td>5.000000</td>\n",
       "      <td>5.000000</td>\n",
       "      <td>5.000000</td>\n",
       "      <td>5.000000</td>\n",
       "      <td>0.696970</td>\n",
       "      <td>0.000000</td>\n",
       "      <td>5.675000e+03</td>\n",
       "      <td>0.000000</td>\n",
       "    </tr>\n",
       "    <tr>\n",
       "      <td>50%</td>\n",
       "      <td>1.068773e+08</td>\n",
       "      <td>3.000000</td>\n",
       "      <td>7.000000</td>\n",
       "      <td>7.000000</td>\n",
       "      <td>7.000000</td>\n",
       "      <td>7.000000</td>\n",
       "      <td>7.000000</td>\n",
       "      <td>7.000000</td>\n",
       "      <td>6.000000</td>\n",
       "      <td>0.727273</td>\n",
       "      <td>0.000000</td>\n",
       "      <td>9.745000e+03</td>\n",
       "      <td>0.000000</td>\n",
       "    </tr>\n",
       "    <tr>\n",
       "      <td>75%</td>\n",
       "      <td>1.083015e+08</td>\n",
       "      <td>6.000000</td>\n",
       "      <td>9.000000</td>\n",
       "      <td>8.000000</td>\n",
       "      <td>8.000000</td>\n",
       "      <td>8.000000</td>\n",
       "      <td>8.000000</td>\n",
       "      <td>8.000000</td>\n",
       "      <td>8.000000</td>\n",
       "      <td>0.758065</td>\n",
       "      <td>0.000000</td>\n",
       "      <td>1.679900e+04</td>\n",
       "      <td>1.000000</td>\n",
       "    </tr>\n",
       "    <tr>\n",
       "      <td>max</td>\n",
       "      <td>1.094462e+08</td>\n",
       "      <td>12.000000</td>\n",
       "      <td>13.000000</td>\n",
       "      <td>12.000000</td>\n",
       "      <td>12.000000</td>\n",
       "      <td>12.000000</td>\n",
       "      <td>13.000000</td>\n",
       "      <td>13.000000</td>\n",
       "      <td>12.000000</td>\n",
       "      <td>1.000000</td>\n",
       "      <td>1.000000</td>\n",
       "      <td>1.572029e+09</td>\n",
       "      <td>1.000000</td>\n",
       "    </tr>\n",
       "  </tbody>\n",
       "</table>\n",
       "</div>"
      ],
      "text/plain": [
       "            user_id             0             1             2             3  \\\n",
       "count  7.451500e+04  74459.000000  74467.000000  74476.000000  74490.000000   \n",
       "mean   1.069888e+08      3.564781      6.890623      6.523981      6.346355   \n",
       "std    1.447036e+06      2.820482      2.569456      2.741777      2.859108   \n",
       "min    1.046286e+08      0.000000      0.000000      0.000000      0.000000   \n",
       "25%    1.056947e+08      1.000000      5.000000      5.000000      5.000000   \n",
       "50%    1.068773e+08      3.000000      7.000000      7.000000      7.000000   \n",
       "75%    1.083015e+08      6.000000      9.000000      8.000000      8.000000   \n",
       "max    1.094462e+08     12.000000     13.000000     12.000000     12.000000   \n",
       "\n",
       "                  4             5             6             7  \\\n",
       "count  74497.000000  74502.000000  74508.000000  74515.000000   \n",
       "mean       6.232063      6.203162      6.264817      6.163028   \n",
       "std        2.854608      2.889259      3.007268      3.041304   \n",
       "min        0.000000      0.000000      0.000000      0.000000   \n",
       "25%        5.000000      5.000000      5.000000      5.000000   \n",
       "50%        7.000000      7.000000      7.000000      6.000000   \n",
       "75%        8.000000      8.000000      8.000000      8.000000   \n",
       "max       12.000000     13.000000     13.000000     12.000000   \n",
       "\n",
       "       hard_news_ratio           D7R     diff_secs    active_MAU  \n",
       "count     74386.000000  74515.000000  7.451500e+04  74515.000000  \n",
       "mean          0.717874      0.184607  2.311104e+05      0.341461  \n",
       "std           0.086495      0.387981  1.645599e+07      0.474203  \n",
       "min           0.000000      0.000000  4.000000e+00      0.000000  \n",
       "25%           0.696970      0.000000  5.675000e+03      0.000000  \n",
       "50%           0.727273      0.000000  9.745000e+03      0.000000  \n",
       "75%           0.758065      0.000000  1.679900e+04      1.000000  \n",
       "max           1.000000      1.000000  1.572029e+09      1.000000  "
      ]
     },
     "execution_count": 26,
     "metadata": {},
     "output_type": "execute_result"
    }
   ],
   "source": [
    "df.describe()"
   ]
  },
  {
   "cell_type": "code",
   "execution_count": 89,
   "metadata": {},
   "outputs": [
    {
     "data": {
      "image/png": "[encoded data removed]",
      "text/plain": [
       "<Figure size 432x288 with 1 Axes>"
      ]
     },
     "metadata": {
      "needs_background": "light"
     },
     "output_type": "display_data"
    }
   ],
   "source": [
    "((df[df.diff_secs < df.diff_secs.quantile(.95)].diff_secs)/60).hist();\n",
    "plt.title('Distribution of difference in MINUTES between leaving app and first push');"
   ]
  },
  {
   "cell_type": "markdown",
   "metadata": {},
   "source": [
    "Getting rid of outliers for diff_sec"
   ]
  },
  {
   "cell_type": "code",
   "execution_count": 28,
   "metadata": {},
   "outputs": [
    {
     "data": {
      "text/html": [
       "<div>\n",
       "<style scoped>\n",
       "    .dataframe tbody tr th:only-of-type {\n",
       "        vertical-align: middle;\n",
       "    }\n",
       "\n",
       "    .dataframe tbody tr th {\n",
       "        vertical-align: top;\n",
       "    }\n",
       "\n",
       "    .dataframe thead th {\n",
       "        text-align: right;\n",
       "    }\n",
       "</style>\n",
       "<table border=\"1\" class=\"dataframe\">\n",
       "  <thead>\n",
       "    <tr style=\"text-align: right;\">\n",
       "      <th></th>\n",
       "      <th>user_id</th>\n",
       "      <th>0</th>\n",
       "      <th>1</th>\n",
       "      <th>2</th>\n",
       "      <th>3</th>\n",
       "      <th>4</th>\n",
       "      <th>5</th>\n",
       "      <th>6</th>\n",
       "      <th>7</th>\n",
       "      <th>hard_news_ratio</th>\n",
       "      <th>D7R</th>\n",
       "      <th>diff_secs</th>\n",
       "      <th>install_dt</th>\n",
       "      <th>active_MAU</th>\n",
       "    </tr>\n",
       "  </thead>\n",
       "  <tbody>\n",
       "    <tr>\n",
       "      <td>0</td>\n",
       "      <td>104628565</td>\n",
       "      <td>9.0</td>\n",
       "      <td>10.0</td>\n",
       "      <td>7.0</td>\n",
       "      <td>10.0</td>\n",
       "      <td>4.0</td>\n",
       "      <td>6.0</td>\n",
       "      <td>8.0</td>\n",
       "      <td>10.0</td>\n",
       "      <td>0.824742</td>\n",
       "      <td>0</td>\n",
       "      <td>7291</td>\n",
       "      <td>2019-10-01</td>\n",
       "      <td>0</td>\n",
       "    </tr>\n",
       "    <tr>\n",
       "      <td>1</td>\n",
       "      <td>104628655</td>\n",
       "      <td>9.0</td>\n",
       "      <td>10.0</td>\n",
       "      <td>7.0</td>\n",
       "      <td>10.0</td>\n",
       "      <td>4.0</td>\n",
       "      <td>6.0</td>\n",
       "      <td>8.0</td>\n",
       "      <td>10.0</td>\n",
       "      <td>0.775510</td>\n",
       "      <td>0</td>\n",
       "      <td>7235</td>\n",
       "      <td>2019-10-01</td>\n",
       "      <td>0</td>\n",
       "    </tr>\n",
       "    <tr>\n",
       "      <td>2</td>\n",
       "      <td>104628675</td>\n",
       "      <td>9.0</td>\n",
       "      <td>10.0</td>\n",
       "      <td>7.0</td>\n",
       "      <td>11.0</td>\n",
       "      <td>4.0</td>\n",
       "      <td>6.0</td>\n",
       "      <td>8.0</td>\n",
       "      <td>10.0</td>\n",
       "      <td>0.806818</td>\n",
       "      <td>0</td>\n",
       "      <td>10731</td>\n",
       "      <td>2019-10-01</td>\n",
       "      <td>0</td>\n",
       "    </tr>\n",
       "    <tr>\n",
       "      <td>3</td>\n",
       "      <td>104628725</td>\n",
       "      <td>9.0</td>\n",
       "      <td>10.0</td>\n",
       "      <td>7.0</td>\n",
       "      <td>11.0</td>\n",
       "      <td>4.0</td>\n",
       "      <td>6.0</td>\n",
       "      <td>8.0</td>\n",
       "      <td>10.0</td>\n",
       "      <td>0.806122</td>\n",
       "      <td>0</td>\n",
       "      <td>10921</td>\n",
       "      <td>2019-10-01</td>\n",
       "      <td>0</td>\n",
       "    </tr>\n",
       "    <tr>\n",
       "      <td>4</td>\n",
       "      <td>104628795</td>\n",
       "      <td>2.0</td>\n",
       "      <td>0.0</td>\n",
       "      <td>0.0</td>\n",
       "      <td>0.0</td>\n",
       "      <td>0.0</td>\n",
       "      <td>0.0</td>\n",
       "      <td>0.0</td>\n",
       "      <td>10.0</td>\n",
       "      <td>0.583333</td>\n",
       "      <td>1</td>\n",
       "      <td>10728</td>\n",
       "      <td>2019-10-01</td>\n",
       "      <td>1</td>\n",
       "    </tr>\n",
       "  </tbody>\n",
       "</table>\n",
       "</div>"
      ],
      "text/plain": [
       "     user_id    0     1    2     3    4    5    6     7  hard_news_ratio  D7R  \\\n",
       "0  104628565  9.0  10.0  7.0  10.0  4.0  6.0  8.0  10.0         0.824742    0   \n",
       "1  104628655  9.0  10.0  7.0  10.0  4.0  6.0  8.0  10.0         0.775510    0   \n",
       "2  104628675  9.0  10.0  7.0  11.0  4.0  6.0  8.0  10.0         0.806818    0   \n",
       "3  104628725  9.0  10.0  7.0  11.0  4.0  6.0  8.0  10.0         0.806122    0   \n",
       "4  104628795  2.0   0.0  0.0   0.0  0.0  0.0  0.0  10.0         0.583333    1   \n",
       "\n",
       "   diff_secs  install_dt  active_MAU  \n",
       "0       7291  2019-10-01           0  \n",
       "1       7235  2019-10-01           0  \n",
       "2      10731  2019-10-01           0  \n",
       "3      10921  2019-10-01           0  \n",
       "4      10728  2019-10-01           1  "
      ]
     },
     "execution_count": 28,
     "metadata": {},
     "output_type": "execute_result"
    }
   ],
   "source": [
    "df.head()"
   ]
  },
  {
   "cell_type": "code",
   "execution_count": 29,
   "metadata": {
    "scrolled": true
   },
   "outputs": [],
   "source": [
    "df['diff_secs'] = np.where(df.diff_secs > df.diff_secs.quantile(.95), df.diff_secs.quantile(.95), df.diff_secs)"
   ]
  },
  {
   "cell_type": "code",
   "execution_count": 30,
   "metadata": {},
   "outputs": [
    {
     "data": {
      "text/plain": [
       "209.46929097049812"
      ]
     },
     "execution_count": 30,
     "metadata": {},
     "output_type": "execute_result"
    }
   ],
   "source": [
    "np.mean(df.diff_secs/60)"
   ]
  },
  {
   "cell_type": "code",
   "execution_count": 88,
   "metadata": {
    "scrolled": true
   },
   "outputs": [
    {
     "data": {
      "image/png": "[encoded data removed]",
      "text/plain": [
       "<Figure size 432x288 with 1 Axes>"
      ]
     },
     "metadata": {
      "needs_background": "light"
     },
     "output_type": "display_data"
    }
   ],
   "source": [
    "((df[df.diff_secs < df.diff_secs.quantile(.95)].diff_secs)/60/60).hist();\n",
    "plt.title('Distribution of difference in HOURS between leaving app and first push');"
   ]
  },
  {
   "cell_type": "code",
   "execution_count": 87,
   "metadata": {},
   "outputs": [
    {
     "data": {
      "image/png": "[encoded data removed]",
      "text/plain": [
       "<Figure size 432x288 with 1 Axes>"
      ]
     },
     "metadata": {
      "needs_background": "light"
     },
     "output_type": "display_data"
    }
   ],
   "source": [
    "df.hard_news_ratio.hist(bins=20);\n",
    "plt.title('Distribution of hard news ratio for pushes');"
   ]
  },
  {
   "cell_type": "markdown",
   "metadata": {},
   "source": [
    "### Finding: Average around 3 hours between leaving the app and getting a push sent. But skewed to the right, some were up to around 6 to 8 hours"
   ]
  },
  {
   "cell_type": "code",
   "execution_count": 167,
   "metadata": {},
   "outputs": [
    {
     "data": {
      "image/png": "[encoded data removed]",
      "text/plain": [
       "<Figure size 432x288 with 1 Axes>"
      ]
     },
     "metadata": {
      "needs_background": "light"
     },
     "output_type": "display_data"
    }
   ],
   "source": [
    "sns.boxplot(y='diff_secs', x='D7R', data=df);"
   ]
  },
  {
   "cell_type": "code",
   "execution_count": 33,
   "metadata": {},
   "outputs": [
    {
     "data": {
      "text/plain": [
       "<matplotlib.axes._subplots.AxesSubplot at 0x7f9f25bbb828>"
      ]
     },
     "execution_count": 33,
     "metadata": {},
     "output_type": "execute_result"
    },
    {
     "data": {
      "image/png": "[encoded data removed]",
      "text/plain": [
       "<Figure size 432x288 with 1 Axes>"
      ]
     },
     "metadata": {
      "needs_background": "light"
     },
     "output_type": "display_data"
    }
   ],
   "source": [
    "sns.boxplot(y='diff_secs', x='active_MAU', data=df)"
   ]
  },
  {
   "cell_type": "markdown",
   "metadata": {},
   "source": [
    "### Doesn't appear to be much relationship between time of first push and retention"
   ]
  },
  {
   "cell_type": "code",
   "execution_count": 34,
   "metadata": {
    "scrolled": true
   },
   "outputs": [
    {
     "data": {
      "text/plain": [
       "user_id              0\n",
       "0                   56\n",
       "1                   48\n",
       "2                   39\n",
       "3                   25\n",
       "4                   18\n",
       "5                   13\n",
       "6                    7\n",
       "7                    0\n",
       "hard_news_ratio    129\n",
       "D7R                  0\n",
       "diff_secs            0\n",
       "install_dt           0\n",
       "active_MAU           0\n",
       "dtype: int64"
      ]
     },
     "execution_count": 34,
     "metadata": {},
     "output_type": "execute_result"
    }
   ],
   "source": [
    "df.isna().sum()"
   ]
  },
  {
   "cell_type": "code",
   "execution_count": 35,
   "metadata": {},
   "outputs": [
    {
     "data": {
      "text/plain": [
       "user_id            74515\n",
       "0                  74459\n",
       "1                  74467\n",
       "2                  74476\n",
       "3                  74490\n",
       "4                  74497\n",
       "5                  74502\n",
       "6                  74508\n",
       "7                  74515\n",
       "hard_news_ratio    74386\n",
       "D7R                74515\n",
       "diff_secs          74515\n",
       "install_dt         74515\n",
       "active_MAU         74515\n",
       "dtype: int64"
      ]
     },
     "execution_count": 35,
     "metadata": {},
     "output_type": "execute_result"
    }
   ],
   "source": [
    "df.count()"
   ]
  },
  {
   "cell_type": "markdown",
   "metadata": {},
   "source": [
    "Filling in nulls with 0s"
   ]
  },
  {
   "cell_type": "code",
   "execution_count": 37,
   "metadata": {},
   "outputs": [],
   "source": [
    "df = df.fillna(0).copy()"
   ]
  },
  {
   "cell_type": "code",
   "execution_count": 46,
   "metadata": {
    "scrolled": true
   },
   "outputs": [
    {
     "data": {
      "text/plain": [
       "<matplotlib.axes._subplots.AxesSubplot at 0x7f9f42274908>"
      ]
     },
     "execution_count": 46,
     "metadata": {},
     "output_type": "execute_result"
    },
    {
     "data": {
      "image/png": "[encoded data removed]",
      "text/plain": [
       "<Figure size 432x288 with 1 Axes>"
      ]
     },
     "metadata": {
      "needs_background": "light"
     },
     "output_type": "display_data"
    }
   ],
   "source": [
    "sns.boxplot(x='D7R', y='hard_news_ratio', data=df)"
   ]
  },
  {
   "cell_type": "markdown",
   "metadata": {},
   "source": [
    "### Appears that fewer hard news pushes has higher D7R"
   ]
  },
  {
   "cell_type": "code",
   "execution_count": 77,
   "metadata": {
    "scrolled": true
   },
   "outputs": [
    {
     "data": {
      "text/plain": [
       "<matplotlib.axes._subplots.AxesSubplot at 0x7f9f28b73da0>"
      ]
     },
     "execution_count": 77,
     "metadata": {},
     "output_type": "execute_result"
    },
    {
     "data": {
      "image/png": "[encoded data removed]",
      "text/plain": [
       "<Figure size 432x288 with 1 Axes>"
      ]
     },
     "metadata": {
      "needs_background": "light"
     },
     "output_type": "display_data"
    }
   ],
   "source": [
    "sns.boxplot(x='active_MAU', y='hard_news_ratio', data=df)"
   ]
  },
  {
   "cell_type": "markdown",
   "metadata": {},
   "source": [
    "### Not much difference for active_MAU"
   ]
  },
  {
   "cell_type": "code",
   "execution_count": 67,
   "metadata": {},
   "outputs": [],
   "source": [
    "df['total_sent_count'] = df.iloc[:,1:8].sum(axis=1)"
   ]
  },
  {
   "cell_type": "markdown",
   "metadata": {},
   "source": [
    "### Total sent has same distribution, left skewed, with ~10% of users getting 30 or less for the week"
   ]
  },
  {
   "cell_type": "code",
   "execution_count": 79,
   "metadata": {
    "scrolled": true
   },
   "outputs": [
    {
     "data": {
      "text/plain": [
       "<matplotlib.axes._subplots.AxesSubplot at 0x7f9f264b1780>"
      ]
     },
     "execution_count": 79,
     "metadata": {},
     "output_type": "execute_result"
    },
    {
     "data": {
      "image/png": "[encoded data removed]",
      "text/plain": [
       "<Figure size 432x288 with 1 Axes>"
      ]
     },
     "metadata": {
      "needs_background": "light"
     },
     "output_type": "display_data"
    }
   ],
   "source": [
    "df.total_sent_count.hist(bins=20)"
   ]
  },
  {
   "cell_type": "code",
   "execution_count": 92,
   "metadata": {},
   "outputs": [
    {
     "data": {
      "text/plain": [
       "0.10490505267395826"
      ]
     },
     "execution_count": 92,
     "metadata": {},
     "output_type": "execute_result"
    }
   ],
   "source": [
    "np.mean(df.total_sent_count < 30)"
   ]
  },
  {
   "cell_type": "code",
   "execution_count": 84,
   "metadata": {
    "scrolled": true
   },
   "outputs": [
    {
     "data": {
      "text/plain": [
       "<matplotlib.axes._subplots.AxesSubplot at 0x7f9f299ed7f0>"
      ]
     },
     "execution_count": 84,
     "metadata": {},
     "output_type": "execute_result"
    },
    {
     "data": {
      "image/png": "[encoded data removed]",
      "text/plain": [
       "<Figure size 432x288 with 1 Axes>"
      ]
     },
     "metadata": {
      "needs_background": "light"
     },
     "output_type": "display_data"
    }
   ],
   "source": [
    "df.iloc[:,1:8].mean().plot(kind='bar')"
   ]
  },
  {
   "cell_type": "code",
   "execution_count": 121,
   "metadata": {},
   "outputs": [
    {
     "data": {
      "text/html": [
       "<div>\n",
       "<style scoped>\n",
       "    .dataframe tbody tr th:only-of-type {\n",
       "        vertical-align: middle;\n",
       "    }\n",
       "\n",
       "    .dataframe tbody tr th {\n",
       "        vertical-align: top;\n",
       "    }\n",
       "\n",
       "    .dataframe thead th {\n",
       "        text-align: right;\n",
       "    }\n",
       "</style>\n",
       "<table border=\"1\" class=\"dataframe\">\n",
       "  <thead>\n",
       "    <tr style=\"text-align: right;\">\n",
       "      <th></th>\n",
       "      <th>0</th>\n",
       "      <th>1</th>\n",
       "      <th>2</th>\n",
       "      <th>3</th>\n",
       "      <th>4</th>\n",
       "      <th>5</th>\n",
       "      <th>6</th>\n",
       "      <th>7</th>\n",
       "      <th>hard_news_ratio</th>\n",
       "      <th>D7R</th>\n",
       "      <th>diff_secs</th>\n",
       "      <th>active_MAU</th>\n",
       "      <th>total_sent_count</th>\n",
       "    </tr>\n",
       "  </thead>\n",
       "  <tbody>\n",
       "    <tr>\n",
       "      <td>0</td>\n",
       "      <td>1.000000</td>\n",
       "      <td>0.062594</td>\n",
       "      <td>0.060107</td>\n",
       "      <td>0.079772</td>\n",
       "      <td>0.057938</td>\n",
       "      <td>0.132305</td>\n",
       "      <td>0.052951</td>\n",
       "      <td>0.070324</td>\n",
       "      <td>0.205209</td>\n",
       "      <td>0.014612</td>\n",
       "      <td>0.087849</td>\n",
       "      <td>0.026723</td>\n",
       "      <td>0.321733</td>\n",
       "    </tr>\n",
       "    <tr>\n",
       "      <td>1</td>\n",
       "      <td>0.062594</td>\n",
       "      <td>1.000000</td>\n",
       "      <td>0.289757</td>\n",
       "      <td>0.313230</td>\n",
       "      <td>0.303117</td>\n",
       "      <td>0.309120</td>\n",
       "      <td>0.449412</td>\n",
       "      <td>0.251657</td>\n",
       "      <td>0.391335</td>\n",
       "      <td>0.063988</td>\n",
       "      <td>-0.069251</td>\n",
       "      <td>0.094138</td>\n",
       "      <td>0.595261</td>\n",
       "    </tr>\n",
       "    <tr>\n",
       "      <td>2</td>\n",
       "      <td>0.060107</td>\n",
       "      <td>0.289757</td>\n",
       "      <td>1.000000</td>\n",
       "      <td>0.401534</td>\n",
       "      <td>0.351798</td>\n",
       "      <td>0.448027</td>\n",
       "      <td>0.373148</td>\n",
       "      <td>0.532285</td>\n",
       "      <td>0.356734</td>\n",
       "      <td>0.084576</td>\n",
       "      <td>-0.032701</td>\n",
       "      <td>0.127917</td>\n",
       "      <td>0.648680</td>\n",
       "    </tr>\n",
       "    <tr>\n",
       "      <td>3</td>\n",
       "      <td>0.079772</td>\n",
       "      <td>0.313230</td>\n",
       "      <td>0.401534</td>\n",
       "      <td>1.000000</td>\n",
       "      <td>0.454455</td>\n",
       "      <td>0.421227</td>\n",
       "      <td>0.464530</td>\n",
       "      <td>0.421656</td>\n",
       "      <td>0.314449</td>\n",
       "      <td>0.088196</td>\n",
       "      <td>-0.037500</td>\n",
       "      <td>0.178950</td>\n",
       "      <td>0.701940</td>\n",
       "    </tr>\n",
       "    <tr>\n",
       "      <td>4</td>\n",
       "      <td>0.057938</td>\n",
       "      <td>0.303117</td>\n",
       "      <td>0.351798</td>\n",
       "      <td>0.454455</td>\n",
       "      <td>1.000000</td>\n",
       "      <td>0.515693</td>\n",
       "      <td>0.488810</td>\n",
       "      <td>0.481057</td>\n",
       "      <td>0.323586</td>\n",
       "      <td>0.104360</td>\n",
       "      <td>-0.014633</td>\n",
       "      <td>0.195205</td>\n",
       "      <td>0.711327</td>\n",
       "    </tr>\n",
       "    <tr>\n",
       "      <td>5</td>\n",
       "      <td>0.132305</td>\n",
       "      <td>0.309120</td>\n",
       "      <td>0.448027</td>\n",
       "      <td>0.421227</td>\n",
       "      <td>0.515693</td>\n",
       "      <td>1.000000</td>\n",
       "      <td>0.513064</td>\n",
       "      <td>0.534314</td>\n",
       "      <td>0.382787</td>\n",
       "      <td>0.118511</td>\n",
       "      <td>-0.036708</td>\n",
       "      <td>0.225984</td>\n",
       "      <td>0.749460</td>\n",
       "    </tr>\n",
       "    <tr>\n",
       "      <td>6</td>\n",
       "      <td>0.052951</td>\n",
       "      <td>0.449412</td>\n",
       "      <td>0.373148</td>\n",
       "      <td>0.464530</td>\n",
       "      <td>0.488810</td>\n",
       "      <td>0.513064</td>\n",
       "      <td>1.000000</td>\n",
       "      <td>0.524267</td>\n",
       "      <td>0.383501</td>\n",
       "      <td>0.121286</td>\n",
       "      <td>-0.012964</td>\n",
       "      <td>0.202017</td>\n",
       "      <td>0.752307</td>\n",
       "    </tr>\n",
       "    <tr>\n",
       "      <td>7</td>\n",
       "      <td>0.070324</td>\n",
       "      <td>0.251657</td>\n",
       "      <td>0.532285</td>\n",
       "      <td>0.421656</td>\n",
       "      <td>0.481057</td>\n",
       "      <td>0.534314</td>\n",
       "      <td>0.524267</td>\n",
       "      <td>1.000000</td>\n",
       "      <td>0.372266</td>\n",
       "      <td>0.142172</td>\n",
       "      <td>-0.007376</td>\n",
       "      <td>0.185215</td>\n",
       "      <td>0.631140</td>\n",
       "    </tr>\n",
       "    <tr>\n",
       "      <td>hard_news_ratio</td>\n",
       "      <td>0.205209</td>\n",
       "      <td>0.391335</td>\n",
       "      <td>0.356734</td>\n",
       "      <td>0.314449</td>\n",
       "      <td>0.323586</td>\n",
       "      <td>0.382787</td>\n",
       "      <td>0.383501</td>\n",
       "      <td>0.372266</td>\n",
       "      <td>1.000000</td>\n",
       "      <td>-0.050567</td>\n",
       "      <td>-0.067149</td>\n",
       "      <td>0.044487</td>\n",
       "      <td>0.524001</td>\n",
       "    </tr>\n",
       "    <tr>\n",
       "      <td>D7R</td>\n",
       "      <td>0.014612</td>\n",
       "      <td>0.063988</td>\n",
       "      <td>0.084576</td>\n",
       "      <td>0.088196</td>\n",
       "      <td>0.104360</td>\n",
       "      <td>0.118511</td>\n",
       "      <td>0.121286</td>\n",
       "      <td>0.142172</td>\n",
       "      <td>-0.050567</td>\n",
       "      <td>1.000000</td>\n",
       "      <td>-0.002686</td>\n",
       "      <td>0.330059</td>\n",
       "      <td>0.133640</td>\n",
       "    </tr>\n",
       "    <tr>\n",
       "      <td>diff_secs</td>\n",
       "      <td>0.087849</td>\n",
       "      <td>-0.069251</td>\n",
       "      <td>-0.032701</td>\n",
       "      <td>-0.037500</td>\n",
       "      <td>-0.014633</td>\n",
       "      <td>-0.036708</td>\n",
       "      <td>-0.012964</td>\n",
       "      <td>-0.007376</td>\n",
       "      <td>-0.067149</td>\n",
       "      <td>-0.002686</td>\n",
       "      <td>1.000000</td>\n",
       "      <td>0.015508</td>\n",
       "      <td>-0.024776</td>\n",
       "    </tr>\n",
       "    <tr>\n",
       "      <td>active_MAU</td>\n",
       "      <td>0.026723</td>\n",
       "      <td>0.094138</td>\n",
       "      <td>0.127917</td>\n",
       "      <td>0.178950</td>\n",
       "      <td>0.195205</td>\n",
       "      <td>0.225984</td>\n",
       "      <td>0.202017</td>\n",
       "      <td>0.185215</td>\n",
       "      <td>0.044487</td>\n",
       "      <td>0.330059</td>\n",
       "      <td>0.015508</td>\n",
       "      <td>1.000000</td>\n",
       "      <td>0.236347</td>\n",
       "    </tr>\n",
       "    <tr>\n",
       "      <td>total_sent_count</td>\n",
       "      <td>0.321733</td>\n",
       "      <td>0.595261</td>\n",
       "      <td>0.648680</td>\n",
       "      <td>0.701940</td>\n",
       "      <td>0.711327</td>\n",
       "      <td>0.749460</td>\n",
       "      <td>0.752307</td>\n",
       "      <td>0.631140</td>\n",
       "      <td>0.524001</td>\n",
       "      <td>0.133640</td>\n",
       "      <td>-0.024776</td>\n",
       "      <td>0.236347</td>\n",
       "      <td>1.000000</td>\n",
       "    </tr>\n",
       "  </tbody>\n",
       "</table>\n",
       "</div>"
      ],
      "text/plain": [
       "                         0         1         2         3         4         5  \\\n",
       "0                 1.000000  0.062594  0.060107  0.079772  0.057938  0.132305   \n",
       "1                 0.062594  1.000000  0.289757  0.313230  0.303117  0.309120   \n",
       "2                 0.060107  0.289757  1.000000  0.401534  0.351798  0.448027   \n",
       "3                 0.079772  0.313230  0.401534  1.000000  0.454455  0.421227   \n",
       "4                 0.057938  0.303117  0.351798  0.454455  1.000000  0.515693   \n",
       "5                 0.132305  0.309120  0.448027  0.421227  0.515693  1.000000   \n",
       "6                 0.052951  0.449412  0.373148  0.464530  0.488810  0.513064   \n",
       "7                 0.070324  0.251657  0.532285  0.421656  0.481057  0.534314   \n",
       "hard_news_ratio   0.205209  0.391335  0.356734  0.314449  0.323586  0.382787   \n",
       "D7R               0.014612  0.063988  0.084576  0.088196  0.104360  0.118511   \n",
       "diff_secs         0.087849 -0.069251 -0.032701 -0.037500 -0.014633 -0.036708   \n",
       "active_MAU        0.026723  0.094138  0.127917  0.178950  0.195205  0.225984   \n",
       "total_sent_count  0.321733  0.595261  0.648680  0.701940  0.711327  0.749460   \n",
       "\n",
       "                         6         7  hard_news_ratio       D7R  diff_secs  \\\n",
       "0                 0.052951  0.070324         0.205209  0.014612   0.087849   \n",
       "1                 0.449412  0.251657         0.391335  0.063988  -0.069251   \n",
       "2                 0.373148  0.532285         0.356734  0.084576  -0.032701   \n",
       "3                 0.464530  0.421656         0.314449  0.088196  -0.037500   \n",
       "4                 0.488810  0.481057         0.323586  0.104360  -0.014633   \n",
       "5                 0.513064  0.534314         0.382787  0.118511  -0.036708   \n",
       "6                 1.000000  0.524267         0.383501  0.121286  -0.012964   \n",
       "7                 0.524267  1.000000         0.372266  0.142172  -0.007376   \n",
       "hard_news_ratio   0.383501  0.372266         1.000000 -0.050567  -0.067149   \n",
       "D7R               0.121286  0.142172        -0.050567  1.000000  -0.002686   \n",
       "diff_secs        -0.012964 -0.007376        -0.067149 -0.002686   1.000000   \n",
       "active_MAU        0.202017  0.185215         0.044487  0.330059   0.015508   \n",
       "total_sent_count  0.752307  0.631140         0.524001  0.133640  -0.024776   \n",
       "\n",
       "                  active_MAU  total_sent_count  \n",
       "0                   0.026723          0.321733  \n",
       "1                   0.094138          0.595261  \n",
       "2                   0.127917          0.648680  \n",
       "3                   0.178950          0.701940  \n",
       "4                   0.195205          0.711327  \n",
       "5                   0.225984          0.749460  \n",
       "6                   0.202017          0.752307  \n",
       "7                   0.185215          0.631140  \n",
       "hard_news_ratio     0.044487          0.524001  \n",
       "D7R                 0.330059          0.133640  \n",
       "diff_secs           0.015508         -0.024776  \n",
       "active_MAU          1.000000          0.236347  \n",
       "total_sent_count    0.236347          1.000000  "
      ]
     },
     "execution_count": 121,
     "metadata": {},
     "output_type": "execute_result"
    }
   ],
   "source": [
    "df.iloc[:,1:].corr()"
   ]
  },
  {
   "cell_type": "code",
   "execution_count": 124,
   "metadata": {},
   "outputs": [
    {
     "data": {
      "text/plain": [
       "<matplotlib.axes._subplots.AxesSubplot at 0x7f9f6f5f2048>"
      ]
     },
     "execution_count": 124,
     "metadata": {},
     "output_type": "execute_result"
    },
    {
     "data": {
      "image/png": "[encoded data removed]",
      "text/plain": [
       "<Figure size 432x288 with 2 Axes>"
      ]
     },
     "metadata": {
      "needs_background": "light"
     },
     "output_type": "display_data"
    }
   ],
   "source": [
    "sns.heatmap(df.iloc[:,1:].corr())"
   ]
  },
  {
   "cell_type": "markdown",
   "metadata": {},
   "source": [
    "### Running classifier model"
   ]
  },
  {
   "cell_type": "code",
   "execution_count": 68,
   "metadata": {
    "scrolled": true
   },
   "outputs": [
    {
     "data": {
      "text/html": [
       "<div>\n",
       "<style scoped>\n",
       "    .dataframe tbody tr th:only-of-type {\n",
       "        vertical-align: middle;\n",
       "    }\n",
       "\n",
       "    .dataframe tbody tr th {\n",
       "        vertical-align: top;\n",
       "    }\n",
       "\n",
       "    .dataframe thead th {\n",
       "        text-align: right;\n",
       "    }\n",
       "</style>\n",
       "<table border=\"1\" class=\"dataframe\">\n",
       "  <thead>\n",
       "    <tr style=\"text-align: right;\">\n",
       "      <th></th>\n",
       "      <th>user_id</th>\n",
       "      <th>0</th>\n",
       "      <th>1</th>\n",
       "      <th>2</th>\n",
       "      <th>3</th>\n",
       "      <th>4</th>\n",
       "      <th>5</th>\n",
       "      <th>6</th>\n",
       "      <th>7</th>\n",
       "      <th>hard_news_ratio</th>\n",
       "      <th>D7R</th>\n",
       "      <th>diff_secs</th>\n",
       "      <th>install_dt</th>\n",
       "      <th>active_MAU</th>\n",
       "      <th>total_sent_count</th>\n",
       "    </tr>\n",
       "  </thead>\n",
       "  <tbody>\n",
       "    <tr>\n",
       "      <td>0</td>\n",
       "      <td>104628565</td>\n",
       "      <td>9.0</td>\n",
       "      <td>10.0</td>\n",
       "      <td>7.0</td>\n",
       "      <td>10.0</td>\n",
       "      <td>4.0</td>\n",
       "      <td>6.0</td>\n",
       "      <td>8.0</td>\n",
       "      <td>10.0</td>\n",
       "      <td>0.824742</td>\n",
       "      <td>0</td>\n",
       "      <td>7291.0</td>\n",
       "      <td>2019-10-01</td>\n",
       "      <td>0</td>\n",
       "      <td>54.0</td>\n",
       "    </tr>\n",
       "    <tr>\n",
       "      <td>1</td>\n",
       "      <td>104628655</td>\n",
       "      <td>9.0</td>\n",
       "      <td>10.0</td>\n",
       "      <td>7.0</td>\n",
       "      <td>10.0</td>\n",
       "      <td>4.0</td>\n",
       "      <td>6.0</td>\n",
       "      <td>8.0</td>\n",
       "      <td>10.0</td>\n",
       "      <td>0.775510</td>\n",
       "      <td>0</td>\n",
       "      <td>7235.0</td>\n",
       "      <td>2019-10-01</td>\n",
       "      <td>0</td>\n",
       "      <td>54.0</td>\n",
       "    </tr>\n",
       "    <tr>\n",
       "      <td>2</td>\n",
       "      <td>104628675</td>\n",
       "      <td>9.0</td>\n",
       "      <td>10.0</td>\n",
       "      <td>7.0</td>\n",
       "      <td>11.0</td>\n",
       "      <td>4.0</td>\n",
       "      <td>6.0</td>\n",
       "      <td>8.0</td>\n",
       "      <td>10.0</td>\n",
       "      <td>0.806818</td>\n",
       "      <td>0</td>\n",
       "      <td>10731.0</td>\n",
       "      <td>2019-10-01</td>\n",
       "      <td>0</td>\n",
       "      <td>55.0</td>\n",
       "    </tr>\n",
       "    <tr>\n",
       "      <td>3</td>\n",
       "      <td>104628725</td>\n",
       "      <td>9.0</td>\n",
       "      <td>10.0</td>\n",
       "      <td>7.0</td>\n",
       "      <td>11.0</td>\n",
       "      <td>4.0</td>\n",
       "      <td>6.0</td>\n",
       "      <td>8.0</td>\n",
       "      <td>10.0</td>\n",
       "      <td>0.806122</td>\n",
       "      <td>0</td>\n",
       "      <td>10921.0</td>\n",
       "      <td>2019-10-01</td>\n",
       "      <td>0</td>\n",
       "      <td>55.0</td>\n",
       "    </tr>\n",
       "    <tr>\n",
       "      <td>4</td>\n",
       "      <td>104628795</td>\n",
       "      <td>2.0</td>\n",
       "      <td>0.0</td>\n",
       "      <td>0.0</td>\n",
       "      <td>0.0</td>\n",
       "      <td>0.0</td>\n",
       "      <td>0.0</td>\n",
       "      <td>0.0</td>\n",
       "      <td>10.0</td>\n",
       "      <td>0.583333</td>\n",
       "      <td>1</td>\n",
       "      <td>10728.0</td>\n",
       "      <td>2019-10-01</td>\n",
       "      <td>1</td>\n",
       "      <td>2.0</td>\n",
       "    </tr>\n",
       "  </tbody>\n",
       "</table>\n",
       "</div>"
      ],
      "text/plain": [
       "     user_id    0     1    2     3    4    5    6     7  hard_news_ratio  D7R  \\\n",
       "0  104628565  9.0  10.0  7.0  10.0  4.0  6.0  8.0  10.0         0.824742    0   \n",
       "1  104628655  9.0  10.0  7.0  10.0  4.0  6.0  8.0  10.0         0.775510    0   \n",
       "2  104628675  9.0  10.0  7.0  11.0  4.0  6.0  8.0  10.0         0.806818    0   \n",
       "3  104628725  9.0  10.0  7.0  11.0  4.0  6.0  8.0  10.0         0.806122    0   \n",
       "4  104628795  2.0   0.0  0.0   0.0  0.0  0.0  0.0  10.0         0.583333    1   \n",
       "\n",
       "   diff_secs  install_dt  active_MAU  total_sent_count  \n",
       "0     7291.0  2019-10-01           0              54.0  \n",
       "1     7235.0  2019-10-01           0              54.0  \n",
       "2    10731.0  2019-10-01           0              55.0  \n",
       "3    10921.0  2019-10-01           0              55.0  \n",
       "4    10728.0  2019-10-01           1               2.0  "
      ]
     },
     "execution_count": 68,
     "metadata": {},
     "output_type": "execute_result"
    }
   ],
   "source": [
    "df.head()"
   ]
  },
  {
   "cell_type": "code",
   "execution_count": 42,
   "metadata": {},
   "outputs": [],
   "source": [
    "X = df[[0, 1, 2, 3, 4, 5, 6, 'hard_news_ratio', 'diff_secs']]"
   ]
  },
  {
   "cell_type": "code",
   "execution_count": 43,
   "metadata": {},
   "outputs": [],
   "source": [
    "y = df.D7R"
   ]
  },
  {
   "cell_type": "code",
   "execution_count": 45,
   "metadata": {},
   "outputs": [
    {
     "data": {
      "text/plain": [
       "[(0.6801449202727814, 0.2),\n",
       " (0.6728707828991118, 0.3),\n",
       " (0.671448648539064, 0.4),\n",
       " (0.6630743316734601, 0.5),\n",
       " (0.6638793711550083, 0.6),\n",
       " (0.6680934661466497, 0.7),\n",
       " (0.6623364674365535, 0.8),\n",
       " (0.6643492670331141, 0.9)]"
      ]
     },
     "execution_count": 45,
     "metadata": {},
     "output_type": "execute_result"
    }
   ],
   "source": [
    "from sklearn.ensemble import RandomForestClassifier\n",
    "rf = RandomForestClassifier()\n",
    "feature_size = [0.2, .3, .4, .5, .6, .7, .8, .9]\n",
    "cross_val_scores = []\n",
    "for size in feature_size:\n",
    "    rf.set_params(max_features = size)\n",
    "    rf.set_params(n_estimators=40)\n",
    "    rf.set_params(random_state=2019)\n",
    "    scores = cross_val_score(estimator = rf, X=X, y=y, cv=10)\n",
    "    cross_val_scores.append((np.mean(scores), size))\n",
    "cross_val_scores"
   ]
  },
  {
   "cell_type": "code",
   "execution_count": 48,
   "metadata": {},
   "outputs": [
    {
     "data": {
      "text/plain": [
       "RandomForestClassifier(bootstrap=True, class_weight=None, criterion='gini',\n",
       "                       max_depth=None, max_features=0.2, max_leaf_nodes=None,\n",
       "                       min_impurity_decrease=0.0, min_impurity_split=None,\n",
       "                       min_samples_leaf=1, min_samples_split=2,\n",
       "                       min_weight_fraction_leaf=0.0, n_estimators=40,\n",
       "                       n_jobs=None, oob_score=False, random_state=2019,\n",
       "                       verbose=0, warm_start=False)"
      ]
     },
     "execution_count": 48,
     "metadata": {},
     "output_type": "execute_result"
    }
   ],
   "source": [
    "rf.set_params(max_features = 0.2)\n",
    "rf.fit(X, y)"
   ]
  },
  {
   "cell_type": "code",
   "execution_count": 49,
   "metadata": {},
   "outputs": [
    {
     "data": {
      "text/html": [
       "<div>\n",
       "<style scoped>\n",
       "    .dataframe tbody tr th:only-of-type {\n",
       "        vertical-align: middle;\n",
       "    }\n",
       "\n",
       "    .dataframe tbody tr th {\n",
       "        vertical-align: top;\n",
       "    }\n",
       "\n",
       "    .dataframe thead th {\n",
       "        text-align: right;\n",
       "    }\n",
       "</style>\n",
       "<table border=\"1\" class=\"dataframe\">\n",
       "  <thead>\n",
       "    <tr style=\"text-align: right;\">\n",
       "      <th></th>\n",
       "      <th>variable</th>\n",
       "      <th>Weight</th>\n",
       "    </tr>\n",
       "  </thead>\n",
       "  <tbody>\n",
       "    <tr>\n",
       "      <td>7</td>\n",
       "      <td>hard_news_ratio</td>\n",
       "      <td>0.411867</td>\n",
       "    </tr>\n",
       "    <tr>\n",
       "      <td>8</td>\n",
       "      <td>diff_secs</td>\n",
       "      <td>0.398905</td>\n",
       "    </tr>\n",
       "    <tr>\n",
       "      <td>0</td>\n",
       "      <td>0</td>\n",
       "      <td>0.067826</td>\n",
       "    </tr>\n",
       "    <tr>\n",
       "      <td>6</td>\n",
       "      <td>6</td>\n",
       "      <td>0.027963</td>\n",
       "    </tr>\n",
       "    <tr>\n",
       "      <td>5</td>\n",
       "      <td>5</td>\n",
       "      <td>0.024240</td>\n",
       "    </tr>\n",
       "    <tr>\n",
       "      <td>4</td>\n",
       "      <td>4</td>\n",
       "      <td>0.019876</td>\n",
       "    </tr>\n",
       "    <tr>\n",
       "      <td>1</td>\n",
       "      <td>1</td>\n",
       "      <td>0.016719</td>\n",
       "    </tr>\n",
       "    <tr>\n",
       "      <td>3</td>\n",
       "      <td>3</td>\n",
       "      <td>0.016671</td>\n",
       "    </tr>\n",
       "    <tr>\n",
       "      <td>2</td>\n",
       "      <td>2</td>\n",
       "      <td>0.015934</td>\n",
       "    </tr>\n",
       "  </tbody>\n",
       "</table>\n",
       "</div>"
      ],
      "text/plain": [
       "          variable    Weight\n",
       "7  hard_news_ratio  0.411867\n",
       "8        diff_secs  0.398905\n",
       "0                0  0.067826\n",
       "6                6  0.027963\n",
       "5                5  0.024240\n",
       "4                4  0.019876\n",
       "1                1  0.016719\n",
       "3                3  0.016671\n",
       "2                2  0.015934"
      ]
     },
     "execution_count": 49,
     "metadata": {},
     "output_type": "execute_result"
    }
   ],
   "source": [
    "importances = pd.DataFrame({\n",
    "    'variable': X.columns,\n",
    "    'Weight': rf.feature_importances_\n",
    "})\n",
    "importances.sort_values(by='Weight',ascending=False)"
   ]
  },
  {
   "cell_type": "code",
   "execution_count": 50,
   "metadata": {},
   "outputs": [
    {
     "data": {
      "text/plain": [
       "array([0.4942976 , 0.36661299, 0.22222222, 0.13097155, 0.13877332,\n",
       "       0.13568649, 0.12575493, 0.44946987, 0.5725406 , 0.50556972])"
      ]
     },
     "execution_count": 50,
     "metadata": {},
     "output_type": "execute_result"
    }
   ],
   "source": [
    "from sklearn.ensemble import RandomForestClassifier\n",
    "rf = RandomForestClassifier()\n",
    "rf.set_params(max_features = 0.2)\n",
    "rf.set_params(n_estimators=40)\n",
    "scores = cross_val_score(estimator = rf, X=X, y=df.active_MAU, cv=10)\n",
    "scores"
   ]
  },
  {
   "cell_type": "code",
   "execution_count": 51,
   "metadata": {},
   "outputs": [
    {
     "data": {
      "text/plain": [
       "0.314189928842305"
      ]
     },
     "execution_count": 51,
     "metadata": {},
     "output_type": "execute_result"
    }
   ],
   "source": [
    "scores.mean()"
   ]
  },
  {
   "cell_type": "code",
   "execution_count": 69,
   "metadata": {},
   "outputs": [
    {
     "data": {
      "text/plain": [
       "RandomForestClassifier(bootstrap=True, class_weight=None, criterion='gini',\n",
       "                       max_depth=None, max_features=0.2, max_leaf_nodes=None,\n",
       "                       min_impurity_decrease=0.0, min_impurity_split=None,\n",
       "                       min_samples_leaf=1, min_samples_split=2,\n",
       "                       min_weight_fraction_leaf=0.0, n_estimators=40,\n",
       "                       n_jobs=None, oob_score=False, random_state=None,\n",
       "                       verbose=0, warm_start=False)"
      ]
     },
     "execution_count": 69,
     "metadata": {},
     "output_type": "execute_result"
    }
   ],
   "source": [
    "rf.set_params(max_features = 0.2)\n",
    "rf.fit(X, df.active_MAU)"
   ]
  },
  {
   "cell_type": "code",
   "execution_count": 70,
   "metadata": {},
   "outputs": [
    {
     "data": {
      "text/html": [
       "<div>\n",
       "<style scoped>\n",
       "    .dataframe tbody tr th:only-of-type {\n",
       "        vertical-align: middle;\n",
       "    }\n",
       "\n",
       "    .dataframe tbody tr th {\n",
       "        vertical-align: top;\n",
       "    }\n",
       "\n",
       "    .dataframe thead th {\n",
       "        text-align: right;\n",
       "    }\n",
       "</style>\n",
       "<table border=\"1\" class=\"dataframe\">\n",
       "  <thead>\n",
       "    <tr style=\"text-align: right;\">\n",
       "      <th></th>\n",
       "      <th>variable</th>\n",
       "      <th>Weight</th>\n",
       "    </tr>\n",
       "  </thead>\n",
       "  <tbody>\n",
       "    <tr>\n",
       "      <td>8</td>\n",
       "      <td>diff_secs</td>\n",
       "      <td>0.403199</td>\n",
       "    </tr>\n",
       "    <tr>\n",
       "      <td>7</td>\n",
       "      <td>hard_news_ratio</td>\n",
       "      <td>0.330729</td>\n",
       "    </tr>\n",
       "    <tr>\n",
       "      <td>0</td>\n",
       "      <td>0</td>\n",
       "      <td>0.055909</td>\n",
       "    </tr>\n",
       "    <tr>\n",
       "      <td>5</td>\n",
       "      <td>5</td>\n",
       "      <td>0.043711</td>\n",
       "    </tr>\n",
       "    <tr>\n",
       "      <td>6</td>\n",
       "      <td>6</td>\n",
       "      <td>0.042137</td>\n",
       "    </tr>\n",
       "    <tr>\n",
       "      <td>1</td>\n",
       "      <td>1</td>\n",
       "      <td>0.033536</td>\n",
       "    </tr>\n",
       "    <tr>\n",
       "      <td>4</td>\n",
       "      <td>4</td>\n",
       "      <td>0.030840</td>\n",
       "    </tr>\n",
       "    <tr>\n",
       "      <td>3</td>\n",
       "      <td>3</td>\n",
       "      <td>0.030244</td>\n",
       "    </tr>\n",
       "    <tr>\n",
       "      <td>2</td>\n",
       "      <td>2</td>\n",
       "      <td>0.029694</td>\n",
       "    </tr>\n",
       "  </tbody>\n",
       "</table>\n",
       "</div>"
      ],
      "text/plain": [
       "          variable    Weight\n",
       "8        diff_secs  0.403199\n",
       "7  hard_news_ratio  0.330729\n",
       "0                0  0.055909\n",
       "5                5  0.043711\n",
       "6                6  0.042137\n",
       "1                1  0.033536\n",
       "4                4  0.030840\n",
       "3                3  0.030244\n",
       "2                2  0.029694"
      ]
     },
     "execution_count": 70,
     "metadata": {},
     "output_type": "execute_result"
    }
   ],
   "source": [
    "importances = pd.DataFrame({\n",
    "    'variable': X.columns,\n",
    "    'Weight': rf.feature_importances_\n",
    "})\n",
    "importances.sort_values(by='Weight',ascending=False)"
   ]
  },
  {
   "cell_type": "code",
   "execution_count": 71,
   "metadata": {},
   "outputs": [],
   "source": [
    "X = df[[0, 1, 2, 3, 4, 5, 6, 'hard_news_ratio', 'diff_secs', 'total_sent_count']]"
   ]
  },
  {
   "cell_type": "code",
   "execution_count": 72,
   "metadata": {},
   "outputs": [
    {
     "data": {
      "text/plain": [
       "array([0.50476318, 0.37010199, 0.22678476, 0.13285024, 0.14548383,\n",
       "       0.13273386, 0.12481546, 0.39739632, 0.61495101, 0.4525567 ])"
      ]
     },
     "execution_count": 72,
     "metadata": {},
     "output_type": "execute_result"
    }
   ],
   "source": [
    "from sklearn.ensemble import RandomForestClassifier\n",
    "rf = RandomForestClassifier()\n",
    "rf.set_params(max_features = 0.2)\n",
    "rf.set_params(n_estimators=40)\n",
    "scores = cross_val_score(estimator = rf, X=X, y=df.active_MAU, cv=10)\n",
    "scores"
   ]
  },
  {
   "cell_type": "code",
   "execution_count": 73,
   "metadata": {},
   "outputs": [
    {
     "data": {
      "text/plain": [
       "0.31024373556101753"
      ]
     },
     "execution_count": 73,
     "metadata": {},
     "output_type": "execute_result"
    }
   ],
   "source": [
    "scores.mean()"
   ]
  },
  {
   "cell_type": "code",
   "execution_count": 75,
   "metadata": {},
   "outputs": [
    {
     "data": {
      "text/plain": [
       "RandomForestClassifier(bootstrap=True, class_weight=None, criterion='gini',\n",
       "                       max_depth=None, max_features=0.2, max_leaf_nodes=None,\n",
       "                       min_impurity_decrease=0.0, min_impurity_split=None,\n",
       "                       min_samples_leaf=1, min_samples_split=2,\n",
       "                       min_weight_fraction_leaf=0.0, n_estimators=40,\n",
       "                       n_jobs=None, oob_score=False, random_state=None,\n",
       "                       verbose=0, warm_start=False)"
      ]
     },
     "execution_count": 75,
     "metadata": {},
     "output_type": "execute_result"
    }
   ],
   "source": [
    "rf.set_params(max_features = 0.2)\n",
    "rf.fit(X, df.active_MAU)"
   ]
  },
  {
   "cell_type": "code",
   "execution_count": 76,
   "metadata": {},
   "outputs": [
    {
     "data": {
      "text/html": [
       "<div>\n",
       "<style scoped>\n",
       "    .dataframe tbody tr th:only-of-type {\n",
       "        vertical-align: middle;\n",
       "    }\n",
       "\n",
       "    .dataframe tbody tr th {\n",
       "        vertical-align: top;\n",
       "    }\n",
       "\n",
       "    .dataframe thead th {\n",
       "        text-align: right;\n",
       "    }\n",
       "</style>\n",
       "<table border=\"1\" class=\"dataframe\">\n",
       "  <thead>\n",
       "    <tr style=\"text-align: right;\">\n",
       "      <th></th>\n",
       "      <th>variable</th>\n",
       "      <th>Weight</th>\n",
       "    </tr>\n",
       "  </thead>\n",
       "  <tbody>\n",
       "    <tr>\n",
       "      <td>8</td>\n",
       "      <td>diff_secs</td>\n",
       "      <td>0.400574</td>\n",
       "    </tr>\n",
       "    <tr>\n",
       "      <td>7</td>\n",
       "      <td>hard_news_ratio</td>\n",
       "      <td>0.321231</td>\n",
       "    </tr>\n",
       "    <tr>\n",
       "      <td>9</td>\n",
       "      <td>total_sent_count</td>\n",
       "      <td>0.057584</td>\n",
       "    </tr>\n",
       "    <tr>\n",
       "      <td>6</td>\n",
       "      <td>6</td>\n",
       "      <td>0.040811</td>\n",
       "    </tr>\n",
       "    <tr>\n",
       "      <td>5</td>\n",
       "      <td>5</td>\n",
       "      <td>0.035853</td>\n",
       "    </tr>\n",
       "    <tr>\n",
       "      <td>2</td>\n",
       "      <td>2</td>\n",
       "      <td>0.032507</td>\n",
       "    </tr>\n",
       "    <tr>\n",
       "      <td>0</td>\n",
       "      <td>0</td>\n",
       "      <td>0.031324</td>\n",
       "    </tr>\n",
       "    <tr>\n",
       "      <td>1</td>\n",
       "      <td>1</td>\n",
       "      <td>0.027474</td>\n",
       "    </tr>\n",
       "    <tr>\n",
       "      <td>4</td>\n",
       "      <td>4</td>\n",
       "      <td>0.027352</td>\n",
       "    </tr>\n",
       "    <tr>\n",
       "      <td>3</td>\n",
       "      <td>3</td>\n",
       "      <td>0.025289</td>\n",
       "    </tr>\n",
       "  </tbody>\n",
       "</table>\n",
       "</div>"
      ],
      "text/plain": [
       "           variable    Weight\n",
       "8         diff_secs  0.400574\n",
       "7   hard_news_ratio  0.321231\n",
       "9  total_sent_count  0.057584\n",
       "6                 6  0.040811\n",
       "5                 5  0.035853\n",
       "2                 2  0.032507\n",
       "0                 0  0.031324\n",
       "1                 1  0.027474\n",
       "4                 4  0.027352\n",
       "3                 3  0.025289"
      ]
     },
     "execution_count": 76,
     "metadata": {},
     "output_type": "execute_result"
    }
   ],
   "source": [
    "importances = pd.DataFrame({\n",
    "    'variable': X.columns,\n",
    "    'Weight': rf.feature_importances_\n",
    "})\n",
    "importances.sort_values(by='Weight',ascending=False)"
   ]
  },
  {
   "cell_type": "code",
   "execution_count": 93,
   "metadata": {},
   "outputs": [],
   "source": [
    "from sklearn.linear_model import LogisticRegression\n",
    "logreg = LogisticRegression(solver='liblinear')"
   ]
  },
  {
   "cell_type": "code",
   "execution_count": 94,
   "metadata": {},
   "outputs": [],
   "source": [
    "scores = cross_val_score(estimator = logreg, X=X, y=df.D7R, cv=10)"
   ]
  },
  {
   "cell_type": "code",
   "execution_count": 95,
   "metadata": {
    "scrolled": false
   },
   "outputs": [
    {
     "data": {
      "text/plain": [
       "array([0.81535158, 0.81535158, 0.81535158, 0.81521739, 0.81521739,\n",
       "       0.81535158, 0.81546101, 0.8153268 , 0.81546101, 0.81543624])"
      ]
     },
     "execution_count": 95,
     "metadata": {},
     "output_type": "execute_result"
    }
   ],
   "source": [
    "scores"
   ]
  },
  {
   "cell_type": "markdown",
   "metadata": {},
   "source": [
    "### Trying logistic regression"
   ]
  },
  {
   "cell_type": "code",
   "execution_count": 132,
   "metadata": {},
   "outputs": [],
   "source": [
    "from sklearn.preprocessing import StandardScaler"
   ]
  },
  {
   "cell_type": "code",
   "execution_count": 126,
   "metadata": {},
   "outputs": [],
   "source": [
    "import statsmodels.api as sm"
   ]
  },
  {
   "cell_type": "code",
   "execution_count": 133,
   "metadata": {},
   "outputs": [],
   "source": [
    "X = sc.fit_transform(X)"
   ]
  },
  {
   "cell_type": "code",
   "execution_count": 142,
   "metadata": {},
   "outputs": [
    {
     "data": {
      "text/plain": [
       "array([[ 1.92758428,  1.20945861,  0.17465072, ...,  1.18247934,\n",
       "        -0.58688155,  0.94489204],\n",
       "       [ 1.92758428,  1.20945861,  0.17465072, ...,  0.64399486,\n",
       "        -0.5931094 ,  0.94489204],\n",
       "       [ 1.92758428,  1.20945861,  0.17465072, ...,  0.98643145,\n",
       "        -0.20431337,  1.02369834],\n",
       "       ...,\n",
       "       [-1.26266629,  0.04420806, -0.9182057 , ..., -0.3074258 ,\n",
       "        -0.5816546 , -0.2372026 ],\n",
       "       [-1.26266629,  0.04420806, -0.9182057 , ..., -0.23752678,\n",
       "        -0.59588969, -0.2372026 ],\n",
       "       [-1.26266629, -0.3442088 , -0.9182057 , ..., -0.54650074,\n",
       "         0.19805049, -1.41929724]])"
      ]
     },
     "execution_count": 142,
     "metadata": {},
     "output_type": "execute_result"
    }
   ],
   "source": [
    "X"
   ]
  },
  {
   "cell_type": "code",
   "execution_count": 143,
   "metadata": {},
   "outputs": [],
   "source": [
    "X = pd.DataFrame(X)"
   ]
  },
  {
   "cell_type": "code",
   "execution_count": 144,
   "metadata": {
    "scrolled": true
   },
   "outputs": [],
   "source": [
    "X.columns = df[[0, 1, 2, 3, 4, 5, 6, 'hard_news_ratio', 'diff_secs', 'total_sent_count']].columns"
   ]
  },
  {
   "cell_type": "code",
   "execution_count": 156,
   "metadata": {},
   "outputs": [],
   "source": [
    "logit_model = sm.Logit(df.active_MAU,X)"
   ]
  },
  {
   "cell_type": "code",
   "execution_count": 157,
   "metadata": {},
   "outputs": [
    {
     "name": "stdout",
     "output_type": "stream",
     "text": [
      "Warning: Maximum number of iterations has been exceeded.\n",
      "         Current function value: 0.656764\n",
      "         Iterations: 35\n"
     ]
    },
    {
     "name": "stderr",
     "output_type": "stream",
     "text": [
      "/opt/conda/lib/python3.7/site-packages/statsmodels/base/model.py:512: ConvergenceWarning: Maximum Likelihood optimization failed to converge. Check mle_retvals\n",
      "  \"Check mle_retvals\", ConvergenceWarning)\n"
     ]
    }
   ],
   "source": [
    "result = logit_model.fit()"
   ]
  },
  {
   "cell_type": "code",
   "execution_count": 158,
   "metadata": {
    "scrolled": false
   },
   "outputs": [
    {
     "name": "stdout",
     "output_type": "stream",
     "text": [
      "                           Logit Regression Results                           \n",
      "==============================================================================\n",
      "Dep. Variable:             active_MAU   No. Observations:                74515\n",
      "Model:                          Logit   Df Residuals:                    74506\n",
      "Method:                           MLE   Df Model:                            8\n",
      "Date:                Mon, 06 Jan 2020   Pseudo R-squ.:                -0.02300\n",
      "Time:                        18:41:29   Log-Likelihood:                -48939.\n",
      "converged:                      False   LL-Null:                       -47839.\n",
      "Covariance Type:            nonrobust   LLR p-value:                     1.000\n",
      "====================================================================================\n",
      "                       coef    std err          z      P>|z|      [0.025      0.975]\n",
      "------------------------------------------------------------------------------------\n",
      "0                   -0.0144   1.55e+05  -9.33e-08      1.000   -3.03e+05    3.03e+05\n",
      "1                   -0.0282   1.41e+05     -2e-07      1.000   -2.77e+05    2.77e+05\n",
      "2                    0.0034    1.5e+05   2.24e-08      1.000   -2.95e+05    2.95e+05\n",
      "3                    0.1196   1.57e+05   7.63e-07      1.000   -3.07e+05    3.07e+05\n",
      "4                    0.1262   1.56e+05   8.06e-07      1.000   -3.07e+05    3.07e+05\n",
      "5                    0.2717   1.58e+05   1.72e-06      1.000    -3.1e+05     3.1e+05\n",
      "6                    0.1721   1.65e+05   1.04e-06      1.000   -3.23e+05    3.23e+05\n",
      "hard_news_ratio     -0.2203      0.009    -23.353      0.000      -0.239      -0.202\n",
      "diff_secs            0.0383      0.008      4.976      0.000       0.023       0.053\n",
      "total_sent_count     0.1498   6.95e+05   2.15e-07      1.000   -1.36e+06    1.36e+06\n",
      "====================================================================================\n"
     ]
    }
   ],
   "source": [
    "print(result.summary())"
   ]
  },
  {
   "cell_type": "code",
   "execution_count": 165,
   "metadata": {},
   "outputs": [
    {
     "name": "stdout",
     "output_type": "stream",
     "text": [
      "Warning: Maximum number of iterations has been exceeded.\n",
      "         Current function value: 0.680790\n",
      "         Iterations: 35\n"
     ]
    },
    {
     "name": "stderr",
     "output_type": "stream",
     "text": [
      "/opt/conda/lib/python3.7/site-packages/statsmodels/base/model.py:512: ConvergenceWarning: Maximum Likelihood optimization failed to converge. Check mle_retvals\n",
      "  \"Check mle_retvals\", ConvergenceWarning)\n"
     ]
    },
    {
     "name": "stdout",
     "output_type": "stream",
     "text": [
      "                           Logit Regression Results                           \n",
      "==============================================================================\n",
      "Dep. Variable:                    D7R   No. Observations:                74515\n",
      "Model:                          Logit   Df Residuals:                    74506\n",
      "Method:                           MLE   Df Model:                            8\n",
      "Date:                Mon, 06 Jan 2020   Pseudo R-squ.:                 -0.4233\n",
      "Time:                        18:42:23   Log-Likelihood:                -50729.\n",
      "converged:                      False   LL-Null:                       -35641.\n",
      "Covariance Type:            nonrobust   LLR p-value:                     1.000\n",
      "====================================================================================\n",
      "                       coef    std err          z      P>|z|      [0.025      0.975]\n",
      "------------------------------------------------------------------------------------\n",
      "0                    0.0215        nan        nan        nan         nan         nan\n",
      "1                    0.0392        nan        nan        nan         nan         nan\n",
      "2                    0.0551        nan        nan        nan         nan         nan\n",
      "3                    0.0148        nan        nan        nan         nan         nan\n",
      "4                    0.0491        nan        nan        nan         nan         nan\n",
      "5                    0.1020        nan        nan        nan         nan         nan\n",
      "6                    0.1129        nan        nan        nan         nan         nan\n",
      "hard_news_ratio     -0.2748      0.009    -29.111      0.000      -0.293      -0.256\n",
      "diff_secs           -0.0112      0.008     -1.496      0.135      -0.026       0.003\n",
      "total_sent_count     0.0890        nan        nan        nan         nan         nan\n",
      "====================================================================================\n"
     ]
    },
    {
     "name": "stderr",
     "output_type": "stream",
     "text": [
      "/opt/conda/lib/python3.7/site-packages/statsmodels/base/model.py:1286: RuntimeWarning: invalid value encountered in sqrt\n",
      "  bse_ = np.sqrt(np.diag(self.cov_params()))\n",
      "/opt/conda/lib/python3.7/site-packages/scipy/stats/_distn_infrastructure.py:901: RuntimeWarning: invalid value encountered in greater\n",
      "  return (a < x) & (x < b)\n",
      "/opt/conda/lib/python3.7/site-packages/scipy/stats/_distn_infrastructure.py:901: RuntimeWarning: invalid value encountered in less\n",
      "  return (a < x) & (x < b)\n",
      "/opt/conda/lib/python3.7/site-packages/scipy/stats/_distn_infrastructure.py:1892: RuntimeWarning: invalid value encountered in less_equal\n",
      "  cond2 = cond0 & (x <= _a)\n"
     ]
    }
   ],
   "source": [
    "logit_model = sm.Logit(df.D7R,X)\n",
    "result = logit_model.fit()\n",
    "print(result.summary())"
   ]
  },
  {
   "cell_type": "code",
   "execution_count": 159,
   "metadata": {
    "scrolled": true
   },
   "outputs": [
    {
     "data": {
      "text/plain": [
       "LogisticRegression(C=1.0, class_weight=None, dual=False, fit_intercept=True,\n",
       "                   intercept_scaling=1, l1_ratio=None, max_iter=100,\n",
       "                   multi_class='warn', n_jobs=None, penalty='l2',\n",
       "                   random_state=None, solver='liblinear', tol=0.0001, verbose=0,\n",
       "                   warm_start=False)"
      ]
     },
     "execution_count": 159,
     "metadata": {},
     "output_type": "execute_result"
    }
   ],
   "source": [
    "logreg.fit(X, df.active_MAU)"
   ]
  },
  {
   "cell_type": "code",
   "execution_count": 160,
   "metadata": {},
   "outputs": [
    {
     "data": {
      "text/plain": [
       "Index([0, 1, 2, 3, 4, 5, 6, 'hard_news_ratio', 'diff_secs',\n",
       "       'total_sent_count'],\n",
       "      dtype='object')"
      ]
     },
     "execution_count": 160,
     "metadata": {},
     "output_type": "execute_result"
    }
   ],
   "source": [
    "X.columns"
   ]
  },
  {
   "cell_type": "code",
   "execution_count": 161,
   "metadata": {
    "scrolled": true
   },
   "outputs": [
    {
     "data": {
      "text/plain": [
       "array([-0.03152868, -0.02849167,  0.04477343,  0.17517926,  0.19779484,\n",
       "        0.36094793,  0.25093927, -0.32795447,  0.04356369,  0.22259784])"
      ]
     },
     "execution_count": 161,
     "metadata": {},
     "output_type": "execute_result"
    }
   ],
   "source": [
    "logreg.coef_[0]"
   ]
  },
  {
   "cell_type": "code",
   "execution_count": 162,
   "metadata": {},
   "outputs": [
    {
     "data": {
      "text/html": [
       "<div>\n",
       "<style scoped>\n",
       "    .dataframe tbody tr th:only-of-type {\n",
       "        vertical-align: middle;\n",
       "    }\n",
       "\n",
       "    .dataframe tbody tr th {\n",
       "        vertical-align: top;\n",
       "    }\n",
       "\n",
       "    .dataframe thead th {\n",
       "        text-align: right;\n",
       "    }\n",
       "</style>\n",
       "<table border=\"1\" class=\"dataframe\">\n",
       "  <thead>\n",
       "    <tr style=\"text-align: right;\">\n",
       "      <th></th>\n",
       "      <th>variable</th>\n",
       "      <th>Weight</th>\n",
       "    </tr>\n",
       "  </thead>\n",
       "  <tbody>\n",
       "    <tr>\n",
       "      <td>5</td>\n",
       "      <td>5</td>\n",
       "      <td>0.360948</td>\n",
       "    </tr>\n",
       "    <tr>\n",
       "      <td>6</td>\n",
       "      <td>6</td>\n",
       "      <td>0.250939</td>\n",
       "    </tr>\n",
       "    <tr>\n",
       "      <td>9</td>\n",
       "      <td>total_sent_count</td>\n",
       "      <td>0.222598</td>\n",
       "    </tr>\n",
       "    <tr>\n",
       "      <td>4</td>\n",
       "      <td>4</td>\n",
       "      <td>0.197795</td>\n",
       "    </tr>\n",
       "    <tr>\n",
       "      <td>3</td>\n",
       "      <td>3</td>\n",
       "      <td>0.175179</td>\n",
       "    </tr>\n",
       "    <tr>\n",
       "      <td>2</td>\n",
       "      <td>2</td>\n",
       "      <td>0.044773</td>\n",
       "    </tr>\n",
       "    <tr>\n",
       "      <td>8</td>\n",
       "      <td>diff_secs</td>\n",
       "      <td>0.043564</td>\n",
       "    </tr>\n",
       "    <tr>\n",
       "      <td>1</td>\n",
       "      <td>1</td>\n",
       "      <td>-0.028492</td>\n",
       "    </tr>\n",
       "    <tr>\n",
       "      <td>0</td>\n",
       "      <td>0</td>\n",
       "      <td>-0.031529</td>\n",
       "    </tr>\n",
       "    <tr>\n",
       "      <td>7</td>\n",
       "      <td>hard_news_ratio</td>\n",
       "      <td>-0.327954</td>\n",
       "    </tr>\n",
       "  </tbody>\n",
       "</table>\n",
       "</div>"
      ],
      "text/plain": [
       "           variable    Weight\n",
       "5                 5  0.360948\n",
       "6                 6  0.250939\n",
       "9  total_sent_count  0.222598\n",
       "4                 4  0.197795\n",
       "3                 3  0.175179\n",
       "2                 2  0.044773\n",
       "8         diff_secs  0.043564\n",
       "1                 1 -0.028492\n",
       "0                 0 -0.031529\n",
       "7   hard_news_ratio -0.327954"
      ]
     },
     "execution_count": 162,
     "metadata": {},
     "output_type": "execute_result"
    }
   ],
   "source": [
    "importances = pd.DataFrame({\n",
    "    'variable': X.columns,\n",
    "    'Weight': logreg.coef_[0]\n",
    "})\n",
    "importances.sort_values(by='Weight',ascending=False)"
   ]
  },
  {
   "cell_type": "code",
   "execution_count": 163,
   "metadata": {},
   "outputs": [
    {
     "data": {
      "text/html": [
       "<div>\n",
       "<style scoped>\n",
       "    .dataframe tbody tr th:only-of-type {\n",
       "        vertical-align: middle;\n",
       "    }\n",
       "\n",
       "    .dataframe tbody tr th {\n",
       "        vertical-align: top;\n",
       "    }\n",
       "\n",
       "    .dataframe thead th {\n",
       "        text-align: right;\n",
       "    }\n",
       "</style>\n",
       "<table border=\"1\" class=\"dataframe\">\n",
       "  <thead>\n",
       "    <tr style=\"text-align: right;\">\n",
       "      <th></th>\n",
       "      <th>variable</th>\n",
       "      <th>Weight_absolute</th>\n",
       "    </tr>\n",
       "  </thead>\n",
       "  <tbody>\n",
       "    <tr>\n",
       "      <td>5</td>\n",
       "      <td>5</td>\n",
       "      <td>0.360948</td>\n",
       "    </tr>\n",
       "    <tr>\n",
       "      <td>7</td>\n",
       "      <td>hard_news_ratio</td>\n",
       "      <td>0.327954</td>\n",
       "    </tr>\n",
       "    <tr>\n",
       "      <td>6</td>\n",
       "      <td>6</td>\n",
       "      <td>0.250939</td>\n",
       "    </tr>\n",
       "    <tr>\n",
       "      <td>9</td>\n",
       "      <td>total_sent_count</td>\n",
       "      <td>0.222598</td>\n",
       "    </tr>\n",
       "    <tr>\n",
       "      <td>4</td>\n",
       "      <td>4</td>\n",
       "      <td>0.197795</td>\n",
       "    </tr>\n",
       "    <tr>\n",
       "      <td>3</td>\n",
       "      <td>3</td>\n",
       "      <td>0.175179</td>\n",
       "    </tr>\n",
       "    <tr>\n",
       "      <td>2</td>\n",
       "      <td>2</td>\n",
       "      <td>0.044773</td>\n",
       "    </tr>\n",
       "    <tr>\n",
       "      <td>8</td>\n",
       "      <td>diff_secs</td>\n",
       "      <td>0.043564</td>\n",
       "    </tr>\n",
       "    <tr>\n",
       "      <td>0</td>\n",
       "      <td>0</td>\n",
       "      <td>0.031529</td>\n",
       "    </tr>\n",
       "    <tr>\n",
       "      <td>1</td>\n",
       "      <td>1</td>\n",
       "      <td>0.028492</td>\n",
       "    </tr>\n",
       "  </tbody>\n",
       "</table>\n",
       "</div>"
      ],
      "text/plain": [
       "           variable  Weight_absolute\n",
       "5                 5         0.360948\n",
       "7   hard_news_ratio         0.327954\n",
       "6                 6         0.250939\n",
       "9  total_sent_count         0.222598\n",
       "4                 4         0.197795\n",
       "3                 3         0.175179\n",
       "2                 2         0.044773\n",
       "8         diff_secs         0.043564\n",
       "0                 0         0.031529\n",
       "1                 1         0.028492"
      ]
     },
     "execution_count": 163,
     "metadata": {},
     "output_type": "execute_result"
    }
   ],
   "source": [
    "importances = pd.DataFrame({\n",
    "    'variable': X.columns,\n",
    "    'Weight_absolute': importances.Weight.abs()\n",
    "})\n",
    "importances.sort_values(by='Weight_absolute',ascending=False)"
   ]
  },
  {
   "cell_type": "code",
   "execution_count": 169,
   "metadata": {},
   "outputs": [
    {
     "data": {
      "text/html": [
       "<div>\n",
       "<style scoped>\n",
       "    .dataframe tbody tr th:only-of-type {\n",
       "        vertical-align: middle;\n",
       "    }\n",
       "\n",
       "    .dataframe tbody tr th {\n",
       "        vertical-align: top;\n",
       "    }\n",
       "\n",
       "    .dataframe thead th {\n",
       "        text-align: right;\n",
       "    }\n",
       "</style>\n",
       "<table border=\"1\" class=\"dataframe\">\n",
       "  <thead>\n",
       "    <tr style=\"text-align: right;\">\n",
       "      <th></th>\n",
       "      <th>user_id</th>\n",
       "      <th>0</th>\n",
       "      <th>1</th>\n",
       "      <th>2</th>\n",
       "      <th>3</th>\n",
       "      <th>4</th>\n",
       "      <th>5</th>\n",
       "      <th>6</th>\n",
       "      <th>7</th>\n",
       "      <th>hard_news_ratio</th>\n",
       "      <th>D7R</th>\n",
       "      <th>diff_secs</th>\n",
       "      <th>install_dt</th>\n",
       "      <th>active_MAU</th>\n",
       "      <th>total_sent_count</th>\n",
       "    </tr>\n",
       "  </thead>\n",
       "  <tbody>\n",
       "    <tr>\n",
       "      <td>0</td>\n",
       "      <td>104628565</td>\n",
       "      <td>9.0</td>\n",
       "      <td>10.0</td>\n",
       "      <td>7.0</td>\n",
       "      <td>10.0</td>\n",
       "      <td>4.0</td>\n",
       "      <td>6.0</td>\n",
       "      <td>8.0</td>\n",
       "      <td>10.0</td>\n",
       "      <td>0.824742</td>\n",
       "      <td>0</td>\n",
       "      <td>7291.0</td>\n",
       "      <td>2019-10-01</td>\n",
       "      <td>0</td>\n",
       "      <td>54.0</td>\n",
       "    </tr>\n",
       "    <tr>\n",
       "      <td>1</td>\n",
       "      <td>104628655</td>\n",
       "      <td>9.0</td>\n",
       "      <td>10.0</td>\n",
       "      <td>7.0</td>\n",
       "      <td>10.0</td>\n",
       "      <td>4.0</td>\n",
       "      <td>6.0</td>\n",
       "      <td>8.0</td>\n",
       "      <td>10.0</td>\n",
       "      <td>0.775510</td>\n",
       "      <td>0</td>\n",
       "      <td>7235.0</td>\n",
       "      <td>2019-10-01</td>\n",
       "      <td>0</td>\n",
       "      <td>54.0</td>\n",
       "    </tr>\n",
       "    <tr>\n",
       "      <td>2</td>\n",
       "      <td>104628675</td>\n",
       "      <td>9.0</td>\n",
       "      <td>10.0</td>\n",
       "      <td>7.0</td>\n",
       "      <td>11.0</td>\n",
       "      <td>4.0</td>\n",
       "      <td>6.0</td>\n",
       "      <td>8.0</td>\n",
       "      <td>10.0</td>\n",
       "      <td>0.806818</td>\n",
       "      <td>0</td>\n",
       "      <td>10731.0</td>\n",
       "      <td>2019-10-01</td>\n",
       "      <td>0</td>\n",
       "      <td>55.0</td>\n",
       "    </tr>\n",
       "    <tr>\n",
       "      <td>3</td>\n",
       "      <td>104628725</td>\n",
       "      <td>9.0</td>\n",
       "      <td>10.0</td>\n",
       "      <td>7.0</td>\n",
       "      <td>11.0</td>\n",
       "      <td>4.0</td>\n",
       "      <td>6.0</td>\n",
       "      <td>8.0</td>\n",
       "      <td>10.0</td>\n",
       "      <td>0.806122</td>\n",
       "      <td>0</td>\n",
       "      <td>10921.0</td>\n",
       "      <td>2019-10-01</td>\n",
       "      <td>0</td>\n",
       "      <td>55.0</td>\n",
       "    </tr>\n",
       "    <tr>\n",
       "      <td>4</td>\n",
       "      <td>104628795</td>\n",
       "      <td>2.0</td>\n",
       "      <td>0.0</td>\n",
       "      <td>0.0</td>\n",
       "      <td>0.0</td>\n",
       "      <td>0.0</td>\n",
       "      <td>0.0</td>\n",
       "      <td>0.0</td>\n",
       "      <td>10.0</td>\n",
       "      <td>0.583333</td>\n",
       "      <td>1</td>\n",
       "      <td>10728.0</td>\n",
       "      <td>2019-10-01</td>\n",
       "      <td>1</td>\n",
       "      <td>2.0</td>\n",
       "    </tr>\n",
       "  </tbody>\n",
       "</table>\n",
       "</div>"
      ],
      "text/plain": [
       "     user_id    0     1    2     3    4    5    6     7  hard_news_ratio  D7R  \\\n",
       "0  104628565  9.0  10.0  7.0  10.0  4.0  6.0  8.0  10.0         0.824742    0   \n",
       "1  104628655  9.0  10.0  7.0  10.0  4.0  6.0  8.0  10.0         0.775510    0   \n",
       "2  104628675  9.0  10.0  7.0  11.0  4.0  6.0  8.0  10.0         0.806818    0   \n",
       "3  104628725  9.0  10.0  7.0  11.0  4.0  6.0  8.0  10.0         0.806122    0   \n",
       "4  104628795  2.0   0.0  0.0   0.0  0.0  0.0  0.0  10.0         0.583333    1   \n",
       "\n",
       "   diff_secs  install_dt  active_MAU  total_sent_count  \n",
       "0     7291.0  2019-10-01           0              54.0  \n",
       "1     7235.0  2019-10-01           0              54.0  \n",
       "2    10731.0  2019-10-01           0              55.0  \n",
       "3    10921.0  2019-10-01           0              55.0  \n",
       "4    10728.0  2019-10-01           1               2.0  "
      ]
     },
     "execution_count": 169,
     "metadata": {},
     "output_type": "execute_result"
    }
   ],
   "source": [
    "df.head()"
   ]
  },
  {
   "cell_type": "markdown",
   "metadata": {},
   "source": [
    "### Checking F1 score and AUC for logreg"
   ]
  },
  {
   "cell_type": "code",
   "execution_count": 180,
   "metadata": {},
   "outputs": [],
   "source": [
    "trainX, testX, trainy, testy = train_test_split(X, df.D7R, test_size=0.5, random_state=2)"
   ]
  },
  {
   "cell_type": "code",
   "execution_count": 181,
   "metadata": {
    "scrolled": false
   },
   "outputs": [
    {
     "data": {
      "text/plain": [
       "LogisticRegression(C=1.0, class_weight=None, dual=False, fit_intercept=True,\n",
       "                   intercept_scaling=1, l1_ratio=None, max_iter=100,\n",
       "                   multi_class='warn', n_jobs=None, penalty='l2',\n",
       "                   random_state=None, solver='liblinear', tol=0.0001, verbose=0,\n",
       "                   warm_start=False)"
      ]
     },
     "execution_count": 181,
     "metadata": {},
     "output_type": "execute_result"
    }
   ],
   "source": [
    "logreg.fit(trainX, trainy)"
   ]
  },
  {
   "cell_type": "code",
   "execution_count": 182,
   "metadata": {},
   "outputs": [],
   "source": [
    "from sklearn.model_selection import train_test_split\n",
    "from sklearn.metrics import precision_recall_curve\n",
    "from sklearn.metrics import f1_score\n",
    "from sklearn.metrics import auc"
   ]
  },
  {
   "cell_type": "code",
   "execution_count": 183,
   "metadata": {},
   "outputs": [],
   "source": [
    "lr_probs = logreg.predict_proba(testX)"
   ]
  },
  {
   "cell_type": "code",
   "execution_count": 184,
   "metadata": {},
   "outputs": [
    {
     "data": {
      "text/html": [
       "<div>\n",
       "<style scoped>\n",
       "    .dataframe tbody tr th:only-of-type {\n",
       "        vertical-align: middle;\n",
       "    }\n",
       "\n",
       "    .dataframe tbody tr th {\n",
       "        vertical-align: top;\n",
       "    }\n",
       "\n",
       "    .dataframe thead th {\n",
       "        text-align: right;\n",
       "    }\n",
       "</style>\n",
       "<table border=\"1\" class=\"dataframe\">\n",
       "  <thead>\n",
       "    <tr style=\"text-align: right;\">\n",
       "      <th></th>\n",
       "      <th>0</th>\n",
       "      <th>1</th>\n",
       "    </tr>\n",
       "  </thead>\n",
       "  <tbody>\n",
       "    <tr>\n",
       "      <td>0</td>\n",
       "      <td>0.894146</td>\n",
       "      <td>0.105854</td>\n",
       "    </tr>\n",
       "    <tr>\n",
       "      <td>1</td>\n",
       "      <td>0.758614</td>\n",
       "      <td>0.241386</td>\n",
       "    </tr>\n",
       "    <tr>\n",
       "      <td>2</td>\n",
       "      <td>0.568394</td>\n",
       "      <td>0.431606</td>\n",
       "    </tr>\n",
       "    <tr>\n",
       "      <td>3</td>\n",
       "      <td>0.871873</td>\n",
       "      <td>0.128127</td>\n",
       "    </tr>\n",
       "    <tr>\n",
       "      <td>4</td>\n",
       "      <td>0.840649</td>\n",
       "      <td>0.159351</td>\n",
       "    </tr>\n",
       "    <tr>\n",
       "      <td>...</td>\n",
       "      <td>...</td>\n",
       "      <td>...</td>\n",
       "    </tr>\n",
       "    <tr>\n",
       "      <td>37253</td>\n",
       "      <td>0.832338</td>\n",
       "      <td>0.167662</td>\n",
       "    </tr>\n",
       "    <tr>\n",
       "      <td>37254</td>\n",
       "      <td>0.745875</td>\n",
       "      <td>0.254125</td>\n",
       "    </tr>\n",
       "    <tr>\n",
       "      <td>37255</td>\n",
       "      <td>0.831506</td>\n",
       "      <td>0.168494</td>\n",
       "    </tr>\n",
       "    <tr>\n",
       "      <td>37256</td>\n",
       "      <td>0.800046</td>\n",
       "      <td>0.199954</td>\n",
       "    </tr>\n",
       "    <tr>\n",
       "      <td>37257</td>\n",
       "      <td>0.907258</td>\n",
       "      <td>0.092742</td>\n",
       "    </tr>\n",
       "  </tbody>\n",
       "</table>\n",
       "<p>37258 rows × 2 columns</p>\n",
       "</div>"
      ],
      "text/plain": [
       "              0         1\n",
       "0      0.894146  0.105854\n",
       "1      0.758614  0.241386\n",
       "2      0.568394  0.431606\n",
       "3      0.871873  0.128127\n",
       "4      0.840649  0.159351\n",
       "...         ...       ...\n",
       "37253  0.832338  0.167662\n",
       "37254  0.745875  0.254125\n",
       "37255  0.831506  0.168494\n",
       "37256  0.800046  0.199954\n",
       "37257  0.907258  0.092742\n",
       "\n",
       "[37258 rows x 2 columns]"
      ]
     },
     "execution_count": 184,
     "metadata": {},
     "output_type": "execute_result"
    }
   ],
   "source": [
    "pd.DataFrame(lr_probs)"
   ]
  },
  {
   "cell_type": "code",
   "execution_count": 185,
   "metadata": {},
   "outputs": [],
   "source": [
    "lr_probs = lr_probs[:, 1]"
   ]
  },
  {
   "cell_type": "code",
   "execution_count": 186,
   "metadata": {},
   "outputs": [],
   "source": [
    "yhat = logreg.predict(testX)"
   ]
  },
  {
   "cell_type": "code",
   "execution_count": 187,
   "metadata": {},
   "outputs": [],
   "source": [
    "lr_precision, lr_recall, _ = precision_recall_curve(testy, lr_probs)"
   ]
  },
  {
   "cell_type": "code",
   "execution_count": 188,
   "metadata": {},
   "outputs": [],
   "source": [
    "lr_f1, lr_auc = f1_score(testy, yhat), auc(lr_recall, lr_precision)"
   ]
  },
  {
   "cell_type": "code",
   "execution_count": 189,
   "metadata": {
    "scrolled": true
   },
   "outputs": [
    {
     "name": "stdout",
     "output_type": "stream",
     "text": [
      "Logistic: f1=0.004 auc=0.277\n"
     ]
    }
   ],
   "source": [
    "print('Logistic: f1=%.3f auc=%.3f' % (lr_f1, lr_auc))"
   ]
  },
  {
   "cell_type": "code",
   "execution_count": 190,
   "metadata": {},
   "outputs": [],
   "source": [
    "no_skill = len(testy[testy==1]) / len(testy)"
   ]
  },
  {
   "cell_type": "code",
   "execution_count": 199,
   "metadata": {
    "scrolled": true
   },
   "outputs": [
    {
     "data": {
      "image/png": "[encoded data removed]",
      "text/plain": [
       "<Figure size 432x288 with 1 Axes>"
      ]
     },
     "metadata": {
      "needs_background": "light"
     },
     "output_type": "display_data"
    }
   ],
   "source": [
    "plt.plot([0, 1], [no_skill, no_skill], linestyle='--', label='No Skill');\n",
    "plt.plot(lr_recall, lr_precision, marker='.', label='Logistic');\n",
    "plt.xlabel('Recall')\n",
    "plt.ylabel('Precision')\n",
    "# show the legend\n",
    "plt.legend()\n",
    "# show the plot\n",
    "plt.show()"
   ]
  },
  {
   "cell_type": "markdown",
   "metadata": {},
   "source": [
    "### Looks pretty bad"
   ]
  },
  {
   "cell_type": "code",
   "execution_count": 211,
   "metadata": {
    "scrolled": true
   },
   "outputs": [],
   "source": [
    "from sklearn.metrics import make_scorer, accuracy_score, precision_score, recall_score, f1_score\n",
    "scoring = make_scorer(f1_score)"
   ]
  },
  {
   "cell_type": "code",
   "execution_count": 205,
   "metadata": {},
   "outputs": [],
   "source": [
    "import sklearn.model_selection"
   ]
  },
  {
   "cell_type": "code",
   "execution_count": 222,
   "metadata": {
    "scrolled": true
   },
   "outputs": [
    {
     "name": "stderr",
     "output_type": "stream",
     "text": [
      "/opt/conda/lib/python3.7/site-packages/sklearn/metrics/classification.py:1437: UndefinedMetricWarning: F-score is ill-defined and being set to 0.0 due to no predicted samples.\n",
      "  'precision', 'predicted', average, warn_for)\n"
     ]
    }
   ],
   "source": [
    "scores = cross_val_score(estimator = logreg, X=X, y=df.D7R, scoring=scoring, cv=2)"
   ]
  },
  {
   "cell_type": "code",
   "execution_count": 223,
   "metadata": {},
   "outputs": [
    {
     "data": {
      "text/plain": [
       "array([0.27003041, 0.        ])"
      ]
     },
     "execution_count": 223,
     "metadata": {},
     "output_type": "execute_result"
    }
   ],
   "source": [
    "scores"
   ]
  },
  {
   "cell_type": "markdown",
   "metadata": {},
   "source": [
    "### I guess I dont have enough positive results to cross validate?"
   ]
  },
  {
   "cell_type": "markdown",
   "metadata": {
    "scrolled": true
   },
   "source": [
    "### 3rd model - actually try to predict with user actions - push opens, PVs, timespent, CTR, first 6 days etc?"
   ]
  },
  {
   "cell_type": "markdown",
   "metadata": {},
   "source": [
    "https://jupyter.smartnews.be/user/sn/notebooks/push-notification/2020-01-02-DEVON-PUSH-new_user_activation_project-PART-3.ipynb"
   ]
  },
  {
   "cell_type": "code",
   "execution_count": 224,
   "metadata": {},
   "outputs": [
    {
     "name": "stderr",
     "output_type": "stream",
     "text": [
      "UsageError: Cell magic `%%class` not found.\n"
     ]
    }
   ],
   "source": []
  },
  {
   "cell_type": "code",
   "execution_count": null,
   "metadata": {},
   "outputs": [],
   "source": []
  }
 ],
 "metadata": {
  "kernelspec": {
   "display_name": "Python 3",
   "language": "python",
   "name": "python3"
  },
  "language_info": {
   "codemirror_mode": {
    "name": "ipython",
    "version": 3
   },
   "file_extension": ".py",
   "mimetype": "text/x-python",
   "name": "python",
   "nbconvert_exporter": "python",
   "pygments_lexer": "ipython3",
   "version": "3.7.3"
  },
  "varInspector": {
   "cols": {
    "lenName": 16,
    "lenType": 16,
    "lenVar": 40
   },
   "kernels_config": {
    "python": {
     "delete_cmd_postfix": "",
     "delete_cmd_prefix": "del ",
     "library": "var_list.py",
     "varRefreshCmd": "print(var_dic_list())"
    },
    "r": {
     "delete_cmd_postfix": ") ",
     "delete_cmd_prefix": "rm(",
     "library": "var_list.r",
     "varRefreshCmd": "cat(var_dic_list()) "
    }
   },
   "types_to_exclude": [
    "module",
    "function",
    "builtin_function_or_method",
    "instance",
    "_Feature"
   ],
   "window_display": false
  }
 },
 "nbformat": 4,
 "nbformat_minor": 2
}
