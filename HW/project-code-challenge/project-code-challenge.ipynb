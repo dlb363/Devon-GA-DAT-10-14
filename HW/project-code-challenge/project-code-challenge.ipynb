{
 "cells": [
  {
   "cell_type": "markdown",
   "metadata": {},
   "source": [
    "<img src=\"http://imgur.com/1ZcRyrc.png\" style=\"float: left; margin: 20px; height: 55px\">\n",
    "\n",
    "# Project 1: Python Coding Exercises\n",
    "\n",
    "_Authors: Joseph Nelson (DC) _\n",
    "\n",
    "---"
   ]
  },
  {
   "cell_type": "markdown",
   "metadata": {},
   "source": [
    "The following code challenges are drawn from common exercises used in technical interviews.\n",
    "\n",
    "Please note that there may be several ways to approach each challenge. If you get stuck, try mapping out your approach in pseudocode first. Finally, while solutions to problems like these may be found online, remember that if you copy/paste code that you can't explain, you'll be missing out on the point of the project. The only way to truly learn a new skill is through practice, trial, and error - we can only help you improve by understanding where you are having trouble."
   ]
  },
  {
   "cell_type": "markdown",
   "metadata": {},
   "source": [
    "### Challenge 1: Largest Palindrome\n",
    "A palindromic number reads the same both ways. For example, 1234321 is a palindrome. The largest palindrome made from the product of two two-digit numbers is 9009 = 91 × 99. Find the largest palindrome made from the product of two three-digit numbers. Afterward, write a brief explanation walking through your code's logic in markdown."
   ]
  },
  {
   "cell_type": "code",
   "execution_count": 1,
   "metadata": {},
   "outputs": [
    {
     "data": {
      "text/plain": [
       "906609"
      ]
     },
     "execution_count": 1,
     "metadata": {},
     "output_type": "execute_result"
    }
   ],
   "source": [
    "def find_palindrome(digits):\n",
    "    palindrome = 0\n",
    "    first_num = 0\n",
    "    second_num = 0\n",
    "    for number1 in range(digits, 0, -1):\n",
    "        for number2 in range(digits,0,-1):\n",
    "            if str(number1 * number2)[::-1] == str(number1 * number2):\n",
    "                if (number1 * number2) > palindrome:\n",
    "                    palindrome = (number1 * number2)\n",
    "                    first_num = number1\n",
    "                    second_num = number2\n",
    "    return palindrome              \n",
    "\n",
    "find_palindrome(999)"
   ]
  },
  {
   "cell_type": "markdown",
   "metadata": {},
   "source": [
    "#### Explanation\n",
    "\n",
    "First I define variables to keep track of the palindrome and the factors. Then I run a for loop from the largest 3 digit number running backwards. For each number there, I then run another for loop from the largest 3 digit number running backwards. Then I check if the number is the same forwards and backwars (checking it as a string). If it is, then I check if its larger than the last found palindrome. At the end, it spits out the largest palindrome and its factors. "
   ]
  },
  {
   "cell_type": "markdown",
   "metadata": {},
   "source": [
    "\n",
    "### Challenge 2: Summation of Primes\n",
    "The sum of the primes below 10 is 2 + 3 + 5 + 7 = 17. Find the sum of all the primes below 2,000. Afterward, write a brief explanation walking through your code's logic in markdown."
   ]
  },
  {
   "cell_type": "markdown",
   "metadata": {},
   "source": [
    "#### Solution 1"
   ]
  },
  {
   "cell_type": "code",
   "execution_count": 66,
   "metadata": {},
   "outputs": [
    {
     "data": {
      "text/plain": [
       "277050"
      ]
     },
     "execution_count": 66,
     "metadata": {},
     "output_type": "execute_result"
    }
   ],
   "source": [
    "primes = []\n",
    "for number in range(2, 2000):\n",
    "    prime_check = []\n",
    "    for factor in [i for i in range(2,number)]:\n",
    "        prime_check.append(number % factor != 0)\n",
    "    if all(prime_check):\n",
    "        primes.append(number)        \n",
    "sum(primes)"
   ]
  },
  {
   "cell_type": "markdown",
   "metadata": {},
   "source": [
    "#### Solution 2"
   ]
  },
  {
   "cell_type": "code",
   "execution_count": 65,
   "metadata": {},
   "outputs": [
    {
     "data": {
      "text/plain": [
       "277050"
      ]
     },
     "execution_count": 65,
     "metadata": {},
     "output_type": "execute_result"
    }
   ],
   "source": [
    "sum(number for number in range(2,2000) if all([number % i != 0 for i in range(2, number)]))"
   ]
  },
  {
   "cell_type": "markdown",
   "metadata": {},
   "source": [
    "#### Explanation \n",
    "\n",
    "Solution 1 - I first I set a global variable for primes, to keep a list of all the prime numbers. Then I run a for loop running from 2 to 2000. For each number, I run another for loop from 2 to the number in the current iteration. I append \"True\" or \"False\" values, which check whether any of the numbers divide evenly into the number I'm checking. If all of the numbers do not, then the all() function returns True, and it appends the number to the primes list. If any are True, then it goes back to the outer loop. I then sum up the list at the end\n",
    "\n",
    "Solution 2 - Then I realized I could do the whole thing in a single line with list comprehension. This one runs through the numbers in the same range, and creates the list of primes by looking at whether each number it runs through is not a factor of every number smaller than itself (not counting 1). If every smaller number is not a factor, then the list returns all True, and it adds it to the main prime list. It then sums up the list of primes it created"
   ]
  },
  {
   "cell_type": "markdown",
   "metadata": {},
   "source": [
    "### Challenge 3: Multiples of 3 and 5\n",
    "If we list all of the natural numbers below 10 that are multiples of 3 or 5, we get 3, 5, 6, and 9. The sum of these multiples is 23. Find the sum of all the multiples of 3 and 5 below 1,000. Afterward, write a brief explanation walking through your code's logic in markdown."
   ]
  },
  {
   "cell_type": "code",
   "execution_count": 6,
   "metadata": {},
   "outputs": [
    {
     "data": {
      "text/plain": [
       "233168"
      ]
     },
     "execution_count": 6,
     "metadata": {},
     "output_type": "execute_result"
    }
   ],
   "source": [
    "sum(number for number in range(0,1000) if number % 3 == 0 or number % 5 == 0)"
   ]
  },
  {
   "cell_type": "markdown",
   "metadata": {},
   "source": [
    "### Used list comprehension to find all the numbers in the specified range that are multiples of either 3 or 5, and then sum them"
   ]
  },
  {
   "cell_type": "markdown",
   "metadata": {},
   "source": [
    "### Challenge 4: String Compressor\n",
    "Implement a method to perform basic string compression using the counts of repeated characters. (This is called run-length encoding.) For example, the string \"aabcccccaaa\" would become a2b1c5a3. If the “compressed” string would not become smaller than the original string, your method should return the original string. You can assume the string has only uppercase and lowercase letters (a–z). Specify whether your solution is case sensitive or case insensitive and what you would need to change to make it the other. Afterward, write a brief explanation walking through your code's logic in markdown."
   ]
  },
  {
   "cell_type": "code",
   "execution_count": 83,
   "metadata": {},
   "outputs": [
    {
     "name": "stdout",
     "output_type": "stream",
     "text": [
      "aabcccccaaa\n"
     ]
    },
    {
     "data": {
      "text/plain": [
       "'a2b1c5a3'"
      ]
     },
     "execution_count": 83,
     "metadata": {},
     "output_type": "execute_result"
    }
   ],
   "source": [
    "def compress_string_case_insensitive():\n",
    "    string1 = input()\n",
    "    while string1.isalpha() == False:\n",
    "        print('Please only enter letters')\n",
    "        string1 = input()\n",
    "    string2 = string1.lower()\n",
    "    compressed = []\n",
    "    counter = 0\n",
    "    previous_letter = string2[0]\n",
    "    for letter in string2:\n",
    "        if letter == previous_letter:\n",
    "            counter += 1\n",
    "            previous_letter = letter\n",
    "        else:\n",
    "            compressed.append(previous_letter + str(counter))\n",
    "            counter = 1\n",
    "            previous_letter = letter\n",
    "    compressed.append(previous_letter + str(counter))        \n",
    "    if len(''.join(compressed)) < len(string1):\n",
    "        return ''.join(compressed)\n",
    "    else:\n",
    "        return string1\n",
    "\n",
    "compress_string_case_insensitive()"
   ]
  },
  {
   "cell_type": "code",
   "execution_count": 84,
   "metadata": {},
   "outputs": [
    {
     "name": "stdout",
     "output_type": "stream",
     "text": [
      "aabcccccaaa\n"
     ]
    },
    {
     "data": {
      "text/plain": [
       "'a2b1c5a3'"
      ]
     },
     "execution_count": 84,
     "metadata": {},
     "output_type": "execute_result"
    }
   ],
   "source": [
    "def compress_string_case_sensitive():\n",
    "    string = input()\n",
    "    while string.isalpha() == False:\n",
    "        print('Please only enter letters')\n",
    "        string = input()\n",
    "    compressed = []\n",
    "    counter = 0\n",
    "    previous_letter = string[0]\n",
    "    for letter in string:\n",
    "        if letter == previous_letter:\n",
    "            counter += 1\n",
    "            previous_letter = letter\n",
    "        else:\n",
    "            compressed.append(previous_letter + str(counter))\n",
    "            counter = 1\n",
    "            previous_letter = letter\n",
    "    compressed.append(previous_letter + str(counter))        \n",
    "    if len(''.join(compressed)) <= len(string):\n",
    "        return ''.join(compressed)\n",
    "    else:\n",
    "        return string\n",
    "\n",
    "compress_string_case_sensitive()"
   ]
  },
  {
   "cell_type": "markdown",
   "metadata": {},
   "source": [
    "#### Explanation\n",
    "\n",
    "The first function is NOT case-sensitive, the second IS case-sensitive. Ill explain the first one. First, I take an input and convert it to lower case. I use a while loop to check if the answer only has letters in it. Then I initialize the compressed list and set the counter to 0. I also initialize the previous_letter variable with the first letter in the word the user inputted. I then run a for loop to iterate through the string. If the letter is the same as the previous one, then the counter ticks up one and the \"previous_letter\" variable is set to the current letter. When it finds a new letter, it appends the previous letter plus the current state of the counter. It then resets the counter to 1 and goes to the next letter in the for loop. Finally, I add the last letter and counter state once the for loop finishes. I then check if the length of the list (converted to a string) is less than the original string. If it is, I return the compressed version; if not, I return the original string.\n",
    "\n",
    "I use string1 to return the original string with original casing, and string2 to make the function case insensitive"
   ]
  },
  {
   "cell_type": "markdown",
   "metadata": {},
   "source": [
    "### *BONUS* Challenge: FizzBuzz\n",
    "Write a program that prints all of the numbers from 1 to 100. For multiples of 3, instead of the number, print \"Fizz;\" for multiples of 5, print \"Buzz.\" For numbers that are multiples of both 3 and 5, print \"FizzBuzz.\" Afterward, write a brief explanation walking through your code's logic in markdown."
   ]
  },
  {
   "cell_type": "code",
   "execution_count": 68,
   "metadata": {},
   "outputs": [
    {
     "name": "stdout",
     "output_type": "stream",
     "text": [
      "1\n",
      "2\n",
      "Fizz\n",
      "4\n",
      "Buzz\n",
      "Fizz\n",
      "7\n",
      "8\n",
      "Fizz\n",
      "Buzz\n",
      "11\n",
      "Fizz\n",
      "13\n",
      "14\n",
      "FizzBuzz\n",
      "16\n",
      "17\n",
      "Fizz\n",
      "19\n",
      "Buzz\n",
      "Fizz\n",
      "22\n",
      "23\n",
      "Fizz\n",
      "Buzz\n",
      "26\n",
      "Fizz\n",
      "28\n",
      "29\n",
      "FizzBuzz\n",
      "31\n",
      "32\n",
      "Fizz\n",
      "34\n",
      "Buzz\n",
      "Fizz\n",
      "37\n",
      "38\n",
      "Fizz\n",
      "Buzz\n",
      "41\n",
      "Fizz\n",
      "43\n",
      "44\n",
      "FizzBuzz\n",
      "46\n",
      "47\n",
      "Fizz\n",
      "49\n",
      "Buzz\n",
      "Fizz\n",
      "52\n",
      "53\n",
      "Fizz\n",
      "Buzz\n",
      "56\n",
      "Fizz\n",
      "58\n",
      "59\n",
      "FizzBuzz\n",
      "61\n",
      "62\n",
      "Fizz\n",
      "64\n",
      "Buzz\n",
      "Fizz\n",
      "67\n",
      "68\n",
      "Fizz\n",
      "Buzz\n",
      "71\n",
      "Fizz\n",
      "73\n",
      "74\n",
      "FizzBuzz\n",
      "76\n",
      "77\n",
      "Fizz\n",
      "79\n",
      "Buzz\n",
      "Fizz\n",
      "82\n",
      "83\n",
      "Fizz\n",
      "Buzz\n",
      "86\n",
      "Fizz\n",
      "88\n",
      "89\n",
      "FizzBuzz\n",
      "91\n",
      "92\n",
      "Fizz\n",
      "94\n",
      "Buzz\n",
      "Fizz\n",
      "97\n",
      "98\n",
      "Fizz\n"
     ]
    }
   ],
   "source": [
    "def fizzbuzz(number = 100):\n",
    "    for i in range(1,number):\n",
    "        if i % 3 == 0 and i % 5 == 0:\n",
    "            print('FizzBuzz')\n",
    "        elif i % 3 == 0:\n",
    "            print('Fizz')\n",
    "        elif i % 5 == 0:\n",
    "            print('Buzz')\n",
    "        else:\n",
    "            print(i)\n",
    "fizzbuzz()"
   ]
  },
  {
   "cell_type": "markdown",
   "metadata": {},
   "source": [
    "#### Explanation\n",
    "First I let the user put in a number range, and set the default to 100. Then I run a for loop through the numbers from 1 to 100. I first check if the number is a multiple of both, then if its a mutiple of 3 or 5, and finally print the number itself if it doesn't mean any condition"
   ]
  },
  {
   "cell_type": "code",
   "execution_count": null,
   "metadata": {},
   "outputs": [],
   "source": []
  }
 ],
 "metadata": {
  "anaconda-cloud": {},
  "kernelspec": {
   "display_name": "Python 3",
   "language": "python",
   "name": "python3"
  },
  "language_info": {
   "codemirror_mode": {
    "name": "ipython",
    "version": 3
   },
   "file_extension": ".py",
   "mimetype": "text/x-python",
   "name": "python",
   "nbconvert_exporter": "python",
   "pygments_lexer": "ipython3",
   "version": "3.7.3"
  }
 },
 "nbformat": 4,
 "nbformat_minor": 2
}
